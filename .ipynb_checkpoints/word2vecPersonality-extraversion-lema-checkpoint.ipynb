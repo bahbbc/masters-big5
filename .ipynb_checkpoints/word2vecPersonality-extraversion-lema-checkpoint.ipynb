{
 "cells": [
  {
   "cell_type": "code",
   "execution_count": 1,
   "metadata": {
    "collapsed": false
   },
   "outputs": [
    {
     "name": "stderr",
     "output_type": "stream",
     "text": [
      "2017-02-12 22:24:48,632 : INFO : 'pattern' package found; tag filters are available for English\n",
      "/usr/lib64/python2.7/site-packages/sklearn/cross_validation.py:44: DeprecationWarning: This module was deprecated in version 0.18 in favor of the model_selection module into which all the refactored classes and functions are moved. Also note that the interface of the new CV iterators are different from that of this module. This module will be removed in 0.20.\n",
      "  \"This module will be removed in 0.20.\", DeprecationWarning)\n"
     ]
    }
   ],
   "source": [
    "import logging\n",
    "logging.root.handlers = []  # Jupyter messes up logging so needs a reset\n",
    "logging.basicConfig(format='%(asctime)s : %(levelname)s : %(message)s', level=logging.INFO)\n",
    "from smart_open import smart_open\n",
    "import pandas as pd\n",
    "import numpy as np\n",
    "from numpy import random\n",
    "import gensim\n",
    "import nltk\n",
    "from sklearn.cross_validation import train_test_split\n",
    "from sklearn import linear_model\n",
    "from sklearn.feature_extraction.text import CountVectorizer, TfidfVectorizer\n",
    "from sklearn.metrics import accuracy_score, confusion_matrix\n",
    "import matplotlib.pyplot as plt\n",
    "from gensim.models import Word2Vec\n",
    "from sklearn.neighbors import KNeighborsClassifier\n",
    "from sklearn import linear_model\n",
    "from nltk.corpus import stopwords\n",
    "import os, codecs\n",
    "%matplotlib inline\n",
    "from bs4 import BeautifulSoup\n",
    "import re\n",
    "from nltk.corpus import stopwords"
   ]
  },
  {
   "cell_type": "code",
   "execution_count": 2,
   "metadata": {
    "collapsed": true
   },
   "outputs": [],
   "source": [
    "class MySentences(object):\n",
    "    def __init__(self, dirname):\n",
    "        self.dirname = dirname\n",
    " \n",
    "    def __iter__(self):\n",
    "        for fname in os.listdir(self.dirname):\n",
    "            for line in codecs.open(os.path.join(self.dirname, fname)) :\n",
    "                yield line.split()"
   ]
  },
  {
   "cell_type": "code",
   "execution_count": 3,
   "metadata": {
    "collapsed": false
   },
   "outputs": [],
   "source": [
    "sentences = MySentences('/home/bahbbc/Documents/b5-post(confidencial)/normalised') # a memory-friendly iterator"
   ]
  },
  {
   "cell_type": "code",
   "execution_count": 6,
   "metadata": {
    "collapsed": false,
    "scrolled": true
   },
   "outputs": [
    {
     "name": "stderr",
     "output_type": "stream",
     "text": [
      "2017-02-12 22:25:16,667 : INFO : collecting all words and their counts\n",
      "2017-02-12 22:25:16,670 : INFO : PROGRESS: at sentence #0, processed 0 words, keeping 0 word types\n",
      "2017-02-12 22:25:16,724 : INFO : PROGRESS: at sentence #10000, processed 139797 words, keeping 13466 word types\n",
      "2017-02-12 22:25:16,767 : INFO : PROGRESS: at sentence #20000, processed 285547 words, keeping 20184 word types\n",
      "2017-02-12 22:25:16,823 : INFO : PROGRESS: at sentence #30000, processed 443107 words, keeping 26496 word types\n",
      "2017-02-12 22:25:16,871 : INFO : PROGRESS: at sentence #40000, processed 575594 words, keeping 30748 word types\n",
      "2017-02-12 22:25:16,918 : INFO : PROGRESS: at sentence #50000, processed 722227 words, keeping 34109 word types\n",
      "2017-02-12 22:25:16,961 : INFO : PROGRESS: at sentence #60000, processed 872764 words, keeping 37629 word types\n",
      "2017-02-12 22:25:17,002 : INFO : PROGRESS: at sentence #70000, processed 1009486 words, keeping 40362 word types\n",
      "2017-02-12 22:25:17,046 : INFO : PROGRESS: at sentence #80000, processed 1161460 words, keeping 44011 word types\n",
      "2017-02-12 22:25:17,100 : INFO : PROGRESS: at sentence #90000, processed 1321238 words, keeping 46802 word types\n",
      "2017-02-12 22:25:17,144 : INFO : PROGRESS: at sentence #100000, processed 1457715 words, keeping 48937 word types\n",
      "2017-02-12 22:25:17,190 : INFO : PROGRESS: at sentence #110000, processed 1623341 words, keeping 51569 word types\n",
      "2017-02-12 22:25:17,233 : INFO : PROGRESS: at sentence #120000, processed 1766197 words, keeping 53990 word types\n",
      "2017-02-12 22:25:17,276 : INFO : PROGRESS: at sentence #130000, processed 1911834 words, keeping 56146 word types\n",
      "2017-02-12 22:25:17,317 : INFO : PROGRESS: at sentence #140000, processed 2046899 words, keeping 57706 word types\n",
      "2017-02-12 22:25:17,360 : INFO : PROGRESS: at sentence #150000, processed 2189680 words, keeping 59743 word types\n",
      "2017-02-12 22:25:17,415 : INFO : PROGRESS: at sentence #160000, processed 2344994 words, keeping 61682 word types\n",
      "2017-02-12 22:25:17,459 : INFO : PROGRESS: at sentence #170000, processed 2495128 words, keeping 63452 word types\n",
      "2017-02-12 22:25:17,509 : INFO : PROGRESS: at sentence #180000, processed 2665081 words, keeping 65478 word types\n",
      "2017-02-12 22:25:17,556 : INFO : PROGRESS: at sentence #190000, processed 2821047 words, keeping 67224 word types\n",
      "2017-02-12 22:25:17,577 : INFO : collected 67903 word types from a corpus of 2884808 raw words and 194400 sentences\n",
      "2017-02-12 22:25:17,578 : INFO : Loading a fresh vocabulary\n",
      "2017-02-12 22:25:17,823 : INFO : min_count=1 retains 67903 unique words (100% of original 67903, drops 0)\n",
      "2017-02-12 22:25:17,824 : INFO : min_count=1 leaves 2884808 word corpus (100% of original 2884808, drops 0)\n",
      "2017-02-12 22:25:17,992 : INFO : deleting the raw counts dictionary of 67903 items\n",
      "2017-02-12 22:25:17,993 : INFO : sample=0.001 downsamples 41 most-common words\n",
      "2017-02-12 22:25:17,994 : INFO : downsampling leaves estimated 1863335 word corpus (64.6% of prior 2884808)\n",
      "2017-02-12 22:25:17,995 : INFO : estimated required memory for 67903 words and 300 dimensions: 196918700 bytes\n",
      "2017-02-12 22:25:18,197 : INFO : resetting layer weights\n",
      "2017-02-12 22:25:19,075 : INFO : training model with 40 workers on 67903 vocabulary and 300 features, using sg=0 hs=0 sample=0.001 negative=5 window=10\n",
      "2017-02-12 22:25:19,076 : INFO : expecting 194400 sentences, matching count from corpus used for vocabulary survey\n",
      "2017-02-12 22:25:20,086 : INFO : PROGRESS: at 4.22% examples, 380474 words/s, in_qsize 0, out_qsize 0\n",
      "2017-02-12 22:25:21,088 : INFO : PROGRESS: at 9.37% examples, 430853 words/s, in_qsize 0, out_qsize 0\n",
      "2017-02-12 22:25:22,102 : INFO : PROGRESS: at 14.75% examples, 447598 words/s, in_qsize 1, out_qsize 0\n",
      "2017-02-12 22:25:23,123 : INFO : PROGRESS: at 18.91% examples, 436683 words/s, in_qsize 0, out_qsize 0\n",
      "2017-02-12 22:25:24,137 : INFO : PROGRESS: at 22.65% examples, 417629 words/s, in_qsize 0, out_qsize 0\n",
      "2017-02-12 22:25:25,143 : INFO : PROGRESS: at 28.52% examples, 436604 words/s, in_qsize 0, out_qsize 0\n",
      "2017-02-12 22:25:26,146 : INFO : PROGRESS: at 34.34% examples, 449652 words/s, in_qsize 0, out_qsize 0\n",
      "2017-02-12 22:25:27,161 : INFO : PROGRESS: at 40.51% examples, 467233 words/s, in_qsize 0, out_qsize 0\n",
      "2017-02-12 22:25:28,172 : INFO : PROGRESS: at 46.77% examples, 477564 words/s, in_qsize 0, out_qsize 0\n",
      "2017-02-12 22:25:29,187 : INFO : PROGRESS: at 51.93% examples, 478200 words/s, in_qsize 0, out_qsize 2\n",
      "2017-02-12 22:25:30,192 : INFO : PROGRESS: at 58.24% examples, 487231 words/s, in_qsize 0, out_qsize 0\n",
      "2017-02-12 22:25:31,189 : INFO : PROGRESS: at 64.45% examples, 495122 words/s, in_qsize 0, out_qsize 0\n",
      "2017-02-12 22:25:32,190 : INFO : PROGRESS: at 70.56% examples, 500840 words/s, in_qsize 0, out_qsize 0\n",
      "2017-02-12 22:25:33,207 : INFO : PROGRESS: at 75.84% examples, 498540 words/s, in_qsize 0, out_qsize 1\n",
      "2017-02-12 22:25:34,230 : INFO : PROGRESS: at 80.47% examples, 494879 words/s, in_qsize 1, out_qsize 0\n",
      "2017-02-12 22:25:35,237 : INFO : PROGRESS: at 86.59% examples, 498750 words/s, in_qsize 0, out_qsize 0\n",
      "2017-02-12 22:25:36,251 : INFO : PROGRESS: at 92.76% examples, 502587 words/s, in_qsize 0, out_qsize 0\n",
      "2017-02-12 22:25:37,258 : INFO : PROGRESS: at 98.32% examples, 503629 words/s, in_qsize 0, out_qsize 0\n",
      "2017-02-12 22:25:37,517 : INFO : worker thread finished; awaiting finish of 39 more threads\n",
      "2017-02-12 22:25:37,524 : INFO : worker thread finished; awaiting finish of 38 more threads\n",
      "2017-02-12 22:25:37,534 : INFO : worker thread finished; awaiting finish of 37 more threads\n",
      "2017-02-12 22:25:37,546 : INFO : worker thread finished; awaiting finish of 36 more threads\n",
      "2017-02-12 22:25:37,547 : INFO : worker thread finished; awaiting finish of 35 more threads\n",
      "2017-02-12 22:25:37,550 : INFO : worker thread finished; awaiting finish of 34 more threads\n",
      "2017-02-12 22:25:37,551 : INFO : worker thread finished; awaiting finish of 33 more threads\n",
      "2017-02-12 22:25:37,552 : INFO : worker thread finished; awaiting finish of 32 more threads\n",
      "2017-02-12 22:25:37,552 : INFO : worker thread finished; awaiting finish of 31 more threads\n",
      "2017-02-12 22:25:37,553 : INFO : worker thread finished; awaiting finish of 30 more threads\n",
      "2017-02-12 22:25:37,554 : INFO : worker thread finished; awaiting finish of 29 more threads\n",
      "2017-02-12 22:25:37,555 : INFO : worker thread finished; awaiting finish of 28 more threads\n",
      "2017-02-12 22:25:37,556 : INFO : worker thread finished; awaiting finish of 27 more threads\n",
      "2017-02-12 22:25:37,556 : INFO : worker thread finished; awaiting finish of 26 more threads\n",
      "2017-02-12 22:25:37,557 : INFO : worker thread finished; awaiting finish of 25 more threads\n",
      "2017-02-12 22:25:37,558 : INFO : worker thread finished; awaiting finish of 24 more threads\n",
      "2017-02-12 22:25:37,558 : INFO : worker thread finished; awaiting finish of 23 more threads\n",
      "2017-02-12 22:25:37,559 : INFO : worker thread finished; awaiting finish of 22 more threads\n",
      "2017-02-12 22:25:37,560 : INFO : worker thread finished; awaiting finish of 21 more threads\n",
      "2017-02-12 22:25:37,561 : INFO : worker thread finished; awaiting finish of 20 more threads\n",
      "2017-02-12 22:25:37,562 : INFO : worker thread finished; awaiting finish of 19 more threads\n",
      "2017-02-12 22:25:37,562 : INFO : worker thread finished; awaiting finish of 18 more threads\n",
      "2017-02-12 22:25:37,563 : INFO : worker thread finished; awaiting finish of 17 more threads\n",
      "2017-02-12 22:25:37,563 : INFO : worker thread finished; awaiting finish of 16 more threads\n",
      "2017-02-12 22:25:37,564 : INFO : worker thread finished; awaiting finish of 15 more threads\n",
      "2017-02-12 22:25:37,565 : INFO : worker thread finished; awaiting finish of 14 more threads\n",
      "2017-02-12 22:25:37,565 : INFO : worker thread finished; awaiting finish of 13 more threads\n",
      "2017-02-12 22:25:37,566 : INFO : worker thread finished; awaiting finish of 12 more threads\n",
      "2017-02-12 22:25:37,567 : INFO : worker thread finished; awaiting finish of 11 more threads\n",
      "2017-02-12 22:25:37,568 : INFO : worker thread finished; awaiting finish of 10 more threads\n",
      "2017-02-12 22:25:37,568 : INFO : worker thread finished; awaiting finish of 9 more threads\n",
      "2017-02-12 22:25:37,569 : INFO : worker thread finished; awaiting finish of 8 more threads\n",
      "2017-02-12 22:25:37,570 : INFO : worker thread finished; awaiting finish of 7 more threads\n",
      "2017-02-12 22:25:37,570 : INFO : worker thread finished; awaiting finish of 6 more threads\n",
      "2017-02-12 22:25:37,571 : INFO : worker thread finished; awaiting finish of 5 more threads\n",
      "2017-02-12 22:25:37,572 : INFO : worker thread finished; awaiting finish of 4 more threads\n",
      "2017-02-12 22:25:37,572 : INFO : worker thread finished; awaiting finish of 3 more threads\n",
      "2017-02-12 22:25:37,573 : INFO : worker thread finished; awaiting finish of 2 more threads\n",
      "2017-02-12 22:25:37,574 : INFO : worker thread finished; awaiting finish of 1 more threads\n",
      "2017-02-12 22:25:37,574 : INFO : worker thread finished; awaiting finish of 0 more threads\n",
      "2017-02-12 22:25:37,575 : INFO : training on 14424040 raw words (9320167 effective words) took 18.5s, 504008 effective words/s\n"
     ]
    }
   ],
   "source": [
    "logging.basicConfig(format='%(asctime)s : %(levelname)s : %(message)s', level=logging.INFO)\n",
    "num_features = 300\n",
    "min_word_count = 1   # Minimum word count                        \n",
    "num_workers = 40       # Number of threads to run in parallel\n",
    "context = 10          # Context window size             \n",
    "\n",
    "\n",
    "\n",
    "model = gensim.models.Word2Vec(sentences, workers=num_workers, \\\n",
    "            size=num_features, min_count = min_word_count, window = context)"
   ]
  },
  {
   "cell_type": "code",
   "execution_count": 11,
   "metadata": {
    "collapsed": false
   },
   "outputs": [
    {
     "name": "stderr",
     "output_type": "stream",
     "text": [
      "2017-02-12 22:27:14,260 : INFO : saving Word2Vec object under /home/bahbbc/Documents/personality_norm, separately None\n",
      "2017-02-12 22:27:14,267 : INFO : storing np array 'syn0' to /home/bahbbc/Documents/personality_norm.wv.syn0.npy\n",
      "2017-02-12 22:27:14,398 : INFO : storing np array 'syn1neg' to /home/bahbbc/Documents/personality_norm.syn1neg.npy\n",
      "2017-02-12 22:27:14,702 : INFO : not storing attribute syn0norm\n",
      "2017-02-12 22:27:14,703 : INFO : not storing attribute cum_table\n",
      "2017-02-12 22:27:15,617 : INFO : saved /home/bahbbc/Documents/personality_norm\n"
     ]
    }
   ],
   "source": [
    "model.save('/home/bahbbc/Documents/personality_norm')"
   ]
  },
  {
   "cell_type": "code",
   "execution_count": 14,
   "metadata": {
    "collapsed": false
   },
   "outputs": [
    {
     "name": "stderr",
     "output_type": "stream",
     "text": [
      "2017-02-12 22:27:35,548 : INFO : loading Word2Vec object from /home/bahbbc/Documents/personality_norm\n",
      "2017-02-12 22:27:35,892 : INFO : loading wv recursively from /home/bahbbc/Documents/personality_norm.wv.* with mmap=None\n",
      "2017-02-12 22:27:35,894 : INFO : loading syn0 from /home/bahbbc/Documents/personality_norm.wv.syn0.npy with mmap=None\n",
      "2017-02-12 22:27:36,102 : INFO : loading syn1neg from /home/bahbbc/Documents/personality_norm.syn1neg.npy with mmap=None\n",
      "2017-02-12 22:27:36,378 : INFO : setting ignored attribute syn0norm to None\n",
      "2017-02-12 22:27:36,400 : INFO : setting ignored attribute cum_table to None\n",
      "2017-02-12 22:27:36,405 : INFO : loaded /home/bahbbc/Documents/personality_norm\n",
      "2017-02-12 22:27:36,586 : INFO : precomputing L2-norms of word weight vectors\n"
     ]
    }
   ],
   "source": [
    "model = gensim.models.Word2Vec.load('/home/bahbbc/Documents/personality_norm')\n",
    "#model = Word2Vec.load_word2vec_format('/home/bahbbc/Documents/teste-personalidade/personality_1',binary=True)\n",
    "model.init_sims(replace=True)"
   ]
  },
  {
   "cell_type": "code",
   "execution_count": 18,
   "metadata": {
    "collapsed": false
   },
   "outputs": [
    {
     "name": "stdout",
     "output_type": "stream",
     "text": [
      "[('desenho', 0.8512139320373535), ('bicho', 0.8384418487548828), ('her\\xf3i', 0.8359345197677612), ('cozinheiro', 0.8288401365280151), ('menino', 0.8137538433074951), ('bagulho', 0.8127486705780029), ('vizinho', 0.8122439384460449), ('chefe', 0.8080270290374756), ('prato', 0.8073632121086121), ('cheirinho', 0.8055725693702698)]\n"
     ]
    }
   ],
   "source": [
    "print(model.most_similar(positive=['gato', 'cachorro']))"
   ]
  },
  {
   "cell_type": "markdown",
   "metadata": {},
   "source": [
    "### Verify model with personality"
   ]
  },
  {
   "cell_type": "code",
   "execution_count": 55,
   "metadata": {
    "collapsed": false
   },
   "outputs": [],
   "source": [
    "df = pd.read_csv('~/personality-normalized-word2vec-norm.csv', encoding='utf_8')\n",
    "df = df.dropna()"
   ]
  },
  {
   "cell_type": "code",
   "execution_count": 56,
   "metadata": {
    "collapsed": false
   },
   "outputs": [
    {
     "data": {
      "text/plain": [
       "0    242\n",
       "1    214\n",
       "Name: extraversion_m, dtype: int64"
      ]
     },
     "execution_count": 56,
     "metadata": {},
     "output_type": "execute_result"
    }
   ],
   "source": [
    "df.extraversion_m.value_counts()"
   ]
  },
  {
   "cell_type": "code",
   "execution_count": 57,
   "metadata": {
    "collapsed": true
   },
   "outputs": [],
   "source": [
    "train_data, test_data = train_test_split(df, test_size=0.3, random_state=42)"
   ]
  },
  {
   "cell_type": "markdown",
   "metadata": {},
   "source": [
    "### Evaluation code"
   ]
  },
  {
   "cell_type": "code",
   "execution_count": 58,
   "metadata": {
    "collapsed": false
   },
   "outputs": [],
   "source": [
    "def plot_confusion_matrix(cm, title='Confusion matrix', cmap=plt.cm.Blues):\n",
    "    plt.imshow(cm, interpolation='nearest', cmap=cmap)\n",
    "    plt.title(title)\n",
    "    plt.colorbar()\n",
    "    tick_marks = np.arange(2)\n",
    "    target_names = ['no', 'yes']\n",
    "    plt.xticks(tick_marks, target_names, rotation=45)\n",
    "    plt.yticks(tick_marks, target_names)\n",
    "    plt.tight_layout()\n",
    "    plt.ylabel('True label')\n",
    "    plt.xlabel('Predicted label')"
   ]
  },
  {
   "cell_type": "code",
   "execution_count": 59,
   "metadata": {
    "collapsed": true
   },
   "outputs": [],
   "source": [
    "def evaluate_prediction(predictions, target, title=\"Confusion matrix\"):\n",
    "    print('accuracy %s' % accuracy_score(target, predictions))\n",
    "    cm = confusion_matrix(target, predictions)\n",
    "    print('confusion matrix\\n %s' % cm)\n",
    "    print('(row=expected, col=predicted)')\n",
    "    \n",
    "    cm_normalized = cm.astype('float') / cm.sum(axis=1)[:, np.newaxis]\n",
    "    plot_confusion_matrix(cm_normalized, title + ' Normalized')"
   ]
  },
  {
   "cell_type": "code",
   "execution_count": 60,
   "metadata": {
    "collapsed": true
   },
   "outputs": [],
   "source": [
    "def predict(vectorizer, classifier, data):\n",
    "    data_features = vectorizer.transform(data['formatted_text'])\n",
    "    predictions = classifier.predict(data_features)\n",
    "    target = data['extraversion_m']\n",
    "    evaluate_prediction(predictions, target)"
   ]
  },
  {
   "cell_type": "code",
   "execution_count": 61,
   "metadata": {
    "collapsed": false
   },
   "outputs": [
    {
     "data": {
      "text/plain": [
       "819    Foi um grande ano ! Obrigado por fazer parte d...\n",
       "75           $FOREIGN$ $FOREIGN$ ' sim $FOREIGN$ more...\n",
       "778    Tranquilos . . . .  O ano só está começando . ...\n",
       "434      oi gente ! ! !  Então , sabe aquela promoção...\n",
       "303      Existe crise em muitos quintais . . . existe...\n",
       "399    Igual sua mãe $NAME$ Pinheiro  Sensacional ! !...\n",
       "350          $FOREIGN$ $FOREIGN$ $FOREIGN$ $FOREIGN$ ...\n",
       "148    Ruim de chute    $NAME$ O resultado da análise...\n",
       "862      Quem dera que as pessoas que amamos fossem e...\n",
       "63     Programando ! Concentração ! ! $LAUGH$  $NAME$...\n",
       "111    $EMOTION*$ ! vai safado  Despedida  e que ning...\n",
       "340    Idéia o dança livre . . . . $NAME$ $NAME$ $NAM...\n",
       "257    Fazendo gordices  $NAME$ $NAME$ '  Olha que le...\n",
       "794    cunhãs amadas casamento $NAME$ $NAME$  amor me...\n",
       "826    $NAME$ $NAME$ nos pede para termos delicadeza ...\n",
       "91       Show estranho , com gente esquisita !    Gen...\n",
       "695    $NAME$ $NAME$ $NAME$ e $NAME$ $NAME$        $F...\n",
       "659    Um dia no Exército  chupa caralho ! ! ! aqui é...\n",
       "935      Morango  Brigadeiro  Coca-cola  Livros do $N...\n",
       "124      Nada como um dia atrás do outro . . . Esse é...\n",
       "116    $NAME$ ?    As Melhores Mães do Mundo na mesma...\n",
       "234      O $FOREIGN$ Weekend que participei e ganhamo...\n",
       "457    Sempre um bom motivo para ficar com a perna do...\n",
       "176          Abelhas no meu refrigerante  só me fazem...\n",
       "442    até na garota nacional tem sucupira . . . .   ...\n",
       "907    Dia bonito na cidade bonita  $FOREIGN$ $FOREIG...\n",
       "121    Família dinossauro $LAUGH$ as crianças de hoje...\n",
       "943    Rainha do meu $NAME$ $NAME$  $NAME$ $NAME$ ach...\n",
       "25       Chegou o dia de alguém mais do que especial ...\n",
       "626      Valeria $NAME$ $NAME$ $NAME$ $NAME$ $NAME$ ,...\n",
       "                             ...                        \n",
       "505    Desenhista na empresa VASP    $NAME$ O resulta...\n",
       "153    partiu $NAME$  $LAUGH$    Desculpa aí , fazer ...\n",
       "823      Picles caseiro da mãe do $NAME$ $NAME$ . má ...\n",
       "16     Quando a alma transborda .  Dia $NUMBER$ $NUMB...\n",
       "81     Festa no bebê ! ! !  Passeando com o meu amor ...\n",
       "359      $FOREIGN$ $FOREIGN$ : $FOREIGN$ are in a $FO...\n",
       "233    Porque o Senhor cuida de mim . . . Pra que me ...\n",
       "844    Mais de um ano e meio após o início da crise ....\n",
       "662    olá mundo    Nostalgia  Já me inscrevi para pa...\n",
       "46     $NAME$ ! ! ! !  eu adoro os textos dessa mulhe...\n",
       "891      olha , não sou louco dos signos e $FOREIGN$ ...\n",
       "900      $FOREIGN$ uma pergunta , isso quer dizer $NA...\n",
       "792    Temos uma vida inteira pela frente $NUMBER$ An...\n",
       "8      Bota mais um na conta e mais $NUMBER$ na histó...\n",
       "48     Olha só ! $LAUGH$    Ah , as $NAME$ ! $LAUGH$ ...\n",
       "911      $NAME$ , eu , e nosso amigo Alossauro    Pel...\n",
       "96     No $FOREIGN$ $FOREIGN$ da vida real o $NAME$ é...\n",
       "894    $FOREIGN$ $FOREIGN$ is $FOREIGN$ .  $NAME$ $NA...\n",
       "606    $LAUGH$ nossa $NAME$ $FOREIGN$ ! Que lembrança...\n",
       "354      $NAME$ , gentis ! Como sou uma pessoa super ...\n",
       "102    :    Tchau Pai !  Tchau Mãe !  $NAME$ GO    En...\n",
       "159      miner $NAME$ $FOREIGN$ $FOREIGN$ i $FOREIGN$...\n",
       "682    O cão mais lindo do mundo !  Opa !  < $NUMBER$...\n",
       "454    E tem mais ! ! $FOREIGN$ $FOREIGN$ is more ! !...\n",
       "62     Verdadeiro espírito do Futebol .  bárbara $NAM...\n",
       "387    Amo minha família que crê que a vida plena só ...\n",
       "386    Pra mim mesma . . .    $LAUGH$ olha essa memór...\n",
       "59     $NAME$ Canal . . . I $FOREIGN$ $FOREIGN$ $FORE...\n",
       "20       https : $NAME$ . com . br geral universidade...\n",
       "881    $NUMBER$ roses  $NAME$ '  !  $NAME$ No ? ? ?  ...\n",
       "Name: formatted_text, dtype: object"
      ]
     },
     "execution_count": 61,
     "metadata": {},
     "output_type": "execute_result"
    }
   ],
   "source": [
    "test_data['formatted_text']"
   ]
  },
  {
   "cell_type": "markdown",
   "metadata": {},
   "source": [
    "### Word2Vec model training"
   ]
  },
  {
   "cell_type": "code",
   "execution_count": 62,
   "metadata": {
    "collapsed": true
   },
   "outputs": [],
   "source": [
    "def word_averaging(wv, words):\n",
    "    all_words, mean = set(), []\n",
    "    \n",
    "    for word in words:\n",
    "        if isinstance(word, np.ndarray):\n",
    "            mean.append(word)\n",
    "        elif word in wv.wv.vocab:\n",
    "            mean.append(wv.wv.syn0norm[wv.wv.vocab[word].index])\n",
    "            all_words.add(wv.wv.vocab[word].index)\n",
    "\n",
    "    if not mean:\n",
    "        logging.warning(\"cannot compute similarity with no input %s\", words)\n",
    "        # FIXME: remove these examples in pre-processing\n",
    "        return np.zeros(num_features,)\n",
    "\n",
    "    mean = gensim.matutils.unitvec(np.array(mean).mean(axis=0)).astype(np.float32)\n",
    "    return mean\n",
    "\n",
    "def  word_averaging_list(wv, text_list):\n",
    "    return np.vstack([word_averaging(wv, review) for review in text_list ])"
   ]
  },
  {
   "cell_type": "code",
   "execution_count": 63,
   "metadata": {
    "collapsed": true
   },
   "outputs": [],
   "source": [
    "\n",
    "def w2v_tokenize_text(text):\n",
    "    tokens = []\n",
    "    for sent in nltk.sent_tokenize(text, language='english'):\n",
    "        for word in nltk.word_tokenize(sent, language='english'):\n",
    "            if len(word) < 2:\n",
    "                continue\n",
    "            tokens.append(word)\n",
    "    return tokens"
   ]
  },
  {
   "cell_type": "code",
   "execution_count": 64,
   "metadata": {
    "collapsed": false
   },
   "outputs": [],
   "source": [
    "test_tokenized = test_data.apply(lambda r: w2v_tokenize_text(r['formatted_text']), axis=1).values\n",
    "train_tokenized = train_data.apply(lambda r: w2v_tokenize_text(r['formatted_text']), axis=1).values"
   ]
  },
  {
   "cell_type": "code",
   "execution_count": 65,
   "metadata": {
    "collapsed": false
   },
   "outputs": [
    {
     "name": "stderr",
     "output_type": "stream",
     "text": [
      "/usr/lib/python2.7/site-packages/ipykernel/__main__.py:7: UnicodeWarning: Unicode equal comparison failed to convert both arguments to Unicode - interpreting them as being unequal\n"
     ]
    },
    {
     "name": "stdout",
     "output_type": "stream",
     "text": [
      "CPU times: user 1.85 s, sys: 7.88 ms, total: 1.85 s\n",
      "Wall time: 1.86 s\n"
     ]
    }
   ],
   "source": [
    "%%time\n",
    "X_train_word_average = word_averaging_list(model,train_tokenized)\n",
    "X_test_word_average = word_averaging_list(model,test_tokenized)"
   ]
  },
  {
   "cell_type": "code",
   "execution_count": 66,
   "metadata": {
    "collapsed": false
   },
   "outputs": [
    {
     "name": "stdout",
     "output_type": "stream",
     "text": [
      "CPU times: user 322 ms, sys: 2.02 ms, total: 324 ms\n",
      "Wall time: 342 ms\n"
     ]
    }
   ],
   "source": [
    "%%time\n",
    "logreg = linear_model.LogisticRegression(n_jobs=1, C=1e5)\n",
    "\n",
    "logreg = logreg.fit(X_train_word_average, train_data['extraversion_m'])\n",
    "predicted = logreg.predict(X_test_word_average)"
   ]
  },
  {
   "cell_type": "code",
   "execution_count": 67,
   "metadata": {
    "collapsed": false
   },
   "outputs": [
    {
     "name": "stdout",
     "output_type": "stream",
     "text": [
      "accuracy 0.547445255474\n",
      "confusion matrix\n",
      " [[40 29]\n",
      " [33 35]]\n",
      "(row=expected, col=predicted)\n"
     ]
    },
    {
     "data": {
      "image/png": "[encoded data removed]",
      "text/plain": [
       "<matplotlib.figure.Figure at 0x7f64bd219c50>"
      ]
     },
     "metadata": {},
     "output_type": "display_data"
    }
   ],
   "source": [
    "evaluate_prediction(predicted, test_data.extraversion_m)"
   ]
  },
  {
   "cell_type": "markdown",
   "metadata": {},
   "source": [
    "## Remove stop words"
   ]
  },
  {
   "cell_type": "code",
   "execution_count": 68,
   "metadata": {
    "collapsed": true
   },
   "outputs": [],
   "source": [
    "\n",
    "def w2v_tokenize_text(text):\n",
    "    tokens = []\n",
    "    for sent in nltk.sent_tokenize(text, language='portuguese'):\n",
    "        for word in nltk.word_tokenize(sent, language='portuguese'):\n",
    "            if len(word) < 2:\n",
    "                continue\n",
    "            if word in stopwords.words('portuguese'):\n",
    "                continue\n",
    "            tokens.append(word)\n",
    "    return tokens"
   ]
  },
  {
   "cell_type": "code",
   "execution_count": 69,
   "metadata": {
    "collapsed": false
   },
   "outputs": [],
   "source": [
    "test_tokenized = test_data.apply(lambda r: w2v_tokenize_text(r['formatted_text']), axis=1).values\n",
    "train_tokenized = train_data.apply(lambda r: w2v_tokenize_text(r['formatted_text']), axis=1).values"
   ]
  },
  {
   "cell_type": "code",
   "execution_count": 70,
   "metadata": {
    "collapsed": false
   },
   "outputs": [
    {
     "name": "stderr",
     "output_type": "stream",
     "text": [
      "/usr/lib/python2.7/site-packages/ipykernel/__main__.py:7: UnicodeWarning: Unicode equal comparison failed to convert both arguments to Unicode - interpreting them as being unequal\n",
      "2017-02-12 23:51:15,466 : WARNING : cannot compute similarity with no input [u'FOREIGN', u'NAME', u'NAME', u'NAME', u'NAME', u'NAME']\n"
     ]
    },
    {
     "name": "stdout",
     "output_type": "stream",
     "text": [
      "CPU times: user 1.38 s, sys: 2.94 ms, total: 1.38 s\n",
      "Wall time: 1.39 s\n"
     ]
    }
   ],
   "source": [
    "%%time\n",
    "X_train_word_average = word_averaging_list(model,train_tokenized)\n",
    "X_test_word_average = word_averaging_list(model,test_tokenized)"
   ]
  },
  {
   "cell_type": "code",
   "execution_count": 71,
   "metadata": {
    "collapsed": false
   },
   "outputs": [
    {
     "name": "stdout",
     "output_type": "stream",
     "text": [
      "CPU times: user 411 ms, sys: 889 µs, total: 412 ms\n",
      "Wall time: 412 ms\n"
     ]
    }
   ],
   "source": [
    "%%time\n",
    "logreg = linear_model.LogisticRegression(n_jobs=1, C=1e5)\n",
    "\n",
    "logreg = logreg.fit(X_train_word_average, train_data['extraversion_m'])\n",
    "predicted = logreg.predict(X_test_word_average)"
   ]
  },
  {
   "cell_type": "code",
   "execution_count": 72,
   "metadata": {
    "collapsed": false
   },
   "outputs": [
    {
     "name": "stdout",
     "output_type": "stream",
     "text": [
      "accuracy 0.569343065693\n",
      "confusion matrix\n",
      " [[37 32]\n",
      " [27 41]]\n",
      "(row=expected, col=predicted)\n"
     ]
    },
    {
     "data": {
      "image/png": "[encoded data removed]",
      "text/plain": [
       "<matplotlib.figure.Figure at 0x7f64bffcd850>"
      ]
     },
     "metadata": {},
     "output_type": "display_data"
    }
   ],
   "source": [
    "evaluate_prediction(predicted, test_data.extraversion_m)"
   ]
  },
  {
   "cell_type": "markdown",
   "metadata": {},
   "source": [
    "## Doc2Vec"
   ]
  },
  {
   "cell_type": "code",
   "execution_count": 73,
   "metadata": {
    "collapsed": true
   },
   "outputs": [],
   "source": [
    "from gensim.models import Doc2Vec\n",
    "from gensim.models.doc2vec import TaggedDocument"
   ]
  },
  {
   "cell_type": "code",
   "execution_count": 74,
   "metadata": {
    "collapsed": true
   },
   "outputs": [],
   "source": [
    "\n",
    "def tokenize_text(text):\n",
    "    tokens = []\n",
    "    for sent in nltk.sent_tokenize(text):\n",
    "        for word in nltk.word_tokenize(sent):\n",
    "            if len(word) < 2:\n",
    "                continue\n",
    "            tokens.append(word.lower())\n",
    "    return tokens"
   ]
  },
  {
   "cell_type": "code",
   "execution_count": 75,
   "metadata": {
    "collapsed": false
   },
   "outputs": [],
   "source": [
    "train_tagged = train_data.apply(\n",
    "    lambda r: TaggedDocument(words=tokenize_text(r['formatted_text']), tags=[r.extraversion_m]), axis=1)"
   ]
  },
  {
   "cell_type": "code",
   "execution_count": 76,
   "metadata": {
    "collapsed": false
   },
   "outputs": [],
   "source": [
    "test_tagged = test_data.apply(\n",
    "    lambda r: TaggedDocument(words=tokenize_text(r['formatted_text']), tags=[r.extraversion_m]), axis=1)"
   ]
  },
  {
   "cell_type": "code",
   "execution_count": 77,
   "metadata": {
    "collapsed": false
   },
   "outputs": [
    {
     "data": {
      "text/plain": [
       "TaggedDocument(words=[u'quando', u'bandida', u'n\\xe3o', u'toca', u'meu', u'cora\\xe7\\xe3o', u'vermelho', u'amarelo', u'vai', u'bandida', u'vamos', u'torcer', u'partiu', u'eu', u'voc\\xea', u'duas', u'intrusas', u'muito', u'amor', u'name', u'baby', u'panda', u'lindas', u'balatucada', u'acabou', u'amo', u'balatucada', u'partiu', u'meus', u'amores', u'minha', u'fam\\xedlia', u'number', u'est\\xe1', u'chegando', u's\\xe1bado', u'a\\xed', u'meu', u'cora\\xe7\\xe3o', u'amigos', u'foreign', u'name', u'saudades', u'partiu', u'cantar', u'combinando', u'amo', u'emotion*', u'name', u'number', u'foreign', u'foreign', u'name', u'foreign', u'foreign', u'foreign', u'sou', u'linda', u'maravilhosa', u'uma', u'verdadeira', u'diva', u'panda', u'dos', u'pandas', u'number', u'm\\xeas', u'para', u'melhor', u'rol\\xea', u'do', u'ano', u'est\\xe1', u'chegando', u'bandida', u'dessa', u'vez', u'vai', u'dj', u'bruxo', u'mais', u'um', u'rol\\xea', u'mais', u'pano', u'pra', u'manga', u'number', u'acumular', u'carimbos', u'number', u'saudades', u'viajar', u'number', u'finalmente', u'vem', u'name', u'pensa', u'numa', u'pessoa', u'carinhosa', u'migo', u'fofo', u'adoro', u'festa', u'julina', u'bandida', u'sem', u'amigos', u'vida', u'pode', u'ser', u'muito', u'sem', u'gra\\xe7a', u'sem', u'amizade', u'amor', u'pode', u'ser', u'muito', u'previs\\xedvel', u'humanas', u'number', u'foreign', u'foreign', u'name', u'com', u'foreign', u'foreign', u'foreign', u'name', u'com', u'foreign', u'name', u'name', u'name', u'name', u't\\xe3o', u'bom', u'brincar', u'de', u'ser', u'crian\\xe7a', u'fim', u'de', u'uma', u'viagem', u'apenas', u'come\\xe7o', u'de', u'outra', u'usp', u'paga', u'agente', u'vai', u'name', u'number', u'lazer', u'at\\xe9', u'logo', u'partiu', u'usp', u'usp', u'paga', u'gente', u'vai', u'name', u'amei', u'lazer', u'foreign', u'perereca', u'suicida', u'\\xfaltimo', u'dia', u'beijo', u'na', u'name', u'amo', u'm\\xe3e', u'name', u'est\\xe1dio', u'arena', u'number', u'lazer', u'experi\\xeancias', u'viajar', u'amo', u'natureza', u'name', u'usp', u'paga', u'gente', u'vai', u'amei', u'trem', u'dia', u'dos', u'namorados', u'name', u'amor', u'lindo', u'brincadeira', u'frio', u'espelho', u'espelho', u'meu', u'agora', u'vai', u'vem', u'name', u'number', u'lazer', u'usp', u'paga', u'agente', u'vai', u'finalmente', u'feliz', u'esse', u'clipe', u'essa', u'm\\xfasica', u'number', u'os', u'safados', u'da', u'name', u'quero', u'lazer', u'mais', u'legal', u'number', u'number', u'bandidos', u'amo', u'integra', u'soma', u'hoje', u'dia', u'da', u'soma', u'sim', u'primeira', u'vez', u'da', u'name', u'incr\\xedvel', u'biblioteca', u'aplicada', u's\\xf3', u'que', u'n\\xe3o', u'amo', u'jogo', u'sincero', u'saud\\xe1vel', u'number', u'vai', u'ser', u'sempre', u'assim', u'eu', u'por', u'voc\\xeas', u'voc\\xeas', u'por', u'mim', u'number', u'dia', u'number', u'number', u's\\xe1bado', u'tarde', u'acad\\xeamicos', u'do', u'name', u'integra', u'soma', u'bandida', u's\\xf3', u'vamos', u'dia', u'das', u'm\\xe3es', u'sou', u'privilegiada', u'porque', u'tenho', u'n\\xe3o', u's\\xf3', u'uma', u'mas', u'duas', u'm\\xe3es', u'dentro', u'de', u'todas', u'as', u'dificuldades', u'dessa', u'fam\\xedlia', u'louca', u'voc\\xeas', u'me', u'ensinaram', u'que', u'poss\\xedvel', u'amar', u'perdoar', u'ser', u'feliz', u'sempre', u'acreditar', u'que', u'as', u'coisas', u'podem', u'melhorar', u'levo', u'comigo', u'todos', u'os', u'name', u'vontade', u'de', u'viver', u'jeito', u'guerreiro', u'dur\\xe3o', u'que', u'vov\\xf3', u'pernambucana', u'tem', u'jeito', u'ing\\xeanuo', u'sonhador', u't\\xe3o', u'preocupado', u'com', u'pr\\xf3ximo', u'que', u'aprendi', u'com', u'm\\xe3e', u'vivo', u'para', u'honrar', u'todo', u'trabalho', u'que', u'voc\\xeas', u'tiveram', u't\\xeam', u'comigo', u'vivo', u'por', u'voc\\xeas', u'pra', u'ver', u'rostinho', u'as', u'falas', u'de', u'orgulho', u'da', u'sua', u'neta', u'filha', u'vivo', u'para', u'tentar', u'construir', u'os', u'sonhos', u'que', u'eram', u'de', u'voc\\xeas', u'agora', u'tamb\\xe9m', u's\\xe3o', u'os', u'meus', u'verdade', u'que', u'n\\xe3o', u'vivo', u'sem', u'voc\\xeas', u'obrigada', u'por', u'tudo', u'amo', u'voc\\xeas', u'number', u'sem', u'desculpas', u'emotion-', u's\\xf3', u'vamos', u'corra', u'aproveite', u'essa', u'super', u'promo\\xe7\\xe3o', u'est\\xe1', u'f\\xe1cil', u'que', u'comecem', u'os', u'jogos', u'name', u'name', u'bandida', u'vou', u'ganhar', u'samba', u's\\xf3', u'observando', u'essa', u'zueira', u'samba', u'swingueira', u'sim', u'bandida', u'foreign', u'sa', u'venham', u'conhecer', u'name', u'cresce', u'name', u'sorria', u's\\xf3', u'ria', u'acalma', u'alma', u'embalo', u'de', u's\\xe1bado', u'noite', u'comiss\\xe3o', u'rotina', u'name', u'amo', u'foreign', u'aprendeu', u'que', u'nem', u'todo', u'amor', u'arrebatador', u'amor', u'pra', u'vida', u'inteira', u'que', u'os', u'amigos', u'aqueles', u'de', u'verdade', u'podem', u'at\\xe9', u'estar', u'longe', u'mas', u'nunca', u'distantes', u'ent\\xe3o', u'v\\xe1', u'embora', u'v\\xe1', u'embora', u'do', u'trabalho', u'que', u'te', u'atormenta', u'daquela', u'rela\\xe7\\xe3o', u'que', u'voc\\xea', u'sabe', u'n\\xe3o', u'vai', u'dar', u'certo', u'v\\xe1', u'embora', u'da', u'galera', u'que', u'est\\xe1', u'presente', u'quando', u'conv\\xe9m', u'mas', u'sei', u'que', u'amor', u'nasceu', u'dentro', u'de', u'mim', u'oov', u'name', u'name', u'foreign', u'capital', u'teve', u'name', u'lindos', u'um', u'outro', u'dia', u'um', u'outro', u'lugar', u'number', u'comiss\\xe3o', u'foreign', u'formatura', u'name', u'name', u'name', u'name', u'amo', u'amigos', u'eu', u'n\\xe3o', u'nasci', u'no', u'samba', u'mas', u'samba', u'nasceu', u'em', u'mim', u'number', u'quando', u'eu', u'pisei', u'no', u'terreiro', u'ouvi', u'som', u'do', u'pandeiro', u'me', u'encantei', u'com', u'tamborim', u'noite', u'que', u'tem', u'name', u'cheia', u'meu', u'cora\\xe7\\xe3o', u'incendeia', u'bate', u'mais', u'forte', u'na', u'marca\\xe7\\xe3o', u'povo', u'sacode', u'pagode', u'batendo', u'na', u'palma', u'da', u'm\\xe3o', u'corpo', u'alma', u'religi\\xe3o', u'tanto', u'faz', u'se', u'vila', u'name', u'se', u'padre', u'name', u'imp\\xe9rio', u'formiga', u'tanto', u'faz', u'se', u'vila', u'name', u'mocidade', u'alegre', u'name', u'no', u'name', u'assim', u'eu', u'fico', u'vontade', u'essa', u'liberdade', u'me', u'faz', u'delirar', u'quer', u'me', u'fazer', u'feliz', u'me', u'faz', u'sambar', u'falta', u'muito', u'para', u'melhor', u'rol\\xea', u'do', u'ano', u'number', u'saudades', u'name', u'name', u'name', u'name', u'name', u'name', u'name', u'name', u'name', u'name', u'name', u'name', u'vem', u'bixarada', u'veteranos', u'professores', u'funcion\\xe1rios', u'vem', u'todo', u'mundo', u'number', u'hoje', u'dia', u'de', u'agradecer', u'escola', u'que', u'abriu', u'as', u'portas', u'me', u'deixou', u'fazer', u'parte', u'de', u'toda', u'essa', u'hist\\xf3ria', u'que', u'me', u'ensina', u'muito', u'posso', u'n\\xe3o', u'ser', u'da', u'escola', u'desde', u'de', u'pequena', u'mas', u'com', u'certeza', u'hoje', u'posso', u'dizer', u'que', u'tenho', u'uma', u'escola', u'na', u'qual', u'meu', u'cora\\xe7\\xe3o', u'bate', u'mais', u'forte', u'eu', u'tenho', u'orgulho', u'de', u'fazer', u'parte', u'n\\xe3o', u'qualquer', u'uma', u'camisa', u'obrigada', u'branco', u'por', u'ter', u'me', u'apresentado', u'esse', u'mundo', u'maravilhoso', u'que', u'cada', u'dia', u'me', u'apaixono', u'mais', u'por', u'ter', u'me', u'aceitado', u'de', u'volta', u'no', u'lugar', u'aonde', u'eu', u'nunca', u'devia', u'ter', u'sa\\xeddo', u'por', u'ter', u'confiado', u'em', u'mim', u'pra', u'fazer', u'parte', u'desse', u'seu', u'lindo', u'trabalho', u'prometo', u'n\\xe3o', u'decepcionar', u'vamos', u'com', u'tudo', u'eu', u'acredito', u'meu', u'camisa', u'campe\\xe3o', u'explode', u'alegria', u'number', u'\\xe1guia', u'de', u'ouro', u'name', u'foreign', u'name', u'foreign', u'pm', u'sexta', u'carnaval', u'name', u'name', u'lindos', u'adoro', u'algu\\xe9m', u'virou', u'doutor', u'primo', u'orgulho', u'm\\xe9dico', u'veterin\\xe1rio', u'fmu', u'amo', u'lindo', u'fam\\xedlia', u'chorei', u'foreign', u'bixos', u'que', u'comecem', u'os', u'jogos', u'number', u'tem', u'gente', u'que', u'ainda', u'pergunta', u'porque', u'eu', u'escolhi', u'pegar', u'name', u'todos', u'name', u'ir', u'pra', u'zona', u'leste', u'pra', u'usp', u'foreign', u'pra', u'name', u'maravilhosa', u's\\xf3', u'lamento', u'por', u'quem', u'n\\xe3o', u'sabe', u'que', u'ser', u'eachonado', u'vem', u'bixarada', u'number', u'meu', u'lugar', u'sorriso', u'paz', u'prazer', u'seu', u'nome', u'doce', u'dizer', u'number', u'name', u'paix\\xe3o', u'oov', u'furiosa', u'carnaval', u'dedica\\xe7\\xe3o', u'encontrei', u'que', u'me', u'faz', u'feliz', u'tocar', u'evoluir', u'muita', u'fofura', u'pra', u'esse', u'tamanho', u'de', u'gente', u'name', u'passista', u'mirim', u'lindica', u'apaixonei', u'filha', u'p\\xe9rola', u'negra', u'\\xe1guia', u'ontem', u'ah', u'carnaval', u'name', u'\\xe1guia', u'nen\\xea', u'name', u'amo', u'al\\xf4', u'camisa', u'os', u'alunos', u'ter\\xe3o', u'cota', u'de', u'number', u'passagens', u'por', u'm\\xeas', u'para', u'todos', u'os', u'meios', u'passe', u'livre', u'que', u'comecem', u'os', u'jogos', u'name', u'linda', u'invadindo', u'celular', u'da', u'panda', u'linda', u'name', u'name', u'number', u'ano', u'intermin\\xe1vel', u'acabou', u's\\xf3', u'vem', u'number', u'vai', u'ganz\\xe1', u'oov', u'number', u'hoje', u'name', u'amo', u'bruxos', u'festa', u'name', u'name', u'foreign', u'name', u'pega', u'bandidas', u'fim', u'de', u'semana', u'nossas', u'diferen\\xe7as', u'nos', u'completam', u'pessoal', u'foreign', u'name', u'foreign', u'amo', u'jantar', u'japon\\xeas', u'amigo', u'secreto', u'hoje', u'passarinho', u'que', u'som', u'esse', u'irm\\xe3', u'foreign', u'castelo', u'name', u'amo', u's\\xe1bado', u'lindas', u'pensa', u'numa', u'crian\\xe7a', u'feliz', u'castelo', u'cultura', u'mis', u'porteiro', u'saudades', u'inf\\xe2ncia', u'incr\\xedvel', u'number', u'ontem', u'foreign', u'foreign', u'name', u'name', u'foreign', u'incr\\xedvel', u'name', u'name', u'baby', u'panda', u'dama', u'me', u'leva', u'pro', u'castelo', u'quero', u'muito', u'saudades', u'inf\\xe2ncia', u'name', u'name', u'name', u'name', u'name', u'name', u'name', u'foi', u'bom', u'enquanto', u'durou', u'nosso', u'porra', u'cravamos', u'number', u'depois', u'da', u'meia', u'noite', u'n\\xf3s', u'ascendemos', u'as', u'luzes', u'da', u'cidade', u'nos', u'abra\\xe7amos', u'ficamos', u'juntas', u'at\\xe9', u'nascer', u'sol', u'minhas', u'ontem', u'anivers\\xe1rio', u'da', u'fofa', u'foreign', u'foreign', u'sem', u'resolu\\xe7\\xe3o', u'karaok\\xea', u'foreign', u'segunda', u'parte', u'anivers\\xe1rio', u'da', u'fofa', u'de', u'volta', u'pra', u'casa', u'tava', u'com', u'saudades', u'gordice', u'do', u'dia', u'a\\xe7a\\xed', u'name', u'gordas', u'amo', u'meu', u'casal', u'preferido', u'madrinha', u'amores', u'foreign', u'rol\\xea', u'fondue', u'anglo', u'para', u'sempre', u'name', u'oov', u'name', u'name', u'name', u'name', u'name', u'acho', u'que', u'name', u'me', u'conquistou', u'\\xe1guia', u'rosas', u'fim', u'de', u'semana', u'amo', u'chocalho', u'de', u'ouro', u'finalmente', u'chorando', u'de', u'alegria', u'vamos', u'bebe', u'name', u'puta', u'que', u'pariu', u'est\\xe1', u'chegando', u'melhor', u'inter', u'do', u'ano', u'vem', u'todo', u'mundo', u'saudades', u'ilha', u'solteira', u'integra\\xe7\\xe3o', u'open', u'bateria', u'festa', u'estranha', u'gente', u'estranha', u'open', u'name', u'name', u'si', u'n\\xe3o', u'chora', u'foreign', u'mc', u'melhores', u'chinelada', u'vai', u'ter', u'bandida', u'na', u'vila', u'name', u'sim', u'vem', u'gringos', u'vem', u'todo', u'mundo', u'emotion+', u'sa\\xfade', u'boa', u'profundo', u'oov', u'que', u'honra', u'fazer', u'parte', u'disso', u'name', u'number', u'foreign', u'foreign', u'foreign', u'vel\\xf3dromo', u'foreign', u'deu', u'problema', u'foreign', u'ladies', u'name', u'pereira', u'minha', u'vida', u'sem', u'voc\\xea', u'n\\xe3o', u'faz', u'sentido', u'beijos', u'turistando', u'foreign', u'name', u'leste', u'name', u'name', u'm\\xe3o', u'praia', u'frio', u'incr\\xedvel', u'bom', u'dia', u'vista', u'do', u'porto', u'name', u'name', u'foreign', u'partiu', u'foreign', u'tudo', u'tem', u'sua', u'hora', u'finalmente', u'as', u'coisas', u'est\\xe3o', u'melhorando', u'tava', u'com', u'saudade', u'disso', u'number', u'anivers\\xe1rio', u'c\\xe1', u'churrasco', u'amigas', u'amo', u'name', u'foreign', u'mas', u'tanto', u'faz', u'j\\xe1', u'me', u'esqueci', u'de', u'te', u'esquecer', u'porque', u'teu', u'desejo', u'meu', u'melhor', u'prazer', u'meu', u'destino', u'querer', u'sempre', u'mais', u'minha', u'estrada', u'corre', u'pro', u'seu', u'mar', u'eu', u'vou', u'no', u'melhor', u'name', u'de', u'todos', u'os', u'tempos', u'bom', u'dia', u'saudades', u'sa\\xfade', u'eu', u'tenho', u'melhor', u'av\\xf3', u'do', u'mundo', u'number', u'cada', u'dia', u'mais', u'apaixonada', u'por', u'ela', u'por', u'voc\\xea', u'at\\xe9', u'agulhada', u'eu', u'levo', u'foreign', u'enfermeira', u'linda', u'cobaia', u'nem', u'doeu', u'te', u'amo', u'orgulho', u'que', u'tem', u'pra', u'hoje', u'melhor', u'diretor', u'domingo', u'churrasco', u'oov', u'furiosa', u'name', u'oov', u'acho', u'que', u'estou', u'apaixonada', u'que', u'devo', u'fazer', u'number', u'emotion+', u'bixarada', u'burra', u'fiquem', u'atentos', u'que', u'j\\xe1', u'j\\xe1', u'vem', u'escolinha', u'n\\xe3o', u'consigo', u'olhar', u'no', u'fundo', u'dos', u'seus', u'olhos', u'numa', u'segunda', u'de', u'carnaval', u'hoje', u'vamos', u'name', u'j\\xe1', u'estou', u'com', u'saudades', u'\\xfaltimo', u'ensaio', u'furiosa', u'camisa', u'carnaval', u'chegou', u'oov', u'amiga'], tags=[1])"
      ]
     },
     "execution_count": 77,
     "metadata": {},
     "output_type": "execute_result"
    }
   ],
   "source": [
    "test_tagged.values[50]"
   ]
  },
  {
   "cell_type": "code",
   "execution_count": 78,
   "metadata": {
    "collapsed": false
   },
   "outputs": [
    {
     "name": "stderr",
     "output_type": "stream",
     "text": [
      "2017-02-12 23:51:39,502 : WARNING : consider setting layer size to a multiple of 4 for greater performance\n",
      "2017-02-12 23:51:39,503 : INFO : collecting all words and their counts\n",
      "2017-02-12 23:51:39,504 : INFO : PROGRESS: at example #0, processed 0 words (0/s), 0 word types, 0 tags\n",
      "2017-02-12 23:51:39,687 : INFO : collected 29297 word types and 2 unique tags from a corpus of 319 examples and 618569 words\n",
      "2017-02-12 23:51:39,688 : INFO : Loading a fresh vocabulary\n",
      "2017-02-12 23:51:39,937 : INFO : min_count=5 retains 7933 unique words (27% of original 29297, drops 21364)\n",
      "2017-02-12 23:51:39,938 : INFO : min_count=5 leaves 583727 word corpus (94% of original 618569, drops 34842)\n",
      "2017-02-12 23:51:39,962 : INFO : deleting the raw counts dictionary of 29297 items\n",
      "2017-02-12 23:51:39,968 : INFO : sample=0.001 downsamples 47 most-common words\n",
      "2017-02-12 23:51:39,969 : INFO : downsampling leaves estimated 419991 word corpus (71.9% of prior 583727)\n",
      "2017-02-12 23:51:39,970 : INFO : estimated required memory for 7933 words and 5 dimensions: 4283860 bytes\n",
      "2017-02-12 23:51:40,007 : INFO : resetting layer weights\n",
      "2017-02-12 23:51:40,091 : INFO : training model with 1 workers on 7933 vocabulary and 5 features, using sg=0 hs=0 sample=0.001 negative=5 window=5\n",
      "2017-02-12 23:51:40,092 : INFO : expecting 319 sentences, matching count from corpus used for vocabulary survey\n",
      "2017-02-12 23:51:41,095 : INFO : PROGRESS: at 8.89% examples, 740041 words/s, in_qsize 2, out_qsize 0\n",
      "2017-02-12 23:51:42,096 : INFO : PROGRESS: at 17.51% examples, 733913 words/s, in_qsize 2, out_qsize 0\n",
      "2017-02-12 23:51:43,097 : INFO : PROGRESS: at 26.19% examples, 734851 words/s, in_qsize 2, out_qsize 0\n",
      "2017-02-12 23:51:44,098 : INFO : PROGRESS: at 35.13% examples, 737572 words/s, in_qsize 2, out_qsize 0\n",
      "2017-02-12 23:51:45,103 : INFO : PROGRESS: at 44.23% examples, 739068 words/s, in_qsize 1, out_qsize 0\n",
      "2017-02-12 23:51:46,108 : INFO : PROGRESS: at 53.06% examples, 740524 words/s, in_qsize 2, out_qsize 0\n",
      "2017-02-12 23:51:47,108 : INFO : PROGRESS: at 61.79% examples, 741518 words/s, in_qsize 1, out_qsize 0\n",
      "2017-02-12 23:51:48,112 : INFO : PROGRESS: at 70.85% examples, 741969 words/s, in_qsize 1, out_qsize 0\n",
      "2017-02-12 23:51:49,116 : INFO : PROGRESS: at 79.80% examples, 741947 words/s, in_qsize 2, out_qsize 0\n",
      "2017-02-12 23:51:50,120 : INFO : PROGRESS: at 88.71% examples, 742990 words/s, in_qsize 2, out_qsize 0\n",
      "2017-02-12 23:51:51,125 : INFO : PROGRESS: at 97.55% examples, 743550 words/s, in_qsize 1, out_qsize 0\n",
      "2017-02-12 23:51:51,411 : INFO : worker thread finished; awaiting finish of 0 more threads\n",
      "2017-02-12 23:51:51,412 : INFO : training on 12371380 raw words (8407495 effective words) took 11.3s, 742768 effective words/s\n"
     ]
    },
    {
     "name": "stdout",
     "output_type": "stream",
     "text": [
      "CPU times: user 20.7 s, sys: 93.6 ms, total: 20.8 s\n",
      "Wall time: 20.7 s\n"
     ]
    }
   ],
   "source": [
    "%%time\n",
    "trainsent = train_tagged.values\n",
    "testsent = test_tagged.values\n",
    "\n",
    "# simple gensim doc2vec api\n",
    "doc2vec_model = Doc2Vec(trainsent, workers=1, size=5, iter=20, dm=1)\n",
    "\n",
    "train_targets, train_regressors = zip(\n",
    "    *[(doc.tags[0], doc2vec_model.infer_vector(doc.words, steps=20)) for doc in trainsent])"
   ]
  },
  {
   "cell_type": "code",
   "execution_count": 79,
   "metadata": {
    "collapsed": false
   },
   "outputs": [
    {
     "name": "stdout",
     "output_type": "stream",
     "text": [
      "CPU times: user 4.07 s, sys: 1.63 ms, total: 4.07 s\n",
      "Wall time: 4.08 s\n"
     ]
    }
   ],
   "source": [
    "%%time\n",
    "test_targets, test_regressors = zip(\n",
    "    *[(doc.tags[0], doc2vec_model.infer_vector(doc.words, steps=20)) for doc in testsent])"
   ]
  },
  {
   "cell_type": "code",
   "execution_count": 80,
   "metadata": {
    "collapsed": false
   },
   "outputs": [
    {
     "name": "stdout",
     "output_type": "stream",
     "text": [
      "accuracy 0.518248175182\n",
      "confusion matrix\n",
      " [[45 24]\n",
      " [42 26]]\n",
      "(row=expected, col=predicted)\n"
     ]
    },
    {
     "data": {
      "image/png": "[encoded data removed]",
      "text/plain": [
       "<matplotlib.figure.Figure at 0x7f64a7c820d0>"
      ]
     },
     "metadata": {},
     "output_type": "display_data"
    }
   ],
   "source": [
    "logreg = linear_model.LogisticRegression(n_jobs=1, C=1e5)\n",
    "logreg = logreg.fit(train_regressors, train_targets)\n",
    "evaluate_prediction(logreg.predict(test_regressors), test_targets, title=str(doc2vec_model))"
   ]
  },
  {
   "cell_type": "code",
   "execution_count": 81,
   "metadata": {
    "collapsed": false
   },
   "outputs": [
    {
     "name": "stderr",
     "output_type": "stream",
     "text": [
      "2017-02-12 23:52:04,453 : INFO : precomputing L2-norms of doc weight vectors\n"
     ]
    },
    {
     "name": "stdout",
     "output_type": "stream",
     "text": [
      "accuracy 0.583941605839\n",
      "confusion matrix\n",
      " [[34 35]\n",
      " [22 46]]\n",
      "(row=expected, col=predicted)\n",
      "CPU times: user 173 ms, sys: 115 ms, total: 289 ms\n",
      "Wall time: 156 ms\n"
     ]
    },
    {
     "data": {
      "image/png": "[encoded data removed]",
      "text/plain": [
       "<matplotlib.figure.Figure at 0x7f64b9d0b1d0>"
      ]
     },
     "metadata": {},
     "output_type": "display_data"
    }
   ],
   "source": [
    "%%time \n",
    "knn_test_predictions = [\n",
    "    doc2vec_model.docvecs.most_similar([pred_vec], topn=1)[0][0]\n",
    "    for pred_vec in test_regressors\n",
    "]\n",
    "evaluate_prediction(knn_test_predictions, test_targets, str(doc2vec_model))"
   ]
  },
  {
   "cell_type": "code",
   "execution_count": 82,
   "metadata": {
    "collapsed": false
   },
   "outputs": [
    {
     "name": "stdout",
     "output_type": "stream",
     "text": [
      "Fitting a random forest to labeled training data...\n",
      "accuracy 0.554744525547\n",
      "confusion matrix\n",
      " [[43 26]\n",
      " [35 33]]\n",
      "(row=expected, col=predicted)\n"
     ]
    },
    {
     "data": {
      "image/png": "[encoded data removed]",
      "text/plain": [
       "<matplotlib.figure.Figure at 0x7f64bb4658d0>"
      ]
     },
     "metadata": {},
     "output_type": "display_data"
    }
   ],
   "source": [
    "from sklearn.ensemble import RandomForestClassifier\n",
    "forest = RandomForestClassifier( n_estimators = 100 )\n",
    "\n",
    "print \"Fitting a random forest to labeled training data...\"\n",
    "forest = forest.fit( train_regressors, train_data[\"extraversion_m\"] )\n",
    "\n",
    "# Test & extract results \n",
    "result = forest.predict( test_regressors )\n",
    "\n",
    "evaluate_prediction(result, test_targets, str(doc2vec_model))"
   ]
  }
 ],
 "metadata": {
  "kernelspec": {
   "display_name": "Python 2",
   "language": "python",
   "name": "python2"
  },
  "language_info": {
   "codemirror_mode": {
    "name": "ipython",
    "version": 2
   },
   "file_extension": ".py",
   "mimetype": "text/x-python",
   "name": "python",
   "nbconvert_exporter": "python",
   "pygments_lexer": "ipython2",
   "version": "2.7.12"
  }
 },
 "nbformat": 4,
 "nbformat_minor": 2
}
