{
 "cells": [
  {
   "cell_type": "code",
   "execution_count": 49,
   "metadata": {
    "collapsed": false
   },
   "outputs": [],
   "source": [
    "import logging\n",
    "logging.root.handlers = []  # Jupyter messes up logging so needs a reset\n",
    "logging.basicConfig(format='%(asctime)s : %(levelname)s : %(message)s', level=logging.INFO)\n",
    "from smart_open import smart_open\n",
    "import pandas as pd\n",
    "import numpy as np\n",
    "from numpy import random\n",
    "import gensim\n",
    "import nltk\n",
    "from sklearn.cross_validation import train_test_split\n",
    "from sklearn import linear_model\n",
    "from sklearn.feature_extraction.text import CountVectorizer, TfidfVectorizer\n",
    "from sklearn.metrics import accuracy_score, confusion_matrix\n",
    "import matplotlib.pyplot as plt\n",
    "from gensim.models import Word2Vec\n",
    "from sklearn.neighbors import KNeighborsClassifier\n",
    "from sklearn import linear_model\n",
    "from nltk.corpus import stopwords\n",
    "import os, codecs\n",
    "%matplotlib inline\n",
    "from bs4 import BeautifulSoup\n",
    "import re\n",
    "from nltk.corpus import stopwords"
   ]
  },
  {
   "cell_type": "code",
   "execution_count": 50,
   "metadata": {
    "collapsed": true
   },
   "outputs": [],
   "source": [
    "class MySentences(object):\n",
    "    def __init__(self, dirname):\n",
    "        self.dirname = dirname\n",
    " \n",
    "    def __iter__(self):\n",
    "        for fname in os.listdir(self.dirname):\n",
    "            for line in codecs.open(os.path.join(self.dirname, fname)) :\n",
    "                yield line.split()"
   ]
  },
  {
   "cell_type": "code",
   "execution_count": 3,
   "metadata": {
    "collapsed": false
   },
   "outputs": [],
   "source": [
    "sentences = MySentences('/home/bahbbc/Documents/b5-post(confidencial)/normalised') # a memory-friendly iterator"
   ]
  },
  {
   "cell_type": "code",
   "execution_count": 4,
   "metadata": {
    "collapsed": true
   },
   "outputs": [],
   "source": [
    "logging.basicConfig(format='%(asctime)s : %(levelname)s : %(message)s', level=logging.INFO)\n",
    "num_features = 300\n",
    "min_word_count = 1   # Minimum word count                        \n",
    "num_workers = 40       # Number of threads to run in parallel\n",
    "context = 10          # Context window size             \n"
   ]
  },
  {
   "cell_type": "code",
   "execution_count": 5,
   "metadata": {
    "collapsed": false,
    "scrolled": true
   },
   "outputs": [
    {
     "name": "stderr",
     "output_type": "stream",
     "text": [
      "2017-03-04 20:12:36,224 : INFO : collecting all words and their counts\n",
      "2017-03-04 20:12:36,240 : INFO : PROGRESS: at sentence #0, processed 0 words, keeping 0 word types\n",
      "2017-03-04 20:12:36,325 : INFO : PROGRESS: at sentence #10000, processed 139797 words, keeping 13466 word types\n",
      "2017-03-04 20:12:36,395 : INFO : PROGRESS: at sentence #20000, processed 285547 words, keeping 20184 word types\n",
      "2017-03-04 20:12:36,465 : INFO : PROGRESS: at sentence #30000, processed 443107 words, keeping 26496 word types\n",
      "2017-03-04 20:12:36,523 : INFO : PROGRESS: at sentence #40000, processed 575594 words, keeping 30748 word types\n",
      "2017-03-04 20:12:36,585 : INFO : PROGRESS: at sentence #50000, processed 722227 words, keeping 34109 word types\n",
      "2017-03-04 20:12:36,653 : INFO : PROGRESS: at sentence #60000, processed 872764 words, keeping 37629 word types\n",
      "2017-03-04 20:12:36,736 : INFO : PROGRESS: at sentence #70000, processed 1009486 words, keeping 40362 word types\n",
      "2017-03-04 20:12:36,798 : INFO : PROGRESS: at sentence #80000, processed 1161460 words, keeping 44011 word types\n",
      "2017-03-04 20:12:36,871 : INFO : PROGRESS: at sentence #90000, processed 1321238 words, keeping 46802 word types\n",
      "2017-03-04 20:12:36,927 : INFO : PROGRESS: at sentence #100000, processed 1457715 words, keeping 48937 word types\n",
      "2017-03-04 20:12:36,989 : INFO : PROGRESS: at sentence #110000, processed 1623341 words, keeping 51569 word types\n",
      "2017-03-04 20:12:37,046 : INFO : PROGRESS: at sentence #120000, processed 1766197 words, keeping 53990 word types\n",
      "2017-03-04 20:12:37,104 : INFO : PROGRESS: at sentence #130000, processed 1911834 words, keeping 56146 word types\n",
      "2017-03-04 20:12:37,162 : INFO : PROGRESS: at sentence #140000, processed 2046899 words, keeping 57706 word types\n",
      "2017-03-04 20:12:37,221 : INFO : PROGRESS: at sentence #150000, processed 2189680 words, keeping 59743 word types\n",
      "2017-03-04 20:12:37,281 : INFO : PROGRESS: at sentence #160000, processed 2344994 words, keeping 61682 word types\n",
      "2017-03-04 20:12:37,350 : INFO : PROGRESS: at sentence #170000, processed 2495128 words, keeping 63452 word types\n",
      "2017-03-04 20:12:37,417 : INFO : PROGRESS: at sentence #180000, processed 2665081 words, keeping 65478 word types\n",
      "2017-03-04 20:12:37,478 : INFO : PROGRESS: at sentence #190000, processed 2821047 words, keeping 67224 word types\n",
      "2017-03-04 20:12:37,507 : INFO : collected 67903 word types from a corpus of 2884808 raw words and 194400 sentences\n",
      "2017-03-04 20:12:37,508 : INFO : Loading a fresh vocabulary\n",
      "2017-03-04 20:12:37,725 : INFO : min_count=1 retains 67903 unique words (100% of original 67903, drops 0)\n",
      "2017-03-04 20:12:37,725 : INFO : min_count=1 leaves 2884808 word corpus (100% of original 2884808, drops 0)\n",
      "2017-03-04 20:12:37,887 : INFO : deleting the raw counts dictionary of 67903 items\n",
      "2017-03-04 20:12:37,889 : INFO : sample=0.001 downsamples 41 most-common words\n",
      "2017-03-04 20:12:37,890 : INFO : downsampling leaves estimated 1863335 word corpus (64.6% of prior 2884808)\n",
      "2017-03-04 20:12:37,891 : INFO : estimated required memory for 67903 words and 300 dimensions: 196918700 bytes\n",
      "2017-03-04 20:12:38,072 : INFO : resetting layer weights\n",
      "2017-03-04 20:12:38,883 : INFO : training model with 40 workers on 67903 vocabulary and 300 features, using sg=0 hs=0 sample=0.001 negative=5 window=10\n",
      "2017-03-04 20:12:38,884 : INFO : expecting 194400 sentences, matching count from corpus used for vocabulary survey\n",
      "2017-03-04 20:12:39,897 : INFO : PROGRESS: at 6.08% examples, 550580 words/s, in_qsize 0, out_qsize 0\n",
      "2017-03-04 20:12:40,913 : INFO : PROGRESS: at 12.83% examples, 583021 words/s, in_qsize 0, out_qsize 0\n",
      "2017-03-04 20:12:41,922 : INFO : PROGRESS: at 19.05% examples, 585666 words/s, in_qsize 0, out_qsize 0\n",
      "2017-03-04 20:12:42,923 : INFO : PROGRESS: at 25.02% examples, 574756 words/s, in_qsize 0, out_qsize 1\n",
      "2017-03-04 20:12:43,931 : INFO : PROGRESS: at 31.36% examples, 577941 words/s, in_qsize 0, out_qsize 0\n",
      "2017-03-04 20:12:44,955 : INFO : PROGRESS: at 37.95% examples, 579382 words/s, in_qsize 0, out_qsize 0\n",
      "2017-03-04 20:12:45,957 : INFO : PROGRESS: at 44.23% examples, 581560 words/s, in_qsize 0, out_qsize 0\n",
      "2017-03-04 20:12:46,975 : INFO : PROGRESS: at 50.29% examples, 577246 words/s, in_qsize 0, out_qsize 0\n",
      "2017-03-04 20:12:47,982 : INFO : PROGRESS: at 56.91% examples, 581515 words/s, in_qsize 0, out_qsize 0\n",
      "2017-03-04 20:12:48,985 : INFO : PROGRESS: at 63.29% examples, 583863 words/s, in_qsize 0, out_qsize 0\n",
      "2017-03-04 20:12:49,995 : INFO : PROGRESS: at 69.47% examples, 581739 words/s, in_qsize 0, out_qsize 0\n",
      "2017-03-04 20:12:51,012 : INFO : PROGRESS: at 76.26% examples, 583870 words/s, in_qsize 0, out_qsize 0\n",
      "2017-03-04 20:12:52,012 : INFO : PROGRESS: at 82.53% examples, 585725 words/s, in_qsize 0, out_qsize 0\n",
      "2017-03-04 20:12:53,016 : INFO : PROGRESS: at 89.00% examples, 586705 words/s, in_qsize 0, out_qsize 0\n",
      "2017-03-04 20:12:54,020 : INFO : PROGRESS: at 95.09% examples, 584038 words/s, in_qsize 0, out_qsize 2\n",
      "2017-03-04 20:12:54,756 : INFO : worker thread finished; awaiting finish of 39 more threads\n",
      "2017-03-04 20:12:54,761 : INFO : worker thread finished; awaiting finish of 38 more threads\n",
      "2017-03-04 20:12:54,764 : INFO : worker thread finished; awaiting finish of 37 more threads\n",
      "2017-03-04 20:12:54,766 : INFO : worker thread finished; awaiting finish of 36 more threads\n",
      "2017-03-04 20:12:54,776 : INFO : worker thread finished; awaiting finish of 35 more threads\n",
      "2017-03-04 20:12:54,786 : INFO : worker thread finished; awaiting finish of 34 more threads\n",
      "2017-03-04 20:12:54,788 : INFO : worker thread finished; awaiting finish of 33 more threads\n",
      "2017-03-04 20:12:54,789 : INFO : worker thread finished; awaiting finish of 32 more threads\n",
      "2017-03-04 20:12:54,790 : INFO : worker thread finished; awaiting finish of 31 more threads\n",
      "2017-03-04 20:12:54,791 : INFO : worker thread finished; awaiting finish of 30 more threads\n",
      "2017-03-04 20:12:54,792 : INFO : worker thread finished; awaiting finish of 29 more threads\n",
      "2017-03-04 20:12:54,793 : INFO : worker thread finished; awaiting finish of 28 more threads\n",
      "2017-03-04 20:12:54,794 : INFO : worker thread finished; awaiting finish of 27 more threads\n",
      "2017-03-04 20:12:54,795 : INFO : worker thread finished; awaiting finish of 26 more threads\n",
      "2017-03-04 20:12:54,795 : INFO : worker thread finished; awaiting finish of 25 more threads\n",
      "2017-03-04 20:12:54,796 : INFO : worker thread finished; awaiting finish of 24 more threads\n",
      "2017-03-04 20:12:54,797 : INFO : worker thread finished; awaiting finish of 23 more threads\n",
      "2017-03-04 20:12:54,798 : INFO : worker thread finished; awaiting finish of 22 more threads\n",
      "2017-03-04 20:12:54,799 : INFO : worker thread finished; awaiting finish of 21 more threads\n",
      "2017-03-04 20:12:54,800 : INFO : worker thread finished; awaiting finish of 20 more threads\n",
      "2017-03-04 20:12:54,801 : INFO : worker thread finished; awaiting finish of 19 more threads\n",
      "2017-03-04 20:12:54,801 : INFO : worker thread finished; awaiting finish of 18 more threads\n",
      "2017-03-04 20:12:54,802 : INFO : worker thread finished; awaiting finish of 17 more threads\n",
      "2017-03-04 20:12:54,803 : INFO : worker thread finished; awaiting finish of 16 more threads\n",
      "2017-03-04 20:12:54,804 : INFO : worker thread finished; awaiting finish of 15 more threads\n",
      "2017-03-04 20:12:54,805 : INFO : worker thread finished; awaiting finish of 14 more threads\n",
      "2017-03-04 20:12:54,806 : INFO : worker thread finished; awaiting finish of 13 more threads\n",
      "2017-03-04 20:12:54,807 : INFO : worker thread finished; awaiting finish of 12 more threads\n",
      "2017-03-04 20:12:54,807 : INFO : worker thread finished; awaiting finish of 11 more threads\n",
      "2017-03-04 20:12:54,808 : INFO : worker thread finished; awaiting finish of 10 more threads\n",
      "2017-03-04 20:12:54,809 : INFO : worker thread finished; awaiting finish of 9 more threads\n",
      "2017-03-04 20:12:54,810 : INFO : worker thread finished; awaiting finish of 8 more threads\n",
      "2017-03-04 20:12:54,811 : INFO : worker thread finished; awaiting finish of 7 more threads\n",
      "2017-03-04 20:12:54,812 : INFO : worker thread finished; awaiting finish of 6 more threads\n",
      "2017-03-04 20:12:54,813 : INFO : worker thread finished; awaiting finish of 5 more threads\n",
      "2017-03-04 20:12:54,814 : INFO : worker thread finished; awaiting finish of 4 more threads\n",
      "2017-03-04 20:12:54,814 : INFO : worker thread finished; awaiting finish of 3 more threads\n",
      "2017-03-04 20:12:54,816 : INFO : worker thread finished; awaiting finish of 2 more threads\n",
      "2017-03-04 20:12:54,817 : INFO : worker thread finished; awaiting finish of 1 more threads\n",
      "2017-03-04 20:12:54,818 : INFO : worker thread finished; awaiting finish of 0 more threads\n",
      "2017-03-04 20:12:54,818 : INFO : training on 14424040 raw words (9314937 effective words) took 15.9s, 584861 effective words/s\n"
     ]
    }
   ],
   "source": [
    "model = gensim.models.Word2Vec(sentences, workers=num_workers, \\\n",
    "            size=num_features, min_count = min_word_count, window = context)"
   ]
  },
  {
   "cell_type": "code",
   "execution_count": 6,
   "metadata": {
    "collapsed": false
   },
   "outputs": [
    {
     "ename": "NameError",
     "evalue": "name 'model' is not defined",
     "output_type": "error",
     "traceback": [
      "\u001b[0;31m---------------------------------------------------------------------------\u001b[0m",
      "\u001b[0;31mNameError\u001b[0m                                 Traceback (most recent call last)",
      "\u001b[0;32m<ipython-input-6-af0ea333340a>\u001b[0m in \u001b[0;36m<module>\u001b[0;34m()\u001b[0m\n\u001b[0;32m----> 1\u001b[0;31m \u001b[0mmodel\u001b[0m\u001b[0;34m.\u001b[0m\u001b[0msave_word2vec_format\u001b[0m\u001b[0;34m(\u001b[0m\u001b[0;34m'/home/bahbbc/Documents/personality_norm'\u001b[0m\u001b[0;34m)\u001b[0m\u001b[0;34m\u001b[0m\u001b[0m\n\u001b[0m",
      "\u001b[0;31mNameError\u001b[0m: name 'model' is not defined"
     ]
    }
   ],
   "source": [
    "model.save_word2vec_format('/home/bahbbc/Documents/personality_norm')"
   ]
  },
  {
   "cell_type": "code",
   "execution_count": 5,
   "metadata": {
    "collapsed": false
   },
   "outputs": [
    {
     "name": "stderr",
     "output_type": "stream",
     "text": [
      "2017-03-04 11:21:25,745 : INFO : loading projection weights from /home/bahbbc/Documents/personality_norm\n"
     ]
    },
    {
     "ename": "EOFError",
     "evalue": "unexpected end of input; is count incorrect or file otherwise damaged?",
     "output_type": "error",
     "traceback": [
      "\u001b[0;31m---------------------------------------------------------------------------\u001b[0m",
      "\u001b[0;31mEOFError\u001b[0m                                  Traceback (most recent call last)",
      "\u001b[0;32m<ipython-input-5-7ad0eec0bbbd>\u001b[0m in \u001b[0;36m<module>\u001b[0;34m()\u001b[0m\n\u001b[0;32m----> 1\u001b[0;31m \u001b[0mmodel\u001b[0m \u001b[0;34m=\u001b[0m \u001b[0mgensim\u001b[0m\u001b[0;34m.\u001b[0m\u001b[0mmodels\u001b[0m\u001b[0;34m.\u001b[0m\u001b[0mWord2Vec\u001b[0m\u001b[0;34m.\u001b[0m\u001b[0mload_word2vec_format\u001b[0m\u001b[0;34m(\u001b[0m\u001b[0;34m'/home/bahbbc/Documents/personality_norm'\u001b[0m\u001b[0;34m,\u001b[0m \u001b[0mencoding\u001b[0m\u001b[0;34m=\u001b[0m\u001b[0;34m'utf8'\u001b[0m\u001b[0;34m,\u001b[0m \u001b[0municode_errors\u001b[0m\u001b[0;34m=\u001b[0m\u001b[0;34m'ignore'\u001b[0m\u001b[0;34m)\u001b[0m\u001b[0;34m\u001b[0m\u001b[0m\n\u001b[0m\u001b[1;32m      2\u001b[0m \u001b[0;31m#model = Word2Vec.load_word2vec_format('/home/bahbbc/Documents/teste-personalidade/personality_1',binary=True)\u001b[0m\u001b[0;34m\u001b[0m\u001b[0;34m\u001b[0m\u001b[0m\n\u001b[1;32m      3\u001b[0m \u001b[0mmodel\u001b[0m\u001b[0;34m.\u001b[0m\u001b[0minit_sims\u001b[0m\u001b[0;34m(\u001b[0m\u001b[0mreplace\u001b[0m\u001b[0;34m=\u001b[0m\u001b[0mTrue\u001b[0m\u001b[0;34m)\u001b[0m\u001b[0;34m\u001b[0m\u001b[0m\n",
      "\u001b[0;32m/usr/lib64/python2.7/site-packages/gensim/models/word2vec.pyc\u001b[0m in \u001b[0;36mload_word2vec_format\u001b[0;34m(cls, fname, fvocab, binary, encoding, unicode_errors, limit, datatype)\u001b[0m\n\u001b[1;32m   1216\u001b[0m                     \u001b[0mline\u001b[0m \u001b[0;34m=\u001b[0m \u001b[0mfin\u001b[0m\u001b[0;34m.\u001b[0m\u001b[0mreadline\u001b[0m\u001b[0;34m(\u001b[0m\u001b[0;34m)\u001b[0m\u001b[0;34m\u001b[0m\u001b[0m\n\u001b[1;32m   1217\u001b[0m                     \u001b[0;32mif\u001b[0m \u001b[0mline\u001b[0m \u001b[0;34m==\u001b[0m \u001b[0;34mb''\u001b[0m\u001b[0;34m:\u001b[0m\u001b[0;34m\u001b[0m\u001b[0m\n\u001b[0;32m-> 1218\u001b[0;31m                         \u001b[0;32mraise\u001b[0m \u001b[0mEOFError\u001b[0m\u001b[0;34m(\u001b[0m\u001b[0;34m\"unexpected end of input; is count incorrect or file otherwise damaged?\"\u001b[0m\u001b[0;34m)\u001b[0m\u001b[0;34m\u001b[0m\u001b[0m\n\u001b[0m\u001b[1;32m   1219\u001b[0m                     \u001b[0mparts\u001b[0m \u001b[0;34m=\u001b[0m \u001b[0mutils\u001b[0m\u001b[0;34m.\u001b[0m\u001b[0mto_unicode\u001b[0m\u001b[0;34m(\u001b[0m\u001b[0mline\u001b[0m\u001b[0;34m.\u001b[0m\u001b[0mrstrip\u001b[0m\u001b[0;34m(\u001b[0m\u001b[0;34m)\u001b[0m\u001b[0;34m,\u001b[0m \u001b[0mencoding\u001b[0m\u001b[0;34m=\u001b[0m\u001b[0mencoding\u001b[0m\u001b[0;34m,\u001b[0m \u001b[0merrors\u001b[0m\u001b[0;34m=\u001b[0m\u001b[0municode_errors\u001b[0m\u001b[0;34m)\u001b[0m\u001b[0;34m.\u001b[0m\u001b[0msplit\u001b[0m\u001b[0;34m(\u001b[0m\u001b[0;34m\" \"\u001b[0m\u001b[0;34m)\u001b[0m\u001b[0;34m\u001b[0m\u001b[0m\n\u001b[1;32m   1220\u001b[0m                     \u001b[0;32mif\u001b[0m \u001b[0mlen\u001b[0m\u001b[0;34m(\u001b[0m\u001b[0mparts\u001b[0m\u001b[0;34m)\u001b[0m \u001b[0;34m!=\u001b[0m \u001b[0mvector_size\u001b[0m \u001b[0;34m+\u001b[0m \u001b[0;36m1\u001b[0m\u001b[0;34m:\u001b[0m\u001b[0;34m\u001b[0m\u001b[0m\n",
      "\u001b[0;31mEOFError\u001b[0m: unexpected end of input; is count incorrect or file otherwise damaged?"
     ]
    }
   ],
   "source": [
    "model = gensim.models.Word2Vec.load_word2vec_format('/home/bahbbc/Documents/personality_norm', encoding='utf8', unicode_errors='ignore')\n",
    "#model = Word2Vec.load_word2vec_format('/home/bahbbc/Documents/teste-personalidade/personality_1',binary=True)\n",
    "model.init_sims(replace=True)"
   ]
  },
  {
   "cell_type": "code",
   "execution_count": 6,
   "metadata": {
    "collapsed": false
   },
   "outputs": [
    {
     "name": "stderr",
     "output_type": "stream",
     "text": [
      "2017-03-04 20:12:54,823 : INFO : precomputing L2-norms of word weight vectors\n"
     ]
    },
    {
     "name": "stdout",
     "output_type": "stream",
     "text": [
      "[('bicho', 0.838931679725647), ('bagulho', 0.8338598608970642), ('fusca', 0.8252264261245728), ('vizinho', 0.8179534673690796), ('garoto', 0.8105221390724182), ('cabelo', 0.8087266087532043), ('filhote', 0.801296591758728), ('cachorrinho', 0.7989997267723083), ('brinquedo', 0.7961611747741699), ('menino', 0.796120285987854)]\n"
     ]
    }
   ],
   "source": [
    "print(model.most_similar(positive=['gato', 'cachorro']))"
   ]
  },
  {
   "cell_type": "markdown",
   "metadata": {},
   "source": [
    "### Verify model with personality"
   ]
  },
  {
   "cell_type": "code",
   "execution_count": 7,
   "metadata": {
    "collapsed": false
   },
   "outputs": [],
   "source": [
    "df = pd.read_csv('~/personality-normalized-word2vec-norm.csv', encoding='utf_8')"
   ]
  },
  {
   "cell_type": "code",
   "execution_count": 51,
   "metadata": {
    "collapsed": false
   },
   "outputs": [
    {
     "data": {
      "text/plain": [
       "0    529\n",
       "1    510\n",
       "Name: extraversion_m, dtype: int64"
      ]
     },
     "execution_count": 51,
     "metadata": {},
     "output_type": "execute_result"
    }
   ],
   "source": [
    "df.extraversion_m.value_counts()"
   ]
  },
  {
   "cell_type": "code",
   "execution_count": 52,
   "metadata": {
    "collapsed": true
   },
   "outputs": [],
   "source": [
    "train_w2v_data, test_w2v_data = train_test_split(df, test_size=0.3, random_state=42)"
   ]
  },
  {
   "cell_type": "markdown",
   "metadata": {},
   "source": [
    "### Evaluation code"
   ]
  },
  {
   "cell_type": "code",
   "execution_count": 53,
   "metadata": {
    "collapsed": false
   },
   "outputs": [],
   "source": [
    "def plot_confusion_matrix(cm, title='Confusion matrix', cmap=plt.cm.Blues):\n",
    "    plt.imshow(cm, interpolation='nearest', cmap=cmap)\n",
    "    plt.title(title)\n",
    "    plt.colorbar()\n",
    "    tick_marks = np.arange(2)\n",
    "    target_names = ['no', 'yes']\n",
    "    plt.xticks(tick_marks, target_names, rotation=45)\n",
    "    plt.yticks(tick_marks, target_names)\n",
    "    plt.tight_layout()\n",
    "    plt.ylabel('True label')\n",
    "    plt.xlabel('Predicted label')"
   ]
  },
  {
   "cell_type": "code",
   "execution_count": 54,
   "metadata": {
    "collapsed": true
   },
   "outputs": [],
   "source": [
    "def evaluate_prediction(predictions, target, title=\"Confusion matrix\"):\n",
    "    print('accuracy %s' % accuracy_score(target, predictions))\n",
    "    cm = confusion_matrix(target, predictions)\n",
    "    print('confusion matrix\\n %s' % cm)\n",
    "    print('(row=expected, col=predicted)')\n",
    "    \n",
    "    cm_normalized = cm.astype('float') / cm.sum(axis=1)[:, np.newaxis]\n",
    "    plot_confusion_matrix(cm_normalized, title + ' Normalized')"
   ]
  },
  {
   "cell_type": "code",
   "execution_count": 55,
   "metadata": {
    "collapsed": true
   },
   "outputs": [],
   "source": [
    "def predict(vectorizer, classifier, data):\n",
    "    data_features = vectorizer.transform(data['formatted_text'])\n",
    "    predictions = classifier.predict(data_features)\n",
    "    target = data['extraversion_m']\n",
    "    evaluate_prediction(predictions, target)"
   ]
  },
  {
   "cell_type": "markdown",
   "metadata": {},
   "source": [
    "### Word2Vec model training"
   ]
  },
  {
   "cell_type": "code",
   "execution_count": 56,
   "metadata": {
    "collapsed": true
   },
   "outputs": [],
   "source": [
    "def word_averaging(wv, words):\n",
    "    all_words, mean = set(), []\n",
    "    \n",
    "    for word in words:\n",
    "        if isinstance(word, np.ndarray):\n",
    "            mean.append(word)\n",
    "        elif word in wv.wv.vocab:\n",
    "            mean.append(wv.wv.syn0norm[wv.wv.vocab[word].index])\n",
    "            all_words.add(wv.wv.vocab[word].index)\n",
    "\n",
    "    if not mean:\n",
    "        logging.warning(\"cannot compute similarity with no input %s\", words)\n",
    "        # FIXME: remove these examples in pre-processing\n",
    "        return np.zeros(num_features,)\n",
    "\n",
    "    mean = gensim.matutils.unitvec(np.array(mean).mean(axis=0)).astype(np.float32)\n",
    "    return mean\n",
    "\n",
    "def  word_averaging_list(wv, text_list):\n",
    "    return np.vstack([word_averaging(wv, review) for review in text_list ])"
   ]
  },
  {
   "cell_type": "code",
   "execution_count": 57,
   "metadata": {
    "collapsed": true
   },
   "outputs": [],
   "source": [
    "\n",
    "def w2v_tokenize_text(text):\n",
    "    tokens = []\n",
    "    if text is np.nan:\n",
    "        return []\n",
    "    if type(text) == float:\n",
    "        return []\n",
    "    for sent in nltk.sent_tokenize(text, language='portuguese'):\n",
    "        for word in nltk.word_tokenize(sent, language='portuguese'):\n",
    "            if len(word) < 2:\n",
    "                continue\n",
    "            tokens.append(word)\n",
    "    return tokens"
   ]
  },
  {
   "cell_type": "code",
   "execution_count": 58,
   "metadata": {
    "collapsed": false
   },
   "outputs": [],
   "source": [
    "test_tokenized = test_w2v_data.apply(lambda r: w2v_tokenize_text(r['formatted_text']), axis=1).values\n",
    "train_tokenized = train_w2v_data.apply(lambda r: w2v_tokenize_text(r['formatted_text']), axis=1).values"
   ]
  },
  {
   "cell_type": "code",
   "execution_count": 59,
   "metadata": {
    "collapsed": false
   },
   "outputs": [
    {
     "name": "stderr",
     "output_type": "stream",
     "text": [
      "/usr/lib/python2.7/site-packages/ipykernel/__main__.py:7: UnicodeWarning: Unicode equal comparison failed to convert both arguments to Unicode - interpreting them as being unequal\n",
      "2017-03-05 15:28:48,726 : WARNING : cannot compute similarity with no input [u'FOREIGN']\n",
      "2017-03-05 15:28:49,169 : WARNING : cannot compute similarity with no input []\n",
      "2017-03-05 15:28:49,522 : WARNING : cannot compute similarity with no input []\n",
      "2017-03-05 15:28:49,528 : WARNING : cannot compute similarity with no input []\n",
      "2017-03-05 15:28:50,228 : WARNING : cannot compute similarity with no input []\n",
      "2017-03-05 15:28:50,492 : WARNING : cannot compute similarity with no input []\n",
      "2017-03-05 15:28:50,908 : WARNING : cannot compute similarity with no input [u'FOREIGN', u'FOREIGN', u'FOREIGN']\n",
      "2017-03-05 15:28:50,925 : WARNING : cannot compute similarity with no input []\n",
      "2017-03-05 15:28:51,732 : WARNING : cannot compute similarity with no input []\n",
      "2017-03-05 15:28:51,830 : WARNING : cannot compute similarity with no input []\n",
      "2017-03-05 15:28:52,055 : WARNING : cannot compute similarity with no input [u'NAME', u'NAME', u'NAME', u'NAME', u'NAME', u'NAME', u'NAME', u'NAME']\n",
      "2017-03-05 15:28:52,100 : WARNING : cannot compute similarity with no input []\n",
      "2017-03-05 15:28:52,277 : WARNING : cannot compute similarity with no input []\n",
      "2017-03-05 15:28:52,348 : WARNING : cannot compute similarity with no input []\n"
     ]
    },
    {
     "name": "stdout",
     "output_type": "stream",
     "text": [
      "CPU times: user 4.42 s, sys: 23.2 ms, total: 4.44 s\n",
      "Wall time: 4.44 s\n"
     ]
    }
   ],
   "source": [
    "%%time\n",
    "X_train_word_average = word_averaging_list(model,train_tokenized)\n",
    "X_test_word_average = word_averaging_list(model,test_tokenized)"
   ]
  },
  {
   "cell_type": "code",
   "execution_count": 60,
   "metadata": {
    "collapsed": false
   },
   "outputs": [
    {
     "name": "stdout",
     "output_type": "stream",
     "text": [
      "CPU times: user 1.36 s, sys: 850 µs, total: 1.36 s\n",
      "Wall time: 1.37 s\n"
     ]
    }
   ],
   "source": [
    "%%time\n",
    "logreg = linear_model.LogisticRegression(n_jobs=1, C=1e5)\n",
    "\n",
    "logreg = logreg.fit(X_train_word_average, train_data['extraversion_m'])\n",
    "predicted = logreg.predict(X_test_word_average)"
   ]
  },
  {
   "cell_type": "code",
   "execution_count": 61,
   "metadata": {
    "collapsed": false
   },
   "outputs": [
    {
     "name": "stdout",
     "output_type": "stream",
     "text": [
      "accuracy 0.605769230769\n",
      "confusion matrix\n",
      " [[ 87  55]\n",
      " [ 68 102]]\n",
      "(row=expected, col=predicted)\n"
     ]
    },
    {
     "data": {
      "image/png": "[encoded data removed]",
      "text/plain": [
       "<matplotlib.figure.Figure at 0x7f4b296dff10>"
      ]
     },
     "metadata": {},
     "output_type": "display_data"
    }
   ],
   "source": [
    "evaluate_prediction(predicted, test_data.extraversion_m)"
   ]
  },
  {
   "cell_type": "markdown",
   "metadata": {},
   "source": [
    "## Remove stop words"
   ]
  },
  {
   "cell_type": "code",
   "execution_count": 63,
   "metadata": {
    "collapsed": false
   },
   "outputs": [],
   "source": [
    "def w2v_tokenize_text(text):\n",
    "    tokens = []\n",
    "    if text is np.nan:\n",
    "        return []\n",
    "    if type(text) == float:\n",
    "        return []\n",
    "    for sent in nltk.sent_tokenize(text, language='portuguese'):\n",
    "        for word in nltk.word_tokenize(sent, language='portuguese'):\n",
    "            if len(word) < 2:\n",
    "                continue\n",
    "            if word in stopwords.words('portuguese'):\n",
    "                continue\n",
    "            tokens.append(word)\n",
    "    return tokens"
   ]
  },
  {
   "cell_type": "code",
   "execution_count": null,
   "metadata": {
    "collapsed": false
   },
   "outputs": [],
   "source": [
    "test_tokenized = test_w2v_data.apply(lambda r: w2v_tokenize_text(r['formatted_text']), axis=1).values\n",
    "train_tokenized = train_w2v_data.apply(lambda r: w2v_tokenize_text(r['formatted_text']), axis=1).values"
   ]
  },
  {
   "cell_type": "code",
   "execution_count": null,
   "metadata": {
    "collapsed": false
   },
   "outputs": [],
   "source": [
    "%%time\n",
    "X_train_word_average = word_averaging_list(model,train_tokenized)\n",
    "X_test_word_average = word_averaging_list(model,test_tokenized)"
   ]
  },
  {
   "cell_type": "code",
   "execution_count": null,
   "metadata": {
    "collapsed": false
   },
   "outputs": [],
   "source": [
    "%%time\n",
    "logreg = linear_model.LogisticRegression(n_jobs=1, C=1e5)\n",
    "\n",
    "logreg = logreg.fit(X_train_word_average, train_w2v_data['extraversion_m'])\n",
    "predicted = logreg.predict(X_test_word_average)"
   ]
  },
  {
   "cell_type": "code",
   "execution_count": null,
   "metadata": {
    "collapsed": false
   },
   "outputs": [],
   "source": [
    "evaluate_prediction(predicted, test_w2v_data.extraversion_m)"
   ]
  },
  {
   "cell_type": "code",
   "execution_count": null,
   "metadata": {
    "collapsed": false
   },
   "outputs": [],
   "source": [
    "from sklearn.ensemble import RandomForestClassifier\n",
    "forest = RandomForestClassifier( n_estimators = 100 )\n",
    "\n",
    "print \"Fitting a random forest to labeled training data...\"\n",
    "forest = forest.fit( X_train_word_average, train_w2v_data[\"extraversion_m\"] )\n",
    "\n",
    "# Test & extract results \n",
    "result = forest.predict( X_test_word_average )\n",
    "\n",
    "evaluate_prediction(result, test_w2v_data.extraversion_m)"
   ]
  },
  {
   "cell_type": "markdown",
   "metadata": {},
   "source": [
    "## Doc2Vec"
   ]
  },
  {
   "cell_type": "code",
   "execution_count": null,
   "metadata": {
    "collapsed": true
   },
   "outputs": [],
   "source": [
    "from gensim.models import Doc2Vec\n",
    "from gensim.models.doc2vec import TaggedDocument"
   ]
  },
  {
   "cell_type": "code",
   "execution_count": 37,
   "metadata": {
    "collapsed": true
   },
   "outputs": [],
   "source": [
    "\n",
    "def tokenize_text(text):\n",
    "    tokens = []\n",
    "    if text is np.nan:\n",
    "        return []\n",
    "    for sent in nltk.sent_tokenize(text):\n",
    "        for word in nltk.word_tokenize(sent):\n",
    "            if len(word) < 2:\n",
    "                continue\n",
    "            tokens.append(word.lower())\n",
    "    return tokens"
   ]
  },
  {
   "cell_type": "code",
   "execution_count": 42,
   "metadata": {
    "collapsed": false
   },
   "outputs": [],
   "source": [
    "train_tagged = train_data.apply(\n",
    "    lambda r: TaggedDocument(words=tokenize_text(r['formatted_text']), tags=[r.extraversion_m]), axis=1)"
   ]
  },
  {
   "cell_type": "code",
   "execution_count": 43,
   "metadata": {
    "collapsed": true
   },
   "outputs": [],
   "source": [
    "test_tagged = test_data.apply(\n",
    "    lambda r: TaggedDocument(words=tokenize_text(r['formatted_text']), tags=[r.extraversion_m]), axis=1)"
   ]
  },
  {
   "cell_type": "code",
   "execution_count": 44,
   "metadata": {
    "collapsed": false
   },
   "outputs": [
    {
     "name": "stderr",
     "output_type": "stream",
     "text": [
      "2017-03-04 20:34:48,586 : WARNING : consider setting layer size to a multiple of 4 for greater performance\n",
      "2017-03-04 20:34:48,587 : INFO : collecting all words and their counts\n",
      "2017-03-04 20:34:48,588 : INFO : PROGRESS: at example #0, processed 0 words (0/s), 0 word types, 0 tags\n",
      "2017-03-04 20:34:48,954 : INFO : collected 43446 word types and 2 unique tags from a corpus of 727 examples and 1472087 words\n",
      "2017-03-04 20:34:48,955 : INFO : Loading a fresh vocabulary\n",
      "2017-03-04 20:34:49,020 : INFO : min_count=5 retains 13634 unique words (31% of original 43446, drops 29812)\n",
      "2017-03-04 20:34:49,021 : INFO : min_count=5 leaves 1421890 word corpus (96% of original 1472087, drops 50197)\n",
      "2017-03-04 20:34:49,067 : INFO : deleting the raw counts dictionary of 43446 items\n",
      "2017-03-04 20:34:49,069 : INFO : sample=0.001 downsamples 46 most-common words\n",
      "2017-03-04 20:34:49,070 : INFO : downsampling leaves estimated 1039507 word corpus (73.1% of prior 1421890)\n",
      "2017-03-04 20:34:49,071 : INFO : estimated required memory for 13634 words and 5 dimensions: 7362400 bytes\n",
      "2017-03-04 20:34:49,124 : INFO : resetting layer weights\n",
      "2017-03-04 20:34:49,257 : INFO : training model with 1 workers on 13634 vocabulary and 5 features, using sg=0 hs=0 sample=0.001 negative=5 window=5\n",
      "2017-03-04 20:34:49,258 : INFO : expecting 727 sentences, matching count from corpus used for vocabulary survey\n",
      "2017-03-04 20:34:50,267 : INFO : PROGRESS: at 3.29% examples, 701225 words/s, in_qsize 2, out_qsize 0\n",
      "2017-03-04 20:34:51,271 : INFO : PROGRESS: at 6.72% examples, 704556 words/s, in_qsize 1, out_qsize 0\n",
      "2017-03-04 20:34:52,275 : INFO : PROGRESS: at 10.23% examples, 704715 words/s, in_qsize 2, out_qsize 0\n",
      "2017-03-04 20:34:53,277 : INFO : PROGRESS: at 13.67% examples, 705850 words/s, in_qsize 1, out_qsize 0\n",
      "2017-03-04 20:34:54,288 : INFO : PROGRESS: at 16.98% examples, 704787 words/s, in_qsize 1, out_qsize 0\n",
      "2017-03-04 20:34:55,290 : INFO : PROGRESS: at 20.50% examples, 704994 words/s, in_qsize 1, out_qsize 0\n",
      "2017-03-04 20:34:56,293 : INFO : PROGRESS: at 23.87% examples, 704885 words/s, in_qsize 1, out_qsize 0\n",
      "2017-03-04 20:34:57,298 : INFO : PROGRESS: at 27.20% examples, 704363 words/s, in_qsize 1, out_qsize 0\n",
      "2017-03-04 20:34:58,304 : INFO : PROGRESS: at 30.77% examples, 704867 words/s, in_qsize 2, out_qsize 0\n",
      "2017-03-04 20:34:59,308 : INFO : PROGRESS: at 34.13% examples, 703617 words/s, in_qsize 2, out_qsize 0\n",
      "2017-03-04 20:35:00,312 : INFO : PROGRESS: at 37.39% examples, 703200 words/s, in_qsize 2, out_qsize 0\n",
      "2017-03-04 20:35:01,315 : INFO : PROGRESS: at 40.95% examples, 702852 words/s, in_qsize 2, out_qsize 0\n",
      "2017-03-04 20:35:02,317 : INFO : PROGRESS: at 44.30% examples, 702757 words/s, in_qsize 2, out_qsize 0\n",
      "2017-03-04 20:35:03,323 : INFO : PROGRESS: at 47.63% examples, 703135 words/s, in_qsize 1, out_qsize 0\n",
      "2017-03-04 20:35:04,328 : INFO : PROGRESS: at 51.16% examples, 703105 words/s, in_qsize 1, out_qsize 0\n",
      "2017-03-04 20:35:05,335 : INFO : PROGRESS: at 54.55% examples, 703066 words/s, in_qsize 2, out_qsize 0\n",
      "2017-03-04 20:35:06,340 : INFO : PROGRESS: at 57.86% examples, 702631 words/s, in_qsize 1, out_qsize 0\n",
      "2017-03-04 20:35:07,350 : INFO : PROGRESS: at 61.40% examples, 702597 words/s, in_qsize 1, out_qsize 0\n",
      "2017-03-04 20:35:08,355 : INFO : PROGRESS: at 64.86% examples, 702913 words/s, in_qsize 2, out_qsize 0\n",
      "2017-03-04 20:35:09,360 : INFO : PROGRESS: at 68.09% examples, 702434 words/s, in_qsize 1, out_qsize 0\n",
      "2017-03-04 20:35:10,364 : INFO : PROGRESS: at 71.58% examples, 702621 words/s, in_qsize 2, out_qsize 0\n",
      "2017-03-04 20:35:11,370 : INFO : PROGRESS: at 75.06% examples, 702703 words/s, in_qsize 1, out_qsize 0\n",
      "2017-03-04 20:35:12,372 : INFO : PROGRESS: at 78.38% examples, 702815 words/s, in_qsize 2, out_qsize 0\n",
      "2017-03-04 20:35:13,379 : INFO : PROGRESS: at 81.81% examples, 702946 words/s, in_qsize 2, out_qsize 0\n",
      "2017-03-04 20:35:14,382 : INFO : PROGRESS: at 85.29% examples, 702751 words/s, in_qsize 1, out_qsize 0\n",
      "2017-03-04 20:35:15,385 : INFO : PROGRESS: at 88.67% examples, 702727 words/s, in_qsize 2, out_qsize 0\n",
      "2017-03-04 20:35:16,389 : INFO : PROGRESS: at 91.97% examples, 702606 words/s, in_qsize 2, out_qsize 0\n",
      "2017-03-04 20:35:17,396 : INFO : PROGRESS: at 95.50% examples, 702800 words/s, in_qsize 2, out_qsize 0\n",
      "2017-03-04 20:35:18,402 : INFO : PROGRESS: at 98.90% examples, 702905 words/s, in_qsize 1, out_qsize 0\n",
      "2017-03-04 20:35:18,714 : INFO : worker thread finished; awaiting finish of 0 more threads\n",
      "2017-03-04 20:35:18,715 : INFO : training on 29441740 raw words (20698345 effective words) took 29.5s, 702691 effective words/s\n"
     ]
    },
    {
     "name": "stdout",
     "output_type": "stream",
     "text": [
      "CPU times: user 56.5 s, sys: 200 ms, total: 56.7 s\n",
      "Wall time: 56.3 s\n"
     ]
    }
   ],
   "source": [
    "%%time\n",
    "trainsent = train_tagged.values\n",
    "testsent = test_tagged.values\n",
    "\n",
    "# simple gensim doc2vec api\n",
    "doc2vec_model = Doc2Vec(trainsent, workers=1, size=5, iter=20, dm=1)\n",
    "\n",
    "train_targets, train_regressors = zip(\n",
    "    *[(doc.tags[0], doc2vec_model.infer_vector(doc.words, steps=20)) for doc in trainsent])"
   ]
  },
  {
   "cell_type": "code",
   "execution_count": 45,
   "metadata": {
    "collapsed": false
   },
   "outputs": [
    {
     "name": "stdout",
     "output_type": "stream",
     "text": [
      "CPU times: user 8.98 s, sys: 695 µs, total: 8.98 s\n",
      "Wall time: 9 s\n"
     ]
    }
   ],
   "source": [
    "%%time\n",
    "test_targets, test_regressors = zip(\n",
    "    *[(doc.tags[0], doc2vec_model.infer_vector(doc.words, steps=20)) for doc in testsent])"
   ]
  },
  {
   "cell_type": "code",
   "execution_count": 46,
   "metadata": {
    "collapsed": false
   },
   "outputs": [
    {
     "name": "stdout",
     "output_type": "stream",
     "text": [
      "accuracy 0.570512820513\n",
      "confusion matrix\n",
      " [[106  36]\n",
      " [ 98  72]]\n",
      "(row=expected, col=predicted)\n"
     ]
    },
    {
     "data": {
      "image/png": "[encoded data removed]",
      "text/plain": [
       "<matplotlib.figure.Figure at 0x7f4b0b127d90>"
      ]
     },
     "metadata": {},
     "output_type": "display_data"
    }
   ],
   "source": [
    "logreg = linear_model.LogisticRegression(n_jobs=1, C=1e5)\n",
    "logreg = logreg.fit(train_regressors, train_targets)\n",
    "evaluate_prediction(logreg.predict(test_regressors), test_targets, title=str(doc2vec_model))"
   ]
  },
  {
   "cell_type": "code",
   "execution_count": 47,
   "metadata": {
    "collapsed": false
   },
   "outputs": [
    {
     "name": "stderr",
     "output_type": "stream",
     "text": [
      "2017-03-04 20:35:54,160 : INFO : precomputing L2-norms of doc weight vectors\n"
     ]
    },
    {
     "name": "stdout",
     "output_type": "stream",
     "text": [
      "accuracy 0.576923076923\n",
      "confusion matrix\n",
      " [[83 59]\n",
      " [73 97]]\n",
      "(row=expected, col=predicted)\n",
      "CPU times: user 202 ms, sys: 141 ms, total: 344 ms\n",
      "Wall time: 209 ms\n"
     ]
    },
    {
     "data": {
      "image/png": "[encoded data removed]",
      "text/plain": [
       "<matplotlib.figure.Figure at 0x7f4b0afbe550>"
      ]
     },
     "metadata": {},
     "output_type": "display_data"
    }
   ],
   "source": [
    "%%time \n",
    "knn_test_predictions = [\n",
    "    doc2vec_model.docvecs.most_similar([pred_vec], topn=1)[0][0]\n",
    "    for pred_vec in test_regressors\n",
    "]\n",
    "evaluate_prediction(knn_test_predictions, test_targets, str(doc2vec_model))"
   ]
  },
  {
   "cell_type": "code",
   "execution_count": 48,
   "metadata": {
    "collapsed": false
   },
   "outputs": [
    {
     "name": "stdout",
     "output_type": "stream",
     "text": [
      "Fitting a random forest to labeled training data...\n",
      "accuracy 0.532051282051\n",
      "confusion matrix\n",
      " [[91 51]\n",
      " [95 75]]\n",
      "(row=expected, col=predicted)\n"
     ]
    },
    {
     "data": {
      "image/png": "[encoded data removed]",
      "text/plain": [
       "<matplotlib.figure.Figure at 0x7f4b29849310>"
      ]
     },
     "metadata": {},
     "output_type": "display_data"
    }
   ],
   "source": [
    "from sklearn.ensemble import RandomForestClassifier\n",
    "forest = RandomForestClassifier( n_estimators = 100 )\n",
    "\n",
    "print \"Fitting a random forest to labeled training data...\"\n",
    "forest = forest.fit( train_regressors, train_data[\"extraversion_m\"] )\n",
    "\n",
    "# Test & extract results \n",
    "result = forest.predict( test_regressors )\n",
    "\n",
    "evaluate_prediction(result, test_targets, str(doc2vec_model))"
   ]
  },
  {
   "cell_type": "code",
   "execution_count": null,
   "metadata": {
    "collapsed": true
   },
   "outputs": [],
   "source": []
  }
 ],
 "metadata": {
  "kernelspec": {
   "display_name": "Python 2",
   "language": "python",
   "name": "python2"
  },
  "language_info": {
   "codemirror_mode": {
    "name": "ipython",
    "version": 2
   },
   "file_extension": ".py",
   "mimetype": "text/x-python",
   "name": "python",
   "nbconvert_exporter": "python",
   "pygments_lexer": "ipython2",
   "version": "2.7.12"
  }
 },
 "nbformat": 4,
 "nbformat_minor": 2
}
