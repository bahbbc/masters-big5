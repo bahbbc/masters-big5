{
 "cells": [
  {
   "cell_type": "code",
   "execution_count": 141,
   "metadata": {
    "collapsed": false
   },
   "outputs": [],
   "source": [
    "import logging\n",
    "logging.root.handlers = []  # Jupyter messes up logging so needs a reset\n",
    "logging.basicConfig(format='%(asctime)s : %(levelname)s : %(message)s', level=logging.INFO)\n",
    "from smart_open import smart_open\n",
    "import pandas as pd\n",
    "import numpy as np\n",
    "from numpy import random\n",
    "import gensim\n",
    "import nltk\n",
    "from sklearn.cross_validation import train_test_split\n",
    "from sklearn import linear_model\n",
    "from sklearn.feature_extraction.text import CountVectorizer, TfidfVectorizer\n",
    "from sklearn.metrics import accuracy_score, confusion_matrix\n",
    "import matplotlib.pyplot as plt\n",
    "from gensim.models import Word2Vec\n",
    "from sklearn.neighbors import KNeighborsClassifier\n",
    "from sklearn import linear_model\n",
    "from nltk.corpus import stopwords\n",
    "import os, codecs\n",
    "%matplotlib inline\n",
    "from bs4 import BeautifulSoup\n",
    "import re\n",
    "from nltk.corpus import stopwords"
   ]
  },
  {
   "cell_type": "code",
   "execution_count": 89,
   "metadata": {
    "collapsed": true
   },
   "outputs": [],
   "source": [
    "class MySentences(object):\n",
    "    def __init__(self, dirname):\n",
    "        self.dirname = dirname\n",
    " \n",
    "    def __iter__(self):\n",
    "        for fname in os.listdir(self.dirname):\n",
    "            for line in codecs.open(os.path.join(self.dirname, fname)) :\n",
    "                yield line.split()"
   ]
  },
  {
   "cell_type": "code",
   "execution_count": 121,
   "metadata": {
    "collapsed": false
   },
   "outputs": [],
   "source": [
    "sentences = MySentences('/home/bahbbc/Documents/teste-personalidade') # a memory-friendly iterator"
   ]
  },
  {
   "cell_type": "code",
   "execution_count": 142,
   "metadata": {
    "collapsed": false
   },
   "outputs": [
    {
     "name": "stderr",
     "output_type": "stream",
     "text": [
      "/usr/lib/python2.7/site-packages/bs4/__init__.py:181: UserWarning: No parser was explicitly specified, so I'm using the best available HTML parser for this system (\"html5lib\"). This usually isn't a problem, but if you run this code on another system, or in a different virtual environment, it may use a different parser and behave differently.\n",
      "\n",
      "The code that caused this warning is on line 174 of the file /usr/lib64/python2.7/runpy.py. To get rid of this warning, change code that looks like this:\n",
      "\n",
      " BeautifulSoup([your markup])\n",
      "\n",
      "to this:\n",
      "\n",
      " BeautifulSoup([your markup], \"html5lib\")\n",
      "\n",
      "  markup_type=markup_type))\n"
     ]
    },
    {
     "ename": "TypeError",
     "evalue": "object of type 'MySentences' has no len()",
     "output_type": "error",
     "traceback": [
      "\u001b[0;31m---------------------------------------------------------------------------\u001b[0m",
      "\u001b[0;31mTypeError\u001b[0m                                 Traceback (most recent call last)",
      "\u001b[0;32m<ipython-input-142-745301abc967>\u001b[0m in \u001b[0;36m<module>\u001b[0;34m()\u001b[0m\n\u001b[0;32m----> 1\u001b[0;31m \u001b[0msentences\u001b[0m \u001b[0;34m=\u001b[0m \u001b[0mBeautifulSoup\u001b[0m\u001b[0;34m(\u001b[0m\u001b[0msentences\u001b[0m\u001b[0;34m)\u001b[0m\u001b[0;34m.\u001b[0m\u001b[0mget_text\u001b[0m\u001b[0;34m(\u001b[0m\u001b[0;34m)\u001b[0m\u001b[0;34m\u001b[0m\u001b[0m\n\u001b[0m",
      "\u001b[0;32m/usr/lib/python2.7/site-packages/bs4/__init__.pyc\u001b[0m in \u001b[0;36m__init__\u001b[0;34m(self, markup, features, builder, parse_only, from_encoding, exclude_encodings, **kwargs)\u001b[0m\n\u001b[1;32m    190\u001b[0m         \u001b[0;32mif\u001b[0m \u001b[0mhasattr\u001b[0m\u001b[0;34m(\u001b[0m\u001b[0mmarkup\u001b[0m\u001b[0;34m,\u001b[0m \u001b[0;34m'read'\u001b[0m\u001b[0;34m)\u001b[0m\u001b[0;34m:\u001b[0m        \u001b[0;31m# It's a file-type object.\u001b[0m\u001b[0;34m\u001b[0m\u001b[0m\n\u001b[1;32m    191\u001b[0m             \u001b[0mmarkup\u001b[0m \u001b[0;34m=\u001b[0m \u001b[0mmarkup\u001b[0m\u001b[0;34m.\u001b[0m\u001b[0mread\u001b[0m\u001b[0;34m(\u001b[0m\u001b[0;34m)\u001b[0m\u001b[0;34m\u001b[0m\u001b[0m\n\u001b[0;32m--> 192\u001b[0;31m         elif len(markup) <= 256 and (\n\u001b[0m\u001b[1;32m    193\u001b[0m                 \u001b[0;34m(\u001b[0m\u001b[0misinstance\u001b[0m\u001b[0;34m(\u001b[0m\u001b[0mmarkup\u001b[0m\u001b[0;34m,\u001b[0m \u001b[0mbytes\u001b[0m\u001b[0;34m)\u001b[0m \u001b[0;32mand\u001b[0m \u001b[0;32mnot\u001b[0m \u001b[0;34mb'<'\u001b[0m \u001b[0;32min\u001b[0m \u001b[0mmarkup\u001b[0m\u001b[0;34m)\u001b[0m\u001b[0;34m\u001b[0m\u001b[0m\n\u001b[1;32m    194\u001b[0m                 \u001b[0;32mor\u001b[0m \u001b[0;34m(\u001b[0m\u001b[0misinstance\u001b[0m\u001b[0;34m(\u001b[0m\u001b[0mmarkup\u001b[0m\u001b[0;34m,\u001b[0m \u001b[0municode\u001b[0m\u001b[0;34m)\u001b[0m \u001b[0;32mand\u001b[0m \u001b[0;32mnot\u001b[0m \u001b[0;34mu'<'\u001b[0m \u001b[0;32min\u001b[0m \u001b[0mmarkup\u001b[0m\u001b[0;34m)\u001b[0m\u001b[0;34m\u001b[0m\u001b[0m\n",
      "\u001b[0;31mTypeError\u001b[0m: object of type 'MySentences' has no len()"
     ]
    }
   ],
   "source": [
    "sentences = BeautifulSoup(sentences).get_text()"
   ]
  },
  {
   "cell_type": "code",
   "execution_count": 122,
   "metadata": {
    "collapsed": false,
    "scrolled": true
   },
   "outputs": [
    {
     "name": "stderr",
     "output_type": "stream",
     "text": [
      "2017-02-11 10:23:09,447 : INFO : collecting all words and their counts\n",
      "2017-02-11 10:23:09,450 : INFO : PROGRESS: at sentence #0, processed 0 words, keeping 0 word types\n",
      "2017-02-11 10:23:09,514 : INFO : PROGRESS: at sentence #10000, processed 98661 words, keeping 27955 word types\n",
      "2017-02-11 10:23:09,563 : INFO : PROGRESS: at sentence #20000, processed 203143 words, keeping 49341 word types\n",
      "2017-02-11 10:23:09,601 : INFO : PROGRESS: at sentence #30000, processed 292582 words, keeping 64869 word types\n",
      "2017-02-11 10:23:09,647 : INFO : PROGRESS: at sentence #40000, processed 396167 words, keeping 81156 word types\n",
      "2017-02-11 10:23:09,697 : INFO : PROGRESS: at sentence #50000, processed 493400 words, keeping 95005 word types\n",
      "2017-02-11 10:23:09,739 : INFO : PROGRESS: at sentence #60000, processed 589134 words, keeping 108568 word types\n",
      "2017-02-11 10:23:09,778 : INFO : PROGRESS: at sentence #70000, processed 676484 words, keeping 119972 word types\n",
      "2017-02-11 10:23:09,827 : INFO : PROGRESS: at sentence #80000, processed 795993 words, keeping 133590 word types\n",
      "2017-02-11 10:23:09,873 : INFO : PROGRESS: at sentence #90000, processed 906895 words, keeping 146634 word types\n",
      "2017-02-11 10:23:09,917 : INFO : PROGRESS: at sentence #100000, processed 1002821 words, keeping 158366 word types\n",
      "2017-02-11 10:23:09,963 : INFO : PROGRESS: at sentence #110000, processed 1103663 words, keeping 170182 word types\n",
      "2017-02-11 10:23:10,015 : INFO : PROGRESS: at sentence #120000, processed 1195050 words, keeping 180481 word types\n",
      "2017-02-11 10:23:10,056 : INFO : PROGRESS: at sentence #130000, processed 1285432 words, keeping 190921 word types\n",
      "2017-02-11 10:23:10,099 : INFO : PROGRESS: at sentence #140000, processed 1376866 words, keeping 200532 word types\n",
      "2017-02-11 10:23:10,144 : INFO : PROGRESS: at sentence #150000, processed 1474032 words, keeping 210517 word types\n",
      "2017-02-11 10:23:10,191 : INFO : PROGRESS: at sentence #160000, processed 1576047 words, keeping 221053 word types\n",
      "2017-02-11 10:23:10,234 : INFO : PROGRESS: at sentence #170000, processed 1670044 words, keeping 230518 word types\n",
      "2017-02-11 10:23:10,285 : INFO : PROGRESS: at sentence #180000, processed 1779374 words, keeping 241337 word types\n",
      "2017-02-11 10:23:10,329 : INFO : PROGRESS: at sentence #190000, processed 1870578 words, keeping 249592 word types\n",
      "2017-02-11 10:23:10,373 : INFO : PROGRESS: at sentence #200000, processed 1960342 words, keeping 259200 word types\n",
      "2017-02-11 10:23:10,418 : INFO : PROGRESS: at sentence #210000, processed 2051895 words, keeping 267875 word types\n",
      "2017-02-11 10:23:10,466 : INFO : PROGRESS: at sentence #220000, processed 2157737 words, keeping 277623 word types\n",
      "2017-02-11 10:23:10,511 : INFO : PROGRESS: at sentence #230000, processed 2250654 words, keeping 286187 word types\n",
      "2017-02-11 10:23:10,528 : INFO : collected 288722 word types from a corpus of 2272383 raw words and 232478 sentences\n",
      "2017-02-11 10:23:10,529 : INFO : Loading a fresh vocabulary\n",
      "2017-02-11 10:23:14,186 : INFO : min_count=1 retains 288722 unique words (100% of original 288722, drops 0)\n",
      "2017-02-11 10:23:14,191 : INFO : min_count=1 leaves 2272383 word corpus (100% of original 2272383, drops 0)\n",
      "2017-02-11 10:23:14,909 : INFO : deleting the raw counts dictionary of 288722 items\n",
      "2017-02-11 10:23:14,915 : INFO : sample=0.001 downsamples 32 most-common words\n",
      "2017-02-11 10:23:14,916 : INFO : downsampling leaves estimated 1953527 word corpus (86.0% of prior 2272383)\n",
      "2017-02-11 10:23:14,917 : INFO : estimated required memory for 288722 words and 300 dimensions: 837293800 bytes\n",
      "2017-02-11 10:23:15,796 : INFO : resetting layer weights\n",
      "2017-02-11 10:23:19,615 : INFO : training model with 40 workers on 288722 vocabulary and 300 features, using sg=0 hs=0 sample=0.001 negative=5 window=10\n",
      "2017-02-11 10:23:19,615 : INFO : expecting 232478 sentences, matching count from corpus used for vocabulary survey\n",
      "2017-02-11 10:23:20,641 : INFO : PROGRESS: at 3.74% examples, 365584 words/s, in_qsize 0, out_qsize 0\n",
      "2017-02-11 10:23:21,710 : INFO : PROGRESS: at 8.16% examples, 398982 words/s, in_qsize 0, out_qsize 0\n",
      "2017-02-11 10:23:22,714 : INFO : PROGRESS: at 11.74% examples, 375317 words/s, in_qsize 0, out_qsize 0\n",
      "2017-02-11 10:23:23,714 : INFO : PROGRESS: at 15.03% examples, 361306 words/s, in_qsize 0, out_qsize 0\n",
      "2017-02-11 10:23:24,762 : INFO : PROGRESS: at 18.01% examples, 343613 words/s, in_qsize 0, out_qsize 0\n",
      "2017-02-11 10:23:25,841 : INFO : PROGRESS: at 21.38% examples, 337151 words/s, in_qsize 0, out_qsize 1\n",
      "2017-02-11 10:23:26,855 : INFO : PROGRESS: at 24.93% examples, 337290 words/s, in_qsize 0, out_qsize 1\n",
      "2017-02-11 10:23:27,875 : INFO : PROGRESS: at 28.17% examples, 335847 words/s, in_qsize 0, out_qsize 0\n",
      "2017-02-11 10:23:28,875 : INFO : PROGRESS: at 31.59% examples, 335013 words/s, in_qsize 0, out_qsize 0\n",
      "2017-02-11 10:23:29,900 : INFO : PROGRESS: at 34.00% examples, 324168 words/s, in_qsize 0, out_qsize 0\n",
      "2017-02-11 10:23:30,921 : INFO : PROGRESS: at 38.04% examples, 329425 words/s, in_qsize 0, out_qsize 0\n",
      "2017-02-11 10:23:31,920 : INFO : PROGRESS: at 42.69% examples, 339386 words/s, in_qsize 0, out_qsize 0\n",
      "2017-02-11 10:23:32,922 : INFO : PROGRESS: at 46.51% examples, 342671 words/s, in_qsize 0, out_qsize 0\n",
      "2017-02-11 10:23:33,953 : INFO : PROGRESS: at 49.06% examples, 335855 words/s, in_qsize 0, out_qsize 0\n",
      "2017-02-11 10:23:34,992 : INFO : PROGRESS: at 53.31% examples, 339528 words/s, in_qsize 0, out_qsize 1\n",
      "2017-02-11 10:23:36,004 : INFO : PROGRESS: at 57.37% examples, 342630 words/s, in_qsize 0, out_qsize 0\n",
      "2017-02-11 10:23:37,011 : INFO : PROGRESS: at 61.12% examples, 344065 words/s, in_qsize 0, out_qsize 1\n",
      "2017-02-11 10:23:38,338 : INFO : PROGRESS: at 64.90% examples, 339324 words/s, in_qsize 0, out_qsize 0\n",
      "2017-02-11 10:23:39,352 : INFO : PROGRESS: at 68.74% examples, 341576 words/s, in_qsize 0, out_qsize 1\n",
      "2017-02-11 10:23:40,350 : INFO : PROGRESS: at 72.60% examples, 342818 words/s, in_qsize 0, out_qsize 0\n",
      "2017-02-11 10:23:41,352 : INFO : PROGRESS: at 76.95% examples, 346348 words/s, in_qsize 0, out_qsize 0\n",
      "2017-02-11 10:23:42,356 : INFO : PROGRESS: at 79.60% examples, 342394 words/s, in_qsize 0, out_qsize 0\n",
      "2017-02-11 10:23:43,692 : INFO : PROGRESS: at 82.55% examples, 335180 words/s, in_qsize 0, out_qsize 1\n",
      "2017-02-11 10:23:44,695 : INFO : PROGRESS: at 86.64% examples, 338118 words/s, in_qsize 0, out_qsize 1\n",
      "2017-02-11 10:23:45,698 : INFO : PROGRESS: at 90.59% examples, 340217 words/s, in_qsize 0, out_qsize 0\n",
      "2017-02-11 10:23:46,733 : INFO : PROGRESS: at 93.96% examples, 338970 words/s, in_qsize 0, out_qsize 0\n",
      "2017-02-11 10:23:47,750 : INFO : PROGRESS: at 98.01% examples, 340441 words/s, in_qsize 0, out_qsize 0\n",
      "2017-02-11 10:23:48,490 : INFO : worker thread finished; awaiting finish of 39 more threads\n",
      "2017-02-11 10:23:48,496 : INFO : worker thread finished; awaiting finish of 38 more threads\n",
      "2017-02-11 10:23:48,501 : INFO : worker thread finished; awaiting finish of 37 more threads\n",
      "2017-02-11 10:23:48,509 : INFO : worker thread finished; awaiting finish of 36 more threads\n",
      "2017-02-11 10:23:48,512 : INFO : worker thread finished; awaiting finish of 35 more threads\n",
      "2017-02-11 10:23:48,521 : INFO : worker thread finished; awaiting finish of 34 more threads\n",
      "2017-02-11 10:23:48,523 : INFO : worker thread finished; awaiting finish of 33 more threads\n",
      "2017-02-11 10:23:48,524 : INFO : worker thread finished; awaiting finish of 32 more threads\n",
      "2017-02-11 10:23:48,525 : INFO : worker thread finished; awaiting finish of 31 more threads\n",
      "2017-02-11 10:23:48,526 : INFO : worker thread finished; awaiting finish of 30 more threads\n",
      "2017-02-11 10:23:48,527 : INFO : worker thread finished; awaiting finish of 29 more threads\n",
      "2017-02-11 10:23:48,528 : INFO : worker thread finished; awaiting finish of 28 more threads\n",
      "2017-02-11 10:23:48,530 : INFO : worker thread finished; awaiting finish of 27 more threads\n",
      "2017-02-11 10:23:48,531 : INFO : worker thread finished; awaiting finish of 26 more threads\n",
      "2017-02-11 10:23:48,533 : INFO : worker thread finished; awaiting finish of 25 more threads\n",
      "2017-02-11 10:23:48,534 : INFO : worker thread finished; awaiting finish of 24 more threads\n",
      "2017-02-11 10:23:48,535 : INFO : worker thread finished; awaiting finish of 23 more threads\n",
      "2017-02-11 10:23:48,536 : INFO : worker thread finished; awaiting finish of 22 more threads\n",
      "2017-02-11 10:23:48,538 : INFO : worker thread finished; awaiting finish of 21 more threads\n",
      "2017-02-11 10:23:48,539 : INFO : worker thread finished; awaiting finish of 20 more threads\n",
      "2017-02-11 10:23:48,540 : INFO : worker thread finished; awaiting finish of 19 more threads\n",
      "2017-02-11 10:23:48,541 : INFO : worker thread finished; awaiting finish of 18 more threads\n",
      "2017-02-11 10:23:48,542 : INFO : worker thread finished; awaiting finish of 17 more threads\n",
      "2017-02-11 10:23:48,543 : INFO : worker thread finished; awaiting finish of 16 more threads\n",
      "2017-02-11 10:23:48,545 : INFO : worker thread finished; awaiting finish of 15 more threads\n",
      "2017-02-11 10:23:48,547 : INFO : worker thread finished; awaiting finish of 14 more threads\n",
      "2017-02-11 10:23:48,548 : INFO : worker thread finished; awaiting finish of 13 more threads\n",
      "2017-02-11 10:23:48,549 : INFO : worker thread finished; awaiting finish of 12 more threads\n",
      "2017-02-11 10:23:48,550 : INFO : worker thread finished; awaiting finish of 11 more threads\n",
      "2017-02-11 10:23:48,551 : INFO : worker thread finished; awaiting finish of 10 more threads\n",
      "2017-02-11 10:23:48,552 : INFO : worker thread finished; awaiting finish of 9 more threads\n",
      "2017-02-11 10:23:48,553 : INFO : worker thread finished; awaiting finish of 8 more threads\n",
      "2017-02-11 10:23:48,553 : INFO : worker thread finished; awaiting finish of 7 more threads\n",
      "2017-02-11 10:23:48,555 : INFO : worker thread finished; awaiting finish of 6 more threads\n",
      "2017-02-11 10:23:48,556 : INFO : worker thread finished; awaiting finish of 5 more threads\n",
      "2017-02-11 10:23:48,557 : INFO : worker thread finished; awaiting finish of 4 more threads\n",
      "2017-02-11 10:23:48,558 : INFO : worker thread finished; awaiting finish of 3 more threads\n",
      "2017-02-11 10:23:48,559 : INFO : worker thread finished; awaiting finish of 2 more threads\n",
      "2017-02-11 10:23:48,560 : INFO : worker thread finished; awaiting finish of 1 more threads\n",
      "2017-02-11 10:23:48,560 : INFO : worker thread finished; awaiting finish of 0 more threads\n",
      "2017-02-11 10:23:48,561 : INFO : training on 11361915 raw words (9768167 effective words) took 28.9s, 337665 effective words/s\n"
     ]
    }
   ],
   "source": [
    "logging.basicConfig(format='%(asctime)s : %(levelname)s : %(message)s', level=logging.INFO)\n",
    "num_features = 300\n",
    "min_word_count = 1   # Minimum word count                        \n",
    "num_workers = 40       # Number of threads to run in parallel\n",
    "context = 10          # Context window size             \n",
    "\n",
    "\n",
    "\n",
    "model = gensim.models.Word2Vec(sentences, workers=num_workers, \\\n",
    "            size=num_features, min_count = min_word_count, window = context)"
   ]
  },
  {
   "cell_type": "code",
   "execution_count": 126,
   "metadata": {
    "collapsed": false
   },
   "outputs": [
    {
     "name": "stderr",
     "output_type": "stream",
     "text": [
      "2017-02-11 10:29:34,668 : INFO : storing 288722x300 projection weights into /home/bahbbc/Documents/personality_1\n"
     ]
    }
   ],
   "source": [
    "model.save_word2vec_format('/home/bahbbc/Documents/personality_1')"
   ]
  },
  {
   "cell_type": "code",
   "execution_count": 128,
   "metadata": {
    "collapsed": false
   },
   "outputs": [
    {
     "name": "stderr",
     "output_type": "stream",
     "text": [
      "2017-02-11 10:30:45,605 : INFO : loading projection weights from /home/bahbbc/Documents/personality_1\n",
      "2017-02-11 10:31:55,784 : INFO : loaded (288722, 300) matrix from /home/bahbbc/Documents/personality_1\n",
      "2017-02-11 10:31:55,920 : INFO : precomputing L2-norms of word weight vectors\n"
     ]
    }
   ],
   "source": [
    "model = gensim.models.Word2Vec.load_word2vec_format('/home/bahbbc/Documents/personality_1', encoding='utf8', unicode_errors='ignore')\n",
    "#model = Word2Vec.load_word2vec_format('/home/bahbbc/Documents/teste-personalidade/personality_1',binary=True)\n",
    "model.init_sims(replace=True)"
   ]
  },
  {
   "cell_type": "code",
   "execution_count": 129,
   "metadata": {
    "collapsed": false
   },
   "outputs": [
    {
     "name": "stdout",
     "output_type": "stream",
     "text": [
      "0.795010825102\n"
     ]
    }
   ],
   "source": [
    "print(model.similarity('hj', 'hoje'))"
   ]
  },
  {
   "cell_type": "code",
   "execution_count": 130,
   "metadata": {
    "collapsed": false
   },
   "outputs": [
    {
     "name": "stdout",
     "output_type": "stream",
     "text": [
      "[(u'Kkkk', 0.9849202036857605), (u'kkkkkkk', 0.9845240712165833), (u'kkkkkkkkkkk', 0.9772379994392395), (u'Jjunior', 0.9771767854690552), (u'Haha', 0.9730066061019897), (u'rsrs', 0.9728843569755554), (u\"'-'\", 0.9726685285568237), (u'Hahaha', 0.9725379347801208), (u'hahahaha', 0.9711992144584656), (u'Hahahaha', 0.970038652420044)]\n"
     ]
    }
   ],
   "source": [
    "print(model.most_similar(positive=['rsrsrs', 'kkk']))"
   ]
  },
  {
   "cell_type": "code",
   "execution_count": 131,
   "metadata": {
    "collapsed": false
   },
   "outputs": [
    {
     "name": "stdout",
     "output_type": "stream",
     "text": [
      "[(u'=D', 0.9786161184310913), (u':D\"', 0.976527214050293), (u'!!!\"', 0.9754124879837036), (u'Eita', 0.9738964438438416), (u'=]', 0.970553994178772), (u'Sensacional', 0.969518780708313), (u':-)', 0.9676362872123718), (u'*---*', 0.9671157002449036), (u'o/', 0.9669623374938965), (u';D', 0.9659327864646912)]\n"
     ]
    }
   ],
   "source": [
    "print(model.most_similar(positive=['=O', ':D']))"
   ]
  },
  {
   "cell_type": "code",
   "execution_count": 132,
   "metadata": {
    "collapsed": false
   },
   "outputs": [
    {
     "name": "stdout",
     "output_type": "stream",
     "text": [
      "[(u'calor', 0.9516724944114685), (u'velho', 0.9493818879127502), (u'pequeno,', 0.9419275522232056), (u'vizinho', 0.9365609884262085), (u'filme', 0.933375895023346), (u'menino', 0.9309628009796143), (u'beb\\xea', 0.9300663471221924), (u'tranquilo', 0.9289721250534058), (u'show,', 0.9260529279708862), (u'filhote', 0.9259493947029114)]\n"
     ]
    }
   ],
   "source": [
    "print(model.most_similar(positive=['gato', 'cachorro']))"
   ]
  },
  {
   "cell_type": "markdown",
   "metadata": {},
   "source": [
    "### Verify model with personality"
   ]
  },
  {
   "cell_type": "code",
   "execution_count": 97,
   "metadata": {
    "collapsed": false
   },
   "outputs": [
    {
     "data": {
      "text/plain": [
       "2       0\n",
       "3       1\n",
       "6       1\n",
       "7       1\n",
       "12      0\n",
       "13      1\n",
       "16      1\n",
       "17      1\n",
       "18      1\n",
       "19      0\n",
       "21      1\n",
       "26      1\n",
       "28      0\n",
       "32      1\n",
       "34      1\n",
       "35      0\n",
       "37      1\n",
       "39      1\n",
       "41      1\n",
       "42      1\n",
       "43      1\n",
       "44      1\n",
       "45      0\n",
       "46      1\n",
       "47      0\n",
       "48      1\n",
       "49      0\n",
       "50      1\n",
       "52      0\n",
       "53      1\n",
       "       ..\n",
       "1007    0\n",
       "1008    1\n",
       "1009    1\n",
       "1010    0\n",
       "1011    0\n",
       "1012    0\n",
       "1014    0\n",
       "1015    0\n",
       "1016    0\n",
       "1017    0\n",
       "1018    1\n",
       "1019    1\n",
       "1020    1\n",
       "1022    0\n",
       "1024    0\n",
       "1025    1\n",
       "1027    1\n",
       "1040    0\n",
       "1044    0\n",
       "1045    1\n",
       "1046    0\n",
       "1047    1\n",
       "1049    1\n",
       "1050    0\n",
       "1051    1\n",
       "1052    1\n",
       "1055    0\n",
       "1056    1\n",
       "1060    0\n",
       "1061    0\n",
       "Name: extraversion_m, dtype: int64"
      ]
     },
     "execution_count": 97,
     "metadata": {},
     "output_type": "execute_result"
    }
   ],
   "source": [
    "df = pd.read_csv('~/personality-normalized-word2vec.csv', encoding='utf_8')\n",
    "df = df.dropna()\n",
    "df['extraversion_m']"
   ]
  },
  {
   "cell_type": "code",
   "execution_count": 133,
   "metadata": {
    "collapsed": false
   },
   "outputs": [
    {
     "data": {
      "text/plain": [
       "0    225\n",
       "1    202\n",
       "Name: extraversion_m, dtype: int64"
      ]
     },
     "execution_count": 133,
     "metadata": {},
     "output_type": "execute_result"
    }
   ],
   "source": [
    "df.extraversion_m.value_counts()"
   ]
  },
  {
   "cell_type": "code",
   "execution_count": 134,
   "metadata": {
    "collapsed": true
   },
   "outputs": [],
   "source": [
    "train_data, test_data = train_test_split(df, test_size=0.3, random_state=42)"
   ]
  },
  {
   "cell_type": "markdown",
   "metadata": {},
   "source": [
    "### Evaluation code"
   ]
  },
  {
   "cell_type": "code",
   "execution_count": 99,
   "metadata": {
    "collapsed": false
   },
   "outputs": [],
   "source": [
    "def plot_confusion_matrix(cm, title='Confusion matrix', cmap=plt.cm.Blues):\n",
    "    plt.imshow(cm, interpolation='nearest', cmap=cmap)\n",
    "    plt.title(title)\n",
    "    plt.colorbar()\n",
    "    tick_marks = np.arange(2)\n",
    "    target_names = ['no', 'yes']\n",
    "    plt.xticks(tick_marks, target_names, rotation=45)\n",
    "    plt.yticks(tick_marks, target_names)\n",
    "    plt.tight_layout()\n",
    "    plt.ylabel('True label')\n",
    "    plt.xlabel('Predicted label')"
   ]
  },
  {
   "cell_type": "code",
   "execution_count": 100,
   "metadata": {
    "collapsed": true
   },
   "outputs": [],
   "source": [
    "def evaluate_prediction(predictions, target, title=\"Confusion matrix\"):\n",
    "    print('accuracy %s' % accuracy_score(target, predictions))\n",
    "    cm = confusion_matrix(target, predictions)\n",
    "    print('confusion matrix\\n %s' % cm)\n",
    "    print('(row=expected, col=predicted)')\n",
    "    \n",
    "    cm_normalized = cm.astype('float') / cm.sum(axis=1)[:, np.newaxis]\n",
    "    plot_confusion_matrix(cm_normalized, title + ' Normalized')"
   ]
  },
  {
   "cell_type": "code",
   "execution_count": 113,
   "metadata": {
    "collapsed": true
   },
   "outputs": [],
   "source": [
    "def predict(vectorizer, classifier, data):\n",
    "    data_features = vectorizer.transform(data['formatted_text'])\n",
    "    predictions = classifier.predict(data_features)\n",
    "    target = data['extraversion_m']\n",
    "    evaluate_prediction(predictions, target)"
   ]
  },
  {
   "cell_type": "code",
   "execution_count": 135,
   "metadata": {
    "collapsed": false
   },
   "outputs": [
    {
     "data": {
      "text/plain": [
       "1049        vontade de ficar aqui embaixo pra sempre.....\n",
       "102          mas meu coração te ama... 🎶 ❤  ah, drummo...\n",
       "334        levando meus pupilos p dar uma voltinha!  a...\n",
       "54           corinthians x ponte preta te amo minha li...\n",
       "948          tchau, meu pai chegou  gente... <  we are...\n",
       "780         enquanto a cor da pele for mais importante...\n",
       "240        saudades sempre linda  e aí beleza queremos...\n",
       "219         dia de reunião 😊  alguns de vocês que me c...\n",
       "295          excelente trailer, irei ao cinema com alt...\n",
       "325         #somostodosgabriel nem parece que um tenta...\n",
       "1020        :/  rafael rocha, marcel vinicius  rafael ...\n",
       "96           como não amar? kkkkkkkkkkkkkkkk !!! viver...\n",
       "378          sei que ele é extremista, só que do jeito...\n",
       "1045        rainha do meu ♡ amanda silveira henrique k...\n",
       "64           suez canal... i would never have guessed ...\n",
       "174         aceito encomendas =) aceito encomendas =) ...\n",
       "938         tarde produtiva! =d \\o/ estou participando...\n",
       "98           marcos aurélio 😤  💟💖 renovando as energia...\n",
       "19           agora é so espera semana que vem pra sabe...\n",
       "1012       que lindoooo *--* um pouquinho sobre mim :)...\n",
       "855         começando bem a semana: minha startup apro...\n",
       "457         ate na garota nacional tem sucupira....  m...\n",
       "974          metropolitan hotel, uma empresa com progr...\n",
       "81            aquele momento que você fala com o pesso...\n",
       "172         como se fosse ontem playng to win 😳  vende...\n",
       "375        assustador... mas é a verdade... :/ lindos!...\n",
       "181         adooro! 🙌😍💗🎤🎶 😉😉 uhu💚#vaipalmeiras  sábado...\n",
       "990          requiem aeternam dona eis, domine.   pena...\n",
       "830         日本語は文学部の最高の専攻だよ! 💜🌸  this is halloween, ha...\n",
       "965         que tal? kkkkkkkkkkk nada mal.. kkkkkkkkkk...\n",
       "                              ...                        \n",
       "71            ewerton, emmanuel, paulo e laan  kkkkkk ...\n",
       "858         #devfestsp   #devfestsp   show do vespas m...\n",
       "914         sinceridade... :-p já faz um mês?!?! então...\n",
       "966          quem dera que as pessoas que amamos fosse...\n",
       "744         obrigada a todos pelo carinho!  robson aki...\n",
       "37           lindossomos  não vou entrar no mérito de ...\n",
       "1002       ❤ casamento do bruno. matando a saudade. eu...\n",
       "163          #partiu #mauythai kkkkkkkk  desculpa ai, ...\n",
       "875            queeeeebra ele, queeeeebra !    https:/...\n",
       "7            bota mais um na conta e mais    na histor...\n",
       "41           skyeast!!!! eu adoro os textos dessa mulh...\n",
       "908             um feliz dia internacional da mulher p...\n",
       "86            depois de tanto esperar, com muito orgul...\n",
       "954         #teambat só digo uma coisa a mulher maravi...\n",
       "631           ae galera, a avianca está lançando seu p...\n",
       "89            pra natália sierpinski  principalmente e...\n",
       "139          sony decepcionando nos jogos gratuitos ne...\n",
       "1060        jovem padawan não é mais tão jovem ❤️  sob...\n",
       "385        eitaaa.... atenção rede... rs... bora fazer...\n",
       "53            genteeeee!!! minha amiga karla nasser ❤️...\n",
       "896         temos uma vida inteira pela frente ❤️   an...\n",
       "409         rodada hacker com as minas. primeira parte...\n",
       "427        marina hahahah que acham?  juízo, é você? c...\n",
       "49           falta carinho no mundo. se você vê sorris...\n",
       "17           amigos do ismênia de jesus.  aos que não ...\n",
       "1014         =)    eba =)     virada científica na usp...\n",
       "677        e até converso com elas :o austrália sz  ma...\n",
       "137             eu só posso falar: o macaco que tinha ...\n",
       "129          agora é monitor johnny ! 😂😂😂😂 primeiro lu...\n",
       "930        . foi um grande ano! obrigado por fazer par...\n",
       "Name: formatted_text, dtype: object"
      ]
     },
     "execution_count": 135,
     "metadata": {},
     "output_type": "execute_result"
    }
   ],
   "source": [
    "test_data['formatted_text']"
   ]
  },
  {
   "cell_type": "markdown",
   "metadata": {},
   "source": [
    "### Word2Vec model training"
   ]
  },
  {
   "cell_type": "code",
   "execution_count": 102,
   "metadata": {
    "collapsed": true
   },
   "outputs": [],
   "source": [
    "def word_averaging(wv, words):\n",
    "    all_words, mean = set(), []\n",
    "    \n",
    "    for word in words:\n",
    "        if isinstance(word, np.ndarray):\n",
    "            mean.append(word)\n",
    "        elif word in wv.wv.vocab:\n",
    "            mean.append(wv.wv.syn0norm[wv.wv.vocab[word].index])\n",
    "            all_words.add(wv.wv.vocab[word].index)\n",
    "\n",
    "    if not mean:\n",
    "        logging.warning(\"cannot compute similarity with no input %s\", words)\n",
    "        # FIXME: remove these examples in pre-processing\n",
    "        return np.zeros(num_features,)\n",
    "\n",
    "    mean = gensim.matutils.unitvec(np.array(mean).mean(axis=0)).astype(np.float32)\n",
    "    return mean\n",
    "\n",
    "def  word_averaging_list(wv, text_list):\n",
    "    return np.vstack([word_averaging(wv, review) for review in text_list ])"
   ]
  },
  {
   "cell_type": "code",
   "execution_count": 186,
   "metadata": {
    "collapsed": true
   },
   "outputs": [],
   "source": [
    "\n",
    "def w2v_tokenize_text(text):\n",
    "    tokens = []\n",
    "    for sent in nltk.sent_tokenize(text, language='english'):\n",
    "        for word in nltk.word_tokenize(sent, language='english'):\n",
    "            if len(word) < 2:\n",
    "                continue\n",
    "            tokens.append(word)\n",
    "    return tokens"
   ]
  },
  {
   "cell_type": "code",
   "execution_count": 187,
   "metadata": {
    "collapsed": true
   },
   "outputs": [],
   "source": [
    "test_tokenized = test_data.apply(lambda r: w2v_tokenize_text(r['formatted_text']), axis=1).values\n",
    "train_tokenized = train_data.apply(lambda r: w2v_tokenize_text(r['formatted_text']), axis=1).values"
   ]
  },
  {
   "cell_type": "code",
   "execution_count": 137,
   "metadata": {
    "collapsed": false
   },
   "outputs": [
    {
     "name": "stderr",
     "output_type": "stream",
     "text": [
      "2017-02-11 10:33:16,184 : WARNING : cannot compute similarity with no input []\n",
      "2017-02-11 10:33:16,623 : WARNING : cannot compute similarity with no input []\n",
      "2017-02-11 10:33:16,686 : WARNING : cannot compute similarity with no input []\n"
     ]
    },
    {
     "name": "stdout",
     "output_type": "stream",
     "text": [
      "CPU times: user 1.95 s, sys: 16.2 ms, total: 1.96 s\n",
      "Wall time: 2.07 s\n"
     ]
    }
   ],
   "source": [
    "%%time\n",
    "X_train_word_average = word_averaging_list(model,train_tokenized)\n",
    "X_test_word_average = word_averaging_list(model,test_tokenized)"
   ]
  },
  {
   "cell_type": "code",
   "execution_count": 138,
   "metadata": {
    "collapsed": false
   },
   "outputs": [
    {
     "name": "stdout",
     "output_type": "stream",
     "text": [
      "CPU times: user 259 ms, sys: 16 µs, total: 259 ms\n",
      "Wall time: 259 ms\n"
     ]
    }
   ],
   "source": [
    "%%time\n",
    "logreg = linear_model.LogisticRegression(n_jobs=1, C=1e5)\n",
    "\n",
    "logreg = logreg.fit(X_train_word_average, train_data['extraversion_m'])\n",
    "predicted = logreg.predict(X_test_word_average)"
   ]
  },
  {
   "cell_type": "code",
   "execution_count": 139,
   "metadata": {
    "collapsed": false
   },
   "outputs": [
    {
     "name": "stdout",
     "output_type": "stream",
     "text": [
      "accuracy 0.581395348837\n",
      "confusion matrix\n",
      " [[34 35]\n",
      " [19 41]]\n",
      "(row=expected, col=predicted)\n"
     ]
    },
    {
     "data": {
      "image/png": "[encoded data removed]",
      "text/plain": [
       "<matplotlib.figure.Figure at 0x7f916b9a7350>"
      ]
     },
     "metadata": {},
     "output_type": "display_data"
    }
   ],
   "source": [
    "evaluate_prediction(predicted, test_data.extraversion_m)"
   ]
  },
  {
   "cell_type": "markdown",
   "metadata": {},
   "source": [
    "## Remove stop words"
   ]
  },
  {
   "cell_type": "code",
   "execution_count": 153,
   "metadata": {
    "collapsed": false
   },
   "outputs": [
    {
     "name": "stdout",
     "output_type": "stream",
     "text": [
      "NLTK Downloader\n",
      "---------------------------------------------------------------------------\n",
      "    d) Download   l) List    u) Update   c) Config   h) Help   q) Quit\n",
      "---------------------------------------------------------------------------\n",
      "Downloader> l\n",
      "\n",
      "Packages:\n",
      "  [ ] abc................. Australian Broadcasting Commission 2006\n",
      "  [ ] alpino.............. Alpino Dutch Treebank\n",
      "  [ ] averaged_perceptron_tagger Averaged Perceptron Tagger\n",
      "  [ ] averaged_perceptron_tagger_ru Averaged Perceptron Tagger (Russian)\n",
      "  [ ] basque_grammars..... Grammars for Basque\n",
      "  [ ] biocreative_ppi..... BioCreAtIvE (Critical Assessment of Information\n",
      "                           Extraction Systems in Biology)\n",
      "  [ ] bllip_wsj_no_aux.... BLLIP Parser: WSJ Model\n",
      "  [ ] book_grammars....... Grammars from NLTK Book\n",
      "  [ ] brown............... Brown Corpus\n",
      "  [ ] brown_tei........... Brown Corpus (TEI XML Version)\n",
      "  [ ] cess_cat............ CESS-CAT Treebank\n",
      "  [ ] cess_esp............ CESS-ESP Treebank\n",
      "  [ ] chat80.............. Chat-80 Data Files\n",
      "  [ ] city_database....... City Database\n",
      "  [ ] cmudict............. The Carnegie Mellon Pronouncing Dictionary (0.6)\n",
      "  [ ] comparative_sentences Comparative Sentence Dataset\n",
      "  [ ] comtrans............ ComTrans Corpus Sample\n",
      "  [ ] conll2000........... CONLL 2000 Chunking Corpus\n",
      "  [ ] conll2002........... CONLL 2002 Named Entity Recognition Corpus\n",
      "Hit Enter to continue: \n",
      "  [ ] conll2007........... Dependency Treebanks from CoNLL 2007 (Catalan\n",
      "                           and Basque Subset)\n",
      "  [ ] crubadan............ Crubadan Corpus\n",
      "  [ ] dependency_treebank. Dependency Parsed Treebank\n",
      "  [ ] europarl_raw........ Sample European Parliament Proceedings Parallel\n",
      "                           Corpus\n",
      "  [ ] floresta............ Portuguese Treebank\n",
      "  [ ] framenet_v15........ FrameNet 1.5\n",
      "  [ ] framenet_v17........ FrameNet 1.7\n",
      "  [ ] gazetteers.......... Gazeteer Lists\n",
      "  [ ] genesis............. Genesis Corpus\n",
      "  [ ] gutenberg........... Project Gutenberg Selections\n",
      "  [ ] hmm_treebank_pos_tagger Treebank Part of Speech Tagger (HMM)\n",
      "  [ ] ieer................ NIST IE-ER DATA SAMPLE\n",
      "  [ ] inaugural........... C-Span Inaugural Address Corpus\n",
      "  [ ] indian.............. Indian Language POS-Tagged Corpus\n",
      "  [ ] jeita............... JEITA Public Morphologically Tagged Corpus (in\n",
      "                           ChaSen format)\n",
      "  [ ] kimmo............... PC-KIMMO Data Files\n",
      "  [ ] knbc................ KNB Corpus (Annotated blog corpus)\n",
      "  [ ] large_grammars...... Large context-free and feature-based grammars\n",
      "                           for parser comparison\n",
      "Hit Enter to continue: \n",
      "  [ ] lin_thesaurus....... Lin's Dependency Thesaurus\n",
      "  [ ] mac_morpho.......... MAC-MORPHO: Brazilian Portuguese news text with\n",
      "                           part-of-speech tags\n",
      "  [ ] machado............. Machado de Assis -- Obra Completa\n",
      "  [ ] masc_tagged......... MASC Tagged Corpus\n",
      "  [ ] maxent_ne_chunker... ACE Named Entity Chunker (Maximum entropy)\n",
      "  [ ] maxent_treebank_pos_tagger Treebank Part of Speech Tagger (Maximum entropy)\n",
      "  [ ] moses_sample........ Moses Sample Models\n",
      "  [ ] movie_reviews....... Sentiment Polarity Dataset Version 2.0\n",
      "  [ ] mte_teip5........... MULTEXT-East 1984 annotated corpus 4.0\n",
      "  [ ] mwa_ppdb............ The monolingual word aligner (Sultan et al.\n",
      "                           2015) subset of the Paraphrase Database.\n",
      "  [ ] names............... Names Corpus, Version 1.3 (1994-03-29)\n",
      "  [ ] nombank.1.0......... NomBank Corpus 1.0\n",
      "  [ ] nonbreaking_prefixes Non-Breaking Prefixes (Moses Decoder)\n",
      "  [ ] nps_chat............ NPS Chat\n",
      "  [ ] omw................. Open Multilingual Wordnet\n",
      "  [ ] opinion_lexicon..... Opinion Lexicon\n",
      "  [ ] panlex_lite......... PanLex Lite Corpus\n",
      "  [ ] panlex_swadesh...... PanLex Swadesh Corpora\n",
      "  [ ] paradigms........... Paradigm Corpus\n",
      "Hit Enter to continue: \n",
      "  [ ] pe08................ Cross-Framework and Cross-Domain Parser\n",
      "                           Evaluation Shared Task\n",
      "  [ ] perluniprops........ perluniprops: Index of Unicode Version 7.0.0\n",
      "                           character properties in Perl\n",
      "  [ ] pil................. The Patient Information Leaflet (PIL) Corpus\n",
      "  [ ] pl196x.............. Polish language of the XX century sixties\n",
      "  [ ] porter_test......... Porter Stemmer Test Files\n",
      "  [ ] ppattach............ Prepositional Phrase Attachment Corpus\n",
      "  [ ] problem_reports..... Problem Report Corpus\n",
      "  [ ] product_reviews_1... Product Reviews (5 Products)\n",
      "  [ ] product_reviews_2... Product Reviews (9 Products)\n",
      "  [ ] propbank............ Proposition Bank Corpus 1.0\n",
      "  [ ] pros_cons........... Pros and Cons\n",
      "  [ ] ptb................. Penn Treebank\n",
      "  [*] punkt............... Punkt Tokenizer Models\n",
      "  [ ] qc.................. Experimental Data for Question Classification\n",
      "  [ ] reuters............. The Reuters-21578 benchmark corpus, ApteMod\n",
      "                           version\n",
      "  [ ] rslp................ RSLP Stemmer (Removedor de Sufixos da Lingua\n",
      "                           Portuguesa)\n",
      "  [ ] rte................. PASCAL RTE Challenges 1, 2, and 3\n",
      "Hit Enter to continue: \n",
      "  [ ] sample_grammars..... Sample Grammars\n",
      "  [ ] semcor.............. SemCor 3.0\n",
      "  [ ] senseval............ SENSEVAL 2 Corpus: Sense Tagged Text\n",
      "  [ ] sentence_polarity... Sentence Polarity Dataset v1.0\n",
      "  [ ] sentiwordnet........ SentiWordNet\n",
      "  [ ] shakespeare......... Shakespeare XML Corpus Sample\n",
      "  [ ] sinica_treebank..... Sinica Treebank Corpus Sample\n",
      "  [ ] smultron............ SMULTRON Corpus Sample\n",
      "  [ ] snowball_data....... Snowball Data\n",
      "  [ ] spanish_grammars.... Grammars for Spanish\n",
      "  [ ] state_union......... C-Span State of the Union Address Corpus\n",
      "  [ ] stopwords........... Stopwords Corpus\n",
      "  [ ] subjectivity........ Subjectivity Dataset v1.0\n",
      "  [ ] swadesh............. Swadesh Wordlists\n",
      "  [ ] switchboard......... Switchboard Corpus Sample\n",
      "  [ ] tagsets............. Help on Tagsets\n",
      "  [ ] timit............... TIMIT Corpus Sample\n",
      "  [ ] toolbox............. Toolbox Sample Files\n",
      "  [ ] treebank............ Penn Treebank Sample\n",
      "  [ ] twitter_samples..... Twitter Samples\n",
      "  [ ] udhr2............... Universal Declaration of Human Rights Corpus\n",
      "                           (Unicode Version)\n",
      "Hit Enter to continue: \n",
      "  [ ] udhr................ Universal Declaration of Human Rights Corpus\n",
      "  [ ] unicode_samples..... Unicode Samples\n",
      "  [ ] universal_tagset.... Mappings to the Universal Part-of-Speech Tagset\n",
      "  [ ] universal_treebanks_v20 Universal Treebanks Version 2.0\n",
      "  [ ] vader_lexicon....... VADER Sentiment Lexicon\n",
      "  [ ] verbnet............. VerbNet Lexicon, Version 2.1\n",
      "  [ ] webtext............. Web Text Corpus\n",
      "  [ ] wmt15_eval.......... Evaluation data from WMT15\n",
      "  [ ] word2vec_sample..... Word2Vec Sample\n",
      "  [ ] wordnet............. WordNet\n",
      "  [ ] wordnet_ic.......... WordNet-InfoContent\n",
      "  [ ] words............... Word Lists\n",
      "  [ ] ycoe................ York-Toronto-Helsinki Parsed Corpus of Old\n",
      "                           English Prose\n",
      "\n",
      "Collections:\n",
      "  [ ] all-corpora......... All the corpora\n",
      "  [P] all................. All packages\n",
      "  [P] book................ Everything used in the NLTK Book\n",
      "\n",
      "([*] marks installed packages; [P] marks partially installed collections)\n",
      "\n",
      "---------------------------------------------------------------------------\n",
      "    d) Download   l) List    u) Update   c) Config   h) Help   q) Quit\n",
      "---------------------------------------------------------------------------\n",
      "Downloader> d\n",
      "\n",
      "Download which package (l=list; x=cancel)?\n",
      "  Identifier> \n",
      "\n",
      "---------------------------------------------------------------------------\n",
      "    d) Download   l) List    u) Update   c) Config   h) Help   q) Quit\n",
      "---------------------------------------------------------------------------\n",
      "Downloader> d\n",
      "\n",
      "Download which package (l=list; x=cancel)?\n",
      "  Identifier> l\n",
      "Packages:\n",
      "  [ ] abc................. Australian Broadcasting Commission 2006\n",
      "  [ ] alpino.............. Alpino Dutch Treebank\n",
      "  [ ] averaged_perceptron_tagger Averaged Perceptron Tagger\n",
      "  [ ] averaged_perceptron_tagger_ru Averaged Perceptron Tagger (Russian)\n",
      "  [ ] basque_grammars..... Grammars for Basque\n",
      "  [ ] biocreative_ppi..... BioCreAtIvE (Critical Assessment of Information\n",
      "                           Extraction Systems in Biology)\n",
      "  [ ] bllip_wsj_no_aux.... BLLIP Parser: WSJ Model\n",
      "  [ ] book_grammars....... Grammars from NLTK Book\n",
      "  [ ] brown............... Brown Corpus\n",
      "  [ ] brown_tei........... Brown Corpus (TEI XML Version)\n",
      "  [ ] cess_cat............ CESS-CAT Treebank\n",
      "  [ ] cess_esp............ CESS-ESP Treebank\n",
      "  [ ] chat80.............. Chat-80 Data Files\n",
      "  [ ] city_database....... City Database\n",
      "  [ ] cmudict............. The Carnegie Mellon Pronouncing Dictionary (0.6)\n",
      "  [ ] comparative_sentences Comparative Sentence Dataset\n",
      "  [ ] comtrans............ ComTrans Corpus Sample\n",
      "  [ ] conll2000........... CONLL 2000 Chunking Corpus\n",
      "  [ ] conll2002........... CONLL 2002 Named Entity Recognition Corpus\n",
      "Hit Enter to continue: \n",
      "  [ ] conll2007........... Dependency Treebanks from CoNLL 2007 (Catalan\n",
      "                           and Basque Subset)\n",
      "  [ ] crubadan............ Crubadan Corpus\n",
      "  [ ] dependency_treebank. Dependency Parsed Treebank\n",
      "  [ ] europarl_raw........ Sample European Parliament Proceedings Parallel\n",
      "                           Corpus\n",
      "  [ ] floresta............ Portuguese Treebank\n",
      "  [ ] framenet_v15........ FrameNet 1.5\n",
      "  [ ] framenet_v17........ FrameNet 1.7\n",
      "  [ ] gazetteers.......... Gazeteer Lists\n",
      "  [ ] genesis............. Genesis Corpus\n",
      "  [ ] gutenberg........... Project Gutenberg Selections\n",
      "  [ ] hmm_treebank_pos_tagger Treebank Part of Speech Tagger (HMM)\n",
      "  [ ] ieer................ NIST IE-ER DATA SAMPLE\n",
      "  [ ] inaugural........... C-Span Inaugural Address Corpus\n",
      "  [ ] indian.............. Indian Language POS-Tagged Corpus\n",
      "  [ ] jeita............... JEITA Public Morphologically Tagged Corpus (in\n",
      "                           ChaSen format)\n",
      "  [ ] kimmo............... PC-KIMMO Data Files\n",
      "  [ ] knbc................ KNB Corpus (Annotated blog corpus)\n",
      "  [ ] large_grammars...... Large context-free and feature-based grammars\n",
      "                           for parser comparison\n",
      "Hit Enter to continue: \n",
      "  [ ] lin_thesaurus....... Lin's Dependency Thesaurus\n",
      "  [ ] mac_morpho.......... MAC-MORPHO: Brazilian Portuguese news text with\n",
      "                           part-of-speech tags\n",
      "  [ ] machado............. Machado de Assis -- Obra Completa\n",
      "  [ ] masc_tagged......... MASC Tagged Corpus\n",
      "  [ ] maxent_ne_chunker... ACE Named Entity Chunker (Maximum entropy)\n",
      "  [ ] maxent_treebank_pos_tagger Treebank Part of Speech Tagger (Maximum entropy)\n",
      "  [ ] moses_sample........ Moses Sample Models\n",
      "  [ ] movie_reviews....... Sentiment Polarity Dataset Version 2.0\n",
      "  [ ] mte_teip5........... MULTEXT-East 1984 annotated corpus 4.0\n",
      "  [ ] mwa_ppdb............ The monolingual word aligner (Sultan et al.\n",
      "                           2015) subset of the Paraphrase Database.\n",
      "  [ ] names............... Names Corpus, Version 1.3 (1994-03-29)\n",
      "  [ ] nombank.1.0......... NomBank Corpus 1.0\n",
      "  [ ] nonbreaking_prefixes Non-Breaking Prefixes (Moses Decoder)\n",
      "  [ ] nps_chat............ NPS Chat\n",
      "  [ ] omw................. Open Multilingual Wordnet\n",
      "  [ ] opinion_lexicon..... Opinion Lexicon\n",
      "  [ ] panlex_lite......... PanLex Lite Corpus\n",
      "  [ ] panlex_swadesh...... PanLex Swadesh Corpora\n",
      "  [ ] paradigms........... Paradigm Corpus\n",
      "Hit Enter to continue: \n",
      "  [ ] pe08................ Cross-Framework and Cross-Domain Parser\n",
      "                           Evaluation Shared Task\n",
      "  [ ] perluniprops........ perluniprops: Index of Unicode Version 7.0.0\n",
      "                           character properties in Perl\n",
      "  [ ] pil................. The Patient Information Leaflet (PIL) Corpus\n",
      "  [ ] pl196x.............. Polish language of the XX century sixties\n",
      "  [ ] porter_test......... Porter Stemmer Test Files\n",
      "  [ ] ppattach............ Prepositional Phrase Attachment Corpus\n",
      "  [ ] problem_reports..... Problem Report Corpus\n",
      "  [ ] product_reviews_1... Product Reviews (5 Products)\n",
      "  [ ] product_reviews_2... Product Reviews (9 Products)\n",
      "  [ ] propbank............ Proposition Bank Corpus 1.0\n",
      "  [ ] pros_cons........... Pros and Cons\n",
      "  [ ] ptb................. Penn Treebank\n",
      "  [ ] qc.................. Experimental Data for Question Classification\n",
      "  [ ] reuters............. The Reuters-21578 benchmark corpus, ApteMod\n",
      "                           version\n",
      "  [ ] rslp................ RSLP Stemmer (Removedor de Sufixos da Lingua\n",
      "                           Portuguesa)\n",
      "  [ ] rte................. PASCAL RTE Challenges 1, 2, and 3\n",
      "  [ ] sample_grammars..... Sample Grammars\n",
      "Hit Enter to continue: \n",
      "  [ ] semcor.............. SemCor 3.0\n",
      "  [ ] senseval............ SENSEVAL 2 Corpus: Sense Tagged Text\n",
      "  [ ] sentence_polarity... Sentence Polarity Dataset v1.0\n",
      "  [ ] sentiwordnet........ SentiWordNet\n",
      "  [ ] shakespeare......... Shakespeare XML Corpus Sample\n",
      "  [ ] sinica_treebank..... Sinica Treebank Corpus Sample\n",
      "  [ ] smultron............ SMULTRON Corpus Sample\n",
      "  [ ] snowball_data....... Snowball Data\n",
      "  [ ] spanish_grammars.... Grammars for Spanish\n",
      "  [ ] state_union......... C-Span State of the Union Address Corpus\n",
      "  [ ] stopwords........... Stopwords Corpus\n",
      "  [ ] subjectivity........ Subjectivity Dataset v1.0\n",
      "  [ ] swadesh............. Swadesh Wordlists\n",
      "  [ ] switchboard......... Switchboard Corpus Sample\n",
      "  [ ] tagsets............. Help on Tagsets\n",
      "  [ ] timit............... TIMIT Corpus Sample\n",
      "  [ ] toolbox............. Toolbox Sample Files\n",
      "  [ ] treebank............ Penn Treebank Sample\n",
      "  [ ] twitter_samples..... Twitter Samples\n",
      "  [ ] udhr2............... Universal Declaration of Human Rights Corpus\n",
      "                           (Unicode Version)\n",
      "Hit Enter to continue: stopwords\n",
      "  [ ] udhr................ Universal Declaration of Human Rights Corpus\n",
      "  [ ] unicode_samples..... Unicode Samples\n",
      "  [ ] universal_tagset.... Mappings to the Universal Part-of-Speech Tagset\n",
      "  [ ] universal_treebanks_v20 Universal Treebanks Version 2.0\n",
      "  [ ] vader_lexicon....... VADER Sentiment Lexicon\n",
      "  [ ] verbnet............. VerbNet Lexicon, Version 2.1\n",
      "  [ ] webtext............. Web Text Corpus\n",
      "  [ ] wmt15_eval.......... Evaluation data from WMT15\n",
      "  [ ] word2vec_sample..... Word2Vec Sample\n",
      "  [ ] wordnet............. WordNet\n",
      "  [ ] wordnet_ic.......... WordNet-InfoContent\n",
      "  [ ] words............... Word Lists\n",
      "  [ ] ycoe................ York-Toronto-Helsinki Parsed Corpus of Old\n",
      "                           English Prose\n",
      "\n",
      "Collections:\n",
      "  [ ] all-corpora......... All the corpora\n",
      "  [P] all................. All packages\n",
      "  [P] book................ Everything used in the NLTK Book\n",
      "\n",
      "([*] marks installed packages; [P] marks partially installed collections)\n",
      "\n",
      "Download which package (l=list; x=cancel)?\n",
      "  Identifier> stopwords\n",
      "    Downloading package stopwords to /home/bahbbc/nltk_data...\n",
      "      Unzipping corpora/stopwords.zip.\n",
      "\n",
      "---------------------------------------------------------------------------\n",
      "    d) Download   l) List    u) Update   c) Config   h) Help   q) Quit\n",
      "---------------------------------------------------------------------------\n",
      "Downloader> q\n"
     ]
    },
    {
     "data": {
      "text/plain": [
       "True"
      ]
     },
     "execution_count": 153,
     "metadata": {},
     "output_type": "execute_result"
    }
   ],
   "source": [
    "nltk.download()"
   ]
  },
  {
   "cell_type": "code",
   "execution_count": 156,
   "metadata": {
    "collapsed": true
   },
   "outputs": [],
   "source": [
    "\n",
    "def w2v_tokenize_text(text):\n",
    "    tokens = []\n",
    "    for sent in nltk.sent_tokenize(text, language='portuguese'):\n",
    "        for word in nltk.word_tokenize(sent, language='portuguese'):\n",
    "            if len(word) < 2:\n",
    "                continue\n",
    "            if word in stopwords.words('portuguese'):\n",
    "                continue\n",
    "            tokens.append(word)\n",
    "    return tokens"
   ]
  },
  {
   "cell_type": "code",
   "execution_count": 159,
   "metadata": {
    "collapsed": false
   },
   "outputs": [],
   "source": [
    "test_tokenized = test_data.apply(lambda r: w2v_tokenize_text(r['formatted_text']), axis=1).values\n",
    "train_tokenized = train_data.apply(lambda r: w2v_tokenize_text(r['formatted_text']), axis=1).values"
   ]
  },
  {
   "cell_type": "code",
   "execution_count": 165,
   "metadata": {
    "collapsed": false
   },
   "outputs": [
    {
     "name": "stderr",
     "output_type": "stream",
     "text": [
      "2017-02-12 17:36:02,988 : WARNING : cannot compute similarity with no input []\n",
      "2017-02-12 17:36:03,200 : WARNING : cannot compute similarity with no input []\n",
      "2017-02-12 17:36:03,249 : WARNING : cannot compute similarity with no input []\n"
     ]
    },
    {
     "name": "stdout",
     "output_type": "stream",
     "text": [
      "CPU times: user 1.21 s, sys: 1.89 ms, total: 1.22 s\n",
      "Wall time: 1.22 s\n"
     ]
    }
   ],
   "source": [
    "%%time\n",
    "X_train_word_average = word_averaging_list(model,train_tokenized)\n",
    "X_test_word_average = word_averaging_list(model,test_tokenized)"
   ]
  },
  {
   "cell_type": "code",
   "execution_count": 166,
   "metadata": {
    "collapsed": false
   },
   "outputs": [
    {
     "name": "stdout",
     "output_type": "stream",
     "text": [
      "CPU times: user 239 ms, sys: 3.06 ms, total: 242 ms\n",
      "Wall time: 242 ms\n"
     ]
    }
   ],
   "source": [
    "%%time\n",
    "logreg = linear_model.LogisticRegression(n_jobs=1, C=1e5)\n",
    "\n",
    "logreg = logreg.fit(X_train_word_average, train_data['extraversion_m'])\n",
    "predicted = logreg.predict(X_test_word_average)"
   ]
  },
  {
   "cell_type": "code",
   "execution_count": 167,
   "metadata": {
    "collapsed": false
   },
   "outputs": [
    {
     "name": "stdout",
     "output_type": "stream",
     "text": [
      "accuracy 0.550387596899\n",
      "confusion matrix\n",
      " [[31 38]\n",
      " [20 40]]\n",
      "(row=expected, col=predicted)\n"
     ]
    },
    {
     "data": {
      "image/png": "[encoded data removed]",
      "text/plain": [
       "<matplotlib.figure.Figure at 0x7f916d668c90>"
      ]
     },
     "metadata": {},
     "output_type": "display_data"
    }
   ],
   "source": [
    "evaluate_prediction(predicted, test_data.extraversion_m)"
   ]
  },
  {
   "cell_type": "markdown",
   "metadata": {},
   "source": [
    "## Doc2Vec"
   ]
  },
  {
   "cell_type": "code",
   "execution_count": 168,
   "metadata": {
    "collapsed": true
   },
   "outputs": [],
   "source": [
    "from gensim.models import Doc2Vec\n",
    "from gensim.models.doc2vec import TaggedDocument"
   ]
  },
  {
   "cell_type": "code",
   "execution_count": 173,
   "metadata": {
    "collapsed": true
   },
   "outputs": [],
   "source": [
    "\n",
    "def tokenize_text(text):\n",
    "    tokens = []\n",
    "    for sent in nltk.sent_tokenize(text):\n",
    "        for word in nltk.word_tokenize(sent):\n",
    "            if len(word) < 2:\n",
    "                continue\n",
    "            tokens.append(word.lower())\n",
    "    return tokens"
   ]
  },
  {
   "cell_type": "code",
   "execution_count": 174,
   "metadata": {
    "collapsed": false
   },
   "outputs": [],
   "source": [
    "train_tagged = train_data.apply(\n",
    "    lambda r: TaggedDocument(words=tokenize_text(r['formatted_text']), tags=[r.extraversion_m]), axis=1)"
   ]
  },
  {
   "cell_type": "code",
   "execution_count": 180,
   "metadata": {
    "collapsed": false
   },
   "outputs": [],
   "source": [
    "test_tagged = test_data.apply(\n",
    "    lambda r: TaggedDocument(words=tokenize_text(r['formatted_text']), tags=[r.extraversion_m]), axis=1)"
   ]
  },
  {
   "cell_type": "code",
   "execution_count": 181,
   "metadata": {
    "collapsed": false
   },
   "outputs": [
    {
     "data": {
      "text/plain": [
       "TaggedDocument(words=[u'decidi', u'participar', u'tamb\\xe9m', u'comente', u'eu', u'falarei', u'coisas', u'que', u'admiro', u'em', u'voc\\xea', u'roseli', u'mais', u'uma', u'pra', u'gente', u'roseli', u'rocha', u'meu', u'bem', u'voc\\xea', u'pra', u'mim', u'privil\\xe9gio', u'sorte', u'grande', u'de', u'uma', u'vez', u'na', u'vida', u'minha', u'chance', u'de', u'ter', u'alegria', u'...', u'parto', u'para', u'n\\xe3o', u'voltar', u'pranto', u'para', u'estancar', u'tanto', u'para', u'acordar', u'tonto', u'de', u'tanto', u'te', u'ver', u'perto', u'mesmo', u'de', u'explodir', u'...', u'\\U0001f602\\U0001f602', u'they', u'do', u\"n't\", u'know', u'us', u'anyway', u'querdesafiar', u'naotoentendendo', u'ratatatata', u'alexandre', u'sirin', u'oi', u'migo', u'bem', u'vindo', u'aiai', u'...', u'deixa', u'ele', u'chorar', u'deixa', u'ele', u'sofrer', u'deixa', u'ele', u'saber', u'que', u'eu', u'to', u'curtindo', u'pra', u'valer', u'aaaaaaaah', u'agora', u'ningu\\xe9m', u'segura', u'essa', u'menina', u'\\u2764\\ufe0f', u'agora', u'siiim', u'juliana', u'garcia', u'demais', u'amo', u'ela', u'vc', u'diva', u'que', u'eu', u'quero', u'copiar', u'terceir\\xe3o', u'http', u'//www.youtube.com/watch', u'v=bwk', u'trfae', u'votem', u'na', u'cena', u'do', u're', u'mi', u'pf', u's\\xf3', u'at\\xe9', u'hoje'], tags=[0])"
      ]
     },
     "execution_count": 181,
     "metadata": {},
     "output_type": "execute_result"
    }
   ],
   "source": [
    "test_tagged.values[50]"
   ]
  },
  {
   "cell_type": "code",
   "execution_count": 182,
   "metadata": {
    "collapsed": false
   },
   "outputs": [
    {
     "name": "stderr",
     "output_type": "stream",
     "text": [
      "2017-02-12 17:53:31,312 : WARNING : consider setting layer size to a multiple of 4 for greater performance\n",
      "2017-02-12 17:53:31,315 : INFO : collecting all words and their counts\n",
      "2017-02-12 17:53:31,317 : INFO : PROGRESS: at example #0, processed 0 words (0/s), 0 word types, 0 tags\n",
      "2017-02-12 17:53:31,506 : INFO : collected 58096 word types and 2 unique tags from a corpus of 298 examples and 594855 words\n",
      "2017-02-12 17:53:31,507 : INFO : Loading a fresh vocabulary\n",
      "2017-02-12 17:53:31,581 : INFO : min_count=5 retains 10457 unique words (17% of original 58096, drops 47639)\n",
      "2017-02-12 17:53:31,582 : INFO : min_count=5 leaves 525071 word corpus (88% of original 594855, drops 69784)\n",
      "2017-02-12 17:53:31,621 : INFO : deleting the raw counts dictionary of 58096 items\n",
      "2017-02-12 17:53:31,624 : INFO : sample=0.001 downsamples 48 most-common words\n",
      "2017-02-12 17:53:31,625 : INFO : downsampling leaves estimated 434415 word corpus (82.7% of prior 525071)\n",
      "2017-02-12 17:53:31,626 : INFO : estimated required memory for 10457 words and 5 dimensions: 5646820 bytes\n",
      "2017-02-12 17:53:31,670 : INFO : resetting layer weights\n",
      "2017-02-12 17:53:31,778 : INFO : training model with 1 workers on 10457 vocabulary and 5 features, using sg=0 hs=0 sample=0.001 negative=5 window=5\n",
      "2017-02-12 17:53:31,779 : INFO : expecting 298 sentences, matching count from corpus used for vocabulary survey\n",
      "2017-02-12 17:53:32,784 : INFO : PROGRESS: at 7.90% examples, 680984 words/s, in_qsize 2, out_qsize 0\n",
      "2017-02-12 17:53:33,784 : INFO : PROGRESS: at 13.02% examples, 566680 words/s, in_qsize 1, out_qsize 0\n",
      "2017-02-12 17:53:34,787 : INFO : PROGRESS: at 21.29% examples, 615689 words/s, in_qsize 2, out_qsize 0\n",
      "2017-02-12 17:53:35,790 : INFO : PROGRESS: at 29.60% examples, 641266 words/s, in_qsize 2, out_qsize 0\n",
      "2017-02-12 17:53:36,798 : INFO : PROGRESS: at 37.97% examples, 657356 words/s, in_qsize 1, out_qsize 0\n",
      "2017-02-12 17:53:37,800 : INFO : PROGRESS: at 46.21% examples, 667463 words/s, in_qsize 2, out_qsize 0\n",
      "2017-02-12 17:53:38,803 : INFO : PROGRESS: at 54.53% examples, 674768 words/s, in_qsize 2, out_qsize 0\n",
      "2017-02-12 17:53:39,806 : INFO : PROGRESS: at 62.63% examples, 678716 words/s, in_qsize 1, out_qsize 0\n",
      "2017-02-12 17:53:40,811 : INFO : PROGRESS: at 70.97% examples, 683514 words/s, in_qsize 1, out_qsize 0\n",
      "2017-02-12 17:53:41,815 : INFO : PROGRESS: at 78.86% examples, 684178 words/s, in_qsize 1, out_qsize 0\n",
      "2017-02-12 17:53:42,816 : INFO : PROGRESS: at 86.90% examples, 683928 words/s, in_qsize 1, out_qsize 0\n",
      "2017-02-12 17:53:43,824 : INFO : PROGRESS: at 95.12% examples, 686562 words/s, in_qsize 1, out_qsize 0\n",
      "2017-02-12 17:53:44,417 : INFO : worker thread finished; awaiting finish of 0 more threads\n",
      "2017-02-12 17:53:44,418 : INFO : training on 11897100 raw words (8694324 effective words) took 12.6s, 687951 effective words/s\n"
     ]
    },
    {
     "name": "stdout",
     "output_type": "stream",
     "text": [
      "CPU times: user 22.7 s, sys: 105 ms, total: 22.8 s\n",
      "Wall time: 22.6 s\n"
     ]
    }
   ],
   "source": [
    "%%time\n",
    "trainsent = train_tagged.values\n",
    "testsent = test_tagged.values\n",
    "\n",
    "# simple gensim doc2vec api\n",
    "doc2vec_model = Doc2Vec(trainsent, workers=1, size=5, iter=20, dm=1)\n",
    "\n",
    "train_targets, train_regressors = zip(\n",
    "    *[(doc.tags[0], doc2vec_model.infer_vector(doc.words, steps=20)) for doc in trainsent])"
   ]
  },
  {
   "cell_type": "code",
   "execution_count": 183,
   "metadata": {
    "collapsed": false
   },
   "outputs": [
    {
     "name": "stdout",
     "output_type": "stream",
     "text": [
      "CPU times: user 4.14 s, sys: 474 µs, total: 4.14 s\n",
      "Wall time: 4.17 s\n"
     ]
    }
   ],
   "source": [
    "%%time\n",
    "test_targets, test_regressors = zip(\n",
    "    *[(doc.tags[0], doc2vec_model.infer_vector(doc.words, steps=20)) for doc in testsent])"
   ]
  },
  {
   "cell_type": "code",
   "execution_count": 184,
   "metadata": {
    "collapsed": false
   },
   "outputs": [
    {
     "name": "stdout",
     "output_type": "stream",
     "text": [
      "accuracy 0.550387596899\n",
      "confusion matrix\n",
      " [[42 27]\n",
      " [31 29]]\n",
      "(row=expected, col=predicted)\n"
     ]
    },
    {
     "data": {
      "image/png": "[encoded data removed]",
      "text/plain": [
       "<matplotlib.figure.Figure at 0x7f9164cfc8d0>"
      ]
     },
     "metadata": {},
     "output_type": "display_data"
    }
   ],
   "source": [
    "logreg = linear_model.LogisticRegression(n_jobs=1, C=1e5)\n",
    "logreg = logreg.fit(train_regressors, train_targets)\n",
    "evaluate_prediction(logreg.predict(test_regressors), test_targets, title=str(doc2vec_model))"
   ]
  },
  {
   "cell_type": "code",
   "execution_count": 185,
   "metadata": {
    "collapsed": false
   },
   "outputs": [
    {
     "name": "stderr",
     "output_type": "stream",
     "text": [
      "2017-02-12 18:01:35,725 : INFO : precomputing L2-norms of doc weight vectors\n"
     ]
    },
    {
     "name": "stdout",
     "output_type": "stream",
     "text": [
      "accuracy 0.550387596899\n",
      "confusion matrix\n",
      " [[31 38]\n",
      " [20 40]]\n",
      "(row=expected, col=predicted)\n",
      "CPU times: user 155 ms, sys: 24.8 ms, total: 180 ms\n",
      "Wall time: 158 ms\n"
     ]
    },
    {
     "data": {
      "image/png": "[encoded data removed]",
      "text/plain": [
       "<matplotlib.figure.Figure at 0x7f915b3176d0>"
      ]
     },
     "metadata": {},
     "output_type": "display_data"
    }
   ],
   "source": [
    "%%time \n",
    "knn_test_predictions = [\n",
    "    doc2vec_model.docvecs.most_similar([pred_vec], topn=1)[0][0]\n",
    "    for pred_vec in test_regressors\n",
    "]\n",
    "evaluate_prediction(knn_test_predictions, test_targets, str(doc2vec_model))"
   ]
  }
 ],
 "metadata": {
  "kernelspec": {
   "display_name": "Python 2",
   "language": "python",
   "name": "python2"
  },
  "language_info": {
   "codemirror_mode": {
    "name": "ipython",
    "version": 2
   },
   "file_extension": ".py",
   "mimetype": "text/x-python",
   "name": "python",
   "nbconvert_exporter": "python",
   "pygments_lexer": "ipython2",
   "version": "2.7.12"
  }
 },
 "nbformat": 4,
 "nbformat_minor": 2
}
