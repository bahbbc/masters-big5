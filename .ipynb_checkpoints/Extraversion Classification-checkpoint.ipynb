{
 "cells": [
  {
   "cell_type": "code",
   "execution_count": 2,
   "metadata": {
    "collapsed": false
   },
   "outputs": [
    {
     "name": "stderr",
     "output_type": "stream",
     "text": [
      "A newer version of GraphLab Create (v2.1) is available! Your current version is v1.8.5.\n",
      "\n",
      "You can use pip to upgrade the graphlab-create package. For more information see https://dato.com/products/create/upgrade.\n"
     ]
    }
   ],
   "source": [
    "import graphlab"
   ]
  },
  {
   "cell_type": "markdown",
   "metadata": {},
   "source": [
    "# Verificar palavras por pessoa"
   ]
  },
  {
   "cell_type": "code",
   "execution_count": 3,
   "metadata": {
    "collapsed": false
   },
   "outputs": [
    {
     "name": "stderr",
     "output_type": "stream",
     "text": [
      "2016-09-08 23:34:50,265 [INFO] graphlab.cython.cy_server, 176: GraphLab Create v1.8.5 started. Logging: /tmp/graphlab_server_1473388486.log\n"
     ]
    },
    {
     "data": {
      "text/html": [
       "<pre>Finished parsing file /home/barbara/Desktop/Coursera/Personality/personality-normalized-3.csv</pre>"
      ],
      "text/plain": [
       "Finished parsing file /home/barbara/Desktop/Coursera/Personality/personality-normalized-3.csv"
      ]
     },
     "metadata": {},
     "output_type": "display_data"
    },
    {
     "data": {
      "text/html": [
       "<pre>Parsing completed. Parsed 100 lines in 0.177197 secs.</pre>"
      ],
      "text/plain": [
       "Parsing completed. Parsed 100 lines in 0.177197 secs."
      ]
     },
     "metadata": {},
     "output_type": "display_data"
    },
    {
     "name": "stdout",
     "output_type": "stream",
     "text": [
      "This non-commercial license of GraphLab Create for academic use is assigned to barbarab.claudino@gmail.com and will expire on March 27, 2017.\n",
      "------------------------------------------------------"
     ]
    },
    {
     "data": {
      "text/html": [
       "<pre>Finished parsing file /home/barbara/Desktop/Coursera/Personality/personality-normalized-3.csv</pre>"
      ],
      "text/plain": [
       "Finished parsing file /home/barbara/Desktop/Coursera/Personality/personality-normalized-3.csv"
      ]
     },
     "metadata": {},
     "output_type": "display_data"
    },
    {
     "data": {
      "text/html": [
       "<pre>Parsing completed. Parsed 811 lines in 0.06665 secs.</pre>"
      ],
      "text/plain": [
       "Parsing completed. Parsed 811 lines in 0.06665 secs."
      ]
     },
     "metadata": {},
     "output_type": "display_data"
    },
    {
     "name": "stdout",
     "output_type": "stream",
     "text": [
      "\n",
      "Inferred types from first line of file as \n",
      "column_type_hints=[int,int,float,float,float,float,float,int,float,float,float,float,float,float,float,float,float,float,float,float,float,float,float,float,float,float,float,float,float,float,float,float,float,float,float,float,float,float,float,float,float,float,float,float,float,float,float,float,float,float,float,float,float,float,float,float,float,float,float,float,float,float,float,float,float,float,float,float,float,float,float,float,float,float,float,float,float,float,float,float,float,float,float,float,float,float,float,float,float,float,float,float,float,float,float,float,float,float,float,float,float,float,float,float,float,float,float,float,float,float,float,float,float,float,float,float,float,float,float,float,float,float,float,float,float,float,float,float,float,float,float,float,float,float,float,float,float,float,float,float,float,float,float,float,float,float,float,float,float,float,float,float,float,float,float,float,float,float,float,float,int,int,float,float,float,float,float,int,int,int,int,int,int,int,int,int,int,int,int,int,int,int]\n",
      "If parsing fails due to incorrect types, you can correct\n",
      "the inferred type list above and pass it to read_csv in\n",
      "the column_type_hints argument\n",
      "------------------------------------------------------\n"
     ]
    }
   ],
   "source": [
    "personalities = graphlab.SFrame.read_csv('/home/barbara/Desktop/Coursera/Personality/personality-normalized-3.csv', delimiter=',' )"
   ]
  },
  {
   "cell_type": "code",
   "execution_count": 4,
   "metadata": {
    "collapsed": false
   },
   "outputs": [],
   "source": [
    "my_features = ['skip','compound','sentences','chars','allTokens','wordTokens','hashtags','links','punct','questions','exclam','numbers','upcase','lowcase','firstup','pt.lexicon','added','verb.pro','names','en.lexicon','rewrite','mispell','homograph','foreign','emo.','emo..1','emo..','laugh','emph','echars','unkn','X1funct','X2pronoun','X3ppron','X4i','X5we','X6you','X7shehe','X8they','X9ipron','X10article','X11verb','X12auxverb','X13past','X14present','X15future','X16adverb','X17preps','X18conj','X19negate','X20quant','X21number','X22swear','X23social','X24family','X25friend','X26humans','X27affect','X28posemo','X29negemo','X30anx','X31anger','X32sad','X33cogmech','X34insight','X35cause','X36discrep','X37tentat','X38certain','X39inhib','X40incl','X41excl','X42percept','X43see','X44hear','X45feel','X46bio','X47body','X48health','X49sexual','X50ingest','X51relativ','X52motion','X53space','X54time','X55work','X56achieve','X57leisure','X58home','X59money','X60relig','X61death','X62assent','X63nonfl','X64filler','m','f','s','p','aument','dimin','superlat','N','A','PREP','CONJ','ADV','PREFIX','SIGLA','ABREV','INTERJ','DET','def','indef','NUM','numC','numO','numM','numF','PRO','proDem','proIndef','proRel','proInterr','proTrat','proPoss','proPess','acusativa','dativa','nominativa','obliqua','reflexa','p1','p2','p3','V','VW','VG','VK','VP','VI','VJ','VF','VQ','VS','VT','VU','VY','VC','V1s','V2s','V3s','V1p','V2p','V3p']"
   ]
  },
  {
   "cell_type": "code",
   "execution_count": 5,
   "metadata": {
    "collapsed": false
   },
   "outputs": [
    {
     "data": {
      "application/javascript": [
       "$(\"head\").append($(\"<link/>\").attr({\n",
       "  rel:  \"stylesheet\",\n",
       "  type: \"text/css\",\n",
       "  href: \"//cdnjs.cloudflare.com/ajax/libs/font-awesome/4.1.0/css/font-awesome.min.css\"\n",
       "}));\n",
       "$(\"head\").append($(\"<link/>\").attr({\n",
       "  rel:  \"stylesheet\",\n",
       "  type: \"text/css\",\n",
       "  href: \"//dato.com/files/canvas/1.8.5/css/canvas.css\"\n",
       "}));\n",
       "\n",
       "            (function(){\n",
       "\n",
       "                var e = null;\n",
       "                if (typeof element == 'undefined') {\n",
       "                    var scripts = document.getElementsByTagName('script');\n",
       "                    var thisScriptTag = scripts[scripts.length-1];\n",
       "                    var parentDiv = thisScriptTag.parentNode;\n",
       "                    e = document.createElement('div');\n",
       "                    parentDiv.appendChild(e);\n",
       "                } else {\n",
       "                    e = element[0];\n",
       "                }\n",
       "\n",
       "                if (typeof requirejs !== 'undefined') {\n",
       "                    // disable load timeout; ipython_app.js is large and can take a while to load.\n",
       "                    requirejs.config({waitSeconds: 0});\n",
       "                }\n",
       "\n",
       "                require(['//dato.com/files/canvas/1.8.5/js/ipython_app.js'], function(IPythonApp){\n",
       "                    var app = new IPythonApp();\n",
       "                    app.attachView('sarray','Numeric', {\"ipython\": true, \"sketch\": {\"std\": 1984.72409631668, \"complete\": true, \"min\": 1.0, \"max\": 22901.0, \"quantile\": [1.0, 13.0, 25.0, 63.0, 90.0, 125.0, 146.0, 183.0, 226.0, 261.0, 312.0, 370.0, 390.0, 403.0, 458.0, 493.0, 514.0, 555.0, 589.0, 645.0, 664.0, 703.0, 726.0, 767.0, 780.0, 808.0, 833.0, 881.0, 922.0, 966.0, 983.0, 1006.0, 1031.0, 1064.0, 1086.0, 1099.0, 1130.0, 1173.0, 1200.0, 1223.0, 1254.0, 1291.0, 1332.0, 1373.0, 1421.0, 1451.0, 1485.0, 1506.0, 1553.0, 1580.0, 1608.0, 1641.0, 1686.0, 1709.0, 1732.0, 1794.0, 1821.0, 1848.0, 1920.0, 1951.0, 2000.0, 2033.0, 2072.0, 2113.0, 2179.0, 2231.0, 2292.0, 2358.0, 2425.0, 2458.0, 2506.0, 2535.0, 2623.0, 2667.0, 2753.0, 2844.0, 2925.0, 2970.0, 3067.0, 3217.0, 3311.0, 3415.0, 3480.0, 3564.0, 3684.0, 3872.0, 3960.0, 4088.0, 4183.0, 4341.0, 4401.0, 4631.0, 4851.0, 5087.0, 5252.0, 5546.0, 5869.0, 6234.0, 6784.0, 7884.0, 22901.0], \"median\": 1608.0, \"numeric\": true, \"num_unique\": 748, \"num_undefined\": 0, \"var\": 3939129.738500062, \"progress\": 1.0, \"size\": 811, \"frequent_items\": {\"2048\": {\"frequency\": 1, \"value\": 2048}, \"1\": {\"frequency\": 2, \"value\": 1}, \"3\": {\"frequency\": 2, \"value\": 3}, \"4\": {\"frequency\": 1, \"value\": 4}, \"4101\": {\"frequency\": 1, \"value\": 4101}, \"7\": {\"frequency\": 1, \"value\": 7}, \"4104\": {\"frequency\": 1, \"value\": 4104}, \"2060\": {\"frequency\": 1, \"value\": 2060}, \"13\": {\"frequency\": 1, \"value\": 13}, \"2063\": {\"frequency\": 2, \"value\": 2063}, \"16\": {\"frequency\": 1, \"value\": 16}, \"17\": {\"frequency\": 2, \"value\": 17}, \"18\": {\"frequency\": 1, \"value\": 18}, \"19\": {\"frequency\": 1, \"value\": 19}, \"22\": {\"frequency\": 1, \"value\": 22}, \"2072\": {\"frequency\": 1, \"value\": 2072}, \"25\": {\"frequency\": 1, \"value\": 25}, \"4122\": {\"frequency\": 1, \"value\": 4122}, \"27\": {\"frequency\": 1, \"value\": 27}, \"29\": {\"frequency\": 1, \"value\": 29}, \"4127\": {\"frequency\": 1, \"value\": 4127}, \"33\": {\"frequency\": 1, \"value\": 33}, \"35\": {\"frequency\": 1, \"value\": 35}, \"4133\": {\"frequency\": 1, \"value\": 4133}, \"2086\": {\"frequency\": 1, \"value\": 2086}, \"39\": {\"frequency\": 1, \"value\": 39}, \"2090\": {\"frequency\": 1, \"value\": 2090}, \"6187\": {\"frequency\": 1, \"value\": 6187}, \"2092\": {\"frequency\": 1, \"value\": 2092}, \"45\": {\"frequency\": 1, \"value\": 45}, \"46\": {\"frequency\": 1, \"value\": 46}, \"8\": {\"frequency\": 1, \"value\": 8}, \"4150\": {\"frequency\": 1, \"value\": 4150}, \"2103\": {\"frequency\": 1, \"value\": 2103}, \"4155\": {\"frequency\": 1, \"value\": 4155}, \"2108\": {\"frequency\": 1, \"value\": 2108}, \"2110\": {\"frequency\": 1, \"value\": 2110}, \"63\": {\"frequency\": 1, \"value\": 63}, \"64\": {\"frequency\": 1, \"value\": 64}, \"2113\": {\"frequency\": 2, \"value\": 2113}, \"68\": {\"frequency\": 1, \"value\": 68}, \"72\": {\"frequency\": 1, \"value\": 72}, \"354\": {\"frequency\": 1, \"value\": 354}, \"79\": {\"frequency\": 1, \"value\": 79}, \"80\": {\"frequency\": 1, \"value\": 80}, \"6225\": {\"frequency\": 1, \"value\": 6225}, \"6227\": {\"frequency\": 1, \"value\": 6227}, \"84\": {\"frequency\": 1, \"value\": 84}, \"4183\": {\"frequency\": 1, \"value\": 4183}, \"89\": {\"frequency\": 1, \"value\": 89}, \"90\": {\"frequency\": 1, \"value\": 90}, \"91\": {\"frequency\": 1, \"value\": 91}, \"93\": {\"frequency\": 1, \"value\": 93}, \"6242\": {\"frequency\": 1, \"value\": 6242}, \"6161\": {\"frequency\": 1, \"value\": 6161}, \"2154\": {\"frequency\": 1, \"value\": 2154}, \"2155\": {\"frequency\": 1, \"value\": 2155}, \"2158\": {\"frequency\": 1, \"value\": 2158}, \"6259\": {\"frequency\": 1, \"value\": 6259}, \"2164\": {\"frequency\": 2, \"value\": 2164}, \"2168\": {\"frequency\": 1, \"value\": 2168}, \"121\": {\"frequency\": 1, \"value\": 121}, \"4220\": {\"frequency\": 1, \"value\": 4220}, \"4221\": {\"frequency\": 1, \"value\": 4221}, \"127\": {\"frequency\": 2, \"value\": 127}, \"4800\": {\"frequency\": 1, \"value\": 4800}, \"2179\": {\"frequency\": 1, \"value\": 2179}, \"4229\": {\"frequency\": 1, \"value\": 4229}, \"2182\": {\"frequency\": 1, \"value\": 2182}, \"136\": {\"frequency\": 1, \"value\": 136}, \"4233\": {\"frequency\": 1, \"value\": 4233}, \"4235\": {\"frequency\": 1, \"value\": 4235}, \"140\": {\"frequency\": 1, \"value\": 140}, \"24\": {\"frequency\": 1, \"value\": 24}, \"146\": {\"frequency\": 1, \"value\": 146}, \"4245\": {\"frequency\": 1, \"value\": 4245}, \"2199\": {\"frequency\": 1, \"value\": 2199}, \"1437\": {\"frequency\": 2, \"value\": 1437}, \"154\": {\"frequency\": 1, \"value\": 154}, \"5\": {\"frequency\": 1, \"value\": 5}, \"163\": {\"frequency\": 1, \"value\": 163}, \"164\": {\"frequency\": 1, \"value\": 164}, \"2215\": {\"frequency\": 1, \"value\": 2215}, \"169\": {\"frequency\": 1, \"value\": 169}, \"172\": {\"frequency\": 1, \"value\": 172}, \"2227\": {\"frequency\": 1, \"value\": 2227}, \"2229\": {\"frequency\": 1, \"value\": 2229}, \"183\": {\"frequency\": 2, \"value\": 183}, \"2120\": {\"frequency\": 1, \"value\": 2120}, \"185\": {\"frequency\": 1, \"value\": 185}, \"189\": {\"frequency\": 1, \"value\": 189}, \"191\": {\"frequency\": 1, \"value\": 191}, \"192\": {\"frequency\": 1, \"value\": 192}, \"195\": {\"frequency\": 1, \"value\": 195}, \"2244\": {\"frequency\": 1, \"value\": 2244}, \"199\": {\"frequency\": 1, \"value\": 199}, \"7884\": {\"frequency\": 1, \"value\": 7884}, \"3447\": {\"frequency\": 1, \"value\": 3447}, \"2252\": {\"frequency\": 1, \"value\": 2252}, \"2258\": {\"frequency\": 1, \"value\": 2258}, \"2263\": {\"frequency\": 1, \"value\": 2263}, \"219\": {\"frequency\": 1, \"value\": 219}, \"226\": {\"frequency\": 1, \"value\": 226}, \"379\": {\"frequency\": 2, \"value\": 379}, \"6373\": {\"frequency\": 1, \"value\": 6373}, \"721\": {\"frequency\": 2, \"value\": 721}, \"4329\": {\"frequency\": 1, \"value\": 4329}, \"235\": {\"frequency\": 1, \"value\": 235}, \"239\": {\"frequency\": 1, \"value\": 239}, \"2289\": {\"frequency\": 1, \"value\": 2289}, \"2290\": {\"frequency\": 1, \"value\": 2290}, \"2292\": {\"frequency\": 1, \"value\": 2292}, \"4341\": {\"frequency\": 1, \"value\": 4341}, \"4343\": {\"frequency\": 1, \"value\": 4343}, \"250\": {\"frequency\": 1, \"value\": 250}, \"251\": {\"frequency\": 1, \"value\": 251}, \"4348\": {\"frequency\": 1, \"value\": 4348}, \"253\": {\"frequency\": 1, \"value\": 253}, \"2302\": {\"frequency\": 1, \"value\": 2302}, \"258\": {\"frequency\": 1, \"value\": 258}, \"261\": {\"frequency\": 1, \"value\": 261}, \"6406\": {\"frequency\": 1, \"value\": 6406}, \"4365\": {\"frequency\": 1, \"value\": 4365}, \"3214\": {\"frequency\": 1, \"value\": 3214}, \"4367\": {\"frequency\": 1, \"value\": 4367}, \"4370\": {\"frequency\": 1, \"value\": 4370}, \"2326\": {\"frequency\": 1, \"value\": 2326}, \"2327\": {\"frequency\": 1, \"value\": 2327}, \"282\": {\"frequency\": 2, \"value\": 282}, \"286\": {\"frequency\": 1, \"value\": 286}, \"288\": {\"frequency\": 1, \"value\": 288}, \"2339\": {\"frequency\": 2, \"value\": 2339}, \"293\": {\"frequency\": 1, \"value\": 293}, \"1169\": {\"frequency\": 1, \"value\": 1169}, \"2439\": {\"frequency\": 2, \"value\": 2439}, \"2352\": {\"frequency\": 1, \"value\": 2352}, \"4401\": {\"frequency\": 1, \"value\": 4401}, \"310\": {\"frequency\": 1, \"value\": 310}, \"312\": {\"frequency\": 1, \"value\": 312}, \"2366\": {\"frequency\": 1, \"value\": 2366}, \"319\": {\"frequency\": 1, \"value\": 319}, \"321\": {\"frequency\": 1, \"value\": 321}, \"2374\": {\"frequency\": 1, \"value\": 2374}, \"2193\": {\"frequency\": 1, \"value\": 2193}, \"1420\": {\"frequency\": 1, \"value\": 1420}, \"332\": {\"frequency\": 1, \"value\": 332}, \"8090\": {\"frequency\": 1, \"value\": 8090}, \"335\": {\"frequency\": 1, \"value\": 335}, \"338\": {\"frequency\": 1, \"value\": 338}, \"2446\": {\"frequency\": 1, \"value\": 2446}, \"4441\": {\"frequency\": 1, \"value\": 4441}, \"2402\": {\"frequency\": 1, \"value\": 2402}, \"2404\": {\"frequency\": 1, \"value\": 2404}, \"4453\": {\"frequency\": 1, \"value\": 4453}, \"366\": {\"frequency\": 1, \"value\": 366}, \"370\": {\"frequency\": 1, \"value\": 370}, \"371\": {\"frequency\": 1, \"value\": 371}, \"22901\": {\"frequency\": 1, \"value\": 22901}, \"2422\": {\"frequency\": 2, \"value\": 2422}, \"2424\": {\"frequency\": 1, \"value\": 2424}, \"2425\": {\"frequency\": 1, \"value\": 2425}, \"378\": {\"frequency\": 1, \"value\": 378}, \"2427\": {\"frequency\": 1, \"value\": 2427}, \"383\": {\"frequency\": 1, \"value\": 383}, \"385\": {\"frequency\": 1, \"value\": 385}, \"386\": {\"frequency\": 1, \"value\": 386}, \"2438\": {\"frequency\": 1, \"value\": 2438}, \"391\": {\"frequency\": 2, \"value\": 391}, \"393\": {\"frequency\": 1, \"value\": 393}, \"2442\": {\"frequency\": 1, \"value\": 2442}, \"395\": {\"frequency\": 1, \"value\": 395}, \"396\": {\"frequency\": 1, \"value\": 396}, \"397\": {\"frequency\": 1, \"value\": 397}, \"398\": {\"frequency\": 1, \"value\": 398}, \"5869\": {\"frequency\": 1, \"value\": 5869}, \"4496\": {\"frequency\": 1, \"value\": 4496}, \"4497\": {\"frequency\": 1, \"value\": 4497}, \"403\": {\"frequency\": 1, \"value\": 403}, \"408\": {\"frequency\": 1, \"value\": 408}, \"2458\": {\"frequency\": 3, \"value\": 2458}, \"2464\": {\"frequency\": 2, \"value\": 2464}, \"2465\": {\"frequency\": 1, \"value\": 2465}, \"2468\": {\"frequency\": 1, \"value\": 2468}, \"4519\": {\"frequency\": 1, \"value\": 4519}, \"10664\": {\"frequency\": 1, \"value\": 10664}, \"425\": {\"frequency\": 1, \"value\": 425}, \"426\": {\"frequency\": 2, \"value\": 426}, \"2475\": {\"frequency\": 1, \"value\": 2475}, \"2479\": {\"frequency\": 1, \"value\": 2479}, \"433\": {\"frequency\": 1, \"value\": 433}, \"4851\": {\"frequency\": 1, \"value\": 4851}, \"4538\": {\"frequency\": 1, \"value\": 4538}, \"12704\": {\"frequency\": 1, \"value\": 12704}, \"424\": {\"frequency\": 1, \"value\": 424}, \"2506\": {\"frequency\": 1, \"value\": 2506}, \"2510\": {\"frequency\": 1, \"value\": 2510}, \"463\": {\"frequency\": 2, \"value\": 463}, \"465\": {\"frequency\": 1, \"value\": 465}, \"2517\": {\"frequency\": 1, \"value\": 2517}, \"470\": {\"frequency\": 1, \"value\": 470}, \"2521\": {\"frequency\": 1, \"value\": 2521}, \"478\": {\"frequency\": 1, \"value\": 478}, \"2527\": {\"frequency\": 1, \"value\": 2527}, \"482\": {\"frequency\": 1, \"value\": 482}, \"2531\": {\"frequency\": 1, \"value\": 2531}, \"2532\": {\"frequency\": 1, \"value\": 2532}, \"2534\": {\"frequency\": 1, \"value\": 2534}, \"2535\": {\"frequency\": 1, \"value\": 2535}, \"423\": {\"frequency\": 1, \"value\": 423}, \"493\": {\"frequency\": 2, \"value\": 493}, \"6641\": {\"frequency\": 1, \"value\": 6641}, \"4594\": {\"frequency\": 1, \"value\": 4594}, \"501\": {\"frequency\": 1, \"value\": 501}, \"2550\": {\"frequency\": 1, \"value\": 2550}, \"504\": {\"frequency\": 1, \"value\": 504}, \"2815\": {\"frequency\": 1, \"value\": 2815}, \"510\": {\"frequency\": 1, \"value\": 510}, \"512\": {\"frequency\": 1, \"value\": 512}, \"2561\": {\"frequency\": 1, \"value\": 2561}, \"514\": {\"frequency\": 1, \"value\": 514}, \"515\": {\"frequency\": 1, \"value\": 515}, \"14855\": {\"frequency\": 1, \"value\": 14855}, \"2135\": {\"frequency\": 1, \"value\": 2135}, \"524\": {\"frequency\": 1, \"value\": 524}, \"2573\": {\"frequency\": 1, \"value\": 2573}, \"2576\": {\"frequency\": 1, \"value\": 2576}, \"3843\": {\"frequency\": 1, \"value\": 3843}, \"4631\": {\"frequency\": 1, \"value\": 4631}, \"2586\": {\"frequency\": 1, \"value\": 2586}, \"539\": {\"frequency\": 2, \"value\": 539}, \"6234\": {\"frequency\": 1, \"value\": 6234}, \"542\": {\"frequency\": 1, \"value\": 542}, \"1457\": {\"frequency\": 1, \"value\": 1457}, \"554\": {\"frequency\": 1, \"value\": 554}, \"555\": {\"frequency\": 1, \"value\": 555}, \"558\": {\"frequency\": 2, \"value\": 558}, \"565\": {\"frequency\": 2, \"value\": 565}, \"2620\": {\"frequency\": 1, \"value\": 2620}, \"573\": {\"frequency\": 1, \"value\": 573}, \"2623\": {\"frequency\": 1, \"value\": 2623}, \"2628\": {\"frequency\": 1, \"value\": 2628}, \"2629\": {\"frequency\": 1, \"value\": 2629}, \"2632\": {\"frequency\": 1, \"value\": 2632}, \"586\": {\"frequency\": 1, \"value\": 586}, \"1463\": {\"frequency\": 2, \"value\": 1463}, \"2637\": {\"frequency\": 1, \"value\": 2637}, \"594\": {\"frequency\": 1, \"value\": 594}, \"597\": {\"frequency\": 1, \"value\": 597}, \"4698\": {\"frequency\": 1, \"value\": 4698}, \"4699\": {\"frequency\": 1, \"value\": 4699}, \"606\": {\"frequency\": 1, \"value\": 606}, \"2655\": {\"frequency\": 1, \"value\": 2655}, \"2659\": {\"frequency\": 1, \"value\": 2659}, \"2660\": {\"frequency\": 1, \"value\": 2660}, \"613\": {\"frequency\": 1, \"value\": 613}, \"2667\": {\"frequency\": 1, \"value\": 2667}, \"621\": {\"frequency\": 1, \"value\": 621}, \"624\": {\"frequency\": 1, \"value\": 624}, \"630\": {\"frequency\": 1, \"value\": 630}, \"2680\": {\"frequency\": 1, \"value\": 2680}, \"106\": {\"frequency\": 1, \"value\": 106}, \"2687\": {\"frequency\": 1, \"value\": 2687}, \"6784\": {\"frequency\": 1, \"value\": 6784}, \"643\": {\"frequency\": 1, \"value\": 643}, \"645\": {\"frequency\": 2, \"value\": 645}, \"646\": {\"frequency\": 1, \"value\": 646}, \"652\": {\"frequency\": 1, \"value\": 652}, \"2701\": {\"frequency\": 1, \"value\": 2701}, \"655\": {\"frequency\": 1, \"value\": 655}, \"1816\": {\"frequency\": 1, \"value\": 1816}, \"2706\": {\"frequency\": 1, \"value\": 2706}, \"110\": {\"frequency\": 1, \"value\": 110}, \"663\": {\"frequency\": 1, \"value\": 663}, \"664\": {\"frequency\": 1, \"value\": 664}, \"667\": {\"frequency\": 1, \"value\": 667}, \"4770\": {\"frequency\": 1, \"value\": 4770}, \"677\": {\"frequency\": 2, \"value\": 677}, \"678\": {\"frequency\": 1, \"value\": 678}, \"680\": {\"frequency\": 1, \"value\": 680}, \"685\": {\"frequency\": 2, \"value\": 685}, \"2735\": {\"frequency\": 1, \"value\": 2735}, \"4786\": {\"frequency\": 1, \"value\": 4786}, \"2743\": {\"frequency\": 1, \"value\": 2743}, \"458\": {\"frequency\": 1, \"value\": 458}, \"703\": {\"frequency\": 1, \"value\": 703}, \"704\": {\"frequency\": 1, \"value\": 704}, \"2753\": {\"frequency\": 1, \"value\": 2753}, \"708\": {\"frequency\": 1, \"value\": 708}, \"4809\": {\"frequency\": 1, \"value\": 4809}, \"4812\": {\"frequency\": 1, \"value\": 4812}, \"719\": {\"frequency\": 1, \"value\": 719}, \"120\": {\"frequency\": 1, \"value\": 120}, \"2770\": {\"frequency\": 1, \"value\": 2770}, \"724\": {\"frequency\": 2, \"value\": 724}, \"726\": {\"frequency\": 1, \"value\": 726}, \"4559\": {\"frequency\": 1, \"value\": 4559}, \"2784\": {\"frequency\": 1, \"value\": 2784}, \"738\": {\"frequency\": 1, \"value\": 738}, \"2789\": {\"frequency\": 1, \"value\": 2789}, \"747\": {\"frequency\": 1, \"value\": 747}, \"749\": {\"frequency\": 1, \"value\": 749}, \"125\": {\"frequency\": 1, \"value\": 125}, \"752\": {\"frequency\": 1, \"value\": 752}, \"2801\": {\"frequency\": 1, \"value\": 2801}, \"754\": {\"frequency\": 1, \"value\": 754}, \"2803\": {\"frequency\": 1, \"value\": 2803}, \"3435\": {\"frequency\": 1, \"value\": 3435}, \"764\": {\"frequency\": 1, \"value\": 764}, \"766\": {\"frequency\": 1, \"value\": 766}, \"767\": {\"frequency\": 1, \"value\": 767}, \"768\": {\"frequency\": 1, \"value\": 768}, \"769\": {\"frequency\": 1, \"value\": 769}, \"771\": {\"frequency\": 2, \"value\": 771}, \"775\": {\"frequency\": 1, \"value\": 775}, \"776\": {\"frequency\": 1, \"value\": 776}, \"777\": {\"frequency\": 1, \"value\": 777}, \"780\": {\"frequency\": 2, \"value\": 780}, \"787\": {\"frequency\": 1, \"value\": 787}, \"2839\": {\"frequency\": 1, \"value\": 2839}, \"792\": {\"frequency\": 1, \"value\": 792}, \"794\": {\"frequency\": 1, \"value\": 794}, \"2844\": {\"frequency\": 1, \"value\": 2844}, \"2845\": {\"frequency\": 1, \"value\": 2845}, \"799\": {\"frequency\": 1, \"value\": 799}, \"802\": {\"frequency\": 1, \"value\": 802}, \"803\": {\"frequency\": 1, \"value\": 803}, \"2852\": {\"frequency\": 1, \"value\": 2852}, \"134\": {\"frequency\": 1, \"value\": 134}, \"808\": {\"frequency\": 1, \"value\": 808}, \"2859\": {\"frequency\": 1, \"value\": 2859}, \"818\": {\"frequency\": 2, \"value\": 818}, \"4917\": {\"frequency\": 1, \"value\": 4917}, \"822\": {\"frequency\": 2, \"value\": 822}, \"4920\": {\"frequency\": 1, \"value\": 4920}, \"6969\": {\"frequency\": 1, \"value\": 6969}, \"2875\": {\"frequency\": 1, \"value\": 2875}, \"829\": {\"frequency\": 1, \"value\": 829}, \"832\": {\"frequency\": 1, \"value\": 832}, \"833\": {\"frequency\": 1, \"value\": 833}, \"840\": {\"frequency\": 1, \"value\": 840}, \"824\": {\"frequency\": 1, \"value\": 824}, \"852\": {\"frequency\": 1, \"value\": 852}, \"2901\": {\"frequency\": 1, \"value\": 2901}, \"2907\": {\"frequency\": 1, \"value\": 2907}, \"861\": {\"frequency\": 1, \"value\": 861}, \"867\": {\"frequency\": 1, \"value\": 867}, \"145\": {\"frequency\": 1, \"value\": 145}, \"4968\": {\"frequency\": 1, \"value\": 4968}, \"487\": {\"frequency\": 1, \"value\": 487}, \"2925\": {\"frequency\": 1, \"value\": 2925}, \"2926\": {\"frequency\": 1, \"value\": 2926}, \"879\": {\"frequency\": 1, \"value\": 879}, \"4977\": {\"frequency\": 1, \"value\": 4977}, \"2931\": {\"frequency\": 1, \"value\": 2931}, \"884\": {\"frequency\": 1, \"value\": 884}, \"887\": {\"frequency\": 1, \"value\": 887}, \"2937\": {\"frequency\": 1, \"value\": 2937}, \"2938\": {\"frequency\": 1, \"value\": 2938}, \"11134\": {\"frequency\": 1, \"value\": 11134}, \"149\": {\"frequency\": 1, \"value\": 149}, \"2945\": {\"frequency\": 1, \"value\": 2945}, \"2947\": {\"frequency\": 1, \"value\": 2947}, \"98\": {\"frequency\": 1, \"value\": 98}, \"908\": {\"frequency\": 1, \"value\": 908}, \"5005\": {\"frequency\": 1, \"value\": 5005}, \"911\": {\"frequency\": 1, \"value\": 911}, \"914\": {\"frequency\": 1, \"value\": 914}, \"915\": {\"frequency\": 2, \"value\": 915}, \"2967\": {\"frequency\": 1, \"value\": 2967}, \"922\": {\"frequency\": 1, \"value\": 922}, \"6298\": {\"frequency\": 1, \"value\": 6298}, \"927\": {\"frequency\": 1, \"value\": 927}, \"928\": {\"frequency\": 1, \"value\": 928}, \"938\": {\"frequency\": 1, \"value\": 938}, \"2987\": {\"frequency\": 1, \"value\": 2987}, \"941\": {\"frequency\": 2, \"value\": 941}, \"2990\": {\"frequency\": 1, \"value\": 2990}, \"6510\": {\"frequency\": 1, \"value\": 6510}, \"3010\": {\"frequency\": 1, \"value\": 3010}, \"3915\": {\"frequency\": 1, \"value\": 3915}, \"502\": {\"frequency\": 1, \"value\": 502}, \"966\": {\"frequency\": 3, \"value\": 966}, \"5063\": {\"frequency\": 1, \"value\": 5063}, \"971\": {\"frequency\": 1, \"value\": 971}, \"973\": {\"frequency\": 1, \"value\": 973}, \"976\": {\"frequency\": 1, \"value\": 976}, \"2552\": {\"frequency\": 1, \"value\": 2552}, \"3028\": {\"frequency\": 1, \"value\": 3028}, \"3029\": {\"frequency\": 1, \"value\": 3029}, \"983\": {\"frequency\": 2, \"value\": 983}, \"987\": {\"frequency\": 1, \"value\": 987}, \"3037\": {\"frequency\": 1, \"value\": 3037}, \"991\": {\"frequency\": 1, \"value\": 991}, \"992\": {\"frequency\": 1, \"value\": 992}, \"994\": {\"frequency\": 2, \"value\": 994}, \"507\": {\"frequency\": 1, \"value\": 507}, \"1002\": {\"frequency\": 1, \"value\": 1002}, \"1003\": {\"frequency\": 1, \"value\": 1003}, \"1006\": {\"frequency\": 1, \"value\": 1006}, \"1008\": {\"frequency\": 1, \"value\": 1008}, \"5113\": {\"frequency\": 1, \"value\": 5113}, \"3067\": {\"frequency\": 1, \"value\": 3067}, \"1023\": {\"frequency\": 1, \"value\": 1023}, \"1026\": {\"frequency\": 1, \"value\": 1026}, \"1027\": {\"frequency\": 1, \"value\": 1027}, \"1031\": {\"frequency\": 2, \"value\": 1031}, \"1035\": {\"frequency\": 1, \"value\": 1035}, \"1037\": {\"frequency\": 1, \"value\": 1037}, \"1045\": {\"frequency\": 1, \"value\": 1045}, \"5144\": {\"frequency\": 1, \"value\": 5144}, \"1055\": {\"frequency\": 1, \"value\": 1055}, \"1056\": {\"frequency\": 1, \"value\": 1056}, \"1058\": {\"frequency\": 1, \"value\": 1058}, \"1061\": {\"frequency\": 1, \"value\": 1061}, \"1064\": {\"frequency\": 1, \"value\": 1064}, \"3113\": {\"frequency\": 1, \"value\": 3113}, \"3114\": {\"frequency\": 1, \"value\": 3114}, \"1067\": {\"frequency\": 1, \"value\": 1067}, \"1068\": {\"frequency\": 1, \"value\": 1068}, \"581\": {\"frequency\": 1, \"value\": 581}, \"1076\": {\"frequency\": 1, \"value\": 1076}, \"3125\": {\"frequency\": 1, \"value\": 3125}, \"1078\": {\"frequency\": 1, \"value\": 1078}, \"1083\": {\"frequency\": 2, \"value\": 1083}, \"1084\": {\"frequency\": 1, \"value\": 1084}, \"3133\": {\"frequency\": 1, \"value\": 3133}, \"3134\": {\"frequency\": 1, \"value\": 3134}, \"1087\": {\"frequency\": 1, \"value\": 1087}, \"1088\": {\"frequency\": 1, \"value\": 1088}, \"1091\": {\"frequency\": 1, \"value\": 1091}, \"1093\": {\"frequency\": 1, \"value\": 1093}, \"1094\": {\"frequency\": 1, \"value\": 1094}, \"1098\": {\"frequency\": 2, \"value\": 1098}, \"2231\": {\"frequency\": 1, \"value\": 2231}, \"5199\": {\"frequency\": 1, \"value\": 5199}, \"1110\": {\"frequency\": 1, \"value\": 1110}, \"1113\": {\"frequency\": 1, \"value\": 1113}, \"5212\": {\"frequency\": 1, \"value\": 5212}, \"1118\": {\"frequency\": 1, \"value\": 1118}, \"3167\": {\"frequency\": 1, \"value\": 3167}, \"528\": {\"frequency\": 1, \"value\": 528}, \"1123\": {\"frequency\": 1, \"value\": 1123}, \"1125\": {\"frequency\": 1, \"value\": 1125}, \"1128\": {\"frequency\": 1, \"value\": 1128}, \"1129\": {\"frequency\": 1, \"value\": 1129}, \"1130\": {\"frequency\": 1, \"value\": 1130}, \"5227\": {\"frequency\": 1, \"value\": 5227}, \"1135\": {\"frequency\": 1, \"value\": 1135}, \"894\": {\"frequency\": 1, \"value\": 894}, \"1147\": {\"frequency\": 1, \"value\": 1147}, \"1151\": {\"frequency\": 1, \"value\": 1151}, \"1153\": {\"frequency\": 1, \"value\": 1153}, \"5252\": {\"frequency\": 1, \"value\": 5252}, \"1161\": {\"frequency\": 1, \"value\": 1161}, \"1166\": {\"frequency\": 1, \"value\": 1166}, \"3217\": {\"frequency\": 1, \"value\": 3217}, \"1173\": {\"frequency\": 2, \"value\": 1173}, \"3222\": {\"frequency\": 1, \"value\": 3222}, \"1176\": {\"frequency\": 1, \"value\": 1176}, \"1178\": {\"frequency\": 1, \"value\": 1178}, \"1181\": {\"frequency\": 1, \"value\": 1181}, \"2358\": {\"frequency\": 1, \"value\": 2358}, \"1189\": {\"frequency\": 1, \"value\": 1189}, \"3238\": {\"frequency\": 1, \"value\": 3238}, \"1191\": {\"frequency\": 1, \"value\": 1191}, \"1192\": {\"frequency\": 1, \"value\": 1192}, \"1196\": {\"frequency\": 1, \"value\": 1196}, \"2872\": {\"frequency\": 1, \"value\": 2872}, \"1200\": {\"frequency\": 1, \"value\": 1200}, \"1202\": {\"frequency\": 1, \"value\": 1202}, \"1204\": {\"frequency\": 1, \"value\": 1204}, \"5304\": {\"frequency\": 1, \"value\": 5304}, \"1209\": {\"frequency\": 1, \"value\": 1209}, \"3260\": {\"frequency\": 1, \"value\": 3260}, \"1213\": {\"frequency\": 1, \"value\": 1213}, \"7358\": {\"frequency\": 1, \"value\": 7358}, \"1215\": {\"frequency\": 1, \"value\": 1215}, \"3265\": {\"frequency\": 1, \"value\": 3265}, \"1218\": {\"frequency\": 1, \"value\": 1218}, \"3268\": {\"frequency\": 1, \"value\": 3268}, \"1221\": {\"frequency\": 1, \"value\": 1221}, \"1223\": {\"frequency\": 1, \"value\": 1223}, \"1224\": {\"frequency\": 1, \"value\": 1224}, \"1225\": {\"frequency\": 1, \"value\": 1225}, \"1226\": {\"frequency\": 2, \"value\": 1226}, \"1570\": {\"frequency\": 1, \"value\": 1570}, \"1230\": {\"frequency\": 1, \"value\": 1230}, \"3279\": {\"frequency\": 1, \"value\": 3279}, \"3281\": {\"frequency\": 1, \"value\": 3281}, \"1240\": {\"frequency\": 1, \"value\": 1240}, \"5342\": {\"frequency\": 1, \"value\": 5342}, \"1254\": {\"frequency\": 1, \"value\": 1254}, \"1233\": {\"frequency\": 1, \"value\": 1233}, \"1256\": {\"frequency\": 1, \"value\": 1256}, \"1262\": {\"frequency\": 1, \"value\": 1262}, \"3311\": {\"frequency\": 1, \"value\": 3311}, \"1267\": {\"frequency\": 1, \"value\": 1267}, \"1269\": {\"frequency\": 1, \"value\": 1269}, \"3320\": {\"frequency\": 1, \"value\": 3320}, \"1279\": {\"frequency\": 1, \"value\": 1279}, \"3328\": {\"frequency\": 1, \"value\": 3328}, \"1281\": {\"frequency\": 1, \"value\": 1281}, \"1288\": {\"frequency\": 1, \"value\": 1288}, \"1291\": {\"frequency\": 1, \"value\": 1291}, \"2027\": {\"frequency\": 1, \"value\": 2027}, \"1294\": {\"frequency\": 1, \"value\": 1294}, \"1296\": {\"frequency\": 1, \"value\": 1296}, \"1300\": {\"frequency\": 1, \"value\": 1300}, \"1582\": {\"frequency\": 1, \"value\": 1582}, \"1312\": {\"frequency\": 1, \"value\": 1312}, \"3361\": {\"frequency\": 1, \"value\": 3361}, \"3367\": {\"frequency\": 1, \"value\": 3367}, \"1320\": {\"frequency\": 1, \"value\": 1320}, \"3369\": {\"frequency\": 1, \"value\": 3369}, \"1328\": {\"frequency\": 1, \"value\": 1328}, \"1332\": {\"frequency\": 2, \"value\": 1332}, \"1335\": {\"frequency\": 1, \"value\": 1335}, \"1339\": {\"frequency\": 1, \"value\": 1339}, \"4346\": {\"frequency\": 1, \"value\": 4346}, \"3979\": {\"frequency\": 1, \"value\": 3979}, \"1348\": {\"frequency\": 1, \"value\": 1348}, \"1349\": {\"frequency\": 1, \"value\": 1349}, \"3402\": {\"frequency\": 1, \"value\": 3402}, \"3639\": {\"frequency\": 1, \"value\": 3639}, \"1361\": {\"frequency\": 1, \"value\": 1361}, \"1362\": {\"frequency\": 1, \"value\": 1362}, \"5461\": {\"frequency\": 1, \"value\": 5461}, \"3415\": {\"frequency\": 1, \"value\": 3415}, \"1368\": {\"frequency\": 1, \"value\": 1368}, \"3418\": {\"frequency\": 1, \"value\": 3418}, \"1373\": {\"frequency\": 1, \"value\": 1373}, \"5478\": {\"frequency\": 1, \"value\": 5478}, \"1478\": {\"frequency\": 1, \"value\": 1478}, \"2279\": {\"frequency\": 1, \"value\": 2279}, \"1395\": {\"frequency\": 1, \"value\": 1395}, \"1399\": {\"frequency\": 2, \"value\": 1399}, \"5497\": {\"frequency\": 1, \"value\": 5497}, \"1405\": {\"frequency\": 1, \"value\": 1405}, \"1406\": {\"frequency\": 1, \"value\": 1406}, \"1408\": {\"frequency\": 1, \"value\": 1408}, \"3459\": {\"frequency\": 1, \"value\": 3459}, \"3465\": {\"frequency\": 1, \"value\": 3465}, \"3467\": {\"frequency\": 1, \"value\": 3467}, \"7564\": {\"frequency\": 1, \"value\": 7564}, \"1421\": {\"frequency\": 1, \"value\": 1421}, \"7566\": {\"frequency\": 1, \"value\": 7566}, \"1427\": {\"frequency\": 1, \"value\": 1427}, \"3476\": {\"frequency\": 1, \"value\": 3476}, \"3479\": {\"frequency\": 1, \"value\": 3479}, \"3480\": {\"frequency\": 1, \"value\": 3480}, \"1434\": {\"frequency\": 1, \"value\": 1434}, \"2970\": {\"frequency\": 1, \"value\": 2970}, \"5535\": {\"frequency\": 1, \"value\": 5535}, \"1444\": {\"frequency\": 1, \"value\": 1444}, \"1446\": {\"frequency\": 1, \"value\": 1446}, \"1448\": {\"frequency\": 1, \"value\": 1448}, \"3497\": {\"frequency\": 1, \"value\": 3497}, \"5546\": {\"frequency\": 1, \"value\": 5546}, \"1451\": {\"frequency\": 1, \"value\": 1451}, \"1454\": {\"frequency\": 1, \"value\": 1454}, \"925\": {\"frequency\": 1, \"value\": 925}, \"5553\": {\"frequency\": 1, \"value\": 5553}, \"5547\": {\"frequency\": 1, \"value\": 5547}, \"1464\": {\"frequency\": 2, \"value\": 1464}, \"244\": {\"frequency\": 1, \"value\": 244}, \"2975\": {\"frequency\": 1, \"value\": 2975}, \"3516\": {\"frequency\": 1, \"value\": 3516}, \"3519\": {\"frequency\": 1, \"value\": 3519}, \"3523\": {\"frequency\": 1, \"value\": 3523}, \"3524\": {\"frequency\": 1, \"value\": 3524}, \"1477\": {\"frequency\": 1, \"value\": 1477}, \"390\": {\"frequency\": 1, \"value\": 390}, \"3527\": {\"frequency\": 1, \"value\": 3527}, \"3531\": {\"frequency\": 1, \"value\": 3531}, \"1485\": {\"frequency\": 1, \"value\": 1485}, \"589\": {\"frequency\": 1, \"value\": 589}, \"1490\": {\"frequency\": 1, \"value\": 1490}, \"1491\": {\"frequency\": 1, \"value\": 1491}, \"1493\": {\"frequency\": 1, \"value\": 1493}, \"1497\": {\"frequency\": 1, \"value\": 1497}, \"1499\": {\"frequency\": 1, \"value\": 1499}, \"1501\": {\"frequency\": 1, \"value\": 1501}, \"1502\": {\"frequency\": 1, \"value\": 1502}, \"1506\": {\"frequency\": 1, \"value\": 1506}, \"1514\": {\"frequency\": 1, \"value\": 1514}, \"3564\": {\"frequency\": 1, \"value\": 3564}, \"1517\": {\"frequency\": 1, \"value\": 1517}, \"1518\": {\"frequency\": 1, \"value\": 1518}, \"4349\": {\"frequency\": 1, \"value\": 4349}, \"1524\": {\"frequency\": 1, \"value\": 1524}, \"1530\": {\"frequency\": 1, \"value\": 1530}, \"3584\": {\"frequency\": 1, \"value\": 3584}, \"7681\": {\"frequency\": 1, \"value\": 7681}, \"3587\": {\"frequency\": 1, \"value\": 3587}, \"1544\": {\"frequency\": 1, \"value\": 1544}, \"3598\": {\"frequency\": 1, \"value\": 3598}, \"1552\": {\"frequency\": 1, \"value\": 1552}, \"1553\": {\"frequency\": 1, \"value\": 1553}, \"1561\": {\"frequency\": 1, \"value\": 1561}, \"1563\": {\"frequency\": 1, \"value\": 1563}, \"1564\": {\"frequency\": 1, \"value\": 1564}, \"2650\": {\"frequency\": 1, \"value\": 2650}, \"3618\": {\"frequency\": 1, \"value\": 3618}, \"2310\": {\"frequency\": 1, \"value\": 2310}, \"1574\": {\"frequency\": 1, \"value\": 1574}, \"1575\": {\"frequency\": 1, \"value\": 1575}, \"1576\": {\"frequency\": 1, \"value\": 1576}, \"1580\": {\"frequency\": 1, \"value\": 1580}, \"1581\": {\"frequency\": 1, \"value\": 1581}, \"3630\": {\"frequency\": 1, \"value\": 3630}, \"13875\": {\"frequency\": 1, \"value\": 13875}, \"1591\": {\"frequency\": 2, \"value\": 1591}, \"1596\": {\"frequency\": 1, \"value\": 1596}, \"1598\": {\"frequency\": 1, \"value\": 1598}, \"3872\": {\"frequency\": 1, \"value\": 3872}, \"1602\": {\"frequency\": 1, \"value\": 1602}, \"3654\": {\"frequency\": 1, \"value\": 3654}, \"1608\": {\"frequency\": 1, \"value\": 1608}, \"1609\": {\"frequency\": 2, \"value\": 1609}, \"1611\": {\"frequency\": 1, \"value\": 1611}, \"5708\": {\"frequency\": 1, \"value\": 5708}, \"1620\": {\"frequency\": 2, \"value\": 1620}, \"1632\": {\"frequency\": 1, \"value\": 1632}, \"3684\": {\"frequency\": 1, \"value\": 3684}, \"1639\": {\"frequency\": 1, \"value\": 1639}, \"1641\": {\"frequency\": 1, \"value\": 1641}, \"274\": {\"frequency\": 1, \"value\": 274}, \"1648\": {\"frequency\": 2, \"value\": 1648}, \"1649\": {\"frequency\": 1, \"value\": 1649}, \"1653\": {\"frequency\": 1, \"value\": 1653}, \"1663\": {\"frequency\": 1, \"value\": 1663}, \"1664\": {\"frequency\": 1, \"value\": 1664}, \"1671\": {\"frequency\": 1, \"value\": 1671}, \"6996\": {\"frequency\": 1, \"value\": 6996}, \"5775\": {\"frequency\": 1, \"value\": 5775}, \"1686\": {\"frequency\": 1, \"value\": 1686}, \"1690\": {\"frequency\": 2, \"value\": 1690}, \"1692\": {\"frequency\": 1, \"value\": 1692}, \"965\": {\"frequency\": 1, \"value\": 965}, \"5795\": {\"frequency\": 1, \"value\": 5795}, \"3749\": {\"frequency\": 1, \"value\": 3749}, \"1702\": {\"frequency\": 1, \"value\": 1702}, \"1703\": {\"frequency\": 1, \"value\": 1703}, \"5802\": {\"frequency\": 1, \"value\": 5802}, \"1708\": {\"frequency\": 2, \"value\": 1708}, \"1709\": {\"frequency\": 2, \"value\": 1709}, \"1716\": {\"frequency\": 1, \"value\": 1716}, \"5813\": {\"frequency\": 1, \"value\": 5813}, \"7865\": {\"frequency\": 1, \"value\": 7865}, \"1723\": {\"frequency\": 1, \"value\": 1723}, \"1724\": {\"frequency\": 1, \"value\": 1724}, \"1725\": {\"frequency\": 1, \"value\": 1725}, \"1731\": {\"frequency\": 2, \"value\": 1731}, \"1732\": {\"frequency\": 1, \"value\": 1732}, \"3784\": {\"frequency\": 1, \"value\": 3784}, \"1740\": {\"frequency\": 1, \"value\": 1740}, \"1745\": {\"frequency\": 2, \"value\": 1745}, \"3794\": {\"frequency\": 1, \"value\": 3794}, \"1756\": {\"frequency\": 1, \"value\": 1756}, \"1766\": {\"frequency\": 1, \"value\": 1766}, \"1771\": {\"frequency\": 1, \"value\": 1771}, \"1773\": {\"frequency\": 1, \"value\": 1773}, \"1780\": {\"frequency\": 1, \"value\": 1780}, \"3829\": {\"frequency\": 1, \"value\": 3829}, \"981\": {\"frequency\": 1, \"value\": 981}, \"1794\": {\"frequency\": 1, \"value\": 1794}, \"1795\": {\"frequency\": 1, \"value\": 1795}, \"1797\": {\"frequency\": 1, \"value\": 1797}, \"3858\": {\"frequency\": 1, \"value\": 3858}, \"1807\": {\"frequency\": 1, \"value\": 1807}, \"1808\": {\"frequency\": 1, \"value\": 1808}, \"1810\": {\"frequency\": 1, \"value\": 1810}, \"1811\": {\"frequency\": 1, \"value\": 1811}, \"3864\": {\"frequency\": 1, \"value\": 3864}, \"1821\": {\"frequency\": 1, \"value\": 1821}, \"2693\": {\"frequency\": 1, \"value\": 2693}, \"1824\": {\"frequency\": 2, \"value\": 1824}, \"304\": {\"frequency\": 1, \"value\": 304}, \"1826\": {\"frequency\": 1, \"value\": 1826}, \"1827\": {\"frequency\": 1, \"value\": 1827}, \"1835\": {\"frequency\": 1, \"value\": 1835}, \"5933\": {\"frequency\": 1, \"value\": 5933}, \"1838\": {\"frequency\": 2, \"value\": 1838}, \"12086\": {\"frequency\": 1, \"value\": 12086}, \"1848\": {\"frequency\": 1, \"value\": 1848}, \"3897\": {\"frequency\": 1, \"value\": 3897}, \"5087\": {\"frequency\": 1, \"value\": 5087}, \"1853\": {\"frequency\": 1, \"value\": 1853}, \"3906\": {\"frequency\": 1, \"value\": 3906}, \"1861\": {\"frequency\": 1, \"value\": 1861}, \"3912\": {\"frequency\": 1, \"value\": 3912}, \"3914\": {\"frequency\": 1, \"value\": 3914}, \"5431\": {\"frequency\": 1, \"value\": 5431}, \"653\": {\"frequency\": 1, \"value\": 653}, \"1872\": {\"frequency\": 1, \"value\": 1872}, \"3926\": {\"frequency\": 1, \"value\": 3926}, \"1880\": {\"frequency\": 1, \"value\": 1880}, \"1883\": {\"frequency\": 1, \"value\": 1883}, \"1885\": {\"frequency\": 1, \"value\": 1885}, \"881\": {\"frequency\": 2, \"value\": 881}, \"2181\": {\"frequency\": 1, \"value\": 2181}, \"131\": {\"frequency\": 1, \"value\": 131}, \"1086\": {\"frequency\": 1, \"value\": 1086}, \"658\": {\"frequency\": 1, \"value\": 658}, \"3951\": {\"frequency\": 1, \"value\": 3951}, \"1911\": {\"frequency\": 1, \"value\": 1911}, \"3960\": {\"frequency\": 1, \"value\": 3960}, \"1920\": {\"frequency\": 1, \"value\": 1920}, \"878\": {\"frequency\": 1, \"value\": 878}, \"1926\": {\"frequency\": 1, \"value\": 1926}, \"1929\": {\"frequency\": 1, \"value\": 1929}, \"1930\": {\"frequency\": 1, \"value\": 1930}, \"1931\": {\"frequency\": 1, \"value\": 1931}, \"3985\": {\"frequency\": 1, \"value\": 3985}, \"3991\": {\"frequency\": 1, \"value\": 3991}, \"3992\": {\"frequency\": 1, \"value\": 3992}, \"1945\": {\"frequency\": 1, \"value\": 1945}, \"3994\": {\"frequency\": 1, \"value\": 3994}, \"1948\": {\"frequency\": 1, \"value\": 1948}, \"5182\": {\"frequency\": 1, \"value\": 5182}, \"1951\": {\"frequency\": 2, \"value\": 1951}, \"4000\": {\"frequency\": 1, \"value\": 4000}, \"1958\": {\"frequency\": 1, \"value\": 1958}, \"4011\": {\"frequency\": 1, \"value\": 4011}, \"1099\": {\"frequency\": 1, \"value\": 1099}, \"1968\": {\"frequency\": 1, \"value\": 1968}, \"4923\": {\"frequency\": 1, \"value\": 4923}, \"1971\": {\"frequency\": 2, \"value\": 1971}, \"1974\": {\"frequency\": 1, \"value\": 1974}, \"1983\": {\"frequency\": 1, \"value\": 1983}, \"5249\": {\"frequency\": 1, \"value\": 5249}, \"1999\": {\"frequency\": 1, \"value\": 1999}, \"2000\": {\"frequency\": 1, \"value\": 2000}, \"2003\": {\"frequency\": 1, \"value\": 2003}, \"1017\": {\"frequency\": 2, \"value\": 1017}, \"2012\": {\"frequency\": 1, \"value\": 2012}, \"6109\": {\"frequency\": 1, \"value\": 6109}, \"2015\": {\"frequency\": 1, \"value\": 2015}, \"2016\": {\"frequency\": 1, \"value\": 2016}, \"2017\": {\"frequency\": 1, \"value\": 2017}, \"6123\": {\"frequency\": 1, \"value\": 6123}, \"3410\": {\"frequency\": 1, \"value\": 3410}, \"2030\": {\"frequency\": 1, \"value\": 2030}, \"2033\": {\"frequency\": 1, \"value\": 2033}, \"2039\": {\"frequency\": 1, \"value\": 2039}, \"4088\": {\"frequency\": 1, \"value\": 4088}, \"2041\": {\"frequency\": 1, \"value\": 2041}, \"2046\": {\"frequency\": 1, \"value\": 2046}}, \"mean\": 2109.318125770654}, \"selected_variable\": {\"name\": [\"<SArray>\"], \"dtype\": \"int\", \"view_component\": \"Numeric\", \"view_file\": \"sarray\", \"descriptives\": {\"rows\": 811}, \"type\": \"SArray\", \"view_components\": [\"Numeric\", \"Categorical\"]}, \"histogram\": {\"progress\": 1.0, \"histogram\": {\"max\": 23272.951999999997, \"bins\": [414, 263, 96, 25, 6, 2, 2, 2, 0, 0, 0, 1], \"min\": -320.00800000000163}, \"min\": 1, \"complete\": 1, \"max\": 22901}}, e);\n",
       "                });\n",
       "            })();\n",
       "        "
      ]
     },
     "metadata": {},
     "output_type": "display_data"
    }
   ],
   "source": [
    "graphlab.canvas.set_target('ipynb')\n",
    "personalities['words'].show()"
   ]
  },
  {
   "cell_type": "code",
   "execution_count": 6,
   "metadata": {
    "collapsed": true
   },
   "outputs": [],
   "source": [
    "my_improved_features = ['X1funct','X2pronoun','X3ppron','X4i','X5we','X6you','X7shehe','X8they','X9ipron','X10article','X11verb','X12auxverb','X13past','X14present','X15future','X16adverb','X17preps','X18conj','X19negate','X20quant','X21number','X22swear','X23social','X24family','X25friend','X26humans','X27affect','X28posemo','X29negemo','X30anx','X31anger','X32sad','X33cogmech','X34insight','X35cause','X36discrep','X37tentat','X38certain','X39inhib','X40incl','X41excl','X42percept','X43see','X44hear','X45feel','X46bio','X47body','X48health','X49sexual','X50ingest','X51relativ','X52motion','X53space','X54time','X55work','X56achieve','X57leisure','X58home','X59money','X60relig','X61death','X62assent','X63nonfl','X64filler']"
   ]
  },
  {
   "cell_type": "code",
   "execution_count": 7,
   "metadata": {
    "collapsed": true
   },
   "outputs": [],
   "source": [
    "social_features = ['skip','compound','sentences','chars','allTokens','wordTokens','hashtags','links','punct','questions','exclam','numbers','upcase','lowcase','firstup','pt.lexicon','added','verb.pro','names','en.lexicon','rewrite','mispell','homograph','foreign','emo.','emo..1','emo..','laugh','emph','echars','unkn']"
   ]
  },
  {
   "cell_type": "code",
   "execution_count": 8,
   "metadata": {
    "collapsed": true
   },
   "outputs": [],
   "source": [
    "gramatical_features = ['m','f','s','p','aument','dimin','superlat','N','A','PREP','CONJ','ADV','PREFIX','SIGLA','ABREV','INTERJ','DET','def','indef','NUM','numC','numO','numM','numF','PRO','proDem','proIndef','proRel','proInterr','proTrat','proPoss','proPess','acusativa','dativa','nominativa','obliqua','reflexa','p1','p2','p3','V','VW','VG','VK','VP','VI','VJ','VF','VQ','VS','VT','VU','VY','VC','V1s','V2s','V3s','V1p','V2p','V3p']"
   ]
  },
  {
   "cell_type": "code",
   "execution_count": 9,
   "metadata": {
    "collapsed": true
   },
   "outputs": [],
   "source": [
    "all_features = ['X1funct','X2pronoun','X3ppron','X4i','X5we','X6you','X7shehe','X8they','X9ipron','X10article','X11verb','X12auxverb','X13past','X14present','X15future','X16adverb','X17preps','X18conj','X19negate','X20quant','X21number','X22swear','X23social','X24family','X25friend','X26humans','X27affect','X28posemo','X29negemo','X30anx','X31anger','X32sad','X33cogmech','X34insight','X35cause','X36discrep','X37tentat','X38certain','X39inhib','X40incl','X41excl','X42percept','X43see','X44hear','X45feel','X46bio','X47body','X48health','X49sexual','X50ingest','X51relativ','X52motion','X53space','X54time','X55work','X56achieve','X57leisure','X58home','X59money','X60relig','X61death','X62assent','X63nonfl','X64filler', 'skip','compound','sentences','chars','allTokens','wordTokens','hashtags','links','punct','questions','exclam','numbers','upcase','lowcase','firstup','pt.lexicon','added','verb.pro','names','en.lexicon','rewrite','mispell','homograph','foreign','emo.','emo..1','emo..','laugh','emph','echars','unkn', 'm','f','s','p','aument','dimin','superlat','N','A','PREP','CONJ','ADV','PREFIX','SIGLA','ABREV','INTERJ','DET','def','indef','NUM','numC','numO','numM','numF','PRO','proDem','proIndef','proRel','proInterr','proTrat','proPoss','proPess','acusativa','dativa','nominativa','obliqua','reflexa','p1','p2','p3','V','VW','VG','VK','VP','VI','VJ','VF','VQ','VS','VT','VU','VY','VC','V1s','V2s','V3s','V1p','V2p','V3p']"
   ]
  },
  {
   "cell_type": "code",
   "execution_count": 10,
   "metadata": {
    "collapsed": false
   },
   "outputs": [
    {
     "name": "stdout",
     "output_type": "stream",
     "text": [
      "(811, 688)\n"
     ]
    }
   ],
   "source": [
    "tot_words = len(personalities)\n",
    "new_data = len(personalities[personalities['words'] > 500])\n",
    "print(tot_words, new_data)"
   ]
  },
  {
   "cell_type": "markdown",
   "metadata": {},
   "source": [
    "# Remove textos com poucas palavras"
   ]
  },
  {
   "cell_type": "code",
   "execution_count": 11,
   "metadata": {
    "collapsed": false
   },
   "outputs": [],
   "source": [
    "new_personalities = personalities[personalities['words'] > 500]"
   ]
  },
  {
   "cell_type": "markdown",
   "metadata": {},
   "source": [
    "# Investigar ids sem palavras"
   ]
  },
  {
   "cell_type": "code",
   "execution_count": 12,
   "metadata": {
    "collapsed": false
   },
   "outputs": [
    {
     "data": {
      "text/plain": [
       "0"
      ]
     },
     "execution_count": 12,
     "metadata": {},
     "output_type": "execute_result"
    }
   ],
   "source": [
    "len(personalities[personalities['words'] < 1])"
   ]
  },
  {
   "cell_type": "code",
   "execution_count": 13,
   "metadata": {
    "collapsed": false
   },
   "outputs": [
    {
     "data": {
      "application/javascript": [
       "$(\"head\").append($(\"<link/>\").attr({\n",
       "  rel:  \"stylesheet\",\n",
       "  type: \"text/css\",\n",
       "  href: \"//cdnjs.cloudflare.com/ajax/libs/font-awesome/4.1.0/css/font-awesome.min.css\"\n",
       "}));\n",
       "$(\"head\").append($(\"<link/>\").attr({\n",
       "  rel:  \"stylesheet\",\n",
       "  type: \"text/css\",\n",
       "  href: \"//dato.com/files/canvas/1.8.5/css/canvas.css\"\n",
       "}));\n",
       "\n",
       "            (function(){\n",
       "\n",
       "                var e = null;\n",
       "                if (typeof element == 'undefined') {\n",
       "                    var scripts = document.getElementsByTagName('script');\n",
       "                    var thisScriptTag = scripts[scripts.length-1];\n",
       "                    var parentDiv = thisScriptTag.parentNode;\n",
       "                    e = document.createElement('div');\n",
       "                    parentDiv.appendChild(e);\n",
       "                } else {\n",
       "                    e = element[0];\n",
       "                }\n",
       "\n",
       "                if (typeof requirejs !== 'undefined') {\n",
       "                    // disable load timeout; ipython_app.js is large and can take a while to load.\n",
       "                    requirejs.config({waitSeconds: 0});\n",
       "                }\n",
       "\n",
       "                require(['//dato.com/files/canvas/1.8.5/js/ipython_app.js'], function(IPythonApp){\n",
       "                    var app = new IPythonApp();\n",
       "                    app.attachView('sarray','Categorical', {\"ipython\": true, \"sketch\": {\"std\": 0.499315039211628, \"complete\": true, \"min\": 0.0, \"max\": 1.0, \"quantile\": [0.0, 0.0, 0.0, 0.0, 0.0, 0.0, 0.0, 0.0, 0.0, 0.0, 0.0, 0.0, 0.0, 0.0, 0.0, 0.0, 0.0, 0.0, 0.0, 0.0, 0.0, 0.0, 0.0, 0.0, 0.0, 0.0, 0.0, 0.0, 0.0, 0.0, 0.0, 0.0, 0.0, 0.0, 0.0, 0.0, 0.0, 0.0, 0.0, 0.0, 0.0, 0.0, 0.0, 0.0, 0.0, 0.0, 0.0, 0.0, 1.0, 1.0, 1.0, 1.0, 1.0, 1.0, 1.0, 1.0, 1.0, 1.0, 1.0, 1.0, 1.0, 1.0, 1.0, 1.0, 1.0, 1.0, 1.0, 1.0, 1.0, 1.0, 1.0, 1.0, 1.0, 1.0, 1.0, 1.0, 1.0, 1.0, 1.0, 1.0, 1.0, 1.0, 1.0, 1.0, 1.0, 1.0, 1.0, 1.0, 1.0, 1.0, 1.0, 1.0, 1.0, 1.0, 1.0, 1.0, 1.0, 1.0, 1.0, 1.0, 1.0], \"median\": 1.0, \"numeric\": true, \"num_unique\": 2, \"num_undefined\": 0, \"var\": 0.24931550838290964, \"progress\": 1.0, \"size\": 688, \"frequent_items\": {\"0\": {\"frequency\": 326, \"value\": 0}, \"1\": {\"frequency\": 362, \"value\": 1}}, \"mean\": 0.5261627906976745}, \"selected_variable\": {\"name\": [\"<SArray>\"], \"dtype\": \"int\", \"view_component\": \"Categorical\", \"view_file\": \"sarray\", \"descriptives\": {\"rows\": 688}, \"type\": \"SArray\", \"view_components\": [\"Numeric\", \"Categorical\"]}, \"histogram\": {\"progress\": 1.0, \"histogram\": {\"max\": 1.0085200000000003, \"bins\": [326, 0, 0, 0, 0, 0, 0, 0, 0, 0, 0, 362], \"min\": -0.005239999999999911}, \"min\": 0, \"complete\": 1, \"max\": 1}}, e);\n",
       "                });\n",
       "            })();\n",
       "        "
      ]
     },
     "metadata": {},
     "output_type": "display_data"
    }
   ],
   "source": [
    "new_personalities['extraversion_m'].show(view='Categorical')"
   ]
  },
  {
   "cell_type": "code",
   "execution_count": 14,
   "metadata": {
    "collapsed": false
   },
   "outputs": [
    {
     "data": {
      "application/javascript": [
       "$(\"head\").append($(\"<link/>\").attr({\n",
       "  rel:  \"stylesheet\",\n",
       "  type: \"text/css\",\n",
       "  href: \"//cdnjs.cloudflare.com/ajax/libs/font-awesome/4.1.0/css/font-awesome.min.css\"\n",
       "}));\n",
       "$(\"head\").append($(\"<link/>\").attr({\n",
       "  rel:  \"stylesheet\",\n",
       "  type: \"text/css\",\n",
       "  href: \"//dato.com/files/canvas/1.8.5/css/canvas.css\"\n",
       "}));\n",
       "\n",
       "            (function(){\n",
       "\n",
       "                var e = null;\n",
       "                if (typeof element == 'undefined') {\n",
       "                    var scripts = document.getElementsByTagName('script');\n",
       "                    var thisScriptTag = scripts[scripts.length-1];\n",
       "                    var parentDiv = thisScriptTag.parentNode;\n",
       "                    e = document.createElement('div');\n",
       "                    parentDiv.appendChild(e);\n",
       "                } else {\n",
       "                    e = element[0];\n",
       "                }\n",
       "\n",
       "                if (typeof requirejs !== 'undefined') {\n",
       "                    // disable load timeout; ipython_app.js is large and can take a while to load.\n",
       "                    requirejs.config({waitSeconds: 0});\n",
       "                }\n",
       "\n",
       "                require(['//dato.com/files/canvas/1.8.5/js/ipython_app.js'], function(IPythonApp){\n",
       "                    var app = new IPythonApp();\n",
       "                    app.attachView('sarray','Categorical', {\"ipython\": true, \"sketch\": {\"std\": 0.6224715621837035, \"complete\": true, \"min\": -1.0, \"max\": 1.0, \"quantile\": [-1.0, -1.0, -1.0, -1.0, -1.0, -1.0, -1.0, -1.0, -1.0, -1.0, -1.0, -1.0, -1.0, -1.0, -1.0, -1.0, -1.0, -1.0, -1.0, 0.0, 0.0, 0.0, 0.0, 0.0, 0.0, 0.0, 0.0, 0.0, 0.0, 0.0, 0.0, 0.0, 0.0, 0.0, 0.0, 0.0, 0.0, 0.0, 0.0, 0.0, 0.0, 0.0, 0.0, 0.0, 0.0, 0.0, 0.0, 0.0, 0.0, 0.0, 0.0, 0.0, 0.0, 0.0, 0.0, 0.0, 0.0, 0.0, 0.0, 0.0, 0.0, 0.0, 0.0, 0.0, 0.0, 0.0, 0.0, 0.0, 0.0, 0.0, 0.0, 0.0, 0.0, 0.0, 0.0, 0.0, 0.0, 0.0, 0.0, 0.0, 1.0, 1.0, 1.0, 1.0, 1.0, 1.0, 1.0, 1.0, 1.0, 1.0, 1.0, 1.0, 1.0, 1.0, 1.0, 1.0, 1.0, 1.0, 1.0, 1.0, 1.0], \"median\": 0.0, \"numeric\": true, \"num_unique\": 3, \"num_undefined\": 0, \"var\": 0.38747084572742024, \"progress\": 1.0, \"size\": 688, \"frequent_items\": {\"0\": {\"frequency\": 421, \"value\": 0}, \"1\": {\"frequency\": 142, \"value\": 1}, \"-1\": {\"frequency\": 125, \"value\": -1}}, \"mean\": 0.024709302325581398}, \"selected_variable\": {\"name\": [\"<SArray>\"], \"dtype\": \"int\", \"view_component\": \"Categorical\", \"view_file\": \"sarray\", \"descriptives\": {\"rows\": 688}, \"type\": \"SArray\", \"view_components\": [\"Numeric\", \"Categorical\"]}, \"histogram\": {\"progress\": 1.0, \"histogram\": {\"max\": 1.0171599999999872, \"bins\": [125, 0, 0, 0, 0, 421, 0, 0, 0, 0, 0, 142], \"min\": -1.0103599999999995}, \"min\": -1, \"complete\": 1, \"max\": 1}}, e);\n",
       "                });\n",
       "            })();\n",
       "        "
      ]
     },
     "metadata": {},
     "output_type": "display_data"
    }
   ],
   "source": [
    "new_personalities['extraversion_ober_2'].show(view='Categorical')"
   ]
  },
  {
   "cell_type": "code",
   "execution_count": 15,
   "metadata": {
    "collapsed": false
   },
   "outputs": [
    {
     "data": {
      "application/javascript": [
       "$(\"head\").append($(\"<link/>\").attr({\n",
       "  rel:  \"stylesheet\",\n",
       "  type: \"text/css\",\n",
       "  href: \"//cdnjs.cloudflare.com/ajax/libs/font-awesome/4.1.0/css/font-awesome.min.css\"\n",
       "}));\n",
       "$(\"head\").append($(\"<link/>\").attr({\n",
       "  rel:  \"stylesheet\",\n",
       "  type: \"text/css\",\n",
       "  href: \"//dato.com/files/canvas/1.8.5/css/canvas.css\"\n",
       "}));\n",
       "\n",
       "            (function(){\n",
       "\n",
       "                var e = null;\n",
       "                if (typeof element == 'undefined') {\n",
       "                    var scripts = document.getElementsByTagName('script');\n",
       "                    var thisScriptTag = scripts[scripts.length-1];\n",
       "                    var parentDiv = thisScriptTag.parentNode;\n",
       "                    e = document.createElement('div');\n",
       "                    parentDiv.appendChild(e);\n",
       "                } else {\n",
       "                    e = element[0];\n",
       "                }\n",
       "\n",
       "                if (typeof requirejs !== 'undefined') {\n",
       "                    // disable load timeout; ipython_app.js is large and can take a while to load.\n",
       "                    requirejs.config({waitSeconds: 0});\n",
       "                }\n",
       "\n",
       "                require(['//dato.com/files/canvas/1.8.5/js/ipython_app.js'], function(IPythonApp){\n",
       "                    var app = new IPythonApp();\n",
       "                    app.attachView('sarray','Categorical', {\"ipython\": true, \"sketch\": {\"std\": 0.49796562538156675, \"complete\": true, \"min\": 0.0, \"max\": 1.0, \"quantile\": [0.0, 0.0, 0.0, 0.0, 0.0, 0.0, 0.0, 0.0, 0.0, 0.0, 0.0, 0.0, 0.0, 0.0, 0.0, 0.0, 0.0, 0.0, 0.0, 0.0, 0.0, 0.0, 0.0, 0.0, 0.0, 0.0, 0.0, 0.0, 0.0, 0.0, 0.0, 0.0, 0.0, 0.0, 0.0, 0.0, 0.0, 0.0, 0.0, 0.0, 0.0, 0.0, 0.0, 0.0, 0.0, 0.0, 1.0, 1.0, 1.0, 1.0, 1.0, 1.0, 1.0, 1.0, 1.0, 1.0, 1.0, 1.0, 1.0, 1.0, 1.0, 1.0, 1.0, 1.0, 1.0, 1.0, 1.0, 1.0, 1.0, 1.0, 1.0, 1.0, 1.0, 1.0, 1.0, 1.0, 1.0, 1.0, 1.0, 1.0, 1.0, 1.0, 1.0, 1.0, 1.0, 1.0, 1.0, 1.0, 1.0, 1.0, 1.0, 1.0, 1.0, 1.0, 1.0, 1.0, 1.0, 1.0, 1.0, 1.0, 1.0], \"median\": 1.0, \"numeric\": true, \"num_unique\": 2, \"num_undefined\": 0, \"var\": 0.24796976406165488, \"progress\": 1.0, \"size\": 688, \"frequent_items\": {\"0\": {\"frequency\": 313, \"value\": 0}, \"1\": {\"frequency\": 375, \"value\": 1}}, \"mean\": 0.5450581395348837}, \"selected_variable\": {\"name\": [\"<SArray>\"], \"dtype\": \"int\", \"view_component\": \"Categorical\", \"view_file\": \"sarray\", \"descriptives\": {\"rows\": 688}, \"type\": \"SArray\", \"view_components\": [\"Numeric\", \"Categorical\"]}, \"histogram\": {\"progress\": 1.0, \"histogram\": {\"max\": 1.0, \"bins\": [313, 0, 0, 0, 0, 0, 0, 0, 0, 0, 0, 375], \"min\": 0.0}, \"min\": 0, \"complete\": 1, \"max\": 1}}, e);\n",
       "                });\n",
       "            })();\n",
       "        "
      ]
     },
     "metadata": {},
     "output_type": "display_data"
    }
   ],
   "source": [
    "new_personalities['agreeabeness_m'].show(view='Categorical')"
   ]
  },
  {
   "cell_type": "code",
   "execution_count": 16,
   "metadata": {
    "collapsed": false
   },
   "outputs": [
    {
     "data": {
      "application/javascript": [
       "$(\"head\").append($(\"<link/>\").attr({\n",
       "  rel:  \"stylesheet\",\n",
       "  type: \"text/css\",\n",
       "  href: \"//cdnjs.cloudflare.com/ajax/libs/font-awesome/4.1.0/css/font-awesome.min.css\"\n",
       "}));\n",
       "$(\"head\").append($(\"<link/>\").attr({\n",
       "  rel:  \"stylesheet\",\n",
       "  type: \"text/css\",\n",
       "  href: \"//dato.com/files/canvas/1.8.5/css/canvas.css\"\n",
       "}));\n",
       "\n",
       "            (function(){\n",
       "\n",
       "                var e = null;\n",
       "                if (typeof element == 'undefined') {\n",
       "                    var scripts = document.getElementsByTagName('script');\n",
       "                    var thisScriptTag = scripts[scripts.length-1];\n",
       "                    var parentDiv = thisScriptTag.parentNode;\n",
       "                    e = document.createElement('div');\n",
       "                    parentDiv.appendChild(e);\n",
       "                } else {\n",
       "                    e = element[0];\n",
       "                }\n",
       "\n",
       "                if (typeof requirejs !== 'undefined') {\n",
       "                    // disable load timeout; ipython_app.js is large and can take a while to load.\n",
       "                    requirejs.config({waitSeconds: 0});\n",
       "                }\n",
       "\n",
       "                require(['//dato.com/files/canvas/1.8.5/js/ipython_app.js'], function(IPythonApp){\n",
       "                    var app = new IPythonApp();\n",
       "                    app.attachView('sarray','Categorical', {\"ipython\": true, \"sketch\": {\"std\": 0.608786104660488, \"complete\": true, \"min\": -1.0, \"max\": 1.0, \"quantile\": [-1.0, -1.0, -1.0, -1.0, -1.0, -1.0, -1.0, -1.0, -1.0, -1.0, -1.0, -1.0, -1.0, -1.0, -1.0, -1.0, -1.0, -1.0, -1.0, 0.0, 0.0, 0.0, 0.0, 0.0, 0.0, 0.0, 0.0, 0.0, 0.0, 0.0, 0.0, 0.0, 0.0, 0.0, 0.0, 0.0, 0.0, 0.0, 0.0, 0.0, 0.0, 0.0, 0.0, 0.0, 0.0, 0.0, 0.0, 0.0, 0.0, 0.0, 0.0, 0.0, 0.0, 0.0, 0.0, 0.0, 0.0, 0.0, 0.0, 0.0, 0.0, 0.0, 0.0, 0.0, 0.0, 0.0, 0.0, 0.0, 0.0, 0.0, 0.0, 0.0, 0.0, 0.0, 0.0, 0.0, 0.0, 0.0, 0.0, 0.0, 0.0, 0.0, 1.0, 1.0, 1.0, 1.0, 1.0, 1.0, 1.0, 1.0, 1.0, 1.0, 1.0, 1.0, 1.0, 1.0, 1.0, 1.0, 1.0, 1.0, 1.0], \"median\": 0.0, \"numeric\": true, \"num_unique\": 3, \"num_undefined\": 0, \"var\": 0.3706205212276906, \"progress\": 1.0, \"size\": 688, \"frequent_items\": {\"0\": {\"frequency\": 433, \"value\": 0}, \"1\": {\"frequency\": 126, \"value\": 1}, \"-1\": {\"frequency\": 129, \"value\": -1}}, \"mean\": -0.004360465116279088}, \"selected_variable\": {\"name\": [\"<SArray>\"], \"dtype\": \"int\", \"view_component\": \"Categorical\", \"view_file\": \"sarray\", \"descriptives\": {\"rows\": 688}, \"type\": \"SArray\", \"view_components\": [\"Numeric\", \"Categorical\"]}, \"histogram\": {\"progress\": 1.0, \"histogram\": {\"max\": 1.012, \"bins\": [129, 0, 0, 0, 0, 433, 0, 0, 0, 0, 0, 126], \"min\": -1.004}, \"min\": -1, \"complete\": 1, \"max\": 1}}, e);\n",
       "                });\n",
       "            })();\n",
       "        "
      ]
     },
     "metadata": {},
     "output_type": "display_data"
    }
   ],
   "source": [
    "new_personalities['agreeableness_ober_2'].show(view='Categorical')"
   ]
  },
  {
   "cell_type": "code",
   "execution_count": 17,
   "metadata": {
    "collapsed": false
   },
   "outputs": [
    {
     "data": {
      "application/javascript": [
       "$(\"head\").append($(\"<link/>\").attr({\n",
       "  rel:  \"stylesheet\",\n",
       "  type: \"text/css\",\n",
       "  href: \"//cdnjs.cloudflare.com/ajax/libs/font-awesome/4.1.0/css/font-awesome.min.css\"\n",
       "}));\n",
       "$(\"head\").append($(\"<link/>\").attr({\n",
       "  rel:  \"stylesheet\",\n",
       "  type: \"text/css\",\n",
       "  href: \"//dato.com/files/canvas/1.8.5/css/canvas.css\"\n",
       "}));\n",
       "\n",
       "            (function(){\n",
       "\n",
       "                var e = null;\n",
       "                if (typeof element == 'undefined') {\n",
       "                    var scripts = document.getElementsByTagName('script');\n",
       "                    var thisScriptTag = scripts[scripts.length-1];\n",
       "                    var parentDiv = thisScriptTag.parentNode;\n",
       "                    e = document.createElement('div');\n",
       "                    parentDiv.appendChild(e);\n",
       "                } else {\n",
       "                    e = element[0];\n",
       "                }\n",
       "\n",
       "                if (typeof requirejs !== 'undefined') {\n",
       "                    // disable load timeout; ipython_app.js is large and can take a while to load.\n",
       "                    requirejs.config({waitSeconds: 0});\n",
       "                }\n",
       "\n",
       "                require(['//dato.com/files/canvas/1.8.5/js/ipython_app.js'], function(IPythonApp){\n",
       "                    var app = new IPythonApp();\n",
       "                    app.attachView('sarray','Categorical', {\"ipython\": true, \"sketch\": {\"std\": 0.49994718149901074, \"complete\": true, \"min\": 0.0, \"max\": 1.0, \"quantile\": [0.0, 0.0, 0.0, 0.0, 0.0, 0.0, 0.0, 0.0, 0.0, 0.0, 0.0, 0.0, 0.0, 0.0, 0.0, 0.0, 0.0, 0.0, 0.0, 0.0, 0.0, 0.0, 0.0, 0.0, 0.0, 0.0, 0.0, 0.0, 0.0, 0.0, 0.0, 0.0, 0.0, 0.0, 0.0, 0.0, 0.0, 0.0, 0.0, 0.0, 0.0, 0.0, 0.0, 0.0, 0.0, 0.0, 0.0, 0.0, 0.0, 0.0, 0.0, 1.0, 1.0, 1.0, 1.0, 1.0, 1.0, 1.0, 1.0, 1.0, 1.0, 1.0, 1.0, 1.0, 1.0, 1.0, 1.0, 1.0, 1.0, 1.0, 1.0, 1.0, 1.0, 1.0, 1.0, 1.0, 1.0, 1.0, 1.0, 1.0, 1.0, 1.0, 1.0, 1.0, 1.0, 1.0, 1.0, 1.0, 1.0, 1.0, 1.0, 1.0, 1.0, 1.0, 1.0, 1.0, 1.0, 1.0, 1.0, 1.0, 1.0], \"median\": 0.0, \"numeric\": true, \"num_unique\": 2, \"num_undefined\": 0, \"var\": 0.2499471842888048, \"progress\": 1.0, \"size\": 688, \"frequent_items\": {\"0\": {\"frequency\": 349, \"value\": 0}, \"1\": {\"frequency\": 339, \"value\": 1}}, \"mean\": 0.49273255813953487}, \"selected_variable\": {\"name\": [\"<SArray>\"], \"dtype\": \"int\", \"view_component\": \"Categorical\", \"view_file\": \"sarray\", \"descriptives\": {\"rows\": 688}, \"type\": \"SArray\", \"view_components\": [\"Numeric\", \"Categorical\"]}, \"histogram\": {\"progress\": 1.0, \"histogram\": {\"max\": 1.0085200000000003, \"bins\": [349, 0, 0, 0, 0, 0, 0, 0, 0, 0, 0, 339], \"min\": -0.005239999999999911}, \"min\": 0, \"complete\": 1, \"max\": 1}}, e);\n",
       "                });\n",
       "            })();\n",
       "        "
      ]
     },
     "metadata": {},
     "output_type": "display_data"
    }
   ],
   "source": [
    "new_personalities['conscientiousness_m'].show(view='Categorical')"
   ]
  },
  {
   "cell_type": "code",
   "execution_count": 18,
   "metadata": {
    "collapsed": false
   },
   "outputs": [
    {
     "data": {
      "application/javascript": [
       "$(\"head\").append($(\"<link/>\").attr({\n",
       "  rel:  \"stylesheet\",\n",
       "  type: \"text/css\",\n",
       "  href: \"//cdnjs.cloudflare.com/ajax/libs/font-awesome/4.1.0/css/font-awesome.min.css\"\n",
       "}));\n",
       "$(\"head\").append($(\"<link/>\").attr({\n",
       "  rel:  \"stylesheet\",\n",
       "  type: \"text/css\",\n",
       "  href: \"//dato.com/files/canvas/1.8.5/css/canvas.css\"\n",
       "}));\n",
       "\n",
       "            (function(){\n",
       "\n",
       "                var e = null;\n",
       "                if (typeof element == 'undefined') {\n",
       "                    var scripts = document.getElementsByTagName('script');\n",
       "                    var thisScriptTag = scripts[scripts.length-1];\n",
       "                    var parentDiv = thisScriptTag.parentNode;\n",
       "                    e = document.createElement('div');\n",
       "                    parentDiv.appendChild(e);\n",
       "                } else {\n",
       "                    e = element[0];\n",
       "                }\n",
       "\n",
       "                if (typeof requirejs !== 'undefined') {\n",
       "                    // disable load timeout; ipython_app.js is large and can take a while to load.\n",
       "                    requirejs.config({waitSeconds: 0});\n",
       "                }\n",
       "\n",
       "                require(['//dato.com/files/canvas/1.8.5/js/ipython_app.js'], function(IPythonApp){\n",
       "                    var app = new IPythonApp();\n",
       "                    app.attachView('sarray','Categorical', {\"ipython\": true, \"sketch\": {\"std\": 0.5735940997949963, \"complete\": true, \"min\": -1.0, \"max\": 1.0, \"quantile\": [-1.0, -1.0, -1.0, -1.0, -1.0, -1.0, -1.0, -1.0, -1.0, -1.0, -1.0, -1.0, -1.0, -1.0, -1.0, -1.0, -1.0, -1.0, -1.0, 0.0, 0.0, 0.0, 0.0, 0.0, 0.0, 0.0, 0.0, 0.0, 0.0, 0.0, 0.0, 0.0, 0.0, 0.0, 0.0, 0.0, 0.0, 0.0, 0.0, 0.0, 0.0, 0.0, 0.0, 0.0, 0.0, 0.0, 0.0, 0.0, 0.0, 0.0, 0.0, 0.0, 0.0, 0.0, 0.0, 0.0, 0.0, 0.0, 0.0, 0.0, 0.0, 0.0, 0.0, 0.0, 0.0, 0.0, 0.0, 0.0, 0.0, 0.0, 0.0, 0.0, 0.0, 0.0, 0.0, 0.0, 0.0, 0.0, 0.0, 0.0, 0.0, 0.0, 0.0, 0.0, 0.0, 0.0, 1.0, 1.0, 1.0, 1.0, 1.0, 1.0, 1.0, 1.0, 1.0, 1.0, 1.0, 1.0, 1.0, 1.0, 1.0], \"median\": 0.0, \"numeric\": true, \"num_unique\": 3, \"num_undefined\": 0, \"var\": 0.3290101913196322, \"progress\": 1.0, \"size\": 688, \"frequent_items\": {\"0\": {\"frequency\": 461, \"value\": 0}, \"1\": {\"frequency\": 103, \"value\": 1}, \"-1\": {\"frequency\": 124, \"value\": -1}}, \"mean\": -0.03052325581395349}, \"selected_variable\": {\"name\": [\"<SArray>\"], \"dtype\": \"int\", \"view_component\": \"Categorical\", \"view_file\": \"sarray\", \"descriptives\": {\"rows\": 688}, \"type\": \"SArray\", \"view_components\": [\"Numeric\", \"Categorical\"]}, \"histogram\": {\"progress\": 1.0, \"histogram\": {\"max\": 1.0171599999999872, \"bins\": [124, 0, 0, 0, 0, 461, 0, 0, 0, 0, 0, 103], \"min\": -1.0103599999999995}, \"min\": -1, \"complete\": 1, \"max\": 1}}, e);\n",
       "                });\n",
       "            })();\n",
       "        "
      ]
     },
     "metadata": {},
     "output_type": "display_data"
    }
   ],
   "source": [
    "new_personalities['conscientiousness_ober_2'].show(view='Categorical')"
   ]
  },
  {
   "cell_type": "code",
   "execution_count": 19,
   "metadata": {
    "collapsed": false
   },
   "outputs": [
    {
     "data": {
      "application/javascript": [
       "$(\"head\").append($(\"<link/>\").attr({\n",
       "  rel:  \"stylesheet\",\n",
       "  type: \"text/css\",\n",
       "  href: \"//cdnjs.cloudflare.com/ajax/libs/font-awesome/4.1.0/css/font-awesome.min.css\"\n",
       "}));\n",
       "$(\"head\").append($(\"<link/>\").attr({\n",
       "  rel:  \"stylesheet\",\n",
       "  type: \"text/css\",\n",
       "  href: \"//dato.com/files/canvas/1.8.5/css/canvas.css\"\n",
       "}));\n",
       "\n",
       "            (function(){\n",
       "\n",
       "                var e = null;\n",
       "                if (typeof element == 'undefined') {\n",
       "                    var scripts = document.getElementsByTagName('script');\n",
       "                    var thisScriptTag = scripts[scripts.length-1];\n",
       "                    var parentDiv = thisScriptTag.parentNode;\n",
       "                    e = document.createElement('div');\n",
       "                    parentDiv.appendChild(e);\n",
       "                } else {\n",
       "                    e = element[0];\n",
       "                }\n",
       "\n",
       "                if (typeof requirejs !== 'undefined') {\n",
       "                    // disable load timeout; ipython_app.js is large and can take a while to load.\n",
       "                    requirejs.config({waitSeconds: 0});\n",
       "                }\n",
       "\n",
       "                require(['//dato.com/files/canvas/1.8.5/js/ipython_app.js'], function(IPythonApp){\n",
       "                    var app = new IPythonApp();\n",
       "                    app.attachView('sarray','Categorical', {\"ipython\": true, \"sketch\": {\"std\": 0.4999915494147964, \"complete\": true, \"min\": 0.0, \"max\": 1.0, \"quantile\": [0.0, 0.0, 0.0, 0.0, 0.0, 0.0, 0.0, 0.0, 0.0, 0.0, 0.0, 0.0, 0.0, 0.0, 0.0, 0.0, 0.0, 0.0, 0.0, 0.0, 0.0, 0.0, 0.0, 0.0, 0.0, 0.0, 0.0, 0.0, 0.0, 0.0, 0.0, 0.0, 0.0, 0.0, 0.0, 0.0, 0.0, 0.0, 0.0, 0.0, 0.0, 0.0, 0.0, 0.0, 0.0, 0.0, 0.0, 0.0, 0.0, 0.0, 1.0, 1.0, 1.0, 1.0, 1.0, 1.0, 1.0, 1.0, 1.0, 1.0, 1.0, 1.0, 1.0, 1.0, 1.0, 1.0, 1.0, 1.0, 1.0, 1.0, 1.0, 1.0, 1.0, 1.0, 1.0, 1.0, 1.0, 1.0, 1.0, 1.0, 1.0, 1.0, 1.0, 1.0, 1.0, 1.0, 1.0, 1.0, 1.0, 1.0, 1.0, 1.0, 1.0, 1.0, 1.0, 1.0, 1.0, 1.0, 1.0, 1.0, 1.0], \"median\": 1.0, \"numeric\": true, \"num_unique\": 2, \"num_undefined\": 0, \"var\": 0.2499915494862088, \"progress\": 1.0, \"size\": 688, \"frequent_items\": {\"0\": {\"frequency\": 342, \"value\": 0}, \"1\": {\"frequency\": 346, \"value\": 1}}, \"mean\": 0.5029069767441863}, \"selected_variable\": {\"name\": [\"<SArray>\"], \"dtype\": \"int\", \"view_component\": \"Categorical\", \"view_file\": \"sarray\", \"descriptives\": {\"rows\": 688}, \"type\": \"SArray\", \"view_components\": [\"Numeric\", \"Categorical\"]}, \"histogram\": {\"progress\": 1.0, \"histogram\": {\"max\": 1.0075600000000002, \"bins\": [342, 0, 0, 0, 0, 0, 0, 0, 0, 0, 0, 346], \"min\": -0.006200000000008199}, \"min\": 0, \"complete\": 1, \"max\": 1}}, e);\n",
       "                });\n",
       "            })();\n",
       "        "
      ]
     },
     "metadata": {},
     "output_type": "display_data"
    }
   ],
   "source": [
    "new_personalities['neuroticism_m'].show(view='Categorical')"
   ]
  },
  {
   "cell_type": "code",
   "execution_count": 20,
   "metadata": {
    "collapsed": false
   },
   "outputs": [
    {
     "data": {
      "application/javascript": [
       "$(\"head\").append($(\"<link/>\").attr({\n",
       "  rel:  \"stylesheet\",\n",
       "  type: \"text/css\",\n",
       "  href: \"//cdnjs.cloudflare.com/ajax/libs/font-awesome/4.1.0/css/font-awesome.min.css\"\n",
       "}));\n",
       "$(\"head\").append($(\"<link/>\").attr({\n",
       "  rel:  \"stylesheet\",\n",
       "  type: \"text/css\",\n",
       "  href: \"//dato.com/files/canvas/1.8.5/css/canvas.css\"\n",
       "}));\n",
       "\n",
       "            (function(){\n",
       "\n",
       "                var e = null;\n",
       "                if (typeof element == 'undefined') {\n",
       "                    var scripts = document.getElementsByTagName('script');\n",
       "                    var thisScriptTag = scripts[scripts.length-1];\n",
       "                    var parentDiv = thisScriptTag.parentNode;\n",
       "                    e = document.createElement('div');\n",
       "                    parentDiv.appendChild(e);\n",
       "                } else {\n",
       "                    e = element[0];\n",
       "                }\n",
       "\n",
       "                if (typeof requirejs !== 'undefined') {\n",
       "                    // disable load timeout; ipython_app.js is large and can take a while to load.\n",
       "                    requirejs.config({waitSeconds: 0});\n",
       "                }\n",
       "\n",
       "                require(['//dato.com/files/canvas/1.8.5/js/ipython_app.js'], function(IPythonApp){\n",
       "                    var app = new IPythonApp();\n",
       "                    app.attachView('sarray','Categorical', {\"ipython\": true, \"sketch\": {\"std\": 0.5389679133063707, \"complete\": true, \"min\": -1.0, \"max\": 1.0, \"quantile\": [-1.0, -1.0, -1.0, -1.0, -1.0, -1.0, -1.0, -1.0, -1.0, -1.0, -1.0, -1.0, -1.0, -1.0, 0.0, 0.0, 0.0, 0.0, 0.0, 0.0, 0.0, 0.0, 0.0, 0.0, 0.0, 0.0, 0.0, 0.0, 0.0, 0.0, 0.0, 0.0, 0.0, 0.0, 0.0, 0.0, 0.0, 0.0, 0.0, 0.0, 0.0, 0.0, 0.0, 0.0, 0.0, 0.0, 0.0, 0.0, 0.0, 0.0, 0.0, 0.0, 0.0, 0.0, 0.0, 0.0, 0.0, 0.0, 0.0, 0.0, 0.0, 0.0, 0.0, 0.0, 0.0, 0.0, 0.0, 0.0, 0.0, 0.0, 0.0, 0.0, 0.0, 0.0, 0.0, 0.0, 0.0, 0.0, 0.0, 0.0, 0.0, 0.0, 0.0, 0.0, 0.0, 1.0, 1.0, 1.0, 1.0, 1.0, 1.0, 1.0, 1.0, 1.0, 1.0, 1.0, 1.0, 1.0, 1.0, 1.0, 1.0], \"median\": 0.0, \"numeric\": true, \"num_unique\": 3, \"num_undefined\": 0, \"var\": 0.29048641157382354, \"progress\": 1.0, \"size\": 688, \"frequent_items\": {\"0\": {\"frequency\": 488, \"value\": 0}, \"1\": {\"frequency\": 105, \"value\": 1}, \"-1\": {\"frequency\": 95, \"value\": -1}}, \"mean\": 0.014534883720930225}, \"selected_variable\": {\"name\": [\"<SArray>\"], \"dtype\": \"int\", \"view_component\": \"Categorical\", \"view_file\": \"sarray\", \"descriptives\": {\"rows\": 688}, \"type\": \"SArray\", \"view_components\": [\"Numeric\", \"Categorical\"]}, \"histogram\": {\"progress\": 1.0, \"histogram\": {\"max\": 1.0152400000000004, \"bins\": [95, 0, 0, 0, 0, 488, 0, 0, 0, 0, 0, 105], \"min\": -1.0122800000000165}, \"min\": -1, \"complete\": 1, \"max\": 1}}, e);\n",
       "                });\n",
       "            })();\n",
       "        "
      ]
     },
     "metadata": {},
     "output_type": "display_data"
    }
   ],
   "source": [
    "new_personalities['neuroticism_ober_2'].show(view='Categorical')"
   ]
  },
  {
   "cell_type": "code",
   "execution_count": 21,
   "metadata": {
    "collapsed": false
   },
   "outputs": [
    {
     "data": {
      "application/javascript": [
       "$(\"head\").append($(\"<link/>\").attr({\n",
       "  rel:  \"stylesheet\",\n",
       "  type: \"text/css\",\n",
       "  href: \"//cdnjs.cloudflare.com/ajax/libs/font-awesome/4.1.0/css/font-awesome.min.css\"\n",
       "}));\n",
       "$(\"head\").append($(\"<link/>\").attr({\n",
       "  rel:  \"stylesheet\",\n",
       "  type: \"text/css\",\n",
       "  href: \"//dato.com/files/canvas/1.8.5/css/canvas.css\"\n",
       "}));\n",
       "\n",
       "            (function(){\n",
       "\n",
       "                var e = null;\n",
       "                if (typeof element == 'undefined') {\n",
       "                    var scripts = document.getElementsByTagName('script');\n",
       "                    var thisScriptTag = scripts[scripts.length-1];\n",
       "                    var parentDiv = thisScriptTag.parentNode;\n",
       "                    e = document.createElement('div');\n",
       "                    parentDiv.appendChild(e);\n",
       "                } else {\n",
       "                    e = element[0];\n",
       "                }\n",
       "\n",
       "                if (typeof requirejs !== 'undefined') {\n",
       "                    // disable load timeout; ipython_app.js is large and can take a while to load.\n",
       "                    requirejs.config({waitSeconds: 0});\n",
       "                }\n",
       "\n",
       "                require(['//dato.com/files/canvas/1.8.5/js/ipython_app.js'], function(IPythonApp){\n",
       "                    var app = new IPythonApp();\n",
       "                    app.attachView('sarray','Categorical', {\"ipython\": true, \"sketch\": {\"std\": 0.4980802284773097, \"complete\": true, \"min\": 0.0, \"max\": 1.0, \"quantile\": [0.0, 0.0, 0.0, 0.0, 0.0, 0.0, 0.0, 0.0, 0.0, 0.0, 0.0, 0.0, 0.0, 0.0, 0.0, 0.0, 0.0, 0.0, 0.0, 0.0, 0.0, 0.0, 0.0, 0.0, 0.0, 0.0, 0.0, 0.0, 0.0, 0.0, 0.0, 0.0, 0.0, 0.0, 0.0, 0.0, 0.0, 0.0, 0.0, 0.0, 0.0, 0.0, 0.0, 0.0, 0.0, 0.0, 1.0, 1.0, 1.0, 1.0, 1.0, 1.0, 1.0, 1.0, 1.0, 1.0, 1.0, 1.0, 1.0, 1.0, 1.0, 1.0, 1.0, 1.0, 1.0, 1.0, 1.0, 1.0, 1.0, 1.0, 1.0, 1.0, 1.0, 1.0, 1.0, 1.0, 1.0, 1.0, 1.0, 1.0, 1.0, 1.0, 1.0, 1.0, 1.0, 1.0, 1.0, 1.0, 1.0, 1.0, 1.0, 1.0, 1.0, 1.0, 1.0, 1.0, 1.0, 1.0, 1.0, 1.0, 1.0], \"median\": 1.0, \"numeric\": true, \"num_unique\": 2, \"num_undefined\": 0, \"var\": 0.24808391400000904, \"progress\": 1.0, \"size\": 811, \"frequent_items\": {\"0\": {\"frequency\": 370, \"value\": 0}, \"1\": {\"frequency\": 441, \"value\": 1}}, \"mean\": 0.5437731196054253}, \"selected_variable\": {\"name\": [\"<SArray>\"], \"dtype\": \"int\", \"view_component\": \"Categorical\", \"view_file\": \"sarray\", \"descriptives\": {\"rows\": 811}, \"type\": \"SArray\", \"view_components\": [\"Numeric\", \"Categorical\"]}, \"histogram\": {\"progress\": 1.0, \"histogram\": {\"max\": 1.0, \"bins\": [370, 0, 0, 0, 0, 0, 0, 0, 0, 0, 0, 441], \"min\": 0.0}, \"min\": 0, \"complete\": 1, \"max\": 1}}, e);\n",
       "                });\n",
       "            })();\n",
       "        "
      ]
     },
     "metadata": {},
     "output_type": "display_data"
    }
   ],
   "source": [
    "personalities['openness_m'].show(view='Categorical')"
   ]
  },
  {
   "cell_type": "code",
   "execution_count": 22,
   "metadata": {
    "collapsed": false
   },
   "outputs": [
    {
     "data": {
      "application/javascript": [
       "$(\"head\").append($(\"<link/>\").attr({\n",
       "  rel:  \"stylesheet\",\n",
       "  type: \"text/css\",\n",
       "  href: \"//cdnjs.cloudflare.com/ajax/libs/font-awesome/4.1.0/css/font-awesome.min.css\"\n",
       "}));\n",
       "$(\"head\").append($(\"<link/>\").attr({\n",
       "  rel:  \"stylesheet\",\n",
       "  type: \"text/css\",\n",
       "  href: \"//dato.com/files/canvas/1.8.5/css/canvas.css\"\n",
       "}));\n",
       "\n",
       "            (function(){\n",
       "\n",
       "                var e = null;\n",
       "                if (typeof element == 'undefined') {\n",
       "                    var scripts = document.getElementsByTagName('script');\n",
       "                    var thisScriptTag = scripts[scripts.length-1];\n",
       "                    var parentDiv = thisScriptTag.parentNode;\n",
       "                    e = document.createElement('div');\n",
       "                    parentDiv.appendChild(e);\n",
       "                } else {\n",
       "                    e = element[0];\n",
       "                }\n",
       "\n",
       "                if (typeof requirejs !== 'undefined') {\n",
       "                    // disable load timeout; ipython_app.js is large and can take a while to load.\n",
       "                    requirejs.config({waitSeconds: 0});\n",
       "                }\n",
       "\n",
       "                require(['//dato.com/files/canvas/1.8.5/js/ipython_app.js'], function(IPythonApp){\n",
       "                    var app = new IPythonApp();\n",
       "                    app.attachView('sarray','Categorical', {\"ipython\": true, \"sketch\": {\"std\": 0.5658906432509582, \"complete\": true, \"min\": -1.0, \"max\": 1.0, \"quantile\": [-1.0, -1.0, -1.0, -1.0, -1.0, -1.0, -1.0, -1.0, -1.0, -1.0, -1.0, -1.0, -1.0, -1.0, 0.0, 0.0, 0.0, 0.0, 0.0, 0.0, 0.0, 0.0, 0.0, 0.0, 0.0, 0.0, 0.0, 0.0, 0.0, 0.0, 0.0, 0.0, 0.0, 0.0, 0.0, 0.0, 0.0, 0.0, 0.0, 0.0, 0.0, 0.0, 0.0, 0.0, 0.0, 0.0, 0.0, 0.0, 0.0, 0.0, 0.0, 0.0, 0.0, 0.0, 0.0, 0.0, 0.0, 0.0, 0.0, 0.0, 0.0, 0.0, 0.0, 0.0, 0.0, 0.0, 0.0, 0.0, 0.0, 0.0, 0.0, 0.0, 0.0, 0.0, 0.0, 0.0, 0.0, 0.0, 0.0, 0.0, 0.0, 0.0, 1.0, 1.0, 1.0, 1.0, 1.0, 1.0, 1.0, 1.0, 1.0, 1.0, 1.0, 1.0, 1.0, 1.0, 1.0, 1.0, 1.0, 1.0, 1.0], \"median\": 0.0, \"numeric\": true, \"num_unique\": 3, \"num_undefined\": 0, \"var\": 0.3202322201189832, \"progress\": 1.0, \"size\": 688, \"frequent_items\": {\"0\": {\"frequency\": 466, \"value\": 0}, \"1\": {\"frequency\": 128, \"value\": 1}, \"-1\": {\"frequency\": 94, \"value\": -1}}, \"mean\": 0.04941860465116278}, \"selected_variable\": {\"name\": [\"<SArray>\"], \"dtype\": \"int\", \"view_component\": \"Categorical\", \"view_file\": \"sarray\", \"descriptives\": {\"rows\": 688}, \"type\": \"SArray\", \"view_components\": [\"Numeric\", \"Categorical\"]}, \"histogram\": {\"progress\": 1.0, \"histogram\": {\"max\": 1.012, \"bins\": [94, 0, 0, 0, 0, 466, 0, 0, 0, 0, 0, 128], \"min\": -1.004}, \"min\": -1, \"complete\": 1, \"max\": 1}}, e);\n",
       "                });\n",
       "            })();\n",
       "        "
      ]
     },
     "metadata": {},
     "output_type": "display_data"
    }
   ],
   "source": [
    "new_personalities['openness_ober_2'].show(view='Categorical')"
   ]
  },
  {
   "cell_type": "markdown",
   "metadata": {},
   "source": [
    "# Escolher uma porcentagem aleatória com proporção igual"
   ]
  },
  {
   "cell_type": "code",
   "execution_count": 23,
   "metadata": {
    "collapsed": false
   },
   "outputs": [],
   "source": [
    "#op_2 = new_personalities[new_personalities['openness_norm'] == 2].sample(.21, 1)"
   ]
  },
  {
   "cell_type": "code",
   "execution_count": 24,
   "metadata": {
    "collapsed": false
   },
   "outputs": [],
   "source": [
    "op_1 = new_personalities[new_personalities['extraversion_m'] == 1]"
   ]
  },
  {
   "cell_type": "code",
   "execution_count": 25,
   "metadata": {
    "collapsed": true
   },
   "outputs": [],
   "source": [
    "op_2 = new_personalities[new_personalities['extraversion_m'] == 0]"
   ]
  },
  {
   "cell_type": "code",
   "execution_count": 26,
   "metadata": {
    "collapsed": false
   },
   "outputs": [],
   "source": [
    "op_2_1 = new_personalities[new_personalities['extraversion_ober_2'] == -1]"
   ]
  },
  {
   "cell_type": "code",
   "execution_count": 27,
   "metadata": {
    "collapsed": false
   },
   "outputs": [],
   "source": [
    "op_2_2 = new_personalities[new_personalities['extraversion_ober_2'] == 1]"
   ]
  },
  {
   "cell_type": "code",
   "execution_count": 28,
   "metadata": {
    "collapsed": true
   },
   "outputs": [],
   "source": [
    "extra_sorted_m = op_1.append(op_2)"
   ]
  },
  {
   "cell_type": "code",
   "execution_count": 29,
   "metadata": {
    "collapsed": false
   },
   "outputs": [],
   "source": [
    "extra_sorted_o = op_2_1.append(op_2_2)"
   ]
  },
  {
   "cell_type": "code",
   "execution_count": 30,
   "metadata": {
    "collapsed": false
   },
   "outputs": [
    {
     "name": "stdout",
     "output_type": "stream",
     "text": [
      "(267, 688)\n"
     ]
    }
   ],
   "source": [
    "print(len(extra_sorted_o), len(extra_sorted_m))"
   ]
  },
  {
   "cell_type": "markdown",
   "metadata": {},
   "source": [
    "# Verificar boosted trees Oberlander"
   ]
  },
  {
   "cell_type": "code",
   "execution_count": 31,
   "metadata": {
    "collapsed": false
   },
   "outputs": [],
   "source": [
    "train_data,test_data = extra_sorted_o.random_split(.8, seed=0)"
   ]
  },
  {
   "cell_type": "code",
   "execution_count": 32,
   "metadata": {
    "collapsed": false
   },
   "outputs": [
    {
     "data": {
      "text/plain": [
       "42"
      ]
     },
     "execution_count": 32,
     "metadata": {},
     "output_type": "execute_result"
    }
   ],
   "source": [
    "len(test_data)"
   ]
  },
  {
   "cell_type": "code",
   "execution_count": 33,
   "metadata": {
    "collapsed": false
   },
   "outputs": [
    {
     "data": {
      "text/html": [
       "<pre>SVM:</pre>"
      ],
      "text/plain": [
       "SVM:"
      ]
     },
     "metadata": {},
     "output_type": "display_data"
    },
    {
     "data": {
      "text/html": [
       "<pre>--------------------------------------------------------</pre>"
      ],
      "text/plain": [
       "--------------------------------------------------------"
      ]
     },
     "metadata": {},
     "output_type": "display_data"
    },
    {
     "data": {
      "text/html": [
       "<pre>Number of examples          : 225</pre>"
      ],
      "text/plain": [
       "Number of examples          : 225"
      ]
     },
     "metadata": {},
     "output_type": "display_data"
    },
    {
     "data": {
      "text/html": [
       "<pre>Number of classes           : 2</pre>"
      ],
      "text/plain": [
       "Number of classes           : 2"
      ]
     },
     "metadata": {},
     "output_type": "display_data"
    },
    {
     "data": {
      "text/html": [
       "<pre>Number of feature columns   : 64</pre>"
      ],
      "text/plain": [
       "Number of feature columns   : 64"
      ]
     },
     "metadata": {},
     "output_type": "display_data"
    },
    {
     "data": {
      "text/html": [
       "<pre>Number of unpacked features : 64</pre>"
      ],
      "text/plain": [
       "Number of unpacked features : 64"
      ]
     },
     "metadata": {},
     "output_type": "display_data"
    },
    {
     "data": {
      "text/html": [
       "<pre>Number of coefficients    : 65</pre>"
      ],
      "text/plain": [
       "Number of coefficients    : 65"
      ]
     },
     "metadata": {},
     "output_type": "display_data"
    },
    {
     "data": {
      "text/html": [
       "<pre>Starting L-BFGS</pre>"
      ],
      "text/plain": [
       "Starting L-BFGS"
      ]
     },
     "metadata": {},
     "output_type": "display_data"
    },
    {
     "data": {
      "text/html": [
       "<pre>--------------------------------------------------------</pre>"
      ],
      "text/plain": [
       "--------------------------------------------------------"
      ]
     },
     "metadata": {},
     "output_type": "display_data"
    },
    {
     "data": {
      "text/html": [
       "<pre>+-----------+----------+-----------+--------------+-------------------+---------------------+</pre>"
      ],
      "text/plain": [
       "+-----------+----------+-----------+--------------+-------------------+---------------------+"
      ]
     },
     "metadata": {},
     "output_type": "display_data"
    },
    {
     "data": {
      "text/html": [
       "<pre>| Iteration | Passes   | Step size | Elapsed Time | Training-accuracy | Validation-accuracy |</pre>"
      ],
      "text/plain": [
       "| Iteration | Passes   | Step size | Elapsed Time | Training-accuracy | Validation-accuracy |"
      ]
     },
     "metadata": {},
     "output_type": "display_data"
    },
    {
     "data": {
      "text/html": [
       "<pre>+-----------+----------+-----------+--------------+-------------------+---------------------+</pre>"
      ],
      "text/plain": [
       "+-----------+----------+-----------+--------------+-------------------+---------------------+"
      ]
     },
     "metadata": {},
     "output_type": "display_data"
    },
    {
     "data": {
      "text/html": [
       "<pre>| 1         | 7        | 0.000820  | 1.026990     | 0.520000          | 0.595238            |</pre>"
      ],
      "text/plain": [
       "| 1         | 7        | 0.000820  | 1.026990     | 0.520000          | 0.595238            |"
      ]
     },
     "metadata": {},
     "output_type": "display_data"
    },
    {
     "data": {
      "text/html": [
       "<pre>| 2         | 12       | 0.063898  | 1.035271     | 0.520000          | 0.595238            |</pre>"
      ],
      "text/plain": [
       "| 2         | 12       | 0.063898  | 1.035271     | 0.520000          | 0.595238            |"
      ]
     },
     "metadata": {},
     "output_type": "display_data"
    },
    {
     "data": {
      "text/html": [
       "<pre>| 3         | 13       | 0.063898  | 1.037661     | 0.520000          | 0.595238            |</pre>"
      ],
      "text/plain": [
       "| 3         | 13       | 0.063898  | 1.037661     | 0.520000          | 0.595238            |"
      ]
     },
     "metadata": {},
     "output_type": "display_data"
    },
    {
     "data": {
      "text/html": [
       "<pre>| 4         | 14       | 0.063898  | 1.039882     | 0.520000          | 0.595238            |</pre>"
      ],
      "text/plain": [
       "| 4         | 14       | 0.063898  | 1.039882     | 0.520000          | 0.595238            |"
      ]
     },
     "metadata": {},
     "output_type": "display_data"
    },
    {
     "data": {
      "text/html": [
       "<pre>| 5         | 15       | 0.063898  | 1.042108     | 0.524444          | 0.595238            |</pre>"
      ],
      "text/plain": [
       "| 5         | 15       | 0.063898  | 1.042108     | 0.524444          | 0.595238            |"
      ]
     },
     "metadata": {},
     "output_type": "display_data"
    },
    {
     "data": {
      "text/html": [
       "<pre>| 6         | 16       | 0.063898  | 1.044451     | 0.524444          | 0.595238            |</pre>"
      ],
      "text/plain": [
       "| 6         | 16       | 0.063898  | 1.044451     | 0.524444          | 0.595238            |"
      ]
     },
     "metadata": {},
     "output_type": "display_data"
    },
    {
     "data": {
      "text/html": [
       "<pre>+-----------+----------+-----------+--------------+-------------------+---------------------+</pre>"
      ],
      "text/plain": [
       "+-----------+----------+-----------+--------------+-------------------+---------------------+"
      ]
     },
     "metadata": {},
     "output_type": "display_data"
    },
    {
     "data": {
      "text/html": [
       "<pre>TERMINATED: Iteration limit reached.</pre>"
      ],
      "text/plain": [
       "TERMINATED: Iteration limit reached."
      ]
     },
     "metadata": {},
     "output_type": "display_data"
    },
    {
     "data": {
      "text/html": [
       "<pre>This model may not be optimal. To improve it, consider increasing `max_iterations`.</pre>"
      ],
      "text/plain": [
       "This model may not be optimal. To improve it, consider increasing `max_iterations`."
      ]
     },
     "metadata": {},
     "output_type": "display_data"
    }
   ],
   "source": [
    "openness_model_liwc = graphlab.svm_classifier.create(train_data,\n",
    "                                                     target='extraversion_ober_2',\n",
    "                                                     features= my_improved_features,\n",
    "                                                     validation_set=test_data)"
   ]
  },
  {
   "cell_type": "code",
   "execution_count": 34,
   "metadata": {
    "collapsed": false
   },
   "outputs": [
    {
     "data": {
      "text/plain": [
       "{'accuracy': 0.5952380952380952, 'confusion_matrix': Columns:\n",
       " \ttarget_label\tint\n",
       " \tpredicted_label\tint\n",
       " \tcount\tint\n",
       " \n",
       " Rows: 4\n",
       " \n",
       " Data:\n",
       " +--------------+-----------------+-------+\n",
       " | target_label | predicted_label | count |\n",
       " +--------------+-----------------+-------+\n",
       " |      -1      |        1        |   5   |\n",
       " |      -1      |        -1       |   12  |\n",
       " |      1       |        -1       |   12  |\n",
       " |      1       |        1        |   13  |\n",
       " +--------------+-----------------+-------+\n",
       " [4 rows x 3 columns], 'f1_score': 0.6046511627906976, 'precision': 0.7222222222222222, 'recall': 0.52}"
      ]
     },
     "execution_count": 34,
     "metadata": {},
     "output_type": "execute_result"
    }
   ],
   "source": [
    "openness_model_liwc.evaluate(test_data)"
   ]
  },
  {
   "cell_type": "code",
   "execution_count": 35,
   "metadata": {
    "collapsed": false
   },
   "outputs": [
    {
     "data": {
      "text/html": [
       "<pre>SVM:</pre>"
      ],
      "text/plain": [
       "SVM:"
      ]
     },
     "metadata": {},
     "output_type": "display_data"
    },
    {
     "data": {
      "text/html": [
       "<pre>--------------------------------------------------------</pre>"
      ],
      "text/plain": [
       "--------------------------------------------------------"
      ]
     },
     "metadata": {},
     "output_type": "display_data"
    },
    {
     "data": {
      "text/html": [
       "<pre>Number of examples          : 225</pre>"
      ],
      "text/plain": [
       "Number of examples          : 225"
      ]
     },
     "metadata": {},
     "output_type": "display_data"
    },
    {
     "data": {
      "text/html": [
       "<pre>Number of classes           : 2</pre>"
      ],
      "text/plain": [
       "Number of classes           : 2"
      ]
     },
     "metadata": {},
     "output_type": "display_data"
    },
    {
     "data": {
      "text/html": [
       "<pre>Number of feature columns   : 31</pre>"
      ],
      "text/plain": [
       "Number of feature columns   : 31"
      ]
     },
     "metadata": {},
     "output_type": "display_data"
    },
    {
     "data": {
      "text/html": [
       "<pre>Number of unpacked features : 31</pre>"
      ],
      "text/plain": [
       "Number of unpacked features : 31"
      ]
     },
     "metadata": {},
     "output_type": "display_data"
    },
    {
     "data": {
      "text/html": [
       "<pre>Number of coefficients    : 32</pre>"
      ],
      "text/plain": [
       "Number of coefficients    : 32"
      ]
     },
     "metadata": {},
     "output_type": "display_data"
    },
    {
     "data": {
      "text/html": [
       "<pre>Starting L-BFGS</pre>"
      ],
      "text/plain": [
       "Starting L-BFGS"
      ]
     },
     "metadata": {},
     "output_type": "display_data"
    },
    {
     "data": {
      "text/html": [
       "<pre>--------------------------------------------------------</pre>"
      ],
      "text/plain": [
       "--------------------------------------------------------"
      ]
     },
     "metadata": {},
     "output_type": "display_data"
    },
    {
     "data": {
      "text/html": [
       "<pre>+-----------+----------+-----------+--------------+-------------------+---------------------+</pre>"
      ],
      "text/plain": [
       "+-----------+----------+-----------+--------------+-------------------+---------------------+"
      ]
     },
     "metadata": {},
     "output_type": "display_data"
    },
    {
     "data": {
      "text/html": [
       "<pre>| Iteration | Passes   | Step size | Elapsed Time | Training-accuracy | Validation-accuracy |</pre>"
      ],
      "text/plain": [
       "| Iteration | Passes   | Step size | Elapsed Time | Training-accuracy | Validation-accuracy |"
      ]
     },
     "metadata": {},
     "output_type": "display_data"
    },
    {
     "data": {
      "text/html": [
       "<pre>+-----------+----------+-----------+--------------+-------------------+---------------------+</pre>"
      ],
      "text/plain": [
       "+-----------+----------+-----------+--------------+-------------------+---------------------+"
      ]
     },
     "metadata": {},
     "output_type": "display_data"
    },
    {
     "data": {
      "text/html": [
       "<pre>| 1         | 3        | 0.004444  | 0.007216     | 0.586667          | 0.595238            |</pre>"
      ],
      "text/plain": [
       "| 1         | 3        | 0.004444  | 0.007216     | 0.586667          | 0.595238            |"
      ]
     },
     "metadata": {},
     "output_type": "display_data"
    },
    {
     "data": {
      "text/html": [
       "<pre>| 2         | 6        | 0.500000  | 0.020324     | 0.577778          | 0.571429            |</pre>"
      ],
      "text/plain": [
       "| 2         | 6        | 0.500000  | 0.020324     | 0.577778          | 0.571429            |"
      ]
     },
     "metadata": {},
     "output_type": "display_data"
    },
    {
     "data": {
      "text/html": [
       "<pre>| 3         | 7        | 0.500000  | 0.021655     | 0.582222          | 0.547619            |</pre>"
      ],
      "text/plain": [
       "| 3         | 7        | 0.500000  | 0.021655     | 0.582222          | 0.547619            |"
      ]
     },
     "metadata": {},
     "output_type": "display_data"
    },
    {
     "data": {
      "text/html": [
       "<pre>| 4         | 8        | 0.500000  | 0.022881     | 0.595556          | 0.619048            |</pre>"
      ],
      "text/plain": [
       "| 4         | 8        | 0.500000  | 0.022881     | 0.595556          | 0.619048            |"
      ]
     },
     "metadata": {},
     "output_type": "display_data"
    }
   ],
   "source": [
    "openness_model_social = graphlab.svm_classifier.create(train_data,\n",
    "                                                     target='extraversion_ober_2',\n",
    "                                                     features= social_features,\n",
    "                                                     validation_set=test_data)"
   ]
  },
  {
   "cell_type": "code",
   "execution_count": 36,
   "metadata": {
    "collapsed": false
   },
   "outputs": [
    {
     "data": {
      "text/html": [
       "<pre>| 5         | 9        | 0.500000  | 0.024035     | 0.644444          | 0.619048            |</pre>"
      ],
      "text/plain": [
       "| 5         | 9        | 0.500000  | 0.024035     | 0.644444          | 0.619048            |"
      ]
     },
     "metadata": {},
     "output_type": "display_data"
    },
    {
     "data": {
      "text/html": [
       "<pre>| 6         | 10       | 0.500000  | 0.025220     | 0.640000          | 0.571429            |</pre>"
      ],
      "text/plain": [
       "| 6         | 10       | 0.500000  | 0.025220     | 0.640000          | 0.571429            |"
      ]
     },
     "metadata": {},
     "output_type": "display_data"
    },
    {
     "data": {
      "text/html": [
       "<pre>+-----------+----------+-----------+--------------+-------------------+---------------------+</pre>"
      ],
      "text/plain": [
       "+-----------+----------+-----------+--------------+-------------------+---------------------+"
      ]
     },
     "metadata": {},
     "output_type": "display_data"
    },
    {
     "data": {
      "text/html": [
       "<pre>TERMINATED: Iteration limit reached.</pre>"
      ],
      "text/plain": [
       "TERMINATED: Iteration limit reached."
      ]
     },
     "metadata": {},
     "output_type": "display_data"
    },
    {
     "data": {
      "text/html": [
       "<pre>This model may not be optimal. To improve it, consider increasing `max_iterations`.</pre>"
      ],
      "text/plain": [
       "This model may not be optimal. To improve it, consider increasing `max_iterations`."
      ]
     },
     "metadata": {},
     "output_type": "display_data"
    },
    {
     "data": {
      "text/plain": [
       "{'accuracy': 0.6904761904761905, 'confusion_matrix': Columns:\n",
       " \ttarget_label\tint\n",
       " \tpredicted_label\tint\n",
       " \tcount\tint\n",
       " \n",
       " Rows: 4\n",
       " \n",
       " Data:\n",
       " +--------------+-----------------+-------+\n",
       " | target_label | predicted_label | count |\n",
       " +--------------+-----------------+-------+\n",
       " |      -1      |        -1       |   11  |\n",
       " |      -1      |        1        |   6   |\n",
       " |      1       |        -1       |   7   |\n",
       " |      1       |        1        |   18  |\n",
       " +--------------+-----------------+-------+\n",
       " [4 rows x 3 columns], 'f1_score': 0.7346938775510204, 'precision': 0.75, 'recall': 0.72}"
      ]
     },
     "execution_count": 36,
     "metadata": {},
     "output_type": "execute_result"
    }
   ],
   "source": [
    "openness_model_social.evaluate(test_data)"
   ]
  },
  {
   "cell_type": "code",
   "execution_count": 37,
   "metadata": {
    "collapsed": false
   },
   "outputs": [
    {
     "data": {
      "text/html": [
       "<pre>SVM:</pre>"
      ],
      "text/plain": [
       "SVM:"
      ]
     },
     "metadata": {},
     "output_type": "display_data"
    },
    {
     "data": {
      "text/html": [
       "<pre>--------------------------------------------------------</pre>"
      ],
      "text/plain": [
       "--------------------------------------------------------"
      ]
     },
     "metadata": {},
     "output_type": "display_data"
    },
    {
     "data": {
      "text/html": [
       "<pre>Number of examples          : 225</pre>"
      ],
      "text/plain": [
       "Number of examples          : 225"
      ]
     },
     "metadata": {},
     "output_type": "display_data"
    },
    {
     "data": {
      "text/html": [
       "<pre>Number of classes           : 2</pre>"
      ],
      "text/plain": [
       "Number of classes           : 2"
      ]
     },
     "metadata": {},
     "output_type": "display_data"
    },
    {
     "data": {
      "text/html": [
       "<pre>Number of feature columns   : 60</pre>"
      ],
      "text/plain": [
       "Number of feature columns   : 60"
      ]
     },
     "metadata": {},
     "output_type": "display_data"
    },
    {
     "data": {
      "text/html": [
       "<pre>Number of unpacked features : 60</pre>"
      ],
      "text/plain": [
       "Number of unpacked features : 60"
      ]
     },
     "metadata": {},
     "output_type": "display_data"
    },
    {
     "data": {
      "text/html": [
       "<pre>Number of coefficients    : 61</pre>"
      ],
      "text/plain": [
       "Number of coefficients    : 61"
      ]
     },
     "metadata": {},
     "output_type": "display_data"
    },
    {
     "data": {
      "text/html": [
       "<pre>Starting L-BFGS</pre>"
      ],
      "text/plain": [
       "Starting L-BFGS"
      ]
     },
     "metadata": {},
     "output_type": "display_data"
    },
    {
     "data": {
      "text/html": [
       "<pre>--------------------------------------------------------</pre>"
      ],
      "text/plain": [
       "--------------------------------------------------------"
      ]
     },
     "metadata": {},
     "output_type": "display_data"
    },
    {
     "data": {
      "text/html": [
       "<pre>+-----------+----------+-----------+--------------+-------------------+---------------------+</pre>"
      ],
      "text/plain": [
       "+-----------+----------+-----------+--------------+-------------------+---------------------+"
      ]
     },
     "metadata": {},
     "output_type": "display_data"
    },
    {
     "data": {
      "text/html": [
       "<pre>| Iteration | Passes   | Step size | Elapsed Time | Training-accuracy | Validation-accuracy |</pre>"
      ],
      "text/plain": [
       "| Iteration | Passes   | Step size | Elapsed Time | Training-accuracy | Validation-accuracy |"
      ]
     },
     "metadata": {},
     "output_type": "display_data"
    },
    {
     "data": {
      "text/html": [
       "<pre>+-----------+----------+-----------+--------------+-------------------+---------------------+</pre>"
      ],
      "text/plain": [
       "+-----------+----------+-----------+--------------+-------------------+---------------------+"
      ]
     },
     "metadata": {},
     "output_type": "display_data"
    },
    {
     "data": {
      "text/html": [
       "<pre>| 1         | 7        | 0.001363  | 0.012093     | 0.520000          | 0.595238            |</pre>"
      ],
      "text/plain": [
       "| 1         | 7        | 0.001363  | 0.012093     | 0.520000          | 0.595238            |"
      ]
     },
     "metadata": {},
     "output_type": "display_data"
    },
    {
     "data": {
      "text/html": [
       "<pre>| 2         | 12       | 0.058108  | 0.018136     | 0.520000          | 0.595238            |</pre>"
      ],
      "text/plain": [
       "| 2         | 12       | 0.058108  | 0.018136     | 0.520000          | 0.595238            |"
      ]
     },
     "metadata": {},
     "output_type": "display_data"
    },
    {
     "data": {
      "text/html": [
       "<pre>| 3         | 13       | 0.058108  | 0.021493     | 0.520000          | 0.595238            |</pre>"
      ],
      "text/plain": [
       "| 3         | 13       | 0.058108  | 0.021493     | 0.520000          | 0.595238            |"
      ]
     },
     "metadata": {},
     "output_type": "display_data"
    },
    {
     "data": {
      "text/html": [
       "<pre>| 4         | 14       | 0.058108  | 0.023709     | 0.524444          | 0.595238            |</pre>"
      ],
      "text/plain": [
       "| 4         | 14       | 0.058108  | 0.023709     | 0.524444          | 0.595238            |"
      ]
     },
     "metadata": {},
     "output_type": "display_data"
    },
    {
     "data": {
      "text/html": [
       "<pre>| 5         | 15       | 0.058108  | 0.025953     | 0.537778          | 0.595238            |</pre>"
      ],
      "text/plain": [
       "| 5         | 15       | 0.058108  | 0.025953     | 0.537778          | 0.595238            |"
      ]
     },
     "metadata": {},
     "output_type": "display_data"
    },
    {
     "data": {
      "text/html": [
       "<pre>| 6         | 16       | 0.058108  | 0.029104     | 0.542222          | 0.595238            |</pre>"
      ],
      "text/plain": [
       "| 6         | 16       | 0.058108  | 0.029104     | 0.542222          | 0.595238            |"
      ]
     },
     "metadata": {},
     "output_type": "display_data"
    },
    {
     "data": {
      "text/html": [
       "<pre>+-----------+----------+-----------+--------------+-------------------+---------------------+</pre>"
      ],
      "text/plain": [
       "+-----------+----------+-----------+--------------+-------------------+---------------------+"
      ]
     },
     "metadata": {},
     "output_type": "display_data"
    },
    {
     "data": {
      "text/html": [
       "<pre>TERMINATED: Iteration limit reached.</pre>"
      ],
      "text/plain": [
       "TERMINATED: Iteration limit reached."
      ]
     },
     "metadata": {},
     "output_type": "display_data"
    },
    {
     "data": {
      "text/html": [
       "<pre>This model may not be optimal. To improve it, consider increasing `max_iterations`.</pre>"
      ],
      "text/plain": [
       "This model may not be optimal. To improve it, consider increasing `max_iterations`."
      ]
     },
     "metadata": {},
     "output_type": "display_data"
    }
   ],
   "source": [
    "openness_model_grammar = graphlab.svm_classifier.create(train_data,\n",
    "                                                     target='extraversion_ober_2',\n",
    "                                                     features= gramatical_features,\n",
    "                                                     validation_set=test_data)"
   ]
  },
  {
   "cell_type": "code",
   "execution_count": 38,
   "metadata": {
    "collapsed": false
   },
   "outputs": [
    {
     "data": {
      "text/plain": [
       "{'accuracy': 0.5476190476190477, 'confusion_matrix': Columns:\n",
       " \ttarget_label\tint\n",
       " \tpredicted_label\tint\n",
       " \tcount\tint\n",
       " \n",
       " Rows: 4\n",
       " \n",
       " Data:\n",
       " +--------------+-----------------+-------+\n",
       " | target_label | predicted_label | count |\n",
       " +--------------+-----------------+-------+\n",
       " |      -1      |        1        |   9   |\n",
       " |      -1      |        -1       |   8   |\n",
       " |      1       |        -1       |   10  |\n",
       " |      1       |        1        |   15  |\n",
       " +--------------+-----------------+-------+\n",
       " [4 rows x 3 columns], 'f1_score': 0.6122448979591836, 'precision': 0.625, 'recall': 0.6}"
      ]
     },
     "execution_count": 38,
     "metadata": {},
     "output_type": "execute_result"
    }
   ],
   "source": [
    "openness_model_grammar.evaluate(test_data)"
   ]
  },
  {
   "cell_type": "code",
   "execution_count": 39,
   "metadata": {
    "collapsed": false
   },
   "outputs": [
    {
     "data": {
      "text/html": [
       "<pre>SVM:</pre>"
      ],
      "text/plain": [
       "SVM:"
      ]
     },
     "metadata": {},
     "output_type": "display_data"
    },
    {
     "data": {
      "text/html": [
       "<pre>--------------------------------------------------------</pre>"
      ],
      "text/plain": [
       "--------------------------------------------------------"
      ]
     },
     "metadata": {},
     "output_type": "display_data"
    },
    {
     "data": {
      "text/html": [
       "<pre>Number of examples          : 225</pre>"
      ],
      "text/plain": [
       "Number of examples          : 225"
      ]
     },
     "metadata": {},
     "output_type": "display_data"
    },
    {
     "data": {
      "text/html": [
       "<pre>Number of classes           : 2</pre>"
      ],
      "text/plain": [
       "Number of classes           : 2"
      ]
     },
     "metadata": {},
     "output_type": "display_data"
    },
    {
     "data": {
      "text/html": [
       "<pre>Number of feature columns   : 155</pre>"
      ],
      "text/plain": [
       "Number of feature columns   : 155"
      ]
     },
     "metadata": {},
     "output_type": "display_data"
    },
    {
     "data": {
      "text/html": [
       "<pre>Number of unpacked features : 155</pre>"
      ],
      "text/plain": [
       "Number of unpacked features : 155"
      ]
     },
     "metadata": {},
     "output_type": "display_data"
    },
    {
     "data": {
      "text/html": [
       "<pre>Number of coefficients    : 156</pre>"
      ],
      "text/plain": [
       "Number of coefficients    : 156"
      ]
     },
     "metadata": {},
     "output_type": "display_data"
    },
    {
     "data": {
      "text/html": [
       "<pre>Starting L-BFGS</pre>"
      ],
      "text/plain": [
       "Starting L-BFGS"
      ]
     },
     "metadata": {},
     "output_type": "display_data"
    },
    {
     "data": {
      "text/html": [
       "<pre>--------------------------------------------------------</pre>"
      ],
      "text/plain": [
       "--------------------------------------------------------"
      ]
     },
     "metadata": {},
     "output_type": "display_data"
    },
    {
     "data": {
      "text/html": [
       "<pre>+-----------+----------+-----------+--------------+-------------------+---------------------+</pre>"
      ],
      "text/plain": [
       "+-----------+----------+-----------+--------------+-------------------+---------------------+"
      ]
     },
     "metadata": {},
     "output_type": "display_data"
    },
    {
     "data": {
      "text/html": [
       "<pre>| Iteration | Passes   | Step size | Elapsed Time | Training-accuracy | Validation-accuracy |</pre>"
      ],
      "text/plain": [
       "| Iteration | Passes   | Step size | Elapsed Time | Training-accuracy | Validation-accuracy |"
      ]
     },
     "metadata": {},
     "output_type": "display_data"
    },
    {
     "data": {
      "text/html": [
       "<pre>+-----------+----------+-----------+--------------+-------------------+---------------------+</pre>"
      ],
      "text/plain": [
       "+-----------+----------+-----------+--------------+-------------------+---------------------+"
      ]
     },
     "metadata": {},
     "output_type": "display_data"
    },
    {
     "data": {
      "text/html": [
       "<pre>| 1         | 10       | 0.000517  | 0.032482     | 0.520000          | 0.595238            |</pre>"
      ],
      "text/plain": [
       "| 1         | 10       | 0.000517  | 0.032482     | 0.520000          | 0.595238            |"
      ]
     },
     "metadata": {},
     "output_type": "display_data"
    },
    {
     "data": {
      "text/html": [
       "<pre>| 2         | 14       | 0.250000  | 0.061435     | 0.520000          | 0.595238            |</pre>"
      ],
      "text/plain": [
       "| 2         | 14       | 0.250000  | 0.061435     | 0.520000          | 0.595238            |"
      ]
     },
     "metadata": {},
     "output_type": "display_data"
    },
    {
     "data": {
      "text/html": [
       "<pre>| 3         | 15       | 0.250000  | 0.069467     | 0.520000          | 0.595238            |</pre>"
      ],
      "text/plain": [
       "| 3         | 15       | 0.250000  | 0.069467     | 0.520000          | 0.595238            |"
      ]
     },
     "metadata": {},
     "output_type": "display_data"
    },
    {
     "data": {
      "text/html": [
       "<pre>| 4         | 16       | 0.250000  | 0.076358     | 0.528889          | 0.595238            |</pre>"
      ],
      "text/plain": [
       "| 4         | 16       | 0.250000  | 0.076358     | 0.528889          | 0.595238            |"
      ]
     },
     "metadata": {},
     "output_type": "display_data"
    },
    {
     "data": {
      "text/html": [
       "<pre>| 5         | 17       | 0.250000  | 0.083249     | 0.533333          | 0.595238            |</pre>"
      ],
      "text/plain": [
       "| 5         | 17       | 0.250000  | 0.083249     | 0.533333          | 0.595238            |"
      ]
     },
     "metadata": {},
     "output_type": "display_data"
    },
    {
     "data": {
      "text/html": [
       "<pre>| 6         | 18       | 0.250000  | 0.090736     | 0.542222          | 0.595238            |</pre>"
      ],
      "text/plain": [
       "| 6         | 18       | 0.250000  | 0.090736     | 0.542222          | 0.595238            |"
      ]
     },
     "metadata": {},
     "output_type": "display_data"
    },
    {
     "data": {
      "text/html": [
       "<pre>+-----------+----------+-----------+--------------+-------------------+---------------------+</pre>"
      ],
      "text/plain": [
       "+-----------+----------+-----------+--------------+-------------------+---------------------+"
      ]
     },
     "metadata": {},
     "output_type": "display_data"
    },
    {
     "data": {
      "text/html": [
       "<pre>TERMINATED: Iteration limit reached.</pre>"
      ],
      "text/plain": [
       "TERMINATED: Iteration limit reached."
      ]
     },
     "metadata": {},
     "output_type": "display_data"
    },
    {
     "data": {
      "text/html": [
       "<pre>This model may not be optimal. To improve it, consider increasing `max_iterations`.</pre>"
      ],
      "text/plain": [
       "This model may not be optimal. To improve it, consider increasing `max_iterations`."
      ]
     },
     "metadata": {},
     "output_type": "display_data"
    }
   ],
   "source": [
    "openness_model_all = graphlab.svm_classifier.create(train_data,\n",
    "                                                     target='extraversion_ober_2',\n",
    "                                                     features= all_features,\n",
    "                                                     validation_set=test_data)"
   ]
  },
  {
   "cell_type": "code",
   "execution_count": 40,
   "metadata": {
    "collapsed": false
   },
   "outputs": [
    {
     "data": {
      "text/plain": [
       "{'accuracy': 0.7142857142857143, 'confusion_matrix': Columns:\n",
       " \ttarget_label\tint\n",
       " \tpredicted_label\tint\n",
       " \tcount\tint\n",
       " \n",
       " Rows: 4\n",
       " \n",
       " Data:\n",
       " +--------------+-----------------+-------+\n",
       " | target_label | predicted_label | count |\n",
       " +--------------+-----------------+-------+\n",
       " |      -1      |        1        |   6   |\n",
       " |      -1      |        -1       |   11  |\n",
       " |      1       |        -1       |   6   |\n",
       " |      1       |        1        |   19  |\n",
       " +--------------+-----------------+-------+\n",
       " [4 rows x 3 columns], 'f1_score': 0.76, 'precision': 0.76, 'recall': 0.76}"
      ]
     },
     "execution_count": 40,
     "metadata": {},
     "output_type": "execute_result"
    }
   ],
   "source": [
    "openness_model_all.evaluate(test_data)"
   ]
  },
  {
   "cell_type": "markdown",
   "metadata": {},
   "source": [
    "# Verificar boosted trees Mairesse\n"
   ]
  },
  {
   "cell_type": "code",
   "execution_count": 41,
   "metadata": {
    "collapsed": false
   },
   "outputs": [],
   "source": [
    "train_data,test_data = extra_sorted_m.random_split(.8, seed=0)"
   ]
  },
  {
   "cell_type": "code",
   "execution_count": 42,
   "metadata": {
    "collapsed": false
   },
   "outputs": [
    {
     "data": {
      "text/plain": [
       "142"
      ]
     },
     "execution_count": 42,
     "metadata": {},
     "output_type": "execute_result"
    }
   ],
   "source": [
    "len(test_data)"
   ]
  },
  {
   "cell_type": "code",
   "execution_count": 43,
   "metadata": {
    "collapsed": false
   },
   "outputs": [
    {
     "data": {
      "text/html": [
       "<pre>SVM:</pre>"
      ],
      "text/plain": [
       "SVM:"
      ]
     },
     "metadata": {},
     "output_type": "display_data"
    },
    {
     "data": {
      "text/html": [
       "<pre>--------------------------------------------------------</pre>"
      ],
      "text/plain": [
       "--------------------------------------------------------"
      ]
     },
     "metadata": {},
     "output_type": "display_data"
    },
    {
     "data": {
      "text/html": [
       "<pre>Number of examples          : 546</pre>"
      ],
      "text/plain": [
       "Number of examples          : 546"
      ]
     },
     "metadata": {},
     "output_type": "display_data"
    },
    {
     "data": {
      "text/html": [
       "<pre>Number of classes           : 2</pre>"
      ],
      "text/plain": [
       "Number of classes           : 2"
      ]
     },
     "metadata": {},
     "output_type": "display_data"
    },
    {
     "data": {
      "text/html": [
       "<pre>Number of feature columns   : 64</pre>"
      ],
      "text/plain": [
       "Number of feature columns   : 64"
      ]
     },
     "metadata": {},
     "output_type": "display_data"
    },
    {
     "data": {
      "text/html": [
       "<pre>Number of unpacked features : 64</pre>"
      ],
      "text/plain": [
       "Number of unpacked features : 64"
      ]
     },
     "metadata": {},
     "output_type": "display_data"
    },
    {
     "data": {
      "text/html": [
       "<pre>Number of coefficients    : 65</pre>"
      ],
      "text/plain": [
       "Number of coefficients    : 65"
      ]
     },
     "metadata": {},
     "output_type": "display_data"
    },
    {
     "data": {
      "text/html": [
       "<pre>Starting L-BFGS</pre>"
      ],
      "text/plain": [
       "Starting L-BFGS"
      ]
     },
     "metadata": {},
     "output_type": "display_data"
    },
    {
     "data": {
      "text/html": [
       "<pre>--------------------------------------------------------</pre>"
      ],
      "text/plain": [
       "--------------------------------------------------------"
      ]
     },
     "metadata": {},
     "output_type": "display_data"
    },
    {
     "data": {
      "text/html": [
       "<pre>+-----------+----------+-----------+--------------+-------------------+---------------------+</pre>"
      ],
      "text/plain": [
       "+-----------+----------+-----------+--------------+-------------------+---------------------+"
      ]
     },
     "metadata": {},
     "output_type": "display_data"
    },
    {
     "data": {
      "text/html": [
       "<pre>| Iteration | Passes   | Step size | Elapsed Time | Training-accuracy | Validation-accuracy |</pre>"
      ],
      "text/plain": [
       "| Iteration | Passes   | Step size | Elapsed Time | Training-accuracy | Validation-accuracy |"
      ]
     },
     "metadata": {},
     "output_type": "display_data"
    },
    {
     "data": {
      "text/html": [
       "<pre>+-----------+----------+-----------+--------------+-------------------+---------------------+</pre>"
      ],
      "text/plain": [
       "+-----------+----------+-----------+--------------+-------------------+---------------------+"
      ]
     },
     "metadata": {},
     "output_type": "display_data"
    },
    {
     "data": {
      "text/html": [
       "<pre>| 1         | 5        | 0.000458  | 0.013138     | 0.536630          | 0.492958            |</pre>"
      ],
      "text/plain": [
       "| 1         | 5        | 0.000458  | 0.013138     | 0.536630          | 0.492958            |"
      ]
     },
     "metadata": {},
     "output_type": "display_data"
    },
    {
     "data": {
      "text/html": [
       "<pre>| 2         | 11       | 0.194235  | 0.033782     | 0.536630          | 0.492958            |</pre>"
      ],
      "text/plain": [
       "| 2         | 11       | 0.194235  | 0.033782     | 0.536630          | 0.492958            |"
      ]
     },
     "metadata": {},
     "output_type": "display_data"
    },
    {
     "data": {
      "text/html": [
       "<pre>| 3         | 12       | 0.194235  | 0.041365     | 0.536630          | 0.492958            |</pre>"
      ],
      "text/plain": [
       "| 3         | 12       | 0.194235  | 0.041365     | 0.536630          | 0.492958            |"
      ]
     },
     "metadata": {},
     "output_type": "display_data"
    },
    {
     "data": {
      "text/html": [
       "<pre>| 4         | 13       | 0.194235  | 0.050529     | 0.538462          | 0.492958            |</pre>"
      ],
      "text/plain": [
       "| 4         | 13       | 0.194235  | 0.050529     | 0.538462          | 0.492958            |"
      ]
     },
     "metadata": {},
     "output_type": "display_data"
    },
    {
     "data": {
      "text/html": [
       "<pre>| 5         | 14       | 0.194235  | 0.056052     | 0.540293          | 0.492958            |</pre>"
      ],
      "text/plain": [
       "| 5         | 14       | 0.194235  | 0.056052     | 0.540293          | 0.492958            |"
      ]
     },
     "metadata": {},
     "output_type": "display_data"
    },
    {
     "data": {
      "text/html": [
       "<pre>| 6         | 15       | 0.194235  | 0.061928     | 0.540293          | 0.492958            |</pre>"
      ],
      "text/plain": [
       "| 6         | 15       | 0.194235  | 0.061928     | 0.540293          | 0.492958            |"
      ]
     },
     "metadata": {},
     "output_type": "display_data"
    },
    {
     "data": {
      "text/html": [
       "<pre>+-----------+----------+-----------+--------------+-------------------+---------------------+</pre>"
      ],
      "text/plain": [
       "+-----------+----------+-----------+--------------+-------------------+---------------------+"
      ]
     },
     "metadata": {},
     "output_type": "display_data"
    },
    {
     "data": {
      "text/html": [
       "<pre>TERMINATED: Iteration limit reached.</pre>"
      ],
      "text/plain": [
       "TERMINATED: Iteration limit reached."
      ]
     },
     "metadata": {},
     "output_type": "display_data"
    },
    {
     "data": {
      "text/html": [
       "<pre>This model may not be optimal. To improve it, consider increasing `max_iterations`.</pre>"
      ],
      "text/plain": [
       "This model may not be optimal. To improve it, consider increasing `max_iterations`."
      ]
     },
     "metadata": {},
     "output_type": "display_data"
    }
   ],
   "source": [
    "openness_model_liwc = graphlab.svm_classifier.create(train_data,\n",
    "                                                     target='extraversion_m',\n",
    "                                                     features= my_improved_features,\n",
    "                                                     validation_set=test_data)"
   ]
  },
  {
   "cell_type": "code",
   "execution_count": 44,
   "metadata": {
    "collapsed": false
   },
   "outputs": [
    {
     "data": {
      "text/plain": [
       "{'accuracy': 0.49295774647887325, 'confusion_matrix': Columns:\n",
       " \ttarget_label\tint\n",
       " \tpredicted_label\tint\n",
       " \tcount\tint\n",
       " \n",
       " Rows: 2\n",
       " \n",
       " Data:\n",
       " +--------------+-----------------+-------+\n",
       " | target_label | predicted_label | count |\n",
       " +--------------+-----------------+-------+\n",
       " |      1       |        1        |   70  |\n",
       " |      0       |        1        |   72  |\n",
       " +--------------+-----------------+-------+\n",
       " [2 rows x 3 columns], 'f1_score': 0.660377358490566, 'precision': 0.49295774647887325, 'recall': 1.0}"
      ]
     },
     "execution_count": 44,
     "metadata": {},
     "output_type": "execute_result"
    }
   ],
   "source": [
    "openness_model_liwc.evaluate(test_data)"
   ]
  },
  {
   "cell_type": "code",
   "execution_count": 46,
   "metadata": {
    "collapsed": false
   },
   "outputs": [
    {
     "data": {
      "text/html": [
       "<pre>Boosted trees classifier:</pre>"
      ],
      "text/plain": [
       "Boosted trees classifier:"
      ]
     },
     "metadata": {},
     "output_type": "display_data"
    },
    {
     "data": {
      "text/html": [
       "<pre>--------------------------------------------------------</pre>"
      ],
      "text/plain": [
       "--------------------------------------------------------"
      ]
     },
     "metadata": {},
     "output_type": "display_data"
    },
    {
     "data": {
      "text/html": [
       "<pre>Number of examples          : 546</pre>"
      ],
      "text/plain": [
       "Number of examples          : 546"
      ]
     },
     "metadata": {},
     "output_type": "display_data"
    },
    {
     "data": {
      "text/html": [
       "<pre>Number of classes           : 2</pre>"
      ],
      "text/plain": [
       "Number of classes           : 2"
      ]
     },
     "metadata": {},
     "output_type": "display_data"
    },
    {
     "data": {
      "text/html": [
       "<pre>Number of feature columns   : 31</pre>"
      ],
      "text/plain": [
       "Number of feature columns   : 31"
      ]
     },
     "metadata": {},
     "output_type": "display_data"
    },
    {
     "data": {
      "text/html": [
       "<pre>Number of unpacked features : 31</pre>"
      ],
      "text/plain": [
       "Number of unpacked features : 31"
      ]
     },
     "metadata": {},
     "output_type": "display_data"
    },
    {
     "data": {
      "text/html": [
       "<pre>+-----------+--------------+-------------------+-------------------+---------------------+---------------------+</pre>"
      ],
      "text/plain": [
       "+-----------+--------------+-------------------+-------------------+---------------------+---------------------+"
      ]
     },
     "metadata": {},
     "output_type": "display_data"
    },
    {
     "data": {
      "text/html": [
       "<pre>| Iteration | Elapsed Time | Training-accuracy | Training-log_loss | Validation-accuracy | Validation-log_loss |</pre>"
      ],
      "text/plain": [
       "| Iteration | Elapsed Time | Training-accuracy | Training-log_loss | Validation-accuracy | Validation-log_loss |"
      ]
     },
     "metadata": {},
     "output_type": "display_data"
    },
    {
     "data": {
      "text/html": [
       "<pre>+-----------+--------------+-------------------+-------------------+---------------------+---------------------+</pre>"
      ],
      "text/plain": [
       "+-----------+--------------+-------------------+-------------------+---------------------+---------------------+"
      ]
     },
     "metadata": {},
     "output_type": "display_data"
    },
    {
     "data": {
      "text/html": [
       "<pre>| 1         | 0.046032     | 0.824176          | 0.591232          | 0.485915            | 0.709934            |</pre>"
      ],
      "text/plain": [
       "| 1         | 0.046032     | 0.824176          | 0.591232          | 0.485915            | 0.709934            |"
      ]
     },
     "metadata": {},
     "output_type": "display_data"
    },
    {
     "data": {
      "text/html": [
       "<pre>| 2         | 0.052740     | 0.844322          | 0.515496          | 0.514085            | 0.724312            |</pre>"
      ],
      "text/plain": [
       "| 2         | 0.052740     | 0.844322          | 0.515496          | 0.514085            | 0.724312            |"
      ]
     },
     "metadata": {},
     "output_type": "display_data"
    },
    {
     "data": {
      "text/html": [
       "<pre>| 3         | 0.057829     | 0.912088          | 0.449819          | 0.521127            | 0.747092            |</pre>"
      ],
      "text/plain": [
       "| 3         | 0.057829     | 0.912088          | 0.449819          | 0.521127            | 0.747092            |"
      ]
     },
     "metadata": {},
     "output_type": "display_data"
    },
    {
     "data": {
      "text/html": [
       "<pre>| 4         | 0.062382     | 0.945055          | 0.384733          | 0.528169            | 0.779152            |</pre>"
      ],
      "text/plain": [
       "| 4         | 0.062382     | 0.945055          | 0.384733          | 0.528169            | 0.779152            |"
      ]
     },
     "metadata": {},
     "output_type": "display_data"
    },
    {
     "data": {
      "text/html": [
       "<pre>| 5         | 0.066968     | 0.963370          | 0.339885          | 0.528169            | 0.796632            |</pre>"
      ],
      "text/plain": [
       "| 5         | 0.066968     | 0.963370          | 0.339885          | 0.528169            | 0.796632            |"
      ]
     },
     "metadata": {},
     "output_type": "display_data"
    },
    {
     "data": {
      "text/html": [
       "<pre>| 6         | 0.072754     | 0.967033          | 0.304804          | 0.521127            | 0.817567            |</pre>"
      ],
      "text/plain": [
       "| 6         | 0.072754     | 0.967033          | 0.304804          | 0.521127            | 0.817567            |"
      ]
     },
     "metadata": {},
     "output_type": "display_data"
    },
    {
     "data": {
      "text/html": [
       "<pre>+-----------+--------------+-------------------+-------------------+---------------------+---------------------+</pre>"
      ],
      "text/plain": [
       "+-----------+--------------+-------------------+-------------------+---------------------+---------------------+"
      ]
     },
     "metadata": {},
     "output_type": "display_data"
    }
   ],
   "source": [
    "openness_model_social = graphlab.boosted_trees_classifier.create(train_data,\n",
    "                                                     target='extraversion_m',\n",
    "                                                     features= social_features,\n",
    "                                                     validation_set=test_data)"
   ]
  },
  {
   "cell_type": "code",
   "execution_count": 47,
   "metadata": {
    "collapsed": false
   },
   "outputs": [
    {
     "data": {
      "text/plain": [
       "{'accuracy': 0.528169014084507,\n",
       " 'auc': 0.5527777777777776,\n",
       " 'confusion_matrix': Columns:\n",
       " \ttarget_label\tint\n",
       " \tpredicted_label\tint\n",
       " \tcount\tint\n",
       " \n",
       " Rows: 4\n",
       " \n",
       " Data:\n",
       " +--------------+-----------------+-------+\n",
       " | target_label | predicted_label | count |\n",
       " +--------------+-----------------+-------+\n",
       " |      1       |        0        |   23  |\n",
       " |      1       |        1        |   47  |\n",
       " |      0       |        1        |   44  |\n",
       " |      0       |        0        |   28  |\n",
       " +--------------+-----------------+-------+\n",
       " [4 rows x 3 columns],\n",
       " 'f1_score': 0.5838509316770187,\n",
       " 'log_loss': 0.8466889219006326,\n",
       " 'precision': 0.5164835164835165,\n",
       " 'recall': 0.6714285714285714,\n",
       " 'roc_curve': Columns:\n",
       " \tthreshold\tfloat\n",
       " \tfpr\tfloat\n",
       " \ttpr\tfloat\n",
       " \tp\tint\n",
       " \tn\tint\n",
       " \n",
       " Rows: 100001\n",
       " \n",
       " Data:\n",
       " +-----------+-----+-----+----+----+\n",
       " | threshold | fpr | tpr | p  | n  |\n",
       " +-----------+-----+-----+----+----+\n",
       " |    0.0    | 1.0 | 1.0 | 70 | 72 |\n",
       " |   1e-05   | 1.0 | 1.0 | 70 | 72 |\n",
       " |   2e-05   | 1.0 | 1.0 | 70 | 72 |\n",
       " |   3e-05   | 1.0 | 1.0 | 70 | 72 |\n",
       " |   4e-05   | 1.0 | 1.0 | 70 | 72 |\n",
       " |   5e-05   | 1.0 | 1.0 | 70 | 72 |\n",
       " |   6e-05   | 1.0 | 1.0 | 70 | 72 |\n",
       " |   7e-05   | 1.0 | 1.0 | 70 | 72 |\n",
       " |   8e-05   | 1.0 | 1.0 | 70 | 72 |\n",
       " |   9e-05   | 1.0 | 1.0 | 70 | 72 |\n",
       " +-----------+-----+-----+----+----+\n",
       " [100001 rows x 5 columns]\n",
       " Note: Only the head of the SFrame is printed.\n",
       " You can use print_rows(num_rows=m, num_columns=n) to print more rows and columns.}"
      ]
     },
     "execution_count": 47,
     "metadata": {},
     "output_type": "execute_result"
    }
   ],
   "source": [
    "openness_model_social.evaluate(test_data)"
   ]
  },
  {
   "cell_type": "code",
   "execution_count": null,
   "metadata": {
    "collapsed": false,
    "scrolled": true
   },
   "outputs": [],
   "source": [
    "openness_model_grammar = graphlab.svm_classifier.create(train_data,\n",
    "                                                     target='extraversion_m',\n",
    "                                                     features= gramatical_features,\n",
    "                                                     validation_set=test_data)"
   ]
  },
  {
   "cell_type": "code",
   "execution_count": null,
   "metadata": {
    "collapsed": false
   },
   "outputs": [],
   "source": [
    "openness_model_grammar.evaluate(test_data)"
   ]
  },
  {
   "cell_type": "code",
   "execution_count": null,
   "metadata": {
    "collapsed": true
   },
   "outputs": [],
   "source": [
    "filter_data = ['superlat','emo..1','emph','X64filler','verb.pro','V2p','proTrat','X61death','reflexa','X4i','X44hear','hashtags','X8they','X38certain','X32sad','X46bio','numM','links','skip','emo..','aument','SIGLA','numbers','foreign','laugh','homograph','names','X59money']"
   ]
  },
  {
   "cell_type": "code",
   "execution_count": null,
   "metadata": {
    "collapsed": false
   },
   "outputs": [],
   "source": [
    "openness_model_filter = graphlab.svm_classifier.create(train_data,\n",
    "                                                     target='extraversion_m',\n",
    "                                                     features= filter_data,\n",
    "                                                     validation_set=test_data)"
   ]
  },
  {
   "cell_type": "code",
   "execution_count": null,
   "metadata": {
    "collapsed": false
   },
   "outputs": [],
   "source": [
    "openness_model_filter.evaluate(test_data)"
   ]
  },
  {
   "cell_type": "code",
   "execution_count": null,
   "metadata": {
    "collapsed": false,
    "scrolled": false
   },
   "outputs": [],
   "source": [
    "openness_model_all = graphlab.svm_classifier.create(train_data,\n",
    "                                                     target='extraversion_m',\n",
    "                                                     features= all_features,\n",
    "                                                     validation_set=test_data)"
   ]
  },
  {
   "cell_type": "code",
   "execution_count": null,
   "metadata": {
    "collapsed": false
   },
   "outputs": [],
   "source": [
    "openness_model_all.evaluate(test_data)"
   ]
  },
  {
   "cell_type": "code",
   "execution_count": null,
   "metadata": {
    "collapsed": false
   },
   "outputs": [],
   "source": [
    "openness_model_all['coefficients'].sort('value').print_rows(num_rows=156)"
   ]
  }
 ],
 "metadata": {
  "kernelspec": {
   "display_name": "Python 2",
   "language": "python",
   "name": "python2"
  },
  "language_info": {
   "codemirror_mode": {
    "name": "ipython",
    "version": 2
   },
   "file_extension": ".py",
   "mimetype": "text/x-python",
   "name": "python",
   "nbconvert_exporter": "python",
   "pygments_lexer": "ipython2",
   "version": "2.7.12"
  }
 },
 "nbformat": 4,
 "nbformat_minor": 0
}
