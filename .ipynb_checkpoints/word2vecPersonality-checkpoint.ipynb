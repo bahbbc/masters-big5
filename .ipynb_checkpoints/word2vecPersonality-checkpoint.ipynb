{
 "cells": [
  {
   "cell_type": "code",
   "execution_count": 88,
   "metadata": {
    "collapsed": false
   },
   "outputs": [],
   "source": [
    "import logging\n",
    "logging.root.handlers = []  # Jupyter messes up logging so needs a reset\n",
    "logging.basicConfig(format='%(asctime)s : %(levelname)s : %(message)s', level=logging.INFO)\n",
    "from smart_open import smart_open\n",
    "import pandas as pd\n",
    "import numpy as np\n",
    "from numpy import random\n",
    "import gensim\n",
    "import nltk\n",
    "from sklearn.cross_validation import train_test_split\n",
    "from sklearn import linear_model\n",
    "from sklearn.feature_extraction.text import CountVectorizer, TfidfVectorizer\n",
    "from sklearn.metrics import accuracy_score, confusion_matrix\n",
    "import matplotlib.pyplot as plt\n",
    "from gensim.models import Word2Vec\n",
    "from sklearn.neighbors import KNeighborsClassifier\n",
    "from sklearn import linear_model\n",
    "from nltk.corpus import stopwords\n",
    "import os, codecs\n",
    "%matplotlib inline"
   ]
  },
  {
   "cell_type": "code",
   "execution_count": 89,
   "metadata": {
    "collapsed": true
   },
   "outputs": [],
   "source": [
    "class MySentences(object):\n",
    "    def __init__(self, dirname):\n",
    "        self.dirname = dirname\n",
    " \n",
    "    def __iter__(self):\n",
    "        for fname in os.listdir(self.dirname):\n",
    "            for line in codecs.open(os.path.join(self.dirname, fname)) :\n",
    "                yield line.split()"
   ]
  },
  {
   "cell_type": "code",
   "execution_count": 121,
   "metadata": {
    "collapsed": false
   },
   "outputs": [],
   "source": [
    "sentences = MySentences('/home/bahbbc/Documents/teste-personalidade') # a memory-friendly iterator"
   ]
  },
  {
   "cell_type": "code",
   "execution_count": 122,
   "metadata": {
    "collapsed": false,
    "scrolled": true
   },
   "outputs": [
    {
     "name": "stderr",
     "output_type": "stream",
     "text": [
      "2017-02-11 10:23:09,447 : INFO : collecting all words and their counts\n",
      "2017-02-11 10:23:09,450 : INFO : PROGRESS: at sentence #0, processed 0 words, keeping 0 word types\n",
      "2017-02-11 10:23:09,514 : INFO : PROGRESS: at sentence #10000, processed 98661 words, keeping 27955 word types\n",
      "2017-02-11 10:23:09,563 : INFO : PROGRESS: at sentence #20000, processed 203143 words, keeping 49341 word types\n",
      "2017-02-11 10:23:09,601 : INFO : PROGRESS: at sentence #30000, processed 292582 words, keeping 64869 word types\n",
      "2017-02-11 10:23:09,647 : INFO : PROGRESS: at sentence #40000, processed 396167 words, keeping 81156 word types\n",
      "2017-02-11 10:23:09,697 : INFO : PROGRESS: at sentence #50000, processed 493400 words, keeping 95005 word types\n",
      "2017-02-11 10:23:09,739 : INFO : PROGRESS: at sentence #60000, processed 589134 words, keeping 108568 word types\n",
      "2017-02-11 10:23:09,778 : INFO : PROGRESS: at sentence #70000, processed 676484 words, keeping 119972 word types\n",
      "2017-02-11 10:23:09,827 : INFO : PROGRESS: at sentence #80000, processed 795993 words, keeping 133590 word types\n",
      "2017-02-11 10:23:09,873 : INFO : PROGRESS: at sentence #90000, processed 906895 words, keeping 146634 word types\n",
      "2017-02-11 10:23:09,917 : INFO : PROGRESS: at sentence #100000, processed 1002821 words, keeping 158366 word types\n",
      "2017-02-11 10:23:09,963 : INFO : PROGRESS: at sentence #110000, processed 1103663 words, keeping 170182 word types\n",
      "2017-02-11 10:23:10,015 : INFO : PROGRESS: at sentence #120000, processed 1195050 words, keeping 180481 word types\n",
      "2017-02-11 10:23:10,056 : INFO : PROGRESS: at sentence #130000, processed 1285432 words, keeping 190921 word types\n",
      "2017-02-11 10:23:10,099 : INFO : PROGRESS: at sentence #140000, processed 1376866 words, keeping 200532 word types\n",
      "2017-02-11 10:23:10,144 : INFO : PROGRESS: at sentence #150000, processed 1474032 words, keeping 210517 word types\n",
      "2017-02-11 10:23:10,191 : INFO : PROGRESS: at sentence #160000, processed 1576047 words, keeping 221053 word types\n",
      "2017-02-11 10:23:10,234 : INFO : PROGRESS: at sentence #170000, processed 1670044 words, keeping 230518 word types\n",
      "2017-02-11 10:23:10,285 : INFO : PROGRESS: at sentence #180000, processed 1779374 words, keeping 241337 word types\n",
      "2017-02-11 10:23:10,329 : INFO : PROGRESS: at sentence #190000, processed 1870578 words, keeping 249592 word types\n",
      "2017-02-11 10:23:10,373 : INFO : PROGRESS: at sentence #200000, processed 1960342 words, keeping 259200 word types\n",
      "2017-02-11 10:23:10,418 : INFO : PROGRESS: at sentence #210000, processed 2051895 words, keeping 267875 word types\n",
      "2017-02-11 10:23:10,466 : INFO : PROGRESS: at sentence #220000, processed 2157737 words, keeping 277623 word types\n",
      "2017-02-11 10:23:10,511 : INFO : PROGRESS: at sentence #230000, processed 2250654 words, keeping 286187 word types\n",
      "2017-02-11 10:23:10,528 : INFO : collected 288722 word types from a corpus of 2272383 raw words and 232478 sentences\n",
      "2017-02-11 10:23:10,529 : INFO : Loading a fresh vocabulary\n",
      "2017-02-11 10:23:14,186 : INFO : min_count=1 retains 288722 unique words (100% of original 288722, drops 0)\n",
      "2017-02-11 10:23:14,191 : INFO : min_count=1 leaves 2272383 word corpus (100% of original 2272383, drops 0)\n",
      "2017-02-11 10:23:14,909 : INFO : deleting the raw counts dictionary of 288722 items\n",
      "2017-02-11 10:23:14,915 : INFO : sample=0.001 downsamples 32 most-common words\n",
      "2017-02-11 10:23:14,916 : INFO : downsampling leaves estimated 1953527 word corpus (86.0% of prior 2272383)\n",
      "2017-02-11 10:23:14,917 : INFO : estimated required memory for 288722 words and 300 dimensions: 837293800 bytes\n",
      "2017-02-11 10:23:15,796 : INFO : resetting layer weights\n",
      "2017-02-11 10:23:19,615 : INFO : training model with 40 workers on 288722 vocabulary and 300 features, using sg=0 hs=0 sample=0.001 negative=5 window=10\n",
      "2017-02-11 10:23:19,615 : INFO : expecting 232478 sentences, matching count from corpus used for vocabulary survey\n",
      "2017-02-11 10:23:20,641 : INFO : PROGRESS: at 3.74% examples, 365584 words/s, in_qsize 0, out_qsize 0\n",
      "2017-02-11 10:23:21,710 : INFO : PROGRESS: at 8.16% examples, 398982 words/s, in_qsize 0, out_qsize 0\n",
      "2017-02-11 10:23:22,714 : INFO : PROGRESS: at 11.74% examples, 375317 words/s, in_qsize 0, out_qsize 0\n",
      "2017-02-11 10:23:23,714 : INFO : PROGRESS: at 15.03% examples, 361306 words/s, in_qsize 0, out_qsize 0\n",
      "2017-02-11 10:23:24,762 : INFO : PROGRESS: at 18.01% examples, 343613 words/s, in_qsize 0, out_qsize 0\n",
      "2017-02-11 10:23:25,841 : INFO : PROGRESS: at 21.38% examples, 337151 words/s, in_qsize 0, out_qsize 1\n",
      "2017-02-11 10:23:26,855 : INFO : PROGRESS: at 24.93% examples, 337290 words/s, in_qsize 0, out_qsize 1\n",
      "2017-02-11 10:23:27,875 : INFO : PROGRESS: at 28.17% examples, 335847 words/s, in_qsize 0, out_qsize 0\n",
      "2017-02-11 10:23:28,875 : INFO : PROGRESS: at 31.59% examples, 335013 words/s, in_qsize 0, out_qsize 0\n",
      "2017-02-11 10:23:29,900 : INFO : PROGRESS: at 34.00% examples, 324168 words/s, in_qsize 0, out_qsize 0\n",
      "2017-02-11 10:23:30,921 : INFO : PROGRESS: at 38.04% examples, 329425 words/s, in_qsize 0, out_qsize 0\n",
      "2017-02-11 10:23:31,920 : INFO : PROGRESS: at 42.69% examples, 339386 words/s, in_qsize 0, out_qsize 0\n",
      "2017-02-11 10:23:32,922 : INFO : PROGRESS: at 46.51% examples, 342671 words/s, in_qsize 0, out_qsize 0\n",
      "2017-02-11 10:23:33,953 : INFO : PROGRESS: at 49.06% examples, 335855 words/s, in_qsize 0, out_qsize 0\n",
      "2017-02-11 10:23:34,992 : INFO : PROGRESS: at 53.31% examples, 339528 words/s, in_qsize 0, out_qsize 1\n",
      "2017-02-11 10:23:36,004 : INFO : PROGRESS: at 57.37% examples, 342630 words/s, in_qsize 0, out_qsize 0\n",
      "2017-02-11 10:23:37,011 : INFO : PROGRESS: at 61.12% examples, 344065 words/s, in_qsize 0, out_qsize 1\n",
      "2017-02-11 10:23:38,338 : INFO : PROGRESS: at 64.90% examples, 339324 words/s, in_qsize 0, out_qsize 0\n",
      "2017-02-11 10:23:39,352 : INFO : PROGRESS: at 68.74% examples, 341576 words/s, in_qsize 0, out_qsize 1\n",
      "2017-02-11 10:23:40,350 : INFO : PROGRESS: at 72.60% examples, 342818 words/s, in_qsize 0, out_qsize 0\n",
      "2017-02-11 10:23:41,352 : INFO : PROGRESS: at 76.95% examples, 346348 words/s, in_qsize 0, out_qsize 0\n",
      "2017-02-11 10:23:42,356 : INFO : PROGRESS: at 79.60% examples, 342394 words/s, in_qsize 0, out_qsize 0\n",
      "2017-02-11 10:23:43,692 : INFO : PROGRESS: at 82.55% examples, 335180 words/s, in_qsize 0, out_qsize 1\n",
      "2017-02-11 10:23:44,695 : INFO : PROGRESS: at 86.64% examples, 338118 words/s, in_qsize 0, out_qsize 1\n",
      "2017-02-11 10:23:45,698 : INFO : PROGRESS: at 90.59% examples, 340217 words/s, in_qsize 0, out_qsize 0\n",
      "2017-02-11 10:23:46,733 : INFO : PROGRESS: at 93.96% examples, 338970 words/s, in_qsize 0, out_qsize 0\n",
      "2017-02-11 10:23:47,750 : INFO : PROGRESS: at 98.01% examples, 340441 words/s, in_qsize 0, out_qsize 0\n",
      "2017-02-11 10:23:48,490 : INFO : worker thread finished; awaiting finish of 39 more threads\n",
      "2017-02-11 10:23:48,496 : INFO : worker thread finished; awaiting finish of 38 more threads\n",
      "2017-02-11 10:23:48,501 : INFO : worker thread finished; awaiting finish of 37 more threads\n",
      "2017-02-11 10:23:48,509 : INFO : worker thread finished; awaiting finish of 36 more threads\n",
      "2017-02-11 10:23:48,512 : INFO : worker thread finished; awaiting finish of 35 more threads\n",
      "2017-02-11 10:23:48,521 : INFO : worker thread finished; awaiting finish of 34 more threads\n",
      "2017-02-11 10:23:48,523 : INFO : worker thread finished; awaiting finish of 33 more threads\n",
      "2017-02-11 10:23:48,524 : INFO : worker thread finished; awaiting finish of 32 more threads\n",
      "2017-02-11 10:23:48,525 : INFO : worker thread finished; awaiting finish of 31 more threads\n",
      "2017-02-11 10:23:48,526 : INFO : worker thread finished; awaiting finish of 30 more threads\n",
      "2017-02-11 10:23:48,527 : INFO : worker thread finished; awaiting finish of 29 more threads\n",
      "2017-02-11 10:23:48,528 : INFO : worker thread finished; awaiting finish of 28 more threads\n",
      "2017-02-11 10:23:48,530 : INFO : worker thread finished; awaiting finish of 27 more threads\n",
      "2017-02-11 10:23:48,531 : INFO : worker thread finished; awaiting finish of 26 more threads\n",
      "2017-02-11 10:23:48,533 : INFO : worker thread finished; awaiting finish of 25 more threads\n",
      "2017-02-11 10:23:48,534 : INFO : worker thread finished; awaiting finish of 24 more threads\n",
      "2017-02-11 10:23:48,535 : INFO : worker thread finished; awaiting finish of 23 more threads\n",
      "2017-02-11 10:23:48,536 : INFO : worker thread finished; awaiting finish of 22 more threads\n",
      "2017-02-11 10:23:48,538 : INFO : worker thread finished; awaiting finish of 21 more threads\n",
      "2017-02-11 10:23:48,539 : INFO : worker thread finished; awaiting finish of 20 more threads\n",
      "2017-02-11 10:23:48,540 : INFO : worker thread finished; awaiting finish of 19 more threads\n",
      "2017-02-11 10:23:48,541 : INFO : worker thread finished; awaiting finish of 18 more threads\n",
      "2017-02-11 10:23:48,542 : INFO : worker thread finished; awaiting finish of 17 more threads\n",
      "2017-02-11 10:23:48,543 : INFO : worker thread finished; awaiting finish of 16 more threads\n",
      "2017-02-11 10:23:48,545 : INFO : worker thread finished; awaiting finish of 15 more threads\n",
      "2017-02-11 10:23:48,547 : INFO : worker thread finished; awaiting finish of 14 more threads\n",
      "2017-02-11 10:23:48,548 : INFO : worker thread finished; awaiting finish of 13 more threads\n",
      "2017-02-11 10:23:48,549 : INFO : worker thread finished; awaiting finish of 12 more threads\n",
      "2017-02-11 10:23:48,550 : INFO : worker thread finished; awaiting finish of 11 more threads\n",
      "2017-02-11 10:23:48,551 : INFO : worker thread finished; awaiting finish of 10 more threads\n",
      "2017-02-11 10:23:48,552 : INFO : worker thread finished; awaiting finish of 9 more threads\n",
      "2017-02-11 10:23:48,553 : INFO : worker thread finished; awaiting finish of 8 more threads\n",
      "2017-02-11 10:23:48,553 : INFO : worker thread finished; awaiting finish of 7 more threads\n",
      "2017-02-11 10:23:48,555 : INFO : worker thread finished; awaiting finish of 6 more threads\n",
      "2017-02-11 10:23:48,556 : INFO : worker thread finished; awaiting finish of 5 more threads\n",
      "2017-02-11 10:23:48,557 : INFO : worker thread finished; awaiting finish of 4 more threads\n",
      "2017-02-11 10:23:48,558 : INFO : worker thread finished; awaiting finish of 3 more threads\n",
      "2017-02-11 10:23:48,559 : INFO : worker thread finished; awaiting finish of 2 more threads\n",
      "2017-02-11 10:23:48,560 : INFO : worker thread finished; awaiting finish of 1 more threads\n",
      "2017-02-11 10:23:48,560 : INFO : worker thread finished; awaiting finish of 0 more threads\n",
      "2017-02-11 10:23:48,561 : INFO : training on 11361915 raw words (9768167 effective words) took 28.9s, 337665 effective words/s\n"
     ]
    }
   ],
   "source": [
    "logging.basicConfig(format='%(asctime)s : %(levelname)s : %(message)s', level=logging.INFO)\n",
    "num_features = 300\n",
    "min_word_count = 1   # Minimum word count                        \n",
    "num_workers = 40       # Number of threads to run in parallel\n",
    "context = 10          # Context window size                                                                                    \n",
    "\n",
    "model = gensim.models.Word2Vec(sentences, workers=num_workers, \\\n",
    "            size=num_features, min_count = min_word_count, window = context)"
   ]
  },
  {
   "cell_type": "code",
   "execution_count": 123,
   "metadata": {
    "collapsed": false
   },
   "outputs": [
    {
     "ename": "TypeError",
     "evalue": "save_word2vec_format() got an unexpected keyword argument 'encoding'",
     "output_type": "error",
     "traceback": [
      "\u001b[0;31m---------------------------------------------------------------------------\u001b[0m",
      "\u001b[0;31mTypeError\u001b[0m                                 Traceback (most recent call last)",
      "\u001b[0;32m<ipython-input-123-cfd1027d5bd2>\u001b[0m in \u001b[0;36m<module>\u001b[0;34m()\u001b[0m\n\u001b[0;32m----> 1\u001b[0;31m \u001b[0mmodel\u001b[0m\u001b[0;34m.\u001b[0m\u001b[0msave_word2vec_format\u001b[0m\u001b[0;34m(\u001b[0m\u001b[0;34m'/home/bahbbc/Documents/personality_1'\u001b[0m\u001b[0;34m,\u001b[0m \u001b[0mencoding\u001b[0m\u001b[0;34m=\u001b[0m\u001b[0;34m'utf8'\u001b[0m\u001b[0;34m)\u001b[0m\u001b[0;34m\u001b[0m\u001b[0m\n\u001b[0m",
      "\u001b[0;31mTypeError\u001b[0m: save_word2vec_format() got an unexpected keyword argument 'encoding'"
     ]
    }
   ],
   "source": [
    "model.save_word2vec_format('/home/bahbbc/Documents/personality_1')"
   ]
  },
  {
   "cell_type": "code",
   "execution_count": 125,
   "metadata": {
    "collapsed": false
   },
   "outputs": [
    {
     "name": "stderr",
     "output_type": "stream",
     "text": [
      "2017-02-11 10:25:45,186 : INFO : loading projection weights from /home/bahbbc/Documents/personality_1\n"
     ]
    },
    {
     "ename": "UnicodeDecodeError",
     "evalue": "'utf8' codec can't decode byte 0x80 in position 0: invalid start byte",
     "output_type": "error",
     "traceback": [
      "\u001b[0;31m---------------------------------------------------------------------------\u001b[0m",
      "\u001b[0;31mUnicodeDecodeError\u001b[0m                        Traceback (most recent call last)",
      "\u001b[0;32m<ipython-input-125-6b381d4e2abb>\u001b[0m in \u001b[0;36m<module>\u001b[0;34m()\u001b[0m\n\u001b[0;32m----> 1\u001b[0;31m \u001b[0mmodel\u001b[0m \u001b[0;34m=\u001b[0m \u001b[0mgensim\u001b[0m\u001b[0;34m.\u001b[0m\u001b[0mmodels\u001b[0m\u001b[0;34m.\u001b[0m\u001b[0mWord2Vec\u001b[0m\u001b[0;34m.\u001b[0m\u001b[0mload_word2vec_format\u001b[0m\u001b[0;34m(\u001b[0m\u001b[0;34m'/home/bahbbc/Documents/personality_1'\u001b[0m\u001b[0;34m,\u001b[0m \u001b[0municode_errors\u001b[0m\u001b[0;34m=\u001b[0m\u001b[0;34m'ignore'\u001b[0m\u001b[0;34m)\u001b[0m\u001b[0;34m\u001b[0m\u001b[0m\n\u001b[0m\u001b[1;32m      2\u001b[0m \u001b[0;31m#model = Word2Vec.load_word2vec_format('/home/bahbbc/Documents/teste-personalidade/personality_1',binary=True)\u001b[0m\u001b[0;34m\u001b[0m\u001b[0;34m\u001b[0m\u001b[0m\n\u001b[1;32m      3\u001b[0m \u001b[0mmodel\u001b[0m\u001b[0;34m.\u001b[0m\u001b[0minit_sims\u001b[0m\u001b[0;34m(\u001b[0m\u001b[0mreplace\u001b[0m\u001b[0;34m=\u001b[0m\u001b[0mTrue\u001b[0m\u001b[0;34m)\u001b[0m\u001b[0;34m\u001b[0m\u001b[0m\n",
      "\u001b[0;32m/usr/lib64/python2.7/site-packages/gensim/models/word2vec.pyc\u001b[0m in \u001b[0;36mload_word2vec_format\u001b[0;34m(cls, fname, fvocab, binary, encoding, unicode_errors, limit, datatype)\u001b[0m\n\u001b[1;32m   1171\u001b[0m         \u001b[0mlogger\u001b[0m\u001b[0;34m.\u001b[0m\u001b[0minfo\u001b[0m\u001b[0;34m(\u001b[0m\u001b[0;34m\"loading projection weights from %s\"\u001b[0m\u001b[0;34m,\u001b[0m \u001b[0mfname\u001b[0m\u001b[0;34m)\u001b[0m\u001b[0;34m\u001b[0m\u001b[0m\n\u001b[1;32m   1172\u001b[0m         \u001b[0;32mwith\u001b[0m \u001b[0mutils\u001b[0m\u001b[0;34m.\u001b[0m\u001b[0msmart_open\u001b[0m\u001b[0;34m(\u001b[0m\u001b[0mfname\u001b[0m\u001b[0;34m)\u001b[0m \u001b[0;32mas\u001b[0m \u001b[0mfin\u001b[0m\u001b[0;34m:\u001b[0m\u001b[0;34m\u001b[0m\u001b[0m\n\u001b[0;32m-> 1173\u001b[0;31m             \u001b[0mheader\u001b[0m \u001b[0;34m=\u001b[0m \u001b[0mutils\u001b[0m\u001b[0;34m.\u001b[0m\u001b[0mto_unicode\u001b[0m\u001b[0;34m(\u001b[0m\u001b[0mfin\u001b[0m\u001b[0;34m.\u001b[0m\u001b[0mreadline\u001b[0m\u001b[0;34m(\u001b[0m\u001b[0;34m)\u001b[0m\u001b[0;34m,\u001b[0m \u001b[0mencoding\u001b[0m\u001b[0;34m=\u001b[0m\u001b[0mencoding\u001b[0m\u001b[0;34m)\u001b[0m\u001b[0;34m\u001b[0m\u001b[0m\n\u001b[0m\u001b[1;32m   1174\u001b[0m             \u001b[0mvocab_size\u001b[0m\u001b[0;34m,\u001b[0m \u001b[0mvector_size\u001b[0m \u001b[0;34m=\u001b[0m \u001b[0mmap\u001b[0m\u001b[0;34m(\u001b[0m\u001b[0mint\u001b[0m\u001b[0;34m,\u001b[0m \u001b[0mheader\u001b[0m\u001b[0;34m.\u001b[0m\u001b[0msplit\u001b[0m\u001b[0;34m(\u001b[0m\u001b[0;34m)\u001b[0m\u001b[0;34m)\u001b[0m  \u001b[0;31m# throws for invalid file format\u001b[0m\u001b[0;34m\u001b[0m\u001b[0m\n\u001b[1;32m   1175\u001b[0m             \u001b[0;32mif\u001b[0m \u001b[0mlimit\u001b[0m\u001b[0;34m:\u001b[0m\u001b[0;34m\u001b[0m\u001b[0m\n",
      "\u001b[0;32m/usr/lib64/python2.7/site-packages/gensim/utils.pyc\u001b[0m in \u001b[0;36many2unicode\u001b[0;34m(text, encoding, errors)\u001b[0m\n\u001b[1;32m    229\u001b[0m     \u001b[0;32mif\u001b[0m \u001b[0misinstance\u001b[0m\u001b[0;34m(\u001b[0m\u001b[0mtext\u001b[0m\u001b[0;34m,\u001b[0m \u001b[0municode\u001b[0m\u001b[0;34m)\u001b[0m\u001b[0;34m:\u001b[0m\u001b[0;34m\u001b[0m\u001b[0m\n\u001b[1;32m    230\u001b[0m         \u001b[0;32mreturn\u001b[0m \u001b[0mtext\u001b[0m\u001b[0;34m\u001b[0m\u001b[0m\n\u001b[0;32m--> 231\u001b[0;31m     \u001b[0;32mreturn\u001b[0m \u001b[0municode\u001b[0m\u001b[0;34m(\u001b[0m\u001b[0mtext\u001b[0m\u001b[0;34m,\u001b[0m \u001b[0mencoding\u001b[0m\u001b[0;34m,\u001b[0m \u001b[0merrors\u001b[0m\u001b[0;34m=\u001b[0m\u001b[0merrors\u001b[0m\u001b[0;34m)\u001b[0m\u001b[0;34m\u001b[0m\u001b[0m\n\u001b[0m\u001b[1;32m    232\u001b[0m \u001b[0mto_unicode\u001b[0m \u001b[0;34m=\u001b[0m \u001b[0many2unicode\u001b[0m\u001b[0;34m\u001b[0m\u001b[0m\n\u001b[1;32m    233\u001b[0m \u001b[0;34m\u001b[0m\u001b[0m\n",
      "\u001b[0;32m/usr/lib64/python2.7/encodings/utf_8.pyc\u001b[0m in \u001b[0;36mdecode\u001b[0;34m(input, errors)\u001b[0m\n\u001b[1;32m     14\u001b[0m \u001b[0;34m\u001b[0m\u001b[0m\n\u001b[1;32m     15\u001b[0m \u001b[0;32mdef\u001b[0m \u001b[0mdecode\u001b[0m\u001b[0;34m(\u001b[0m\u001b[0minput\u001b[0m\u001b[0;34m,\u001b[0m \u001b[0merrors\u001b[0m\u001b[0;34m=\u001b[0m\u001b[0;34m'strict'\u001b[0m\u001b[0;34m)\u001b[0m\u001b[0;34m:\u001b[0m\u001b[0;34m\u001b[0m\u001b[0m\n\u001b[0;32m---> 16\u001b[0;31m     \u001b[0;32mreturn\u001b[0m \u001b[0mcodecs\u001b[0m\u001b[0;34m.\u001b[0m\u001b[0mutf_8_decode\u001b[0m\u001b[0;34m(\u001b[0m\u001b[0minput\u001b[0m\u001b[0;34m,\u001b[0m \u001b[0merrors\u001b[0m\u001b[0;34m,\u001b[0m \u001b[0mTrue\u001b[0m\u001b[0;34m)\u001b[0m\u001b[0;34m\u001b[0m\u001b[0m\n\u001b[0m\u001b[1;32m     17\u001b[0m \u001b[0;34m\u001b[0m\u001b[0m\n\u001b[1;32m     18\u001b[0m \u001b[0;32mclass\u001b[0m \u001b[0mIncrementalEncoder\u001b[0m\u001b[0;34m(\u001b[0m\u001b[0mcodecs\u001b[0m\u001b[0;34m.\u001b[0m\u001b[0mIncrementalEncoder\u001b[0m\u001b[0;34m)\u001b[0m\u001b[0;34m:\u001b[0m\u001b[0;34m\u001b[0m\u001b[0m\n",
      "\u001b[0;31mUnicodeDecodeError\u001b[0m: 'utf8' codec can't decode byte 0x80 in position 0: invalid start byte"
     ]
    }
   ],
   "source": [
    "model = gensim.models.Word2Vec.load_word2vec_format('/home/bahbbc/Documents/personality_1', unicode_errors='ignore', unicode_errors='ignore')\n",
    "#model = Word2Vec.load_word2vec_format('/home/bahbbc/Documents/teste-personalidade/personality_1',binary=True)\n",
    "model.init_sims(replace=True)"
   ]
  },
  {
   "cell_type": "code",
   "execution_count": 77,
   "metadata": {
    "collapsed": false
   },
   "outputs": [
    {
     "name": "stdout",
     "output_type": "stream",
     "text": [
      "0.797608353166\n"
     ]
    }
   ],
   "source": [
    "print(model.similarity('hj', 'hoje'))"
   ]
  },
  {
   "cell_type": "code",
   "execution_count": 78,
   "metadata": {
    "collapsed": false
   },
   "outputs": [
    {
     "name": "stdout",
     "output_type": "stream",
     "text": [
      "[('Kkkk', 0.9906569719314575), ('kkkkkkk', 0.9866426587104797), ('kkkk\"', 0.9850311279296875), ('kkkkkkkkk', 0.9848837852478027), ('Hahahaha', 0.9847621321678162), ('kkkkkkkkkkk', 0.9838953614234924), (\"'-'\", 0.9832543134689331), ('hahahahaha', 0.9807511568069458), ('Hahaha', 0.980538010597229), (\":'(\", 0.9804204702377319)]\n"
     ]
    }
   ],
   "source": [
    "print(model.most_similar(positive=['rsrsrs', 'kkk']))"
   ]
  },
  {
   "cell_type": "code",
   "execution_count": 79,
   "metadata": {
    "collapsed": false
   },
   "outputs": [
    {
     "name": "stdout",
     "output_type": "stream",
     "text": [
      "[(':D\"', 0.9782396554946899), ('=D', 0.9776750206947327), ('\\xc3\\x9altima', 0.9666768908500671), ('Cupcakes', 0.965364396572113), ('top', 0.9652829170227051), ('!!!\"', 0.9649847745895386), ('=]', 0.9649327397346497), ('Morrendo', 0.9646738767623901), ('Jack,', 0.9644361138343811), ('oficialmente', 0.9639118909835815)]\n"
     ]
    }
   ],
   "source": [
    "print(model.most_similar(positive=['=O', ':D']))"
   ]
  },
  {
   "cell_type": "code",
   "execution_count": 80,
   "metadata": {
    "collapsed": false
   },
   "outputs": [
    {
     "name": "stdout",
     "output_type": "stream",
     "text": [
      "[('pequeno,', 0.9409868121147156), ('velho', 0.9355899691581726), ('copo', 0.9297826290130615), ('neg\\xc3\\xb3cio', 0.9287276268005371), ('her\\xc3\\xb3i', 0.9266114830970764), ('palha\\xc3\\xa7o', 0.9251065254211426), ('calor', 0.9250134229660034), ('toma', 0.9250063300132751), ('gol', 0.9244752526283264), ('filme', 0.9219465255737305)]\n"
     ]
    }
   ],
   "source": [
    "print(model.most_similar(positive=['gato', 'cachorro']))"
   ]
  },
  {
   "cell_type": "markdown",
   "metadata": {},
   "source": [
    "### Verify model with personality"
   ]
  },
  {
   "cell_type": "code",
   "execution_count": 97,
   "metadata": {
    "collapsed": false
   },
   "outputs": [
    {
     "data": {
      "text/plain": [
       "2       0\n",
       "3       1\n",
       "6       1\n",
       "7       1\n",
       "12      0\n",
       "13      1\n",
       "16      1\n",
       "17      1\n",
       "18      1\n",
       "19      0\n",
       "21      1\n",
       "26      1\n",
       "28      0\n",
       "32      1\n",
       "34      1\n",
       "35      0\n",
       "37      1\n",
       "39      1\n",
       "41      1\n",
       "42      1\n",
       "43      1\n",
       "44      1\n",
       "45      0\n",
       "46      1\n",
       "47      0\n",
       "48      1\n",
       "49      0\n",
       "50      1\n",
       "52      0\n",
       "53      1\n",
       "       ..\n",
       "1007    0\n",
       "1008    1\n",
       "1009    1\n",
       "1010    0\n",
       "1011    0\n",
       "1012    0\n",
       "1014    0\n",
       "1015    0\n",
       "1016    0\n",
       "1017    0\n",
       "1018    1\n",
       "1019    1\n",
       "1020    1\n",
       "1022    0\n",
       "1024    0\n",
       "1025    1\n",
       "1027    1\n",
       "1040    0\n",
       "1044    0\n",
       "1045    1\n",
       "1046    0\n",
       "1047    1\n",
       "1049    1\n",
       "1050    0\n",
       "1051    1\n",
       "1052    1\n",
       "1055    0\n",
       "1056    1\n",
       "1060    0\n",
       "1061    0\n",
       "Name: extraversion_m, dtype: int64"
      ]
     },
     "execution_count": 97,
     "metadata": {},
     "output_type": "execute_result"
    }
   ],
   "source": [
    "df = pd.read_csv('~/personality-normalized-word2vec.csv', encoding='utf_8')\n",
    "df = df.dropna()\n",
    "df['extraversion_m']"
   ]
  },
  {
   "cell_type": "code",
   "execution_count": 96,
   "metadata": {
    "collapsed": false
   },
   "outputs": [
    {
     "data": {
      "text/plain": [
       "0    225\n",
       "1    202\n",
       "Name: extraversion_m, dtype: int64"
      ]
     },
     "execution_count": 96,
     "metadata": {},
     "output_type": "execute_result"
    }
   ],
   "source": [
    "df.extraversion_m.value_counts()"
   ]
  },
  {
   "cell_type": "code",
   "execution_count": 98,
   "metadata": {
    "collapsed": true
   },
   "outputs": [],
   "source": [
    "train_data, test_data = train_test_split(df, test_size=0.3, random_state=42)"
   ]
  },
  {
   "cell_type": "markdown",
   "metadata": {},
   "source": [
    "### Evaluation code"
   ]
  },
  {
   "cell_type": "code",
   "execution_count": 99,
   "metadata": {
    "collapsed": false
   },
   "outputs": [],
   "source": [
    "def plot_confusion_matrix(cm, title='Confusion matrix', cmap=plt.cm.Blues):\n",
    "    plt.imshow(cm, interpolation='nearest', cmap=cmap)\n",
    "    plt.title(title)\n",
    "    plt.colorbar()\n",
    "    tick_marks = np.arange(2)\n",
    "    target_names = ['no', 'yes']\n",
    "    plt.xticks(tick_marks, target_names, rotation=45)\n",
    "    plt.yticks(tick_marks, target_names)\n",
    "    plt.tight_layout()\n",
    "    plt.ylabel('True label')\n",
    "    plt.xlabel('Predicted label')"
   ]
  },
  {
   "cell_type": "code",
   "execution_count": 100,
   "metadata": {
    "collapsed": true
   },
   "outputs": [],
   "source": [
    "def evaluate_prediction(predictions, target, title=\"Confusion matrix\"):\n",
    "    print('accuracy %s' % accuracy_score(target, predictions))\n",
    "    cm = confusion_matrix(target, predictions)\n",
    "    print('confusion matrix\\n %s' % cm)\n",
    "    print('(row=expected, col=predicted)')\n",
    "    \n",
    "    cm_normalized = cm.astype('float') / cm.sum(axis=1)[:, np.newaxis]\n",
    "    plot_confusion_matrix(cm_normalized, title + ' Normalized')"
   ]
  },
  {
   "cell_type": "code",
   "execution_count": 113,
   "metadata": {
    "collapsed": true
   },
   "outputs": [],
   "source": [
    "def predict(vectorizer, classifier, data):\n",
    "    data_features = vectorizer.transform(data['formatted_text'])\n",
    "    predictions = classifier.predict(data_features)\n",
    "    target = data['extraversion_m']\n",
    "    evaluate_prediction(predictions, target)"
   ]
  },
  {
   "cell_type": "code",
   "execution_count": 117,
   "metadata": {
    "collapsed": false
   },
   "outputs": [
    {
     "data": {
      "text/plain": [
       "1049        vontade de ficar aqui embaixo pra sempre.....\n",
       "102          mas meu coração te ama... 🎶 ❤  ah, drummo...\n",
       "334        levando meus pupilos p dar uma voltinha!  a...\n",
       "54           corinthians x ponte preta te amo minha li...\n",
       "948          tchau, meu pai chegou  gente... <  we are...\n",
       "780         enquanto a cor da pele for mais importante...\n",
       "240        saudades sempre linda  e aí beleza queremos...\n",
       "219         dia de reunião 😊  alguns de vocês que me c...\n",
       "295          excelente trailer, irei ao cinema com alt...\n",
       "325         #somostodosgabriel nem parece que um tenta...\n",
       "1020        :/  rafael rocha, marcel vinicius  rafael ...\n",
       "96           como não amar? kkkkkkkkkkkkkkkk !!! viver...\n",
       "378          sei que ele é extremista, só que do jeito...\n",
       "1045        rainha do meu ♡ amanda silveira henrique k...\n",
       "64           suez canal... i would never have guessed ...\n",
       "174         aceito encomendas =) aceito encomendas =) ...\n",
       "938         tarde produtiva! =d \\o/ estou participando...\n",
       "98           marcos aurélio 😤  💟💖 renovando as energia...\n",
       "19           agora é so espera semana que vem pra sabe...\n",
       "1012       que lindoooo *--* um pouquinho sobre mim :)...\n",
       "855         começando bem a semana: minha startup apro...\n",
       "457         ate na garota nacional tem sucupira....  m...\n",
       "974          metropolitan hotel, uma empresa com progr...\n",
       "81            aquele momento que você fala com o pesso...\n",
       "172         como se fosse ontem playng to win 😳  vende...\n",
       "375        assustador... mas é a verdade... :/ lindos!...\n",
       "181         adooro! 🙌😍💗🎤🎶 😉😉 uhu💚#vaipalmeiras  sábado...\n",
       "990          requiem aeternam dona eis, domine.   pena...\n",
       "830         日本語は文学部の最高の専攻だよ! 💜🌸  this is halloween, ha...\n",
       "965         que tal? kkkkkkkkkkk nada mal.. kkkkkkkkkk...\n",
       "                              ...                        \n",
       "71            ewerton, emmanuel, paulo e laan  kkkkkk ...\n",
       "858         #devfestsp   #devfestsp   show do vespas m...\n",
       "914         sinceridade... :-p já faz um mês?!?! então...\n",
       "966          quem dera que as pessoas que amamos fosse...\n",
       "744         obrigada a todos pelo carinho!  robson aki...\n",
       "37           lindossomos  não vou entrar no mérito de ...\n",
       "1002       ❤ casamento do bruno. matando a saudade. eu...\n",
       "163          #partiu #mauythai kkkkkkkk  desculpa ai, ...\n",
       "875            queeeeebra ele, queeeeebra !    https:/...\n",
       "7            bota mais um na conta e mais    na histor...\n",
       "41           skyeast!!!! eu adoro os textos dessa mulh...\n",
       "908             um feliz dia internacional da mulher p...\n",
       "86            depois de tanto esperar, com muito orgul...\n",
       "954         #teambat só digo uma coisa a mulher maravi...\n",
       "631           ae galera, a avianca está lançando seu p...\n",
       "89            pra natália sierpinski  principalmente e...\n",
       "139          sony decepcionando nos jogos gratuitos ne...\n",
       "1060        jovem padawan não é mais tão jovem ❤️  sob...\n",
       "385        eitaaa.... atenção rede... rs... bora fazer...\n",
       "53            genteeeee!!! minha amiga karla nasser ❤️...\n",
       "896         temos uma vida inteira pela frente ❤️   an...\n",
       "409         rodada hacker com as minas. primeira parte...\n",
       "427        marina hahahah que acham?  juízo, é você? c...\n",
       "49           falta carinho no mundo. se você vê sorris...\n",
       "17           amigos do ismênia de jesus.  aos que não ...\n",
       "1014         =)    eba =)     virada científica na usp...\n",
       "677        e até converso com elas :o austrália sz  ma...\n",
       "137             eu só posso falar: o macaco que tinha ...\n",
       "129          agora é monitor johnny ! 😂😂😂😂 primeiro lu...\n",
       "930        . foi um grande ano! obrigado por fazer par...\n",
       "Name: formatted_text, dtype: object"
      ]
     },
     "execution_count": 117,
     "metadata": {},
     "output_type": "execute_result"
    }
   ],
   "source": [
    "test_data['formatted_text']"
   ]
  },
  {
   "cell_type": "markdown",
   "metadata": {},
   "source": [
    "### Word2Vec model training"
   ]
  },
  {
   "cell_type": "code",
   "execution_count": 102,
   "metadata": {
    "collapsed": true
   },
   "outputs": [],
   "source": [
    "def word_averaging(wv, words):\n",
    "    all_words, mean = set(), []\n",
    "    \n",
    "    for word in words:\n",
    "        if isinstance(word, np.ndarray):\n",
    "            mean.append(word)\n",
    "        elif word in wv.wv.vocab:\n",
    "            mean.append(wv.wv.syn0norm[wv.wv.vocab[word].index])\n",
    "            all_words.add(wv.wv.vocab[word].index)\n",
    "\n",
    "    if not mean:\n",
    "        logging.warning(\"cannot compute similarity with no input %s\", words)\n",
    "        # FIXME: remove these examples in pre-processing\n",
    "        return np.zeros(num_features,)\n",
    "\n",
    "    mean = gensim.matutils.unitvec(np.array(mean).mean(axis=0)).astype(np.float32)\n",
    "    return mean\n",
    "\n",
    "def  word_averaging_list(wv, text_list):\n",
    "    return np.vstack([word_averaging(wv, review) for review in text_list ])"
   ]
  },
  {
   "cell_type": "code",
   "execution_count": 103,
   "metadata": {
    "collapsed": true
   },
   "outputs": [],
   "source": [
    "def w2v_tokenize_text(text):\n",
    "    tokens = []\n",
    "    for sent in nltk.sent_tokenize(text, language='portuguese'):\n",
    "        for word in nltk.word_tokenize(sent, language='portuguese'):\n",
    "            if len(word) < 2:\n",
    "                continue\n",
    "            tokens.append(word)\n",
    "    return tokens"
   ]
  },
  {
   "cell_type": "code",
   "execution_count": 104,
   "metadata": {
    "collapsed": false
   },
   "outputs": [],
   "source": [
    "test_tokenized = test_data.apply(lambda r: w2v_tokenize_text(r['formatted_text']), axis=1).values\n",
    "train_tokenized = train_data.apply(lambda r: w2v_tokenize_text(r['formatted_text']), axis=1).values"
   ]
  },
  {
   "cell_type": "code",
   "execution_count": 105,
   "metadata": {
    "collapsed": false
   },
   "outputs": [
    {
     "name": "stderr",
     "output_type": "stream",
     "text": [
      "2017-02-11 09:31:08,753 : WARNING : cannot compute similarity with no input []\n",
      "2017-02-11 09:31:10,116 : WARNING : cannot compute similarity with no input []\n",
      "2017-02-11 09:31:10,273 : WARNING : cannot compute similarity with no input []\n"
     ]
    },
    {
     "name": "stdout",
     "output_type": "stream",
     "text": [
      "CPU times: user 2.32 s, sys: 349 ms, total: 2.67 s\n",
      "Wall time: 5.6 s\n"
     ]
    }
   ],
   "source": [
    "%%time\n",
    "X_train_word_average = word_averaging_list(model,train_tokenized)\n",
    "X_test_word_average = word_averaging_list(model,test_tokenized)"
   ]
  },
  {
   "cell_type": "code",
   "execution_count": 106,
   "metadata": {
    "collapsed": false
   },
   "outputs": [
    {
     "name": "stdout",
     "output_type": "stream",
     "text": [
      "CPU times: user 318 ms, sys: 2.93 ms, total: 321 ms\n",
      "Wall time: 351 ms\n"
     ]
    }
   ],
   "source": [
    "%%time\n",
    "logreg = linear_model.LogisticRegression(n_jobs=1, C=1e5)\n",
    "\n",
    "logreg = logreg.fit(X_train_word_average, train_data['extraversion_m'])\n",
    "predicted = logreg.predict(X_test_word_average)"
   ]
  },
  {
   "cell_type": "code",
   "execution_count": 108,
   "metadata": {
    "collapsed": false
   },
   "outputs": [
    {
     "name": "stdout",
     "output_type": "stream",
     "text": [
      "accuracy 0.550387596899\n",
      "confusion matrix\n",
      " [[36 33]\n",
      " [25 35]]\n",
      "(row=expected, col=predicted)\n"
     ]
    },
    {
     "data": {
      "image/png": "[encoded data removed]",
      "text/plain": [
       "<matplotlib.figure.Figure at 0x7f91204d2f10>"
      ]
     },
     "metadata": {},
     "output_type": "display_data"
    }
   ],
   "source": [
    "evaluate_prediction(predicted, test_data.extraversion_m)"
   ]
  },
  {
   "cell_type": "markdown",
   "metadata": {},
   "source": []
  }
 ],
 "metadata": {
  "kernelspec": {
   "display_name": "Python 2",
   "language": "python",
   "name": "python2"
  },
  "language_info": {
   "codemirror_mode": {
    "name": "ipython",
    "version": 2
   },
   "file_extension": ".py",
   "mimetype": "text/x-python",
   "name": "python",
   "nbconvert_exporter": "python",
   "pygments_lexer": "ipython2",
   "version": "2.7.12"
  }
 },
 "nbformat": 4,
 "nbformat_minor": 2
}
