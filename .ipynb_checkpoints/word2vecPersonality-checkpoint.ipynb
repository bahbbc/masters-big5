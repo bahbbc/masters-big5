{
 "cells": [
  {
   "cell_type": "code",
   "execution_count": 1,
   "metadata": {
    "collapsed": false
   },
   "outputs": [
    {
     "name": "stderr",
     "output_type": "stream",
     "text": [
      "2017-03-04 19:36:05,007 : INFO : 'pattern' package found; tag filters are available for English\n",
      "/usr/lib64/python2.7/site-packages/sklearn/cross_validation.py:44: DeprecationWarning: This module was deprecated in version 0.18 in favor of the model_selection module into which all the refactored classes and functions are moved. Also note that the interface of the new CV iterators are different from that of this module. This module will be removed in 0.20.\n",
      "  \"This module will be removed in 0.20.\", DeprecationWarning)\n"
     ]
    }
   ],
   "source": [
    "import logging\n",
    "logging.root.handlers = []  # Jupyter messes up logging so needs a reset\n",
    "logging.basicConfig(format='%(asctime)s : %(levelname)s : %(message)s', level=logging.INFO)\n",
    "from smart_open import smart_open\n",
    "import pandas as pd\n",
    "import numpy as np\n",
    "from numpy import random\n",
    "import gensim\n",
    "import nltk\n",
    "from sklearn.cross_validation import train_test_split\n",
    "from sklearn import linear_model\n",
    "from sklearn.feature_extraction.text import CountVectorizer, TfidfVectorizer\n",
    "from sklearn.metrics import accuracy_score, confusion_matrix\n",
    "import matplotlib.pyplot as plt\n",
    "from gensim.models import Word2Vec\n",
    "from sklearn.neighbors import KNeighborsClassifier\n",
    "from sklearn import linear_model\n",
    "from nltk.corpus import stopwords\n",
    "import os, codecs\n",
    "%matplotlib inline\n",
    "from bs4 import BeautifulSoup\n",
    "import re\n",
    "from nltk.corpus import stopwords\n",
    "import statsmodels.api as sm"
   ]
  },
  {
   "cell_type": "code",
   "execution_count": 2,
   "metadata": {
    "collapsed": true
   },
   "outputs": [],
   "source": [
    "class MySentences(object):\n",
    "    def __init__(self, dirname):\n",
    "        self.dirname = dirname\n",
    " \n",
    "    def __iter__(self):\n",
    "        for fname in os.listdir(self.dirname):\n",
    "            for line in codecs.open(os.path.join(self.dirname, fname)) :\n",
    "                yield line.split()"
   ]
  },
  {
   "cell_type": "code",
   "execution_count": 3,
   "metadata": {
    "collapsed": false
   },
   "outputs": [],
   "source": [
    "sentences = MySentences('/home/bahbbc/Documents/teste-personalidade') # a memory-friendly iterator"
   ]
  },
  {
   "cell_type": "code",
   "execution_count": 4,
   "metadata": {
    "collapsed": true
   },
   "outputs": [],
   "source": [
    "logging.basicConfig(format='%(asctime)s : %(levelname)s : %(message)s', level=logging.INFO)\n",
    "num_features = 300\n",
    "min_word_count = 1   # Minimum word count                        \n",
    "num_workers = 40       # Number of threads to run in parallel\n",
    "context = 10          # Context window size             \n"
   ]
  },
  {
   "cell_type": "code",
   "execution_count": 5,
   "metadata": {
    "collapsed": false,
    "scrolled": true
   },
   "outputs": [
    {
     "name": "stderr",
     "output_type": "stream",
     "text": [
      "2017-03-04 19:36:05,655 : INFO : collecting all words and their counts\n",
      "2017-03-04 19:36:05,658 : INFO : PROGRESS: at sentence #0, processed 0 words, keeping 0 word types\n",
      "2017-03-04 19:36:05,749 : INFO : PROGRESS: at sentence #10000, processed 98661 words, keeping 27955 word types\n",
      "2017-03-04 19:36:05,850 : INFO : PROGRESS: at sentence #20000, processed 203143 words, keeping 49341 word types\n",
      "2017-03-04 19:36:05,915 : INFO : PROGRESS: at sentence #30000, processed 292582 words, keeping 64869 word types\n",
      "2017-03-04 19:36:05,961 : INFO : PROGRESS: at sentence #40000, processed 396167 words, keeping 81156 word types\n",
      "2017-03-04 19:36:06,013 : INFO : PROGRESS: at sentence #50000, processed 493400 words, keeping 95005 word types\n",
      "2017-03-04 19:36:06,056 : INFO : PROGRESS: at sentence #60000, processed 589134 words, keeping 108568 word types\n",
      "2017-03-04 19:36:06,095 : INFO : PROGRESS: at sentence #70000, processed 676484 words, keeping 119972 word types\n",
      "2017-03-04 19:36:06,143 : INFO : PROGRESS: at sentence #80000, processed 795993 words, keeping 133590 word types\n",
      "2017-03-04 19:36:06,188 : INFO : PROGRESS: at sentence #90000, processed 906895 words, keeping 146634 word types\n",
      "2017-03-04 19:36:06,230 : INFO : PROGRESS: at sentence #100000, processed 1002821 words, keeping 158366 word types\n",
      "2017-03-04 19:36:06,275 : INFO : PROGRESS: at sentence #110000, processed 1103663 words, keeping 170182 word types\n",
      "2017-03-04 19:36:06,332 : INFO : PROGRESS: at sentence #120000, processed 1195050 words, keeping 180481 word types\n",
      "2017-03-04 19:36:06,379 : INFO : PROGRESS: at sentence #130000, processed 1285432 words, keeping 190921 word types\n",
      "2017-03-04 19:36:06,423 : INFO : PROGRESS: at sentence #140000, processed 1376866 words, keeping 200532 word types\n",
      "2017-03-04 19:36:06,467 : INFO : PROGRESS: at sentence #150000, processed 1474032 words, keeping 210517 word types\n",
      "2017-03-04 19:36:06,513 : INFO : PROGRESS: at sentence #160000, processed 1576047 words, keeping 221053 word types\n",
      "2017-03-04 19:36:06,561 : INFO : PROGRESS: at sentence #170000, processed 1670044 words, keeping 230518 word types\n",
      "2017-03-04 19:36:06,615 : INFO : PROGRESS: at sentence #180000, processed 1779374 words, keeping 241337 word types\n",
      "2017-03-04 19:36:06,661 : INFO : PROGRESS: at sentence #190000, processed 1870578 words, keeping 249592 word types\n",
      "2017-03-04 19:36:06,704 : INFO : PROGRESS: at sentence #200000, processed 1960342 words, keeping 259200 word types\n",
      "2017-03-04 19:36:06,753 : INFO : PROGRESS: at sentence #210000, processed 2051895 words, keeping 267875 word types\n",
      "2017-03-04 19:36:06,805 : INFO : PROGRESS: at sentence #220000, processed 2157737 words, keeping 277623 word types\n",
      "2017-03-04 19:36:06,854 : INFO : PROGRESS: at sentence #230000, processed 2250654 words, keeping 286187 word types\n",
      "2017-03-04 19:36:06,873 : INFO : collected 288722 word types from a corpus of 2272383 raw words and 232478 sentences\n",
      "2017-03-04 19:36:06,874 : INFO : Loading a fresh vocabulary\n",
      "2017-03-04 19:36:07,986 : INFO : min_count=1 retains 288722 unique words (100% of original 288722, drops 0)\n",
      "2017-03-04 19:36:07,987 : INFO : min_count=1 leaves 2272383 word corpus (100% of original 2272383, drops 0)\n",
      "2017-03-04 19:36:08,538 : INFO : deleting the raw counts dictionary of 288722 items\n",
      "2017-03-04 19:36:08,544 : INFO : sample=0.001 downsamples 32 most-common words\n",
      "2017-03-04 19:36:08,545 : INFO : downsampling leaves estimated 1953527 word corpus (86.0% of prior 2272383)\n",
      "2017-03-04 19:36:08,546 : INFO : estimated required memory for 288722 words and 300 dimensions: 837293800 bytes\n",
      "2017-03-04 19:36:09,270 : INFO : resetting layer weights\n",
      "2017-03-04 19:36:12,682 : INFO : training model with 40 workers on 288722 vocabulary and 300 features, using sg=0 hs=0 sample=0.001 negative=5 window=10\n",
      "2017-03-04 19:36:12,683 : INFO : expecting 232478 sentences, matching count from corpus used for vocabulary survey\n",
      "2017-03-04 19:36:13,726 : INFO : PROGRESS: at 3.47% examples, 331666 words/s, in_qsize 0, out_qsize 0\n",
      "2017-03-04 19:36:14,750 : INFO : PROGRESS: at 8.37% examples, 407012 words/s, in_qsize 0, out_qsize 0\n",
      "2017-03-04 19:36:15,773 : INFO : PROGRESS: at 13.76% examples, 439550 words/s, in_qsize 0, out_qsize 0\n",
      "2017-03-04 19:36:16,789 : INFO : PROGRESS: at 18.08% examples, 431054 words/s, in_qsize 0, out_qsize 1\n",
      "2017-03-04 19:36:17,807 : INFO : PROGRESS: at 23.15% examples, 441219 words/s, in_qsize 0, out_qsize 0\n",
      "2017-03-04 19:36:18,834 : INFO : PROGRESS: at 28.12% examples, 450690 words/s, in_qsize 0, out_qsize 0\n",
      "2017-03-04 19:36:19,835 : INFO : PROGRESS: at 32.45% examples, 445393 words/s, in_qsize 0, out_qsize 0\n",
      "2017-03-04 19:36:20,844 : INFO : PROGRESS: at 37.66% examples, 451336 words/s, in_qsize 0, out_qsize 1\n",
      "2017-03-04 19:36:21,960 : INFO : PROGRESS: at 42.52% examples, 448085 words/s, in_qsize 0, out_qsize 1\n",
      "2017-03-04 19:36:22,993 : INFO : PROGRESS: at 47.38% examples, 450342 words/s, in_qsize 0, out_qsize 1\n",
      "2017-03-04 19:36:24,019 : INFO : PROGRESS: at 52.57% examples, 454346 words/s, in_qsize 0, out_qsize 0\n",
      "2017-03-04 19:36:25,028 : INFO : PROGRESS: at 56.92% examples, 451217 words/s, in_qsize 0, out_qsize 0\n",
      "2017-03-04 19:36:26,060 : INFO : PROGRESS: at 62.08% examples, 453724 words/s, in_qsize 0, out_qsize 0\n",
      "2017-03-04 19:36:27,086 : INFO : PROGRESS: at 67.05% examples, 456124 words/s, in_qsize 0, out_qsize 0\n",
      "2017-03-04 19:36:28,092 : INFO : PROGRESS: at 71.36% examples, 453388 words/s, in_qsize 0, out_qsize 0\n",
      "2017-03-04 19:36:29,105 : INFO : PROGRESS: at 76.30% examples, 454648 words/s, in_qsize 0, out_qsize 0\n",
      "2017-03-04 19:36:30,117 : INFO : PROGRESS: at 81.26% examples, 455894 words/s, in_qsize 0, out_qsize 0\n",
      "2017-03-04 19:36:31,128 : INFO : PROGRESS: at 85.65% examples, 453661 words/s, in_qsize 0, out_qsize 0\n",
      "2017-03-04 19:36:32,138 : INFO : PROGRESS: at 90.59% examples, 456023 words/s, in_qsize 0, out_qsize 0\n",
      "2017-03-04 19:36:33,152 : INFO : PROGRESS: at 94.95% examples, 453672 words/s, in_qsize 0, out_qsize 1\n",
      "2017-03-04 19:36:34,098 : INFO : worker thread finished; awaiting finish of 39 more threads\n",
      "2017-03-04 19:36:34,100 : INFO : worker thread finished; awaiting finish of 38 more threads\n",
      "2017-03-04 19:36:34,104 : INFO : worker thread finished; awaiting finish of 37 more threads\n",
      "2017-03-04 19:36:34,106 : INFO : worker thread finished; awaiting finish of 36 more threads\n",
      "2017-03-04 19:36:34,107 : INFO : worker thread finished; awaiting finish of 35 more threads\n",
      "2017-03-04 19:36:34,111 : INFO : worker thread finished; awaiting finish of 34 more threads\n",
      "2017-03-04 19:36:34,123 : INFO : worker thread finished; awaiting finish of 33 more threads\n",
      "2017-03-04 19:36:34,126 : INFO : worker thread finished; awaiting finish of 32 more threads\n",
      "2017-03-04 19:36:34,127 : INFO : worker thread finished; awaiting finish of 31 more threads\n",
      "2017-03-04 19:36:34,129 : INFO : worker thread finished; awaiting finish of 30 more threads\n",
      "2017-03-04 19:36:34,130 : INFO : worker thread finished; awaiting finish of 29 more threads\n",
      "2017-03-04 19:36:34,132 : INFO : worker thread finished; awaiting finish of 28 more threads\n",
      "2017-03-04 19:36:34,139 : INFO : worker thread finished; awaiting finish of 27 more threads\n",
      "2017-03-04 19:36:34,140 : INFO : worker thread finished; awaiting finish of 26 more threads\n",
      "2017-03-04 19:36:34,141 : INFO : worker thread finished; awaiting finish of 25 more threads\n",
      "2017-03-04 19:36:34,145 : INFO : worker thread finished; awaiting finish of 24 more threads\n",
      "2017-03-04 19:36:34,146 : INFO : worker thread finished; awaiting finish of 23 more threads\n",
      "2017-03-04 19:36:34,147 : INFO : worker thread finished; awaiting finish of 22 more threads\n",
      "2017-03-04 19:36:34,148 : INFO : worker thread finished; awaiting finish of 21 more threads\n",
      "2017-03-04 19:36:34,149 : INFO : worker thread finished; awaiting finish of 20 more threads\n",
      "2017-03-04 19:36:34,151 : INFO : worker thread finished; awaiting finish of 19 more threads\n",
      "2017-03-04 19:36:34,153 : INFO : worker thread finished; awaiting finish of 18 more threads\n",
      "2017-03-04 19:36:34,154 : INFO : PROGRESS: at 99.92% examples, 454832 words/s, in_qsize 0, out_qsize 19\n",
      "2017-03-04 19:36:34,155 : INFO : worker thread finished; awaiting finish of 17 more threads\n",
      "2017-03-04 19:36:34,156 : INFO : worker thread finished; awaiting finish of 16 more threads\n",
      "2017-03-04 19:36:34,157 : INFO : worker thread finished; awaiting finish of 15 more threads\n",
      "2017-03-04 19:36:34,158 : INFO : worker thread finished; awaiting finish of 14 more threads\n",
      "2017-03-04 19:36:34,159 : INFO : worker thread finished; awaiting finish of 13 more threads\n",
      "2017-03-04 19:36:34,160 : INFO : worker thread finished; awaiting finish of 12 more threads\n",
      "2017-03-04 19:36:34,161 : INFO : worker thread finished; awaiting finish of 11 more threads\n",
      "2017-03-04 19:36:34,162 : INFO : worker thread finished; awaiting finish of 10 more threads\n",
      "2017-03-04 19:36:34,163 : INFO : worker thread finished; awaiting finish of 9 more threads\n",
      "2017-03-04 19:36:34,164 : INFO : worker thread finished; awaiting finish of 8 more threads\n",
      "2017-03-04 19:36:34,165 : INFO : worker thread finished; awaiting finish of 7 more threads\n",
      "2017-03-04 19:36:34,166 : INFO : worker thread finished; awaiting finish of 6 more threads\n",
      "2017-03-04 19:36:34,167 : INFO : worker thread finished; awaiting finish of 5 more threads\n",
      "2017-03-04 19:36:34,168 : INFO : worker thread finished; awaiting finish of 4 more threads\n",
      "2017-03-04 19:36:34,169 : INFO : worker thread finished; awaiting finish of 3 more threads\n",
      "2017-03-04 19:36:34,170 : INFO : worker thread finished; awaiting finish of 2 more threads\n",
      "2017-03-04 19:36:34,171 : INFO : worker thread finished; awaiting finish of 1 more threads\n",
      "2017-03-04 19:36:34,172 : INFO : worker thread finished; awaiting finish of 0 more threads\n",
      "2017-03-04 19:36:34,173 : INFO : training on 11361915 raw words (9768822 effective words) took 21.5s, 454745 effective words/s\n"
     ]
    }
   ],
   "source": [
    "model = gensim.models.Word2Vec(sentences, workers=num_workers, \\\n",
    "            size=num_features, min_count = min_word_count, window = context)"
   ]
  },
  {
   "cell_type": "code",
   "execution_count": 6,
   "metadata": {
    "collapsed": false
   },
   "outputs": [
    {
     "name": "stderr",
     "output_type": "stream",
     "text": [
      "2017-03-04 19:36:34,178 : INFO : storing 288722x300 projection weights into /home/bahbbc/Documents/personality_1\n"
     ]
    }
   ],
   "source": [
    "model.save_word2vec_format('/home/bahbbc/Documents/personality_1')"
   ]
  },
  {
   "cell_type": "code",
   "execution_count": 7,
   "metadata": {
    "collapsed": false
   },
   "outputs": [
    {
     "name": "stderr",
     "output_type": "stream",
     "text": [
      "2017-03-04 19:37:15,652 : INFO : loading projection weights from /home/bahbbc/Documents/personality_1\n",
      "2017-03-04 19:38:24,870 : INFO : loaded (288722, 300) matrix from /home/bahbbc/Documents/personality_1\n",
      "2017-03-04 19:38:25,002 : INFO : precomputing L2-norms of word weight vectors\n"
     ]
    }
   ],
   "source": [
    "model = gensim.models.Word2Vec.load_word2vec_format('/home/bahbbc/Documents/personality_1', encoding='utf8', unicode_errors='ignore')\n",
    "#model = Word2Vec.load_word2vec_format('/home/bahbbc/Documents/teste-personalidade/personality_1',binary=True)\n",
    "model.init_sims(replace=True)"
   ]
  },
  {
   "cell_type": "code",
   "execution_count": 8,
   "metadata": {
    "collapsed": false
   },
   "outputs": [
    {
     "name": "stdout",
     "output_type": "stream",
     "text": [
      "0.778643689635\n"
     ]
    }
   ],
   "source": [
    "print(model.similarity('hj', 'hoje'))"
   ]
  },
  {
   "cell_type": "code",
   "execution_count": 9,
   "metadata": {
    "collapsed": false
   },
   "outputs": [
    {
     "name": "stdout",
     "output_type": "stream",
     "text": [
      "[(u'kkkkkkk', 0.9848357439041138), (u'Kkkk', 0.9830596446990967), (u'Hahahaha', 0.9817096590995789), (u\"'-'\", 0.9783498048782349), (u'Hahaha', 0.9777824282646179), (u'agora!', 0.9771287441253662), (u'Haha', 0.9767873287200928), (u'hahah', 0.9762501120567322), (u'kkkkkkkkkkk', 0.9759235382080078), (u'kkkkkkkkkkkkkk', 0.9747077822685242)]\n"
     ]
    }
   ],
   "source": [
    "print(model.most_similar(positive=['rsrsrs', 'kkk']))"
   ]
  },
  {
   "cell_type": "code",
   "execution_count": 10,
   "metadata": {
    "collapsed": false
   },
   "outputs": [
    {
     "name": "stdout",
     "output_type": "stream",
     "text": [
      "[(u'=D', 0.9709113836288452), (u';D', 0.9704835414886475), (u'hehe', 0.9698134660720825), (u'hoje!!!', 0.9692171812057495), (u':3', 0.9691096544265747), (u'Bonitinho', 0.9669618606567383), (u'Eita', 0.9648981094360352), (u'*o*', 0.96429842710495), (u'Nopants', 0.9637248516082764), (u':-)', 0.9628754258155823)]\n"
     ]
    }
   ],
   "source": [
    "print(model.most_similar(positive=['=O', ':D']))"
   ]
  },
  {
   "cell_type": "code",
   "execution_count": 11,
   "metadata": {
    "collapsed": false
   },
   "outputs": [
    {
     "name": "stdout",
     "output_type": "stream",
     "text": [
      "[(u'louco', 0.939111053943634), (u'pequeno,', 0.9384793043136597), (u'neg\\xf3cio', 0.937757134437561), (u'velho', 0.9375881552696228), (u'toma', 0.9283500909805298), (u'calor', 0.9224588871002197), (u'her\\xf3i', 0.9223655462265015), (u'segredo.', 0.9174177646636963), (u'mano!!', 0.9146966934204102), (u'apelido', 0.913709282875061)]\n"
     ]
    }
   ],
   "source": [
    "print(model.most_similar(positive=['gato', 'cachorro']))"
   ]
  },
  {
   "cell_type": "markdown",
   "metadata": {},
   "source": [
    "### Verify model with personality"
   ]
  },
  {
   "cell_type": "code",
   "execution_count": 213,
   "metadata": {
    "collapsed": false
   },
   "outputs": [],
   "source": [
    "df = pd.read_csv('~/personality-normalized-word2vec.csv', encoding='utf-8')"
   ]
  },
  {
   "cell_type": "code",
   "execution_count": 217,
   "metadata": {
    "collapsed": false
   },
   "outputs": [
    {
     "data": {
      "text/plain": [
       "(1039, 186)"
      ]
     },
     "execution_count": 217,
     "metadata": {},
     "output_type": "execute_result"
    }
   ],
   "source": [
    "df.shape"
   ]
  },
  {
   "cell_type": "code",
   "execution_count": 49,
   "metadata": {
    "collapsed": false
   },
   "outputs": [
    {
     "data": {
      "text/plain": [
       "0    529\n",
       "1    510\n",
       "Name: extraversion_m, dtype: int64"
      ]
     },
     "execution_count": 49,
     "metadata": {},
     "output_type": "execute_result"
    }
   ],
   "source": [
    "df.extraversion_m.value_counts()"
   ]
  },
  {
   "cell_type": "code",
   "execution_count": 163,
   "metadata": {
    "collapsed": true
   },
   "outputs": [],
   "source": [
    "train_w2v_data, test_w2v_data = train_test_split(df, test_size=0.3, random_state=42)"
   ]
  },
  {
   "cell_type": "markdown",
   "metadata": {},
   "source": [
    "### Evaluation code"
   ]
  },
  {
   "cell_type": "code",
   "execution_count": 157,
   "metadata": {
    "collapsed": false
   },
   "outputs": [],
   "source": [
    "def plot_confusion_matrix(cm, title='Confusion matrix', cmap=plt.cm.Blues):\n",
    "    plt.imshow(cm, interpolation='nearest', cmap=cmap)\n",
    "    plt.title(title)\n",
    "    plt.colorbar()\n",
    "    tick_marks = np.arange(2)\n",
    "    target_names = ['no', 'yes']\n",
    "    plt.xticks(tick_marks, target_names, rotation=45)\n",
    "    plt.yticks(tick_marks, target_names)\n",
    "    plt.tight_layout()\n",
    "    plt.ylabel('True label')\n",
    "    plt.xlabel('Predicted label')"
   ]
  },
  {
   "cell_type": "code",
   "execution_count": 158,
   "metadata": {
    "collapsed": true
   },
   "outputs": [],
   "source": [
    "def evaluate_prediction(predictions, target, title=\"Confusion matrix\"):\n",
    "    print('accuracy %s' % accuracy_score(target, predictions))\n",
    "    cm = confusion_matrix(target, predictions)\n",
    "    print('confusion matrix\\n %s' % cm)\n",
    "    print('(row=expected, col=predicted)')\n",
    "    \n",
    "    cm_normalized = cm.astype('float') / cm.sum(axis=1)[:, np.newaxis]\n",
    "    plot_confusion_matrix(cm_normalized, title + ' Normalized')"
   ]
  },
  {
   "cell_type": "code",
   "execution_count": 159,
   "metadata": {
    "collapsed": true
   },
   "outputs": [],
   "source": [
    "def predict(vectorizer, classifier, data):\n",
    "    data_features = vectorizer.transform(data['formatted_text'])\n",
    "    predictions = classifier.predict(data_features)\n",
    "    target = data['extraversion_m']\n",
    "    evaluate_prediction(predictions, target)"
   ]
  },
  {
   "cell_type": "markdown",
   "metadata": {},
   "source": [
    "### Word2Vec model training"
   ]
  },
  {
   "cell_type": "code",
   "execution_count": 160,
   "metadata": {
    "collapsed": true
   },
   "outputs": [],
   "source": [
    "def word_averaging(wv, words):\n",
    "    all_words, mean = set(), []\n",
    "    \n",
    "    for word in words:\n",
    "        if isinstance(word, np.ndarray):\n",
    "            mean.append(word)\n",
    "        elif word in wv.wv.vocab:\n",
    "            mean.append(wv.wv.syn0norm[wv.wv.vocab[word].index])\n",
    "            all_words.add(wv.wv.vocab[word].index)\n",
    "\n",
    "    if not mean:\n",
    "        logging.warning(\"cannot compute similarity with no input %s\", words)\n",
    "        # FIXME: remove these examples in pre-processing\n",
    "        return np.zeros(num_features,)\n",
    "\n",
    "    mean = gensim.matutils.unitvec(np.array(mean).mean(axis=0)).astype(np.float32)\n",
    "    return mean\n",
    "\n",
    "def  word_averaging_list(wv, text_list):\n",
    "    return np.vstack([word_averaging(wv, review) for review in text_list ])"
   ]
  },
  {
   "cell_type": "code",
   "execution_count": 208,
   "metadata": {
    "collapsed": false
   },
   "outputs": [],
   "source": [
    "def w2v_tokenize_text(text):\n",
    "    tokens = []\n",
    "    if text is np.nan:\n",
    "        return []\n",
    "    for sent in nltk.sent_tokenize(text, language='portuguese'):\n",
    "        for word in nltk.word_tokenize(sent, language='portuguese'):\n",
    "            if len(word) < 2:\n",
    "                continue\n",
    "            tokens.append(word)\n",
    "    return tokens"
   ]
  },
  {
   "cell_type": "code",
   "execution_count": 69,
   "metadata": {
    "collapsed": false
   },
   "outputs": [
    {
     "name": "stdout",
     "output_type": "stream",
     "text": [
      "nan\n",
      "nan\n",
      "nan\n",
      "nan\n",
      "nan\n",
      "nan\n",
      "nan\n",
      "nan\n",
      "nan\n",
      "nan\n",
      "nan\n"
     ]
    }
   ],
   "source": [
    "test_tokenized = test_w2v_data.apply(lambda r: w2v_tokenize_text(r['formatted_text']), axis=1).values\n",
    "train_tokenized = train_w2v_data.apply(lambda r: w2v_tokenize_text(r['formatted_text']), axis=1).values"
   ]
  },
  {
   "cell_type": "code",
   "execution_count": 162,
   "metadata": {
    "collapsed": false
   },
   "outputs": [
    {
     "name": "stderr",
     "output_type": "stream",
     "text": [
      "2017-03-05 09:49:45,448 : WARNING : cannot compute similarity with no input [u'FOREIGN']\n",
      "2017-03-05 09:49:45,808 : WARNING : cannot compute similarity with no input []\n",
      "2017-03-05 09:49:46,123 : WARNING : cannot compute similarity with no input []\n",
      "2017-03-05 09:49:46,129 : WARNING : cannot compute similarity with no input []\n",
      "2017-03-05 09:49:46,892 : WARNING : cannot compute similarity with no input []\n",
      "2017-03-05 09:49:47,294 : WARNING : cannot compute similarity with no input []\n",
      "2017-03-05 09:49:47,711 : WARNING : cannot compute similarity with no input [u'FOREIGN', u'FOREIGN', u'FOREIGN']\n",
      "2017-03-05 09:49:47,730 : WARNING : cannot compute similarity with no input []\n",
      "2017-03-05 09:49:48,470 : WARNING : cannot compute similarity with no input []\n",
      "2017-03-05 09:49:48,563 : WARNING : cannot compute similarity with no input []\n",
      "2017-03-05 09:49:48,796 : WARNING : cannot compute similarity with no input []\n",
      "2017-03-05 09:49:48,958 : WARNING : cannot compute similarity with no input []\n",
      "2017-03-05 09:49:49,018 : WARNING : cannot compute similarity with no input []\n"
     ]
    },
    {
     "name": "stdout",
     "output_type": "stream",
     "text": [
      "CPU times: user 4.26 s, sys: 15.2 ms, total: 4.27 s\n",
      "Wall time: 4.28 s\n"
     ]
    }
   ],
   "source": [
    "%%time\n",
    "X_train_word_average = word_averaging_list(model,train_tokenized)\n",
    "X_test_word_average = word_averaging_list(model,test_tokenized)"
   ]
  },
  {
   "cell_type": "code",
   "execution_count": 71,
   "metadata": {
    "collapsed": false
   },
   "outputs": [
    {
     "name": "stdout",
     "output_type": "stream",
     "text": [
      "CPU times: user 674 ms, sys: 2.95 ms, total: 677 ms\n",
      "Wall time: 683 ms\n"
     ]
    }
   ],
   "source": [
    "%%time\n",
    "logreg = linear_model.LogisticRegression(n_jobs=1, C=1e5)\n",
    "\n",
    "logreg = logreg.fit(X_train_word_average, train_w2v_data['extraversion_m'])\n",
    "predicted = logreg.predict(X_test_word_average)"
   ]
  },
  {
   "cell_type": "code",
   "execution_count": 72,
   "metadata": {
    "collapsed": false
   },
   "outputs": [
    {
     "name": "stdout",
     "output_type": "stream",
     "text": [
      "accuracy 0.615384615385\n",
      "confusion matrix\n",
      " [[96 46]\n",
      " [74 96]]\n",
      "(row=expected, col=predicted)\n"
     ]
    },
    {
     "data": {
      "image/png": "[encoded data removed]",
      "text/plain": [
       "<matplotlib.figure.Figure at 0x7f071952cad0>"
      ]
     },
     "metadata": {},
     "output_type": "display_data"
    }
   ],
   "source": [
    "evaluate_prediction(predicted, test_w2v_data.extraversion_m)"
   ]
  },
  {
   "cell_type": "markdown",
   "metadata": {},
   "source": [
    "## Add dictionary features"
   ]
  },
  {
   "cell_type": "code",
   "execution_count": 73,
   "metadata": {
    "collapsed": false
   },
   "outputs": [],
   "source": [
    "personalities = pd.read_csv('personality-normalized.csv')"
   ]
  },
  {
   "cell_type": "code",
   "execution_count": 74,
   "metadata": {
    "collapsed": false
   },
   "outputs": [
    {
     "data": {
      "text/plain": [
       "(1039, 184)"
      ]
     },
     "execution_count": 74,
     "metadata": {},
     "output_type": "execute_result"
    }
   ],
   "source": [
    "personalities.shape"
   ]
  },
  {
   "cell_type": "code",
   "execution_count": 75,
   "metadata": {
    "collapsed": false
   },
   "outputs": [
    {
     "name": "stderr",
     "output_type": "stream",
     "text": [
      "/usr/lib/python2.7/site-packages/ipykernel/__main__.py:1: FutureWarning: convert_objects is deprecated.  Use the data-type specific converters pd.to_datetime, pd.to_timedelta and pd.to_numeric.\n",
      "  if __name__ == '__main__':\n"
     ]
    }
   ],
   "source": [
    "personalities = personalities.convert_objects(convert_numeric=True)"
   ]
  },
  {
   "cell_type": "code",
   "execution_count": 76,
   "metadata": {
    "collapsed": false
   },
   "outputs": [
    {
     "data": {
      "text/plain": [
       "0    529\n",
       "1    510\n",
       "Name: extraversion_m, dtype: int64"
      ]
     },
     "execution_count": 76,
     "metadata": {},
     "output_type": "execute_result"
    }
   ],
   "source": [
    "personalities.extraversion_m.value_counts()"
   ]
  },
  {
   "cell_type": "code",
   "execution_count": 164,
   "metadata": {
    "collapsed": false
   },
   "outputs": [],
   "source": [
    "train_data, test_data = train_test_split(personalities, test_size=0.3, random_state=42)"
   ]
  },
  {
   "cell_type": "code",
   "execution_count": 78,
   "metadata": {
    "collapsed": false
   },
   "outputs": [],
   "source": [
    "pre_proc_attr = ['skip', 'compound', 'hashtags', 'links', 'punct', 'questions', 'exclam', 'numbers', 'upcase', 'lowcase', 'firstup', 'pt.lexicon', 'added', 'verb.pro', 'names', 'en.lexicon', 'rewrite', 'mispell', 'foreign', 'laugh', 'emph', 'echars', 'unkn']"
   ]
  },
  {
   "cell_type": "code",
   "execution_count": 79,
   "metadata": {
    "collapsed": true
   },
   "outputs": [],
   "source": [
    "grammar_attr = ['m', 'f', 's', 'p', 'aument', 'dimin', 'superlat', 'N', 'A', 'PREP', 'CONJ', 'ADV', 'PREFIX', 'SIGLA', 'ABREV', 'INTERJ', 'DET', 'def', 'indef', 'NUM', 'numC', 'numO', 'numM', 'numF', 'PRO', 'proDem', 'proIndef', 'proRel', 'proInterr', 'proTrat', 'proPoss', 'proPess', 'acusativa', 'dativa', 'nominativa', 'obliqua', 'reflexa', 'p1', 'p2', 'p3', 'V', 'VW', 'VG', 'VK', 'VP', 'VI', 'VJ', 'VF', 'VQ', 'VS', 'VT', 'VU', 'VY', 'VC', 'V1s', 'V2s', 'V3s', 'V1p', 'V2p', 'V3p']"
   ]
  },
  {
   "cell_type": "code",
   "execution_count": 80,
   "metadata": {
    "collapsed": true
   },
   "outputs": [],
   "source": [
    "liwc_attr = ['X1funct' ,'X2pronoun' ,'X3ppron','X4i','X5we','X6you','X7shehe','X8they','X9ipron','X10article','X11verb','X12auxverb','X13past','X14present','X15future','X16adverb','X17preps','X18conj','X19negate','X20quant','X21number','X22swear','X23social','X24family','X25friend','X26humans','X27affect','X28posemo','X29negemo','X30anx','X31anger','X32sad','X33cogmech','X34insight','X35cause','X36discrep','X37tentat','X38certain','X39inhib','X40incl','X41excl','X42percept','X43see','X44hear','X45feel','X46bio','X47body','X48health','X49sexual','X50ingest','X51relativ','X52motion','X53space','X54time','X55work','X56achieve','X57leisure','X58home','X59money','X60relig','X61death','X62assent','X63nonfl', 'X64filler']"
   ]
  },
  {
   "cell_type": "code",
   "execution_count": 81,
   "metadata": {
    "collapsed": false
   },
   "outputs": [],
   "source": [
    "all_attr = train_data.columns[7:157]"
   ]
  },
  {
   "cell_type": "code",
   "execution_count": 136,
   "metadata": {
    "collapsed": false
   },
   "outputs": [],
   "source": [
    "def remove_nan(atributes):\n",
    "    train_attributes = np.array(train_data[atributes])\n",
    "    test_attributes = np.array(test_data[atributes])\n",
    "    train_attributes[np.isnan(train_attributes)] = 0\n",
    "    test_attributes[np.isnan(test_attributes)] = 0\n",
    "    return (train_attributes, test_attributes)"
   ]
  },
  {
   "cell_type": "code",
   "execution_count": 137,
   "metadata": {
    "collapsed": false
   },
   "outputs": [],
   "source": [
    "train, test = remove_nan(liwc_attr)"
   ]
  },
  {
   "cell_type": "code",
   "execution_count": 138,
   "metadata": {
    "collapsed": false
   },
   "outputs": [
    {
     "name": "stdout",
     "output_type": "stream",
     "text": [
      "CPU times: user 40.8 ms, sys: 985 µs, total: 41.7 ms\n",
      "Wall time: 42.3 ms\n"
     ]
    }
   ],
   "source": [
    "%%time\n",
    "logreg = linear_model.LogisticRegression(n_jobs=1, C=1e5)\n",
    "\n",
    "logreg = logreg.fit(train, train_data['extraversion_m'])\n",
    "predicted = logreg.predict(test)"
   ]
  },
  {
   "cell_type": "code",
   "execution_count": 139,
   "metadata": {
    "collapsed": false
   },
   "outputs": [
    {
     "name": "stdout",
     "output_type": "stream",
     "text": [
      "accuracy 0.596153846154\n",
      "confusion matrix\n",
      " [[90 52]\n",
      " [74 96]]\n",
      "(row=expected, col=predicted)\n"
     ]
    },
    {
     "data": {
      "image/png": "[encoded data removed]",
      "text/plain": [
       "<matplotlib.figure.Figure at 0x7f071fa06710>"
      ]
     },
     "metadata": {},
     "output_type": "display_data"
    }
   ],
   "source": [
    "evaluate_prediction(predicted, test_data.extraversion_m)"
   ]
  },
  {
   "cell_type": "code",
   "execution_count": 87,
   "metadata": {
    "collapsed": false,
    "scrolled": true
   },
   "outputs": [
    {
     "data": {
      "text/html": [
       "<div>\n",
       "<table border=\"1\" class=\"dataframe\">\n",
       "  <thead>\n",
       "    <tr style=\"text-align: right;\">\n",
       "      <th></th>\n",
       "      <th>0</th>\n",
       "      <th>1</th>\n",
       "    </tr>\n",
       "  </thead>\n",
       "  <tbody>\n",
       "    <tr>\n",
       "      <th>0</th>\n",
       "      <td>skip</td>\n",
       "      <td>[22.1023173653]</td>\n",
       "    </tr>\n",
       "    <tr>\n",
       "      <th>1</th>\n",
       "      <td>compound</td>\n",
       "      <td>[2.62026278807]</td>\n",
       "    </tr>\n",
       "    <tr>\n",
       "      <th>2</th>\n",
       "      <td>hashtags</td>\n",
       "      <td>[-5.03680049042]</td>\n",
       "    </tr>\n",
       "    <tr>\n",
       "      <th>3</th>\n",
       "      <td>links</td>\n",
       "      <td>[-23.1901940465]</td>\n",
       "    </tr>\n",
       "    <tr>\n",
       "      <th>4</th>\n",
       "      <td>punct</td>\n",
       "      <td>[-2.70479361288]</td>\n",
       "    </tr>\n",
       "    <tr>\n",
       "      <th>5</th>\n",
       "      <td>questions</td>\n",
       "      <td>[0.0210280558811]</td>\n",
       "    </tr>\n",
       "    <tr>\n",
       "      <th>6</th>\n",
       "      <td>exclam</td>\n",
       "      <td>[3.07362969057]</td>\n",
       "    </tr>\n",
       "    <tr>\n",
       "      <th>7</th>\n",
       "      <td>numbers</td>\n",
       "      <td>[-13.8273735705]</td>\n",
       "    </tr>\n",
       "    <tr>\n",
       "      <th>8</th>\n",
       "      <td>upcase</td>\n",
       "      <td>[-29.2593466814]</td>\n",
       "    </tr>\n",
       "    <tr>\n",
       "      <th>9</th>\n",
       "      <td>lowcase</td>\n",
       "      <td>[-32.9339765557]</td>\n",
       "    </tr>\n",
       "    <tr>\n",
       "      <th>10</th>\n",
       "      <td>firstup</td>\n",
       "      <td>[-39.8164330346]</td>\n",
       "    </tr>\n",
       "    <tr>\n",
       "      <th>11</th>\n",
       "      <td>pt.lexicon</td>\n",
       "      <td>[36.0407389508]</td>\n",
       "    </tr>\n",
       "    <tr>\n",
       "      <th>12</th>\n",
       "      <td>added</td>\n",
       "      <td>[50.4758756819]</td>\n",
       "    </tr>\n",
       "    <tr>\n",
       "      <th>13</th>\n",
       "      <td>verb.pro</td>\n",
       "      <td>[-14.9215101215]</td>\n",
       "    </tr>\n",
       "    <tr>\n",
       "      <th>14</th>\n",
       "      <td>names</td>\n",
       "      <td>[33.1705490012]</td>\n",
       "    </tr>\n",
       "    <tr>\n",
       "      <th>15</th>\n",
       "      <td>en.lexicon</td>\n",
       "      <td>[37.1309070501]</td>\n",
       "    </tr>\n",
       "    <tr>\n",
       "      <th>16</th>\n",
       "      <td>rewrite</td>\n",
       "      <td>[-2.42064417429]</td>\n",
       "    </tr>\n",
       "    <tr>\n",
       "      <th>17</th>\n",
       "      <td>mispell</td>\n",
       "      <td>[-18.1415020112]</td>\n",
       "    </tr>\n",
       "    <tr>\n",
       "      <th>18</th>\n",
       "      <td>foreign</td>\n",
       "      <td>[44.9867286764]</td>\n",
       "    </tr>\n",
       "    <tr>\n",
       "      <th>19</th>\n",
       "      <td>emo.</td>\n",
       "      <td>[-34.6434313438]</td>\n",
       "    </tr>\n",
       "    <tr>\n",
       "      <th>20</th>\n",
       "      <td>emo..1</td>\n",
       "      <td>[337.139161778]</td>\n",
       "    </tr>\n",
       "    <tr>\n",
       "      <th>21</th>\n",
       "      <td>emo..2</td>\n",
       "      <td>[90.9817674139]</td>\n",
       "    </tr>\n",
       "    <tr>\n",
       "      <th>22</th>\n",
       "      <td>laugh</td>\n",
       "      <td>[-0.363656302653]</td>\n",
       "    </tr>\n",
       "    <tr>\n",
       "      <th>23</th>\n",
       "      <td>emph</td>\n",
       "      <td>[54.7924107521]</td>\n",
       "    </tr>\n",
       "    <tr>\n",
       "      <th>24</th>\n",
       "      <td>echars</td>\n",
       "      <td>[2.61688088784]</td>\n",
       "    </tr>\n",
       "    <tr>\n",
       "      <th>25</th>\n",
       "      <td>unkn</td>\n",
       "      <td>[49.5880368743]</td>\n",
       "    </tr>\n",
       "    <tr>\n",
       "      <th>26</th>\n",
       "      <td>X1funct</td>\n",
       "      <td>[-15.4378579478]</td>\n",
       "    </tr>\n",
       "    <tr>\n",
       "      <th>27</th>\n",
       "      <td>X2pronoun</td>\n",
       "      <td>[-52.0648408788]</td>\n",
       "    </tr>\n",
       "    <tr>\n",
       "      <th>28</th>\n",
       "      <td>X3ppron</td>\n",
       "      <td>[2.05800565979]</td>\n",
       "    </tr>\n",
       "    <tr>\n",
       "      <th>29</th>\n",
       "      <td>X4i</td>\n",
       "      <td>[104.0305051]</td>\n",
       "    </tr>\n",
       "    <tr>\n",
       "      <th>...</th>\n",
       "      <td>...</td>\n",
       "      <td>...</td>\n",
       "    </tr>\n",
       "    <tr>\n",
       "      <th>120</th>\n",
       "      <td>proPoss</td>\n",
       "      <td>[-21.5266341717]</td>\n",
       "    </tr>\n",
       "    <tr>\n",
       "      <th>121</th>\n",
       "      <td>proPess</td>\n",
       "      <td>[20.5565571619]</td>\n",
       "    </tr>\n",
       "    <tr>\n",
       "      <th>122</th>\n",
       "      <td>acusativa</td>\n",
       "      <td>[-70.9352599959]</td>\n",
       "    </tr>\n",
       "    <tr>\n",
       "      <th>123</th>\n",
       "      <td>dativa</td>\n",
       "      <td>[-63.8598534188]</td>\n",
       "    </tr>\n",
       "    <tr>\n",
       "      <th>124</th>\n",
       "      <td>nominativa</td>\n",
       "      <td>[27.3362956666]</td>\n",
       "    </tr>\n",
       "    <tr>\n",
       "      <th>125</th>\n",
       "      <td>obliqua</td>\n",
       "      <td>[150.477899054]</td>\n",
       "    </tr>\n",
       "    <tr>\n",
       "      <th>126</th>\n",
       "      <td>reflexa</td>\n",
       "      <td>[-29.2914687229]</td>\n",
       "    </tr>\n",
       "    <tr>\n",
       "      <th>127</th>\n",
       "      <td>p1</td>\n",
       "      <td>[-92.7739253395]</td>\n",
       "    </tr>\n",
       "    <tr>\n",
       "      <th>128</th>\n",
       "      <td>p2</td>\n",
       "      <td>[-92.2529683788]</td>\n",
       "    </tr>\n",
       "    <tr>\n",
       "      <th>129</th>\n",
       "      <td>p3</td>\n",
       "      <td>[-31.8987265483]</td>\n",
       "    </tr>\n",
       "    <tr>\n",
       "      <th>130</th>\n",
       "      <td>V</td>\n",
       "      <td>[-25.9340218874]</td>\n",
       "    </tr>\n",
       "    <tr>\n",
       "      <th>131</th>\n",
       "      <td>VW</td>\n",
       "      <td>[-36.7066490734]</td>\n",
       "    </tr>\n",
       "    <tr>\n",
       "      <th>132</th>\n",
       "      <td>VG</td>\n",
       "      <td>[-3.47210630292]</td>\n",
       "    </tr>\n",
       "    <tr>\n",
       "      <th>133</th>\n",
       "      <td>VK</td>\n",
       "      <td>[32.2855819667]</td>\n",
       "    </tr>\n",
       "    <tr>\n",
       "      <th>134</th>\n",
       "      <td>VP</td>\n",
       "      <td>[-15.8212962413]</td>\n",
       "    </tr>\n",
       "    <tr>\n",
       "      <th>135</th>\n",
       "      <td>VI</td>\n",
       "      <td>[-3.99264497085]</td>\n",
       "    </tr>\n",
       "    <tr>\n",
       "      <th>136</th>\n",
       "      <td>VJ</td>\n",
       "      <td>[23.9118807577]</td>\n",
       "    </tr>\n",
       "    <tr>\n",
       "      <th>137</th>\n",
       "      <td>VF</td>\n",
       "      <td>[26.1919398323]</td>\n",
       "    </tr>\n",
       "    <tr>\n",
       "      <th>138</th>\n",
       "      <td>VQ</td>\n",
       "      <td>[26.3693166704]</td>\n",
       "    </tr>\n",
       "    <tr>\n",
       "      <th>139</th>\n",
       "      <td>VS</td>\n",
       "      <td>[-51.5052914452]</td>\n",
       "    </tr>\n",
       "    <tr>\n",
       "      <th>140</th>\n",
       "      <td>VT</td>\n",
       "      <td>[-50.8287808455]</td>\n",
       "    </tr>\n",
       "    <tr>\n",
       "      <th>141</th>\n",
       "      <td>VU</td>\n",
       "      <td>[-0.281084949324]</td>\n",
       "    </tr>\n",
       "    <tr>\n",
       "      <th>142</th>\n",
       "      <td>VY</td>\n",
       "      <td>[-40.0110101493]</td>\n",
       "    </tr>\n",
       "    <tr>\n",
       "      <th>143</th>\n",
       "      <td>VC</td>\n",
       "      <td>[-100.785855572]</td>\n",
       "    </tr>\n",
       "    <tr>\n",
       "      <th>144</th>\n",
       "      <td>V1s</td>\n",
       "      <td>[36.6552149871]</td>\n",
       "    </tr>\n",
       "    <tr>\n",
       "      <th>145</th>\n",
       "      <td>V2s</td>\n",
       "      <td>[31.1337048844]</td>\n",
       "    </tr>\n",
       "    <tr>\n",
       "      <th>146</th>\n",
       "      <td>V3s</td>\n",
       "      <td>[53.4920830372]</td>\n",
       "    </tr>\n",
       "    <tr>\n",
       "      <th>147</th>\n",
       "      <td>V1p</td>\n",
       "      <td>[140.555900429]</td>\n",
       "    </tr>\n",
       "    <tr>\n",
       "      <th>148</th>\n",
       "      <td>V2p</td>\n",
       "      <td>[98.5008478388]</td>\n",
       "    </tr>\n",
       "    <tr>\n",
       "      <th>149</th>\n",
       "      <td>V3p</td>\n",
       "      <td>[30.0046531633]</td>\n",
       "    </tr>\n",
       "  </tbody>\n",
       "</table>\n",
       "<p>150 rows × 2 columns</p>\n",
       "</div>"
      ],
      "text/plain": [
       "              0                  1\n",
       "0          skip    [22.1023173653]\n",
       "1      compound    [2.62026278807]\n",
       "2      hashtags   [-5.03680049042]\n",
       "3         links   [-23.1901940465]\n",
       "4         punct   [-2.70479361288]\n",
       "5     questions  [0.0210280558811]\n",
       "6        exclam    [3.07362969057]\n",
       "7       numbers   [-13.8273735705]\n",
       "8        upcase   [-29.2593466814]\n",
       "9       lowcase   [-32.9339765557]\n",
       "10      firstup   [-39.8164330346]\n",
       "11   pt.lexicon    [36.0407389508]\n",
       "12        added    [50.4758756819]\n",
       "13     verb.pro   [-14.9215101215]\n",
       "14        names    [33.1705490012]\n",
       "15   en.lexicon    [37.1309070501]\n",
       "16      rewrite   [-2.42064417429]\n",
       "17      mispell   [-18.1415020112]\n",
       "18      foreign    [44.9867286764]\n",
       "19         emo.   [-34.6434313438]\n",
       "20       emo..1    [337.139161778]\n",
       "21       emo..2    [90.9817674139]\n",
       "22        laugh  [-0.363656302653]\n",
       "23         emph    [54.7924107521]\n",
       "24       echars    [2.61688088784]\n",
       "25         unkn    [49.5880368743]\n",
       "26      X1funct   [-15.4378579478]\n",
       "27    X2pronoun   [-52.0648408788]\n",
       "28      X3ppron    [2.05800565979]\n",
       "29          X4i      [104.0305051]\n",
       "..          ...                ...\n",
       "120     proPoss   [-21.5266341717]\n",
       "121     proPess    [20.5565571619]\n",
       "122   acusativa   [-70.9352599959]\n",
       "123      dativa   [-63.8598534188]\n",
       "124  nominativa    [27.3362956666]\n",
       "125     obliqua    [150.477899054]\n",
       "126     reflexa   [-29.2914687229]\n",
       "127          p1   [-92.7739253395]\n",
       "128          p2   [-92.2529683788]\n",
       "129          p3   [-31.8987265483]\n",
       "130           V   [-25.9340218874]\n",
       "131          VW   [-36.7066490734]\n",
       "132          VG   [-3.47210630292]\n",
       "133          VK    [32.2855819667]\n",
       "134          VP   [-15.8212962413]\n",
       "135          VI   [-3.99264497085]\n",
       "136          VJ    [23.9118807577]\n",
       "137          VF    [26.1919398323]\n",
       "138          VQ    [26.3693166704]\n",
       "139          VS   [-51.5052914452]\n",
       "140          VT   [-50.8287808455]\n",
       "141          VU  [-0.281084949324]\n",
       "142          VY   [-40.0110101493]\n",
       "143          VC   [-100.785855572]\n",
       "144         V1s    [36.6552149871]\n",
       "145         V2s    [31.1337048844]\n",
       "146         V3s    [53.4920830372]\n",
       "147         V1p    [140.555900429]\n",
       "148         V2p    [98.5008478388]\n",
       "149         V3p    [30.0046531633]\n",
       "\n",
       "[150 rows x 2 columns]"
      ]
     },
     "execution_count": 87,
     "metadata": {},
     "output_type": "execute_result"
    }
   ],
   "source": [
    "pd.DataFrame(zip(all_attr, np.transpose(logreg.coef_)))"
   ]
  },
  {
   "cell_type": "markdown",
   "metadata": {},
   "source": [
    "### TODO: Conseguir p-value"
   ]
  },
  {
   "cell_type": "markdown",
   "metadata": {},
   "source": [
    "## Dictionairies + word embeddings"
   ]
  },
  {
   "cell_type": "code",
   "execution_count": 140,
   "metadata": {
    "collapsed": false
   },
   "outputs": [
    {
     "name": "stdout",
     "output_type": "stream",
     "text": [
      "(727, 64)\n",
      "(727, 300)\n"
     ]
    }
   ],
   "source": [
    "print train.shape\n",
    "print X_train_word_average.shape"
   ]
  },
  {
   "cell_type": "code",
   "execution_count": 145,
   "metadata": {
    "collapsed": true
   },
   "outputs": [],
   "source": [
    "def merge_attributes(conj1, conj2):\n",
    "    combined_attr = []\n",
    "\n",
    "    for i in range(0,conj1.shape[0]):\n",
    "        mixed_attr = np.concatenate((conj1[i], conj2[i]))\n",
    "        combined_attr.append(mixed_attr)\n",
    "    return np.vstack(combined_attr)"
   ]
  },
  {
   "cell_type": "code",
   "execution_count": 146,
   "metadata": {
    "collapsed": false
   },
   "outputs": [],
   "source": [
    "train_merged = merge_attributes(train, X_train_word_average)\n",
    "test_merged = merge_attributes(test, X_test_word_average)"
   ]
  },
  {
   "cell_type": "code",
   "execution_count": 147,
   "metadata": {
    "collapsed": false
   },
   "outputs": [
    {
     "name": "stdout",
     "output_type": "stream",
     "text": [
      "CPU times: user 1.32 s, sys: 5.83 ms, total: 1.33 s\n",
      "Wall time: 1.34 s\n"
     ]
    }
   ],
   "source": [
    "%%time\n",
    "logreg = linear_model.LogisticRegression(n_jobs=1, C=1e5)\n",
    "\n",
    "logreg = logreg.fit(train_merged, train_data['extraversion_m'])\n",
    "predicted = logreg.predict(test_merged)"
   ]
  },
  {
   "cell_type": "code",
   "execution_count": 148,
   "metadata": {
    "collapsed": false
   },
   "outputs": [
    {
     "name": "stdout",
     "output_type": "stream",
     "text": [
      "accuracy 0.628205128205\n",
      "confusion matrix\n",
      " [[ 94  48]\n",
      " [ 68 102]]\n",
      "(row=expected, col=predicted)\n"
     ]
    },
    {
     "data": {
      "image/png": "[encoded data removed]",
      "text/plain": [
       "<matplotlib.figure.Figure at 0x7f071c7de790>"
      ]
     },
     "metadata": {},
     "output_type": "display_data"
    }
   ],
   "source": [
    "evaluate_prediction(predicted, test_data.extraversion_m)"
   ]
  },
  {
   "cell_type": "code",
   "execution_count": 149,
   "metadata": {
    "collapsed": false
   },
   "outputs": [
    {
     "name": "stdout",
     "output_type": "stream",
     "text": [
      "Fitting a random forest to labeled training data...\n",
      "accuracy 0.599358974359\n",
      "confusion matrix\n",
      " [[99 43]\n",
      " [82 88]]\n",
      "(row=expected, col=predicted)\n"
     ]
    },
    {
     "data": {
      "image/png": "[encoded data removed]",
      "text/plain": [
       "<matplotlib.figure.Figure at 0x7f071a211250>"
      ]
     },
     "metadata": {},
     "output_type": "display_data"
    }
   ],
   "source": [
    "from sklearn.ensemble import RandomForestClassifier\n",
    "forest = RandomForestClassifier( n_estimators = 1000 )\n",
    "\n",
    "print \"Fitting a random forest to labeled training data...\"\n",
    "forest = forest.fit( train_merged, train_data[\"extraversion_m\"] )\n",
    "\n",
    "# Test & extract results \n",
    "result = forest.predict( test_merged )\n",
    "\n",
    "evaluate_prediction(result, test_data.extraversion_m)"
   ]
  },
  {
   "cell_type": "markdown",
   "metadata": {},
   "source": [
    "## Remove stop words"
   ]
  },
  {
   "cell_type": "code",
   "execution_count": 220,
   "metadata": {
    "collapsed": true
   },
   "outputs": [],
   "source": [
    "def w2v_tokenize_text(text):\n",
    "    tokens = []\n",
    "    if text is np.nan:\n",
    "        return []\n",
    "    for sent in nltk.sent_tokenize(text, language='portuguese'):\n",
    "        for word in nltk.word_tokenize(sent, language='portuguese'):\n",
    "            if len(word) < 2:\n",
    "                continue\n",
    "            if word in stopwords.words('portuguese'):\n",
    "                continue\n",
    "            tokens.append(word)\n",
    "    return tokens"
   ]
  },
  {
   "cell_type": "code",
   "execution_count": null,
   "metadata": {
    "collapsed": false
   },
   "outputs": [],
   "source": [
    "train_tokenized = train_w2v_data.apply(lambda r: w2v_tokenize_text(r['formatted_text']), axis=1).values\n",
    "test_tokenized = test_w2v_data.apply(lambda r: w2v_tokenize_text(r['formatted_text']), axis=1).values"
   ]
  },
  {
   "cell_type": "code",
   "execution_count": 192,
   "metadata": {
    "collapsed": false
   },
   "outputs": [
    {
     "name": "stderr",
     "output_type": "stream",
     "text": [
      "2017-03-05 10:07:21,411 : WARNING : cannot compute similarity with no input [u'FOREIGN']\n",
      "2017-03-05 10:07:21,677 : WARNING : cannot compute similarity with no input []\n",
      "2017-03-05 10:07:21,907 : WARNING : cannot compute similarity with no input []\n",
      "2017-03-05 10:07:21,912 : WARNING : cannot compute similarity with no input []\n",
      "2017-03-05 10:07:22,375 : WARNING : cannot compute similarity with no input []\n",
      "2017-03-05 10:07:22,557 : WARNING : cannot compute similarity with no input []\n",
      "2017-03-05 10:07:22,822 : WARNING : cannot compute similarity with no input [u'FOREIGN', u'FOREIGN', u'FOREIGN']\n",
      "2017-03-05 10:07:22,832 : WARNING : cannot compute similarity with no input []\n",
      "2017-03-05 10:07:23,357 : WARNING : cannot compute similarity with no input []\n",
      "2017-03-05 10:07:23,425 : WARNING : cannot compute similarity with no input []\n",
      "2017-03-05 10:07:23,593 : WARNING : cannot compute similarity with no input []\n",
      "2017-03-05 10:07:23,712 : WARNING : cannot compute similarity with no input []\n",
      "2017-03-05 10:07:23,759 : WARNING : cannot compute similarity with no input []\n"
     ]
    },
    {
     "name": "stdout",
     "output_type": "stream",
     "text": [
      "CPU times: user 2.86 s, sys: 17.2 ms, total: 2.88 s\n",
      "Wall time: 2.87 s\n"
     ]
    }
   ],
   "source": [
    "%%time\n",
    "X_train_word_average = word_averaging_list(model,train_tokenized)\n",
    "X_test_word_average = word_averaging_list(model,test_tokenized)"
   ]
  },
  {
   "cell_type": "code",
   "execution_count": 193,
   "metadata": {
    "collapsed": false
   },
   "outputs": [
    {
     "name": "stdout",
     "output_type": "stream",
     "text": [
      "CPU times: user 718 ms, sys: 1.89 ms, total: 720 ms\n",
      "Wall time: 724 ms\n"
     ]
    }
   ],
   "source": [
    "%%time\n",
    "logreg = linear_model.LogisticRegression(n_jobs=1, C=1e5)\n",
    "\n",
    "logreg = logreg.fit(X_train_word_average, train_w2v_data['extraversion_m'])\n",
    "predicted = logreg.predict(X_test_word_average)"
   ]
  },
  {
   "cell_type": "code",
   "execution_count": 194,
   "metadata": {
    "collapsed": false
   },
   "outputs": [
    {
     "name": "stdout",
     "output_type": "stream",
     "text": [
      "accuracy 0.608974358974\n",
      "confusion matrix\n",
      " [[91 51]\n",
      " [71 99]]\n",
      "(row=expected, col=predicted)\n"
     ]
    },
    {
     "data": {
      "image/png": "[encoded data removed]",
      "text/plain": [
       "<matplotlib.figure.Figure at 0x7f07167ab2d0>"
      ]
     },
     "metadata": {},
     "output_type": "display_data"
    }
   ],
   "source": [
    "evaluate_prediction(predicted, test_w2v_data.extraversion_m)"
   ]
  },
  {
   "cell_type": "markdown",
   "metadata": {},
   "source": [
    "## W2V Stop + LIWC"
   ]
  },
  {
   "cell_type": "code",
   "execution_count": 195,
   "metadata": {
    "collapsed": true
   },
   "outputs": [],
   "source": [
    "train_merged = merge_attributes(train, X_train_word_average)\n",
    "test_merged = merge_attributes(test, X_test_word_average)"
   ]
  },
  {
   "cell_type": "code",
   "execution_count": 196,
   "metadata": {
    "collapsed": false
   },
   "outputs": [
    {
     "name": "stdout",
     "output_type": "stream",
     "text": [
      "CPU times: user 1.28 s, sys: 40.2 ms, total: 1.32 s\n",
      "Wall time: 1.28 s\n"
     ]
    }
   ],
   "source": [
    "%%time\n",
    "logreg = linear_model.LogisticRegression(n_jobs=1, C=1e5)\n",
    "\n",
    "logreg = logreg.fit(train_merged, train_data['extraversion_m'])\n",
    "predicted = logreg.predict(test_merged)"
   ]
  },
  {
   "cell_type": "code",
   "execution_count": 197,
   "metadata": {
    "collapsed": false
   },
   "outputs": [
    {
     "name": "stdout",
     "output_type": "stream",
     "text": [
      "accuracy 0.61858974359\n",
      "confusion matrix\n",
      " [[ 84  58]\n",
      " [ 61 109]]\n",
      "(row=expected, col=predicted)\n"
     ]
    },
    {
     "data": {
      "image/png": "[encoded data removed]",
      "text/plain": [
       "<matplotlib.figure.Figure at 0x7f0723d21410>"
      ]
     },
     "metadata": {},
     "output_type": "display_data"
    }
   ],
   "source": [
    "evaluate_prediction(predicted, test_data.extraversion_m)"
   ]
  },
  {
   "cell_type": "markdown",
   "metadata": {},
   "source": [
    "## Bag of words"
   ]
  },
  {
   "cell_type": "code",
   "execution_count": 219,
   "metadata": {
    "collapsed": false
   },
   "outputs": [
    {
     "name": "stdout",
     "output_type": "stream",
     "text": [
      "Creating the bag of words...\n",
      "\n"
     ]
    },
    {
     "ename": "ValueError",
     "evalue": "np.nan is an invalid document, expected byte or unicode string.",
     "output_type": "error",
     "traceback": [
      "\u001b[0;31m---------------------------------------------------------------------------\u001b[0m",
      "\u001b[0;31mValueError\u001b[0m                                Traceback (most recent call last)",
      "\u001b[0;32m<ipython-input-219-e6ddb6b74591>\u001b[0m in \u001b[0;36m<module>\u001b[0;34m()\u001b[0m\n\u001b[1;32m      9\u001b[0m \u001b[0;31m# into feature vectors. The input to fit_transform should be a list of\u001b[0m\u001b[0;34m\u001b[0m\u001b[0;34m\u001b[0m\u001b[0m\n\u001b[1;32m     10\u001b[0m \u001b[0;31m# strings.\u001b[0m\u001b[0;34m\u001b[0m\u001b[0;34m\u001b[0m\u001b[0m\n\u001b[0;32m---> 11\u001b[0;31m \u001b[0mtrain_data_features\u001b[0m \u001b[0;34m=\u001b[0m \u001b[0mvectorizer\u001b[0m\u001b[0;34m.\u001b[0m\u001b[0mfit_transform\u001b[0m\u001b[0;34m(\u001b[0m\u001b[0mdf\u001b[0m\u001b[0;34m.\u001b[0m\u001b[0mformatted_text\u001b[0m\u001b[0;34m)\u001b[0m\u001b[0;34m\u001b[0m\u001b[0m\n\u001b[0m\u001b[1;32m     12\u001b[0m \u001b[0;34m\u001b[0m\u001b[0m\n\u001b[1;32m     13\u001b[0m \u001b[0;31m# Numpy arrays are easy to work with, so convert the result to an\u001b[0m\u001b[0;34m\u001b[0m\u001b[0;34m\u001b[0m\u001b[0m\n",
      "\u001b[0;32m/usr/lib64/python2.7/site-packages/sklearn/feature_extraction/text.pyc\u001b[0m in \u001b[0;36mfit_transform\u001b[0;34m(self, raw_documents, y)\u001b[0m\n\u001b[1;32m    837\u001b[0m \u001b[0;34m\u001b[0m\u001b[0m\n\u001b[1;32m    838\u001b[0m         vocabulary, X = self._count_vocab(raw_documents,\n\u001b[0;32m--> 839\u001b[0;31m                                           self.fixed_vocabulary_)\n\u001b[0m\u001b[1;32m    840\u001b[0m \u001b[0;34m\u001b[0m\u001b[0m\n\u001b[1;32m    841\u001b[0m         \u001b[0;32mif\u001b[0m \u001b[0mself\u001b[0m\u001b[0;34m.\u001b[0m\u001b[0mbinary\u001b[0m\u001b[0;34m:\u001b[0m\u001b[0;34m\u001b[0m\u001b[0m\n",
      "\u001b[0;32m/usr/lib64/python2.7/site-packages/sklearn/feature_extraction/text.pyc\u001b[0m in \u001b[0;36m_count_vocab\u001b[0;34m(self, raw_documents, fixed_vocab)\u001b[0m\n\u001b[1;32m    760\u001b[0m         \u001b[0;32mfor\u001b[0m \u001b[0mdoc\u001b[0m \u001b[0;32min\u001b[0m \u001b[0mraw_documents\u001b[0m\u001b[0;34m:\u001b[0m\u001b[0;34m\u001b[0m\u001b[0m\n\u001b[1;32m    761\u001b[0m             \u001b[0mfeature_counter\u001b[0m \u001b[0;34m=\u001b[0m \u001b[0;34m{\u001b[0m\u001b[0;34m}\u001b[0m\u001b[0;34m\u001b[0m\u001b[0m\n\u001b[0;32m--> 762\u001b[0;31m             \u001b[0;32mfor\u001b[0m \u001b[0mfeature\u001b[0m \u001b[0;32min\u001b[0m \u001b[0manalyze\u001b[0m\u001b[0;34m(\u001b[0m\u001b[0mdoc\u001b[0m\u001b[0;34m)\u001b[0m\u001b[0;34m:\u001b[0m\u001b[0;34m\u001b[0m\u001b[0m\n\u001b[0m\u001b[1;32m    763\u001b[0m                 \u001b[0;32mtry\u001b[0m\u001b[0;34m:\u001b[0m\u001b[0;34m\u001b[0m\u001b[0m\n\u001b[1;32m    764\u001b[0m                     \u001b[0mfeature_idx\u001b[0m \u001b[0;34m=\u001b[0m \u001b[0mvocabulary\u001b[0m\u001b[0;34m[\u001b[0m\u001b[0mfeature\u001b[0m\u001b[0;34m]\u001b[0m\u001b[0;34m\u001b[0m\u001b[0m\n",
      "\u001b[0;32m/usr/lib64/python2.7/site-packages/sklearn/feature_extraction/text.pyc\u001b[0m in \u001b[0;36m<lambda>\u001b[0;34m(doc)\u001b[0m\n\u001b[1;32m    239\u001b[0m \u001b[0;34m\u001b[0m\u001b[0m\n\u001b[1;32m    240\u001b[0m             return lambda doc: self._word_ngrams(\n\u001b[0;32m--> 241\u001b[0;31m                 tokenize(preprocess(self.decode(doc))), stop_words)\n\u001b[0m\u001b[1;32m    242\u001b[0m \u001b[0;34m\u001b[0m\u001b[0m\n\u001b[1;32m    243\u001b[0m         \u001b[0;32melse\u001b[0m\u001b[0;34m:\u001b[0m\u001b[0;34m\u001b[0m\u001b[0m\n",
      "\u001b[0;32m/usr/lib64/python2.7/site-packages/sklearn/feature_extraction/text.pyc\u001b[0m in \u001b[0;36mdecode\u001b[0;34m(self, doc)\u001b[0m\n\u001b[1;32m    119\u001b[0m \u001b[0;34m\u001b[0m\u001b[0m\n\u001b[1;32m    120\u001b[0m         \u001b[0;32mif\u001b[0m \u001b[0mdoc\u001b[0m \u001b[0;32mis\u001b[0m \u001b[0mnp\u001b[0m\u001b[0;34m.\u001b[0m\u001b[0mnan\u001b[0m\u001b[0;34m:\u001b[0m\u001b[0;34m\u001b[0m\u001b[0m\n\u001b[0;32m--> 121\u001b[0;31m             raise ValueError(\"np.nan is an invalid document, expected byte or \"\n\u001b[0m\u001b[1;32m    122\u001b[0m                              \"unicode string.\")\n\u001b[1;32m    123\u001b[0m \u001b[0;34m\u001b[0m\u001b[0m\n",
      "\u001b[0;31mValueError\u001b[0m: np.nan is an invalid document, expected byte or unicode string."
     ]
    }
   ],
   "source": [
    "print \"Creating the bag of words...\\n\"\n",
    "from sklearn.feature_extraction.text import CountVectorizer\n",
    "# Initialize the \"CountVectorizer\" object, which is scikit-learn's\n",
    "# bag of words tool.  \n",
    "vectorizer = CountVectorizer(analyzer = \"word\",   \\\n",
    "                             tokenizer = None,    \\\n",
    "                             preprocessor = None, \\\n",
    "                             stop_words = None,   \\\n",
    "                             max_features = 5000) \n",
    "\n",
    "# fit_transform() does two functions: First, it fits the model\n",
    "# and learns the vocabulary; second, it transforms our training data\n",
    "# into feature vectors. The input to fit_transform should be a list of \n",
    "# strings.\n",
    "train_data_features = vectorizer.fit_transform(df.formatted_text)\n",
    "\n",
    "# Numpy arrays are easy to work with, so convert the result to an \n",
    "# array\n",
    "train_data_features = train_data_features.toarray()"
   ]
  },
  {
   "cell_type": "markdown",
   "metadata": {},
   "source": [
    "## Doc2Vec"
   ]
  },
  {
   "cell_type": "code",
   "execution_count": 104,
   "metadata": {
    "collapsed": true
   },
   "outputs": [],
   "source": [
    "from gensim.models import Doc2Vec\n",
    "from gensim.models.doc2vec import TaggedDocument"
   ]
  },
  {
   "cell_type": "code",
   "execution_count": 107,
   "metadata": {
    "collapsed": true
   },
   "outputs": [],
   "source": [
    "def tokenize_text(text):\n",
    "    tokens = []\n",
    "    if text is np.nan:\n",
    "        return []\n",
    "    for sent in nltk.sent_tokenize(text):\n",
    "        for word in nltk.word_tokenize(sent):\n",
    "            if len(word) < 2:\n",
    "                continue\n",
    "            tokens.append(word.lower())\n",
    "    return tokens"
   ]
  },
  {
   "cell_type": "code",
   "execution_count": 179,
   "metadata": {
    "collapsed": false
   },
   "outputs": [],
   "source": [
    "train_tagged = train_w2v_data.apply(\n",
    "    lambda r: TaggedDocument(words=tokenize_text(r['formatted_text']), tags=[r.extraversion_m]), axis=1)"
   ]
  },
  {
   "cell_type": "code",
   "execution_count": 180,
   "metadata": {
    "collapsed": false
   },
   "outputs": [],
   "source": [
    "test_tagged = test_w2v_data.apply(\n",
    "    lambda r: TaggedDocument(words=tokenize_text(r['formatted_text']), tags=[r.extraversion_m]), axis=1)"
   ]
  },
  {
   "cell_type": "code",
   "execution_count": 181,
   "metadata": {
    "collapsed": false
   },
   "outputs": [
    {
     "name": "stderr",
     "output_type": "stream",
     "text": [
      "2017-03-05 09:55:10,202 : WARNING : consider setting layer size to a multiple of 4 for greater performance\n",
      "2017-03-05 09:55:10,204 : INFO : collecting all words and their counts\n",
      "2017-03-05 09:55:10,204 : INFO : PROGRESS: at example #0, processed 0 words (0/s), 0 word types, 0 tags\n",
      "2017-03-05 09:55:10,688 : INFO : collected 43446 word types and 2 unique tags from a corpus of 727 examples and 1472087 words\n",
      "2017-03-05 09:55:10,689 : INFO : Loading a fresh vocabulary\n",
      "2017-03-05 09:55:10,788 : INFO : min_count=5 retains 13634 unique words (31% of original 43446, drops 29812)\n",
      "2017-03-05 09:55:10,789 : INFO : min_count=5 leaves 1421890 word corpus (96% of original 1472087, drops 50197)\n",
      "2017-03-05 09:55:10,843 : INFO : deleting the raw counts dictionary of 43446 items\n",
      "2017-03-05 09:55:10,845 : INFO : sample=0.001 downsamples 46 most-common words\n",
      "2017-03-05 09:55:10,846 : INFO : downsampling leaves estimated 1039507 word corpus (73.1% of prior 1421890)\n",
      "2017-03-05 09:55:10,847 : INFO : estimated required memory for 13634 words and 5 dimensions: 7362400 bytes\n",
      "2017-03-05 09:55:10,919 : INFO : resetting layer weights\n",
      "2017-03-05 09:55:11,083 : INFO : training model with 1 workers on 13634 vocabulary and 5 features, using sg=0 hs=0 sample=0.001 negative=5 window=5\n",
      "2017-03-05 09:55:11,084 : INFO : expecting 727 sentences, matching count from corpus used for vocabulary survey\n",
      "2017-03-05 09:55:12,089 : INFO : PROGRESS: at 3.07% examples, 658058 words/s, in_qsize 2, out_qsize 0\n",
      "2017-03-05 09:55:13,090 : INFO : PROGRESS: at 6.05% examples, 623892 words/s, in_qsize 2, out_qsize 0\n",
      "2017-03-05 09:55:14,096 : INFO : PROGRESS: at 8.76% examples, 602843 words/s, in_qsize 1, out_qsize 0\n",
      "2017-03-05 09:55:15,100 : INFO : PROGRESS: at 11.51% examples, 594527 words/s, in_qsize 2, out_qsize 0\n",
      "2017-03-05 09:55:16,104 : INFO : PROGRESS: at 13.90% examples, 576317 words/s, in_qsize 1, out_qsize 0\n",
      "2017-03-05 09:55:17,109 : INFO : PROGRESS: at 16.81% examples, 581316 words/s, in_qsize 2, out_qsize 0\n",
      "2017-03-05 09:55:18,112 : INFO : PROGRESS: at 19.11% examples, 563653 words/s, in_qsize 1, out_qsize 0\n",
      "2017-03-05 09:55:19,114 : INFO : PROGRESS: at 21.51% examples, 555225 words/s, in_qsize 2, out_qsize 0\n",
      "2017-03-05 09:55:20,126 : INFO : PROGRESS: at 23.86% examples, 547429 words/s, in_qsize 2, out_qsize 0\n",
      "2017-03-05 09:55:21,127 : INFO : PROGRESS: at 26.60% examples, 549820 words/s, in_qsize 1, out_qsize 0\n",
      "2017-03-05 09:55:22,133 : INFO : PROGRESS: at 28.76% examples, 539153 words/s, in_qsize 2, out_qsize 0\n",
      "2017-03-05 09:55:23,133 : INFO : PROGRESS: at 31.51% examples, 541843 words/s, in_qsize 1, out_qsize 0\n",
      "2017-03-05 09:55:24,141 : INFO : PROGRESS: at 33.87% examples, 538336 words/s, in_qsize 2, out_qsize 0\n",
      "2017-03-05 09:55:25,149 : INFO : PROGRESS: at 36.51% examples, 537731 words/s, in_qsize 2, out_qsize 0\n",
      "2017-03-05 09:55:26,151 : INFO : PROGRESS: at 39.38% examples, 541783 words/s, in_qsize 2, out_qsize 0\n",
      "2017-03-05 09:55:27,154 : INFO : PROGRESS: at 41.90% examples, 541167 words/s, in_qsize 2, out_qsize 0\n",
      "2017-03-05 09:55:28,158 : INFO : PROGRESS: at 45.31% examples, 549638 words/s, in_qsize 1, out_qsize 0\n",
      "2017-03-05 09:55:29,165 : INFO : PROGRESS: at 48.64% examples, 557253 words/s, in_qsize 2, out_qsize 0\n",
      "2017-03-05 09:55:30,165 : INFO : PROGRESS: at 51.51% examples, 559048 words/s, in_qsize 1, out_qsize 0\n",
      "2017-03-05 09:55:31,181 : INFO : PROGRESS: at 54.27% examples, 559382 words/s, in_qsize 2, out_qsize 0\n",
      "2017-03-05 09:55:32,190 : INFO : PROGRESS: at 56.77% examples, 557921 words/s, in_qsize 2, out_qsize 0\n",
      "2017-03-05 09:55:33,198 : INFO : PROGRESS: at 59.77% examples, 559630 words/s, in_qsize 2, out_qsize 0\n",
      "2017-03-05 09:55:34,208 : INFO : PROGRESS: at 62.26% examples, 558826 words/s, in_qsize 2, out_qsize 0\n",
      "2017-03-05 09:55:35,214 : INFO : PROGRESS: at 65.36% examples, 561029 words/s, in_qsize 1, out_qsize 0\n",
      "2017-03-05 09:55:36,215 : INFO : PROGRESS: at 67.80% examples, 559513 words/s, in_qsize 1, out_qsize 0\n",
      "2017-03-05 09:55:37,220 : INFO : PROGRESS: at 70.83% examples, 561224 words/s, in_qsize 1, out_qsize 0\n",
      "2017-03-05 09:55:38,232 : INFO : PROGRESS: at 73.87% examples, 563869 words/s, in_qsize 2, out_qsize 0\n",
      "2017-03-05 09:55:39,233 : INFO : PROGRESS: at 76.69% examples, 564935 words/s, in_qsize 1, out_qsize 0\n",
      "2017-03-05 09:55:40,237 : INFO : PROGRESS: at 80.29% examples, 570176 words/s, in_qsize 2, out_qsize 0\n",
      "2017-03-05 09:55:41,239 : INFO : PROGRESS: at 83.67% examples, 574571 words/s, in_qsize 1, out_qsize 0\n",
      "2017-03-05 09:55:42,244 : INFO : PROGRESS: at 87.03% examples, 579241 words/s, in_qsize 2, out_qsize 0\n",
      "2017-03-05 09:55:43,250 : INFO : PROGRESS: at 90.68% examples, 583846 words/s, in_qsize 1, out_qsize 0\n",
      "2017-03-05 09:55:44,255 : INFO : PROGRESS: at 94.19% examples, 587881 words/s, in_qsize 1, out_qsize 0\n",
      "2017-03-05 09:55:45,256 : INFO : PROGRESS: at 97.53% examples, 591567 words/s, in_qsize 2, out_qsize 0\n",
      "2017-03-05 09:55:45,940 : INFO : worker thread finished; awaiting finish of 0 more threads\n",
      "2017-03-05 09:55:45,940 : INFO : training on 29441740 raw words (20698345 effective words) took 34.9s, 593854 effective words/s\n"
     ]
    },
    {
     "name": "stdout",
     "output_type": "stream",
     "text": [
      "CPU times: user 57.4 s, sys: 224 ms, total: 57.7 s\n",
      "Wall time: 57.7 s\n"
     ]
    }
   ],
   "source": [
    "%%time\n",
    "trainsent = train_tagged.values\n",
    "testsent = test_tagged.values\n",
    "\n",
    "# simple gensim doc2vec api\n",
    "doc2vec_model = Doc2Vec(trainsent, workers=1, size=5, iter=20, dm=1)\n",
    "\n",
    "train_targets, train_regressors = zip(\n",
    "    *[(doc.tags[0], doc2vec_model.infer_vector(doc.words, steps=20)) for doc in trainsent])"
   ]
  },
  {
   "cell_type": "code",
   "execution_count": 203,
   "metadata": {
    "collapsed": false
   },
   "outputs": [
    {
     "name": "stdout",
     "output_type": "stream",
     "text": [
      "accuracy 0.567307692308\n",
      "confusion matrix\n",
      " [[103  39]\n",
      " [ 96  74]]\n",
      "(row=expected, col=predicted)\n",
      "1422\n"
     ]
    },
    {
     "data": {
      "image/png": "[encoded data removed]",
      "text/plain": [
       "<matplotlib.figure.Figure at 0x7f071fdc9190>"
      ]
     },
     "metadata": {},
     "output_type": "display_data"
    }
   ],
   "source": [
    "seed = 1422\n",
    "\n",
    "doc2vec_model.seed = seed\n",
    "doc2vec_model.random = random.RandomState(seed)\n",
    "\n",
    "\n",
    "test_targets, test_regressors = zip(\n",
    "    *[(doc.tags[0], doc2vec_model.infer_vector(doc.words, steps=20)) for doc in testsent])\n",
    "\n",
    "\n",
    "logreg = linear_model.LogisticRegression(n_jobs=1, C=1e5, random_state=42)\n",
    "logreg = logreg.fit(train_regressors, train_targets)\n",
    "evaluate_prediction(logreg.predict(test_regressors), test_targets, title=str(doc2vec_model))\n",
    "print doc2vec_model.seed"
   ]
  },
  {
   "cell_type": "code",
   "execution_count": 204,
   "metadata": {
    "collapsed": false
   },
   "outputs": [],
   "source": [
    "train_targets, train_regressors = zip(\n",
    "    *[(doc.tags[0], doc2vec_model.infer_vector(doc.words, steps=20)) for doc in trainsent])"
   ]
  },
  {
   "cell_type": "code",
   "execution_count": 205,
   "metadata": {
    "collapsed": false
   },
   "outputs": [
    {
     "name": "stdout",
     "output_type": "stream",
     "text": [
      "CPU times: user 11 s, sys: 0 ns, total: 11 s\n",
      "Wall time: 11.1 s\n"
     ]
    }
   ],
   "source": [
    "%%time\n",
    "test_targets, test_regressors = zip(\n",
    "    *[(doc.tags[0], doc2vec_model.infer_vector(doc.words, steps=20)) for doc in testsent])"
   ]
  },
  {
   "cell_type": "code",
   "execution_count": 206,
   "metadata": {
    "collapsed": false
   },
   "outputs": [
    {
     "name": "stdout",
     "output_type": "stream",
     "text": [
      "accuracy 0.573717948718\n",
      "confusion matrix\n",
      " [[105  37]\n",
      " [ 96  74]]\n",
      "(row=expected, col=predicted)\n"
     ]
    },
    {
     "data": {
      "image/png": "[encoded data removed]",
      "text/plain": [
       "<matplotlib.figure.Figure at 0x7f07245f6c50>"
      ]
     },
     "metadata": {},
     "output_type": "display_data"
    }
   ],
   "source": [
    "logreg = linear_model.LogisticRegression(n_jobs=1, C=1e5)\n",
    "logreg = logreg.fit(train_regressors, train_targets)\n",
    "evaluate_prediction(logreg.predict(test_regressors), test_targets, title=str(doc2vec_model))"
   ]
  },
  {
   "cell_type": "code",
   "execution_count": 207,
   "metadata": {
    "collapsed": false
   },
   "outputs": [
    {
     "name": "stdout",
     "output_type": "stream",
     "text": [
      "accuracy 0.576923076923\n",
      "confusion matrix\n",
      " [[81 61]\n",
      " [71 99]]\n",
      "(row=expected, col=predicted)\n",
      "CPU times: user 289 ms, sys: 82.6 ms, total: 371 ms\n",
      "Wall time: 292 ms\n"
     ]
    },
    {
     "data": {
      "image/png": "[encoded data removed]",
      "text/plain": [
       "<matplotlib.figure.Figure at 0x7f07245fe350>"
      ]
     },
     "metadata": {},
     "output_type": "display_data"
    }
   ],
   "source": [
    "%%time \n",
    "knn_test_predictions = [\n",
    "    doc2vec_model.docvecs.most_similar([pred_vec], topn=1)[0][0]\n",
    "    for pred_vec in test_regressors\n",
    "]\n",
    "evaluate_prediction(knn_test_predictions, test_targets, str(doc2vec_model))"
   ]
  }
 ],
 "metadata": {
  "kernelspec": {
   "display_name": "Python 2",
   "language": "python",
   "name": "python2"
  },
  "language_info": {
   "codemirror_mode": {
    "name": "ipython",
    "version": 2
   },
   "file_extension": ".py",
   "mimetype": "text/x-python",
   "name": "python",
   "nbconvert_exporter": "python",
   "pygments_lexer": "ipython2",
   "version": "2.7.12"
  }
 },
 "nbformat": 4,
 "nbformat_minor": 2
}
