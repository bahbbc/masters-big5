{
 "cells": [
  {
   "cell_type": "code",
   "execution_count": 69,
   "metadata": {
    "collapsed": false
   },
   "outputs": [],
   "source": [
    "import logging\n",
    "logging.root.handlers = []  # Jupyter messes up logging so needs a reset\n",
    "logging.basicConfig(format='%(asctime)s : %(levelname)s : %(message)s', level=logging.INFO)\n",
    "from smart_open import smart_open\n",
    "import pandas as pd\n",
    "import numpy as np\n",
    "from numpy import random\n",
    "import gensim\n",
    "import nltk\n",
    "from sklearn.cross_validation import train_test_split\n",
    "from sklearn import linear_model\n",
    "from sklearn.feature_extraction.text import CountVectorizer, TfidfVectorizer\n",
    "from sklearn.metrics import accuracy_score, confusion_matrix\n",
    "import matplotlib.pyplot as plt\n",
    "from gensim.models import Word2Vec\n",
    "from sklearn.neighbors import KNeighborsClassifier\n",
    "from sklearn import linear_model\n",
    "from nltk.corpus import stopwords\n",
    "import os, codecs\n",
    "%matplotlib inline\n",
    "from bs4 import BeautifulSoup\n",
    "import re\n",
    "from nltk.corpus import stopwords\n",
    "from sklearn import metrics as skmetrics\n",
    "import seaborn as sns; sns.set()\n",
    "import scipy.stats"
   ]
  },
  {
   "cell_type": "code",
   "execution_count": 70,
   "metadata": {
    "collapsed": false
   },
   "outputs": [],
   "source": [
    "pd.set_option('display.max_rows', 5000)\n",
    "pd.reset_option('display.max_rows')"
   ]
  },
  {
   "cell_type": "markdown",
   "metadata": {},
   "source": [
    "## Model 1 evaluation"
   ]
  },
  {
   "cell_type": "code",
   "execution_count": 71,
   "metadata": {
    "collapsed": false
   },
   "outputs": [
    {
     "data": {
      "text/plain": [
       "(1039, 186)"
      ]
     },
     "execution_count": 71,
     "metadata": {},
     "output_type": "execute_result"
    }
   ],
   "source": [
    "df = pd.read_csv('~/personality-normalized-word2vec-lema.csv', encoding='utf-8')\n",
    "df.shape"
   ]
  },
  {
   "cell_type": "code",
   "execution_count": 72,
   "metadata": {
    "collapsed": false
   },
   "outputs": [],
   "source": [
    "liwc_attr = ['X26humans','X4i','X8they','X27affect','X9ipron','X3ppron','X28posemo','X41excl','X12auxverb','X19negate','X15future','X39inhib','X50ingest','X20quant','X13past','X51relativ','X29negemo','X21number','X47body','X60relig','X56achieve','X24family','X42percept','X31anger','X37tentat','X25friend','X57leisure','X43see','X34insight','X5we','X22swear','X62assent','X64filler']"
   ]
  },
  {
   "cell_type": "code",
   "execution_count": 73,
   "metadata": {
    "collapsed": false
   },
   "outputs": [
    {
     "name": "stderr",
     "output_type": "stream",
     "text": [
      "/usr/lib/python2.7/site-packages/ipykernel/__main__.py:1: FutureWarning: convert_objects is deprecated.  Use the data-type specific converters pd.to_datetime, pd.to_timedelta and pd.to_numeric.\n",
      "  if __name__ == '__main__':\n"
     ]
    }
   ],
   "source": [
    "df = df.convert_objects(convert_numeric=True)"
   ]
  },
  {
   "cell_type": "code",
   "execution_count": 74,
   "metadata": {
    "collapsed": true
   },
   "outputs": [],
   "source": [
    "psico = pd.read_csv('/home/bahbbc/Downloads/psycholinguistic_properties/BP.csv', encoding='utf-8')"
   ]
  },
  {
   "cell_type": "code",
   "execution_count": 75,
   "metadata": {
    "collapsed": false
   },
   "outputs": [
    {
     "data": {
      "text/html": [
       "<div>\n",
       "<table border=\"1\" class=\"dataframe\">\n",
       "  <thead>\n",
       "    <tr style=\"text-align: right;\">\n",
       "      <th></th>\n",
       "      <th>Word</th>\n",
       "      <th>Simplified grammatical category</th>\n",
       "      <th>Concretenes</th>\n",
       "      <th>Subjective Frequency</th>\n",
       "      <th>Imagery</th>\n",
       "      <th>AoA</th>\n",
       "      <th>Log frequency</th>\n",
       "      <th>Frequency</th>\n",
       "    </tr>\n",
       "  </thead>\n",
       "  <tbody>\n",
       "    <tr>\n",
       "      <th>0</th>\n",
       "      <td>abafado</td>\n",
       "      <td>a</td>\n",
       "      <td>3.47</td>\n",
       "      <td>3.92</td>\n",
       "      <td>3.96</td>\n",
       "      <td>5.28</td>\n",
       "      <td>7.11</td>\n",
       "      <td>1220.0</td>\n",
       "    </tr>\n",
       "    <tr>\n",
       "      <th>1</th>\n",
       "      <td>abafador</td>\n",
       "      <td>a</td>\n",
       "      <td>5.73</td>\n",
       "      <td>2.84</td>\n",
       "      <td>5.10</td>\n",
       "      <td>7.25</td>\n",
       "      <td>4.41</td>\n",
       "      <td>82.0</td>\n",
       "    </tr>\n",
       "    <tr>\n",
       "      <th>2</th>\n",
       "      <td>abalado</td>\n",
       "      <td>a</td>\n",
       "      <td>2.61</td>\n",
       "      <td>4.12</td>\n",
       "      <td>3.59</td>\n",
       "      <td>7.62</td>\n",
       "      <td>8.15</td>\n",
       "      <td>3450.0</td>\n",
       "    </tr>\n",
       "    <tr>\n",
       "      <th>3</th>\n",
       "      <td>abalizado</td>\n",
       "      <td>a</td>\n",
       "      <td>3.88</td>\n",
       "      <td>2.58</td>\n",
       "      <td>3.56</td>\n",
       "      <td>7.59</td>\n",
       "      <td>4.36</td>\n",
       "      <td>78.0</td>\n",
       "    </tr>\n",
       "    <tr>\n",
       "      <th>4</th>\n",
       "      <td>abandonado</td>\n",
       "      <td>a</td>\n",
       "      <td>3.68</td>\n",
       "      <td>4.16</td>\n",
       "      <td>3.97</td>\n",
       "      <td>5.24</td>\n",
       "      <td>9.75</td>\n",
       "      <td>17183.0</td>\n",
       "    </tr>\n",
       "  </tbody>\n",
       "</table>\n",
       "</div>"
      ],
      "text/plain": [
       "         Word Simplified grammatical category  Concretenes  \\\n",
       "0     abafado                               a         3.47   \n",
       "1    abafador                               a         5.73   \n",
       "2     abalado                               a         2.61   \n",
       "3   abalizado                               a         3.88   \n",
       "4  abandonado                               a         3.68   \n",
       "\n",
       "   Subjective Frequency  Imagery   AoA  Log frequency  Frequency  \n",
       "0                  3.92     3.96  5.28           7.11     1220.0  \n",
       "1                  2.84     5.10  7.25           4.41       82.0  \n",
       "2                  4.12     3.59  7.62           8.15     3450.0  \n",
       "3                  2.58     3.56  7.59           4.36       78.0  \n",
       "4                  4.16     3.97  5.24           9.75    17183.0  "
      ]
     },
     "execution_count": 75,
     "metadata": {},
     "output_type": "execute_result"
    }
   ],
   "source": [
    "psico.head()"
   ]
  },
  {
   "cell_type": "code",
   "execution_count": 76,
   "metadata": {
    "collapsed": false
   },
   "outputs": [],
   "source": [
    "concreteness = dict(zip(psico.Word, psico.Concretenes))\n",
    "subjective_freq = dict(zip(psico.Word, psico['Subjective Frequency']))\n",
    "imagery = dict(zip(psico.Word, psico.Imagery))\n",
    "aoa =  dict(zip(psico.Word, psico.AoA))\n",
    "log_freq = dict(zip(psico.Word, psico['Log frequency']))\n",
    "freq = dict(zip(psico.Word, psico.Frequency))"
   ]
  },
  {
   "cell_type": "code",
   "execution_count": 77,
   "metadata": {
    "collapsed": false
   },
   "outputs": [
    {
     "data": {
      "text/plain": [
       "0    529\n",
       "1    510\n",
       "Name: extraversion_m, dtype: int64"
      ]
     },
     "execution_count": 77,
     "metadata": {},
     "output_type": "execute_result"
    }
   ],
   "source": [
    "df.extraversion_m.value_counts()"
   ]
  },
  {
   "cell_type": "code",
   "execution_count": 78,
   "metadata": {
    "collapsed": true
   },
   "outputs": [],
   "source": [
    "train_w2v_data, test_w2v_data = train_test_split(df, test_size=0.3, random_state=42)"
   ]
  },
  {
   "cell_type": "code",
   "execution_count": 79,
   "metadata": {
    "collapsed": true
   },
   "outputs": [],
   "source": [
    "def remove_nan(atributes):\n",
    "    train_attr = np.array(train_w2v_data[atributes])\n",
    "    test_attr = np.array(test_w2v_data[atributes])\n",
    "    train_attr[np.isnan(train_attr)] = 0\n",
    "    test_attr[np.isnan(test_attr)] = 0\n",
    "    return (train_attr, test_attr)"
   ]
  },
  {
   "cell_type": "code",
   "execution_count": 80,
   "metadata": {
    "collapsed": true
   },
   "outputs": [],
   "source": [
    "def predict(vectorizer, classifier, data):\n",
    "    data_features = vectorizer.transform(data['formatted_text'])\n",
    "    predictions = classifier.predict(data_features)\n",
    "    target = data['extraversion_m']\n",
    "    evaluate_prediction(predictions, target)"
   ]
  },
  {
   "cell_type": "code",
   "execution_count": 81,
   "metadata": {
    "collapsed": false
   },
   "outputs": [],
   "source": [
    "def makeFeatureVec(words, psico_dict):\n",
    "    # Function to average all of the word vectors in a given\n",
    "    # paragraph\n",
    "    #\n",
    "    # Pre-initialize an empty numpy array (for speed)\n",
    "    featureVec = 0.\n",
    "    #\n",
    "    nwords = 0.\n",
    "    \n",
    "    #\n",
    "    # Loop over each word in the review and, if it is in the model's\n",
    "    # vocaublary, add its feature vector to the total\n",
    "    for word in words:\n",
    "        if (word in psico_dict):\n",
    "            nwords = nwords + 1.\n",
    "            featureVec = featureVec + psico_dict[word]\n",
    "    # \n",
    "    # Divide the result by the number of words to get the average\n",
    "    if nwords > 0:\n",
    "        featureVec = featureVec / nwords\n",
    "    else:\n",
    "        print 'sorry, empty...'\n",
    "    return featureVec\n",
    "\n",
    "\n",
    "def getAvgFeatureVecs(reviews, psico_dict):\n",
    "    # Given a set of reviews (each one a list of words), calculate \n",
    "    # the average feature vector for each one and return a 2D numpy array \n",
    "    # \n",
    "    # Initialize a counter\n",
    "    counter = 0\n",
    "    # \n",
    "    # Preallocate a 2D numpy array, for speed\n",
    "    reviewFeatureVecs = np.zeros((len(reviews)),dtype=\"float32\")\n",
    "    # \n",
    "    # Loop through the reviews\n",
    "    for review in reviews:\n",
    "        #Print a status message every 1000th review\n",
    "        if counter%100. == 0.:\n",
    "            print \"Review %d of %d\" % (counter, len(reviews))\n",
    "        #Call the function (defined above) that makes average feature vectors\n",
    "        reviewFeatureVecs[counter] = makeFeatureVec(review, psico_dict)\n",
    "        #Increment the counter\n",
    "        counter = counter + 1\n",
    "    return reviewFeatureVecs"
   ]
  },
  {
   "cell_type": "code",
   "execution_count": 82,
   "metadata": {
    "collapsed": false
   },
   "outputs": [],
   "source": [
    "def w2v_tokenize_text(text):\n",
    "    tokens = []\n",
    "    if text is np.nan:\n",
    "        return []\n",
    "    for sent in nltk.sent_tokenize(text, language='portuguese'):\n",
    "        for word in nltk.word_tokenize(sent, language='portuguese'):\n",
    "            word = word.lower()\n",
    "            if len(word) < 2:\n",
    "                continue\n",
    "            tokens.append(word)\n",
    "    return tokens"
   ]
  },
  {
   "cell_type": "code",
   "execution_count": 83,
   "metadata": {
    "collapsed": false
   },
   "outputs": [],
   "source": [
    "train, test = remove_nan(liwc_attr)"
   ]
  },
  {
   "cell_type": "code",
   "execution_count": 84,
   "metadata": {
    "collapsed": false
   },
   "outputs": [],
   "source": [
    "test_tokenized = test_w2v_data.apply(lambda r: w2v_tokenize_text(r['formatted_text']), axis=1).values\n",
    "train_tokenized = train_w2v_data.apply(lambda r: w2v_tokenize_text(r['formatted_text']), axis=1).values"
   ]
  },
  {
   "cell_type": "code",
   "execution_count": 85,
   "metadata": {
    "collapsed": false
   },
   "outputs": [],
   "source": [
    "index = pd.isnull(train_w2v_data.formatted_text)\n",
    "train_w2v_data.loc[index, 'formatted_text'] = ''"
   ]
  },
  {
   "cell_type": "code",
   "execution_count": 86,
   "metadata": {
    "collapsed": true
   },
   "outputs": [],
   "source": [
    "concreteness = dict(zip(psico.Word, psico.Concretenes))\n",
    "subjective_freq = dict(zip(psico.Word, psico['Subjective Frequency']))\n",
    "imagery = dict(zip(psico.Word, psico.Imagery))\n",
    "aoa =  dict(zip(psico.Word, psico.AoA))\n",
    "log_freq = dict(zip(psico.Word, psico['Log frequency']))\n",
    "freq = dict(zip(psico.Word, psico.Frequency))"
   ]
  },
  {
   "cell_type": "code",
   "execution_count": 87,
   "metadata": {
    "collapsed": false
   },
   "outputs": [
    {
     "name": "stdout",
     "output_type": "stream",
     "text": [
      "Review 0 of 727\n",
      "sorry, empty...\n",
      "Review 100 of 727\n",
      "sorry, empty...\n",
      "Review 200 of 727\n",
      "sorry, empty...\n",
      "sorry, empty...\n",
      "Review 300 of 727\n",
      "sorry, empty...\n",
      "Review 400 of 727\n",
      "sorry, empty...\n",
      "sorry, empty...\n",
      "Review 500 of 727\n",
      "Review 600 of 727\n",
      "sorry, empty...\n",
      "sorry, empty...\n",
      "Review 700 of 727\n",
      "Review 0 of 312\n",
      "sorry, empty...\n",
      "Review 100 of 312\n",
      "sorry, empty...\n",
      "sorry, empty...\n",
      "sorry, empty...\n",
      "Review 200 of 312\n",
      "sorry, empty...\n",
      "sorry, empty...\n",
      "Review 300 of 312\n",
      "Review 0 of 727\n",
      "sorry, empty...\n",
      "Review 100 of 727\n",
      "sorry, empty...\n",
      "Review 200 of 727\n",
      "sorry, empty...\n",
      "sorry, empty...\n",
      "Review 300 of 727\n",
      "sorry, empty...\n",
      "Review 400 of 727\n",
      "sorry, empty...\n",
      "sorry, empty...\n",
      "Review 500 of 727\n",
      "Review 600 of 727\n",
      "sorry, empty...\n",
      "sorry, empty...\n",
      "Review 700 of 727\n",
      "Review 0 of 312\n",
      "sorry, empty...\n",
      "Review 100 of 312\n",
      "sorry, empty...\n",
      "sorry, empty...\n",
      "sorry, empty...\n",
      "Review 200 of 312\n",
      "sorry, empty...\n",
      "sorry, empty...\n",
      "Review 300 of 312\n",
      "Review 0 of 727\n",
      "sorry, empty...\n",
      "Review 100 of 727\n",
      "sorry, empty...\n",
      "Review 200 of 727\n",
      "sorry, empty...\n",
      "sorry, empty...\n",
      "Review 300 of 727\n",
      "sorry, empty...\n",
      "Review 400 of 727\n",
      "sorry, empty...\n",
      "sorry, empty...\n",
      "Review 500 of 727\n",
      "Review 600 of 727\n",
      "sorry, empty...\n",
      "sorry, empty...\n",
      "Review 700 of 727\n",
      "Review 0 of 312\n",
      "sorry, empty...\n",
      "Review 100 of 312\n",
      "sorry, empty...\n",
      "sorry, empty...\n",
      "sorry, empty...\n",
      "Review 200 of 312\n",
      "sorry, empty...\n",
      "sorry, empty...\n",
      "Review 300 of 312\n"
     ]
    }
   ],
   "source": [
    "conc_trainDataVecs = getAvgFeatureVecs( train_tokenized, concreteness )\n",
    "conc_testDataVecs = getAvgFeatureVecs( test_tokenized, concreteness )\n",
    "ima_trainDataVecs = getAvgFeatureVecs( train_tokenized, imagery )\n",
    "ima_testDataVecs = getAvgFeatureVecs( test_tokenized, imagery )\n",
    "aoa_trainDataVecs = getAvgFeatureVecs( train_tokenized, aoa )\n",
    "aoa_testDataVecs = getAvgFeatureVecs( test_tokenized, aoa )"
   ]
  },
  {
   "cell_type": "code",
   "execution_count": 88,
   "metadata": {
    "collapsed": false
   },
   "outputs": [],
   "source": [
    "train_data = np.vstack((conc_trainDataVecs, ima_trainDataVecs, aoa_trainDataVecs))"
   ]
  },
  {
   "cell_type": "code",
   "execution_count": 89,
   "metadata": {
    "collapsed": false
   },
   "outputs": [],
   "source": [
    "train_data = train_data.T\n",
    "train_data = pd.DataFrame(train_data, index=train_w2v_data.index, columns=['concreteness', 'imagery', 'aoa'])\n",
    "train = pd.DataFrame(train, index=train_w2v_data.index, columns=liwc_attr)"
   ]
  },
  {
   "cell_type": "code",
   "execution_count": 90,
   "metadata": {
    "collapsed": false
   },
   "outputs": [],
   "source": [
    "train_features = pd.concat([train_data, train], axis=1)"
   ]
  },
  {
   "cell_type": "code",
   "execution_count": 91,
   "metadata": {
    "collapsed": false
   },
   "outputs": [],
   "source": [
    "test_data = np.vstack((conc_testDataVecs, ima_testDataVecs, aoa_testDataVecs))"
   ]
  },
  {
   "cell_type": "code",
   "execution_count": 92,
   "metadata": {
    "collapsed": false
   },
   "outputs": [],
   "source": [
    "test_data = test_data.T\n",
    "test_data = pd.DataFrame(test_data, index=test_w2v_data.index, columns=['concreteness', 'imagery', 'aoa'])\n",
    "test = pd.DataFrame(test, index=test_w2v_data.index, columns=liwc_attr)"
   ]
  },
  {
   "cell_type": "code",
   "execution_count": 93,
   "metadata": {
    "collapsed": false
   },
   "outputs": [],
   "source": [
    "test_features = pd.concat([test_data, test], axis=1)"
   ]
  },
  {
   "cell_type": "markdown",
   "metadata": {},
   "source": [
    "# Correlation heatmap"
   ]
  },
  {
   "cell_type": "code",
   "execution_count": 94,
   "metadata": {
    "collapsed": true
   },
   "outputs": [],
   "source": [
    "correlation_attr = train_features.append(test_features)\n",
    "\n",
    "extr = train_w2v_data.extraversion.append(test_w2v_data.extraversion)\n",
    "agre = train_w2v_data.agreeableness.append(test_w2v_data.agreeableness)\n",
    "cons = train_w2v_data.conscientiousness.append(test_w2v_data.conscientiousness)\n",
    "neur = train_w2v_data.neuroticism.append(test_w2v_data.neuroticism)\n",
    "openn = train_w2v_data.openness.append(test_w2v_data.openness)\n",
    "\n",
    "personality_data = pd.DataFrame({'extr': extr, 'agre':agre, 'cons':cons, 'neur':neur, 'open':openn})\n",
    "\n",
    "correlation_attr = pd.concat([correlation_attr, personality_data], axis=1)"
   ]
  },
  {
   "cell_type": "code",
   "execution_count": 95,
   "metadata": {
    "collapsed": false
   },
   "outputs": [],
   "source": [
    "corr = correlation_attr.corr()"
   ]
  },
  {
   "cell_type": "code",
   "execution_count": 96,
   "metadata": {
    "collapsed": false
   },
   "outputs": [
    {
     "data": {
      "text/plain": [
       "X28posemo    0.218339\n",
       "X24family    0.200734\n",
       "extr         1.000000\n",
       "open         0.215956\n",
       "Name: extr, dtype: float64"
      ]
     },
     "execution_count": 96,
     "metadata": {},
     "output_type": "execute_result"
    }
   ],
   "source": [
    "corr['extr'][abs(corr['extr']) > 0.2]"
   ]
  },
  {
   "cell_type": "code",
   "execution_count": 97,
   "metadata": {
    "collapsed": false
   },
   "outputs": [
    {
     "data": {
      "text/plain": [
       "X27affect    0.150022\n",
       "X28posemo    0.194398\n",
       "agre         1.000000\n",
       "cons         0.184472\n",
       "extr         0.193474\n",
       "neur        -0.348070\n",
       "Name: agre, dtype: float64"
      ]
     },
     "execution_count": 97,
     "metadata": {},
     "output_type": "execute_result"
    }
   ],
   "source": [
    "corr['agre'][abs(corr['agre']) > 0.15]"
   ]
  },
  {
   "cell_type": "code",
   "execution_count": 98,
   "metadata": {
    "collapsed": false
   },
   "outputs": [
    {
     "data": {
      "text/plain": [
       "X28posemo    0.181192\n",
       "agre         0.184472\n",
       "cons         1.000000\n",
       "extr         0.155086\n",
       "Name: cons, dtype: float64"
      ]
     },
     "execution_count": 98,
     "metadata": {},
     "output_type": "execute_result"
    }
   ],
   "source": [
    "corr['cons'][abs(corr['cons']) > 0.15]"
   ]
  },
  {
   "cell_type": "code",
   "execution_count": 99,
   "metadata": {
    "collapsed": false
   },
   "outputs": [
    {
     "data": {
      "text/plain": [
       "X4i     0.172642\n",
       "agre   -0.348070\n",
       "extr   -0.163381\n",
       "neur    1.000000\n",
       "Name: neur, dtype: float64"
      ]
     },
     "execution_count": 99,
     "metadata": {},
     "output_type": "execute_result"
    }
   ],
   "source": [
    "corr['neur'][abs(corr['neur']) > 0.15]"
   ]
  },
  {
   "cell_type": "code",
   "execution_count": 100,
   "metadata": {
    "collapsed": false
   },
   "outputs": [
    {
     "data": {
      "text/plain": [
       "extr    0.215956\n",
       "open    1.000000\n",
       "Name: open, dtype: float64"
      ]
     },
     "execution_count": 100,
     "metadata": {},
     "output_type": "execute_result"
    }
   ],
   "source": [
    "corr['open'][abs(corr['open']) > 0.15]"
   ]
  },
  {
   "cell_type": "code",
   "execution_count": 101,
   "metadata": {
    "collapsed": true
   },
   "outputs": [],
   "source": [
    "# Generate a mask for the upper triangle\n",
    "mask = np.zeros_like(corr, dtype=np.bool)\n",
    "mask[np.triu_indices_from(mask)] = True"
   ]
  },
  {
   "cell_type": "code",
   "execution_count": 102,
   "metadata": {
    "collapsed": false
   },
   "outputs": [
    {
     "data": {
      "text/plain": [
       "<matplotlib.axes._subplots.AxesSubplot at 0x7fcf5b3a6dd0>"
      ]
     },
     "execution_count": 102,
     "metadata": {},
     "output_type": "execute_result"
    },
    {
     "data": {
      "image/png": "[encoded data removed]",
      "text/plain": [
       "<matplotlib.figure.Figure at 0x7fcf4f01ab10>"
      ]
     },
     "metadata": {},
     "output_type": "display_data"
    }
   ],
   "source": [
    "# Set up the matplotlib figure\n",
    "f, ax = plt.subplots(figsize=(21, 19))\n",
    "\n",
    "# Generate a custom diverging colormap\n",
    "cmap = sns.diverging_palette(220, 10, as_cmap=True)\n",
    "\n",
    "# Draw the heatmap with the mask and correct aspect ratio\n",
    "sns.heatmap(corr, mask=mask, cmap=cmap, vmax=.3, center=0,\n",
    "            square=True, linewidths=.5, cbar_kws={\"shrink\": .5})"
   ]
  },
  {
   "cell_type": "code",
   "execution_count": 103,
   "metadata": {
    "collapsed": false
   },
   "outputs": [],
   "source": [
    "from sklearn.model_selection import RandomizedSearchCV\n",
    "from sklearn.linear_model import LinearRegression\n",
    "from sklearn.tree import DecisionTreeRegressor\n",
    "from sklearn.externals import joblib\n",
    "\n",
    "force = False\n",
    "model_trainer = RandomizedSearchCV(\n",
    "    n_iter=1, \n",
    "    estimator=DecisionTreeRegressor(),\n",
    "    param_distributions={\n",
    "        \"max_features\": [\"log2\"],\n",
    "        \"random_state\": [42],\n",
    "        \"criterion\":['mse']\n",
    "    },\n",
    "    verbose=True,\n",
    "    refit=True,\n",
    "    cv=10,\n",
    "    n_jobs=-1\n",
    ")"
   ]
  },
  {
   "cell_type": "markdown",
   "metadata": {},
   "source": [
    "## Extraversion"
   ]
  },
  {
   "cell_type": "code",
   "execution_count": 105,
   "metadata": {
    "collapsed": false
   },
   "outputs": [
    {
     "name": "stdout",
     "output_type": "stream",
     "text": [
      "Fitting 10 folds for each of 1 candidates, totalling 10 fits\n"
     ]
    },
    {
     "name": "stderr",
     "output_type": "stream",
     "text": [
      "[Parallel(n_jobs=-1)]: Done   3 out of  10 | elapsed:    0.1s remaining:    0.1s\n",
      "[Parallel(n_jobs=-1)]: Done  10 out of  10 | elapsed:    0.1s finished\n"
     ]
    },
    {
     "name": "stdout",
     "output_type": "stream",
     "text": [
      "CPU times: user 170 ms, sys: 55.7 ms, total: 226 ms\n",
      "Wall time: 427 ms\n"
     ]
    }
   ],
   "source": [
    "%%time\n",
    "model_trainer.fit(train_features, train_w2v_data['extraversion'])\n",
    "model = model_trainer.best_estimator_"
   ]
  },
  {
   "cell_type": "code",
   "execution_count": 106,
   "metadata": {
    "collapsed": false
   },
   "outputs": [],
   "source": [
    "yp = model.predict(test_features)\n",
    "yt = test_w2v_data['extraversion']"
   ]
  },
  {
   "cell_type": "code",
   "execution_count": 107,
   "metadata": {
    "collapsed": false
   },
   "outputs": [
    {
     "data": {
      "text/plain": [
       "1.304598717948718"
      ]
     },
     "execution_count": 107,
     "metadata": {},
     "output_type": "execute_result"
    }
   ],
   "source": [
    "skmetrics.mean_squared_error(yt, yp)"
   ]
  },
  {
   "cell_type": "code",
   "execution_count": 108,
   "metadata": {
    "collapsed": false
   },
   "outputs": [
    {
     "data": {
      "text/plain": [
       "-0.81530346924329344"
      ]
     },
     "execution_count": 108,
     "metadata": {},
     "output_type": "execute_result"
    }
   ],
   "source": [
    "skmetrics.r2_score(yt, yp)"
   ]
  },
  {
   "cell_type": "code",
   "execution_count": 109,
   "metadata": {
    "collapsed": false
   },
   "outputs": [
    {
     "data": {
      "text/plain": [
       "1.1421903159932314"
      ]
     },
     "execution_count": 109,
     "metadata": {},
     "output_type": "execute_result"
    }
   ],
   "source": [
    "skmetrics.mean_squared_error(yt, yp)**0.5"
   ]
  },
  {
   "cell_type": "code",
   "execution_count": 110,
   "metadata": {
    "collapsed": false
   },
   "outputs": [
    {
     "name": "stdout",
     "output_type": "stream",
     "text": [
      "Features sorted by their score:\n",
      "[(0.0719, 'X28posemo'), (0.0692, 'aoa'), (0.0644, 'X20quant'), (0.0511, 'X19negate'), (0.0462, 'X24family'), (0.0454, 'X41excl'), (0.0451, 'X26humans'), (0.0419, 'X47body'), (0.0373, 'X56achieve'), (0.0337, 'X8they'), (0.0336, 'X31anger'), (0.0334, 'X15future'), (0.0322, 'concreteness'), (0.0244, 'X9ipron'), (0.024, 'X13past'), (0.0232, 'X21number'), (0.0227, 'X29negemo'), (0.0223, 'X43see'), (0.0221, 'X50ingest'), (0.0219, 'X62assent'), (0.0215, 'X22swear'), (0.0209, 'X25friend'), (0.0207, 'X60relig'), (0.0202, 'X51relativ'), (0.0193, 'X12auxverb'), (0.018, 'X37tentat'), (0.017, 'X39inhib'), (0.0164, 'X64filler'), (0.0139, 'X3ppron'), (0.0138, 'X34insight'), (0.0122, 'X4i'), (0.0109, 'X57leisure'), (0.0104, 'X5we'), (0.01, 'X27affect'), (0.0064, 'imagery'), (0.0023, 'X42percept')]\n"
     ]
    }
   ],
   "source": [
    "names = test_features.keys()\n",
    "print \"Features sorted by their score:\"\n",
    "print sorted(zip(map(lambda x: round(x, 4), model.feature_importances_), names), \n",
    "             reverse=True)"
   ]
  },
  {
   "cell_type": "code",
   "execution_count": 111,
   "metadata": {
    "collapsed": false
   },
   "outputs": [
    {
     "data": {
      "image/png": "[encoded data removed]",
      "text/plain": [
       "<matplotlib.figure.Figure at 0x7fcf51c44fd0>"
      ]
     },
     "metadata": {},
     "output_type": "display_data"
    }
   ],
   "source": [
    "features = test_features.keys()\n",
    "importances = model.feature_importances_\n",
    "\n",
    "indices = np.argsort(importances)[-10:]\n",
    "\n",
    "plt.title('Importancia dos atributos')\n",
    "plt.barh(range(len(indices)), importances[indices], color='b', align='center')\n",
    "plt.yticks(range(len(indices)), features[indices])\n",
    "plt.xlabel('Importancia relativa')\n",
    "plt.show()"
   ]
  },
  {
   "cell_type": "markdown",
   "metadata": {},
   "source": [
    "## Agreableness"
   ]
  },
  {
   "cell_type": "code",
   "execution_count": 112,
   "metadata": {
    "collapsed": false
   },
   "outputs": [
    {
     "name": "stdout",
     "output_type": "stream",
     "text": [
      "Fitting 10 folds for each of 1 candidates, totalling 10 fits\n",
      "CPU times: user 180 ms, sys: 93.6 ms, total: 273 ms\n",
      "Wall time: 304 ms\n"
     ]
    },
    {
     "name": "stderr",
     "output_type": "stream",
     "text": [
      "[Parallel(n_jobs=-1)]: Done   3 out of  10 | elapsed:    0.1s remaining:    0.1s\n",
      "[Parallel(n_jobs=-1)]: Done  10 out of  10 | elapsed:    0.1s finished\n"
     ]
    }
   ],
   "source": [
    "%%time\n",
    "model_trainer.fit(train_features, train_w2v_data['agreeableness'])\n",
    "model = model_trainer.best_estimator_"
   ]
  },
  {
   "cell_type": "code",
   "execution_count": 113,
   "metadata": {
    "collapsed": false
   },
   "outputs": [],
   "source": [
    "yp = model.predict(test_features)\n",
    "yt = test_w2v_data['agreeableness']"
   ]
  },
  {
   "cell_type": "code",
   "execution_count": 114,
   "metadata": {
    "collapsed": false
   },
   "outputs": [
    {
     "data": {
      "text/plain": [
       "0.60247997784108898"
      ]
     },
     "execution_count": 114,
     "metadata": {},
     "output_type": "execute_result"
    }
   ],
   "source": [
    "skmetrics.mean_squared_error(yt, yp)"
   ]
  },
  {
   "cell_type": "code",
   "execution_count": 115,
   "metadata": {
    "collapsed": false
   },
   "outputs": [
    {
     "data": {
      "text/plain": [
       "-0.79736804754274959"
      ]
     },
     "execution_count": 115,
     "metadata": {},
     "output_type": "execute_result"
    }
   ],
   "source": [
    "skmetrics.r2_score(yt, yp)"
   ]
  },
  {
   "cell_type": "code",
   "execution_count": 116,
   "metadata": {
    "collapsed": false
   },
   "outputs": [
    {
     "data": {
      "text/plain": [
       "0.77619583729951103"
      ]
     },
     "execution_count": 116,
     "metadata": {},
     "output_type": "execute_result"
    }
   ],
   "source": [
    "skmetrics.mean_squared_error(yt, yp)**0.5"
   ]
  },
  {
   "cell_type": "code",
   "execution_count": 117,
   "metadata": {
    "collapsed": false
   },
   "outputs": [
    {
     "name": "stdout",
     "output_type": "stream",
     "text": [
      "Features sorted by their score:\n",
      "[(0.0603, 'X56achieve'), (0.0564, 'X22swear'), (0.0551, 'X28posemo'), (0.046, 'X29negemo'), (0.0446, 'X13past'), (0.0421, 'X8they'), (0.0408, 'X9ipron'), (0.0398, 'concreteness'), (0.0383, 'X12auxverb'), (0.0349, 'aoa'), (0.0334, 'X27affect'), (0.0323, 'X4i'), (0.0299, 'X50ingest'), (0.029, 'X19negate'), (0.0278, 'X41excl'), (0.0274, 'X42percept'), (0.0272, 'X26humans'), (0.0264, 'X39inhib'), (0.0241, 'X20quant'), (0.0237, 'X51relativ'), (0.0236, 'X47body'), (0.0222, 'X64filler'), (0.0214, 'X43see'), (0.0212, 'X57leisure'), (0.0209, 'X34insight'), (0.0204, 'X21number'), (0.0196, 'X62assent'), (0.0174, 'X5we'), (0.0164, 'imagery'), (0.016, 'X60relig'), (0.0159, 'X25friend'), (0.013, 'X3ppron'), (0.0101, 'X31anger'), (0.0095, 'X37tentat'), (0.0093, 'X24family'), (0.0039, 'X15future')]\n"
     ]
    }
   ],
   "source": [
    "names = test_features.keys()\n",
    "print \"Features sorted by their score:\"\n",
    "print sorted(zip(map(lambda x: round(x, 4), model.feature_importances_), names), \n",
    "             reverse=True)"
   ]
  },
  {
   "cell_type": "code",
   "execution_count": 118,
   "metadata": {
    "collapsed": false
   },
   "outputs": [
    {
     "data": {
      "image/png": "[encoded data removed]",
      "text/plain": [
       "<matplotlib.figure.Figure at 0x7fcf51d99b50>"
      ]
     },
     "metadata": {},
     "output_type": "display_data"
    }
   ],
   "source": [
    "features = test_features.keys()\n",
    "importances = model.feature_importances_\n",
    "\n",
    "indices = np.argsort(importances)[-10:]\n",
    "\n",
    "plt.title('Importancia dos atributos')\n",
    "plt.barh(range(len(indices)), importances[indices], color='b', align='center')\n",
    "plt.yticks(range(len(indices)), features[indices])\n",
    "plt.xlabel('Importancia relativa')\n",
    "plt.show()"
   ]
  },
  {
   "cell_type": "markdown",
   "metadata": {},
   "source": [
    "## Conscientiousness"
   ]
  },
  {
   "cell_type": "code",
   "execution_count": 119,
   "metadata": {
    "collapsed": false
   },
   "outputs": [
    {
     "name": "stdout",
     "output_type": "stream",
     "text": [
      "Fitting 10 folds for each of 1 candidates, totalling 10 fits\n",
      "CPU times: user 192 ms, sys: 98 ms, total: 290 ms\n",
      "Wall time: 377 ms\n"
     ]
    },
    {
     "name": "stderr",
     "output_type": "stream",
     "text": [
      "[Parallel(n_jobs=-1)]: Done   3 out of  10 | elapsed:    0.1s remaining:    0.1s\n",
      "[Parallel(n_jobs=-1)]: Done  10 out of  10 | elapsed:    0.1s finished\n"
     ]
    }
   ],
   "source": [
    "%%time\n",
    "model_trainer.fit(train_features, train_w2v_data['conscientiousness'])\n",
    "model = model_trainer.best_estimator_"
   ]
  },
  {
   "cell_type": "code",
   "execution_count": 120,
   "metadata": {
    "collapsed": true
   },
   "outputs": [],
   "source": [
    "yp = model.predict(test_features)\n",
    "yt = test_w2v_data['conscientiousness']"
   ]
  },
  {
   "cell_type": "code",
   "execution_count": 121,
   "metadata": {
    "collapsed": false
   },
   "outputs": [
    {
     "data": {
      "text/plain": [
       "0.82751544792655918"
      ]
     },
     "execution_count": 121,
     "metadata": {},
     "output_type": "execute_result"
    }
   ],
   "source": [
    "skmetrics.mean_squared_error(yt, yp)"
   ]
  },
  {
   "cell_type": "code",
   "execution_count": 122,
   "metadata": {
    "collapsed": false
   },
   "outputs": [
    {
     "data": {
      "text/plain": [
       "-1.1508336984634817"
      ]
     },
     "execution_count": 122,
     "metadata": {},
     "output_type": "execute_result"
    }
   ],
   "source": [
    "skmetrics.r2_score(yt, yp)"
   ]
  },
  {
   "cell_type": "code",
   "execution_count": 123,
   "metadata": {
    "collapsed": false
   },
   "outputs": [
    {
     "data": {
      "text/plain": [
       "0.9096787608417376"
      ]
     },
     "execution_count": 123,
     "metadata": {},
     "output_type": "execute_result"
    }
   ],
   "source": [
    "skmetrics.mean_squared_error(yt, yp)**0.5"
   ]
  },
  {
   "cell_type": "code",
   "execution_count": 124,
   "metadata": {
    "collapsed": false
   },
   "outputs": [
    {
     "name": "stdout",
     "output_type": "stream",
     "text": [
      "Features sorted by their score:\n",
      "[(0.0697, 'X56achieve'), (0.0574, 'X60relig'), (0.0562, 'X3ppron'), (0.0521, 'X15future'), (0.0448, 'X50ingest'), (0.0385, 'X24family'), (0.0383, 'X26humans'), (0.0361, 'X47body'), (0.0354, 'X9ipron'), (0.0348, 'X12auxverb'), (0.0347, 'concreteness'), (0.0333, 'X41excl'), (0.0314, 'X39inhib'), (0.0294, 'X25friend'), (0.0279, 'X42percept'), (0.0256, 'X57leisure'), (0.0242, 'X29negemo'), (0.0241, 'X31anger'), (0.0231, 'X64filler'), (0.022, 'aoa'), (0.022, 'X20quant'), (0.02, 'X4i'), (0.0191, 'X43see'), (0.0186, 'X62assent'), (0.0183, 'X28posemo'), (0.0176, 'X13past'), (0.0173, 'X51relativ'), (0.0171, 'X27affect'), (0.017, 'X5we'), (0.0164, 'X22swear'), (0.016, 'X37tentat'), (0.0156, 'X8they'), (0.0134, 'X21number'), (0.0129, 'imagery'), (0.0104, 'X19negate'), (0.0094, 'X34insight')]\n"
     ]
    }
   ],
   "source": [
    "names = test_features.keys()\n",
    "print \"Features sorted by their score:\"\n",
    "print sorted(zip(map(lambda x: round(x, 4), model.feature_importances_), names), \n",
    "             reverse=True)"
   ]
  },
  {
   "cell_type": "code",
   "execution_count": 125,
   "metadata": {
    "collapsed": false
   },
   "outputs": [
    {
     "data": {
      "image/png": "[encoded data removed]",
      "text/plain": [
       "<matplotlib.figure.Figure at 0x7fcf520c1dd0>"
      ]
     },
     "metadata": {},
     "output_type": "display_data"
    }
   ],
   "source": [
    "features = test_features.keys()\n",
    "importances = model.feature_importances_\n",
    "\n",
    "indices = np.argsort(importances)[-10:]\n",
    "\n",
    "plt.title('Importancia dos atributos')\n",
    "plt.barh(range(len(indices)), importances[indices], color='b', align='center')\n",
    "plt.yticks(range(len(indices)), features[indices])\n",
    "plt.xlabel('Importancia relativa')\n",
    "plt.show()"
   ]
  },
  {
   "cell_type": "markdown",
   "metadata": {},
   "source": [
    "## Neuroticism"
   ]
  },
  {
   "cell_type": "code",
   "execution_count": 126,
   "metadata": {
    "collapsed": false
   },
   "outputs": [
    {
     "name": "stdout",
     "output_type": "stream",
     "text": [
      "Fitting 10 folds for each of 1 candidates, totalling 10 fits\n",
      "CPU times: user 161 ms, sys: 78.2 ms, total: 240 ms\n",
      "Wall time: 308 ms\n"
     ]
    },
    {
     "name": "stderr",
     "output_type": "stream",
     "text": [
      "[Parallel(n_jobs=-1)]: Done   3 out of  10 | elapsed:    0.1s remaining:    0.1s\n",
      "[Parallel(n_jobs=-1)]: Done  10 out of  10 | elapsed:    0.1s finished\n"
     ]
    }
   ],
   "source": [
    "%%time\n",
    "model_trainer.fit(train_features, train_w2v_data['neuroticism'])\n",
    "model = model_trainer.best_estimator_"
   ]
  },
  {
   "cell_type": "code",
   "execution_count": 127,
   "metadata": {
    "collapsed": true
   },
   "outputs": [],
   "source": [
    "yp = model.predict(test_features)\n",
    "yt = test_w2v_data['neuroticism']"
   ]
  },
  {
   "cell_type": "code",
   "execution_count": 128,
   "metadata": {
    "collapsed": false
   },
   "outputs": [
    {
     "data": {
      "text/plain": [
       "1.378278205128205"
      ]
     },
     "execution_count": 128,
     "metadata": {},
     "output_type": "execute_result"
    }
   ],
   "source": [
    "skmetrics.mean_squared_error(yt, yp)"
   ]
  },
  {
   "cell_type": "code",
   "execution_count": 129,
   "metadata": {
    "collapsed": false
   },
   "outputs": [
    {
     "data": {
      "text/plain": [
       "-0.97949747119032238"
      ]
     },
     "execution_count": 129,
     "metadata": {},
     "output_type": "execute_result"
    }
   ],
   "source": [
    "skmetrics.r2_score(yt, yp)"
   ]
  },
  {
   "cell_type": "code",
   "execution_count": 130,
   "metadata": {
    "collapsed": false
   },
   "outputs": [
    {
     "data": {
      "text/plain": [
       "1.17400093915133"
      ]
     },
     "execution_count": 130,
     "metadata": {},
     "output_type": "execute_result"
    }
   ],
   "source": [
    "skmetrics.mean_squared_error(yt, yp)**0.5"
   ]
  },
  {
   "cell_type": "code",
   "execution_count": 131,
   "metadata": {
    "collapsed": false
   },
   "outputs": [
    {
     "name": "stdout",
     "output_type": "stream",
     "text": [
      "Features sorted by their score:\n",
      "[(0.0788, 'X4i'), (0.0572, 'X60relig'), (0.0436, 'X57leisure'), (0.0422, 'X51relativ'), (0.0419, 'X28posemo'), (0.041, 'X19negate'), (0.0392, 'X22swear'), (0.0383, 'imagery'), (0.0346, 'concreteness'), (0.0345, 'X3ppron'), (0.0336, 'X42percept'), (0.0333, 'X29negemo'), (0.0331, 'X56achieve'), (0.0297, 'X50ingest'), (0.0292, 'X41excl'), (0.0281, 'X31anger'), (0.0267, 'X37tentat'), (0.026, 'X34insight'), (0.0247, 'X8they'), (0.0236, 'X13past'), (0.0227, 'X20quant'), (0.0222, 'X15future'), (0.0209, 'X24family'), (0.0193, 'X62assent'), (0.0189, 'aoa'), (0.0188, 'X25friend'), (0.0186, 'X47body'), (0.0168, 'X43see'), (0.0168, 'X27affect'), (0.0166, 'X64filler'), (0.0163, 'X39inhib'), (0.0146, 'X9ipron'), (0.0146, 'X26humans'), (0.0135, 'X12auxverb'), (0.0064, 'X5we'), (0.0039, 'X21number')]\n"
     ]
    }
   ],
   "source": [
    "names = test_features.keys()\n",
    "print \"Features sorted by their score:\"\n",
    "print sorted(zip(map(lambda x: round(x, 4), model.feature_importances_), names), \n",
    "             reverse=True)"
   ]
  },
  {
   "cell_type": "code",
   "execution_count": 132,
   "metadata": {
    "collapsed": false
   },
   "outputs": [
    {
     "data": {
      "text/plain": [
       "array([ 0.03479752,  0.03535419,  0.03608662,  0.03829181,  0.03853807,\n",
       "        0.04480789,  0.05211907,  0.05617184,  0.05743644,  0.0696569 ])"
      ]
     },
     "execution_count": 132,
     "metadata": {},
     "output_type": "execute_result"
    }
   ],
   "source": [
    "importances[indices][-10:]"
   ]
  },
  {
   "cell_type": "code",
   "execution_count": 133,
   "metadata": {
    "collapsed": false
   },
   "outputs": [
    {
     "data": {
      "image/png": "[encoded data removed]",
      "text/plain": [
       "<matplotlib.figure.Figure at 0x7fcf51a50f50>"
      ]
     },
     "metadata": {},
     "output_type": "display_data"
    }
   ],
   "source": [
    "features = test_features.keys()\n",
    "importances = model.feature_importances_\n",
    "\n",
    "indices = np.argsort(importances)[-10:]\n",
    "\n",
    "plt.title('Importancia dos atributos')\n",
    "plt.barh(range(len(indices)), importances[indices], color='b', align='center')\n",
    "plt.yticks(range(len(indices)), features[indices]) ## removed [indices]\n",
    "plt.xlabel('Importancia relativa')\n",
    "plt.show()"
   ]
  },
  {
   "cell_type": "markdown",
   "metadata": {},
   "source": [
    "## Openess"
   ]
  },
  {
   "cell_type": "code",
   "execution_count": 134,
   "metadata": {
    "collapsed": false
   },
   "outputs": [
    {
     "name": "stdout",
     "output_type": "stream",
     "text": [
      "Fitting 10 folds for each of 1 candidates, totalling 10 fits\n",
      "CPU times: user 184 ms, sys: 73.9 ms, total: 257 ms\n",
      "Wall time: 350 ms\n"
     ]
    },
    {
     "name": "stderr",
     "output_type": "stream",
     "text": [
      "[Parallel(n_jobs=-1)]: Done   3 out of  10 | elapsed:    0.1s remaining:    0.1s\n",
      "[Parallel(n_jobs=-1)]: Done  10 out of  10 | elapsed:    0.1s finished\n"
     ]
    }
   ],
   "source": [
    "%%time\n",
    "model_trainer.fit(train_features, train_w2v_data['openness'])\n",
    "model = model_trainer.best_estimator_"
   ]
  },
  {
   "cell_type": "code",
   "execution_count": 135,
   "metadata": {
    "collapsed": true
   },
   "outputs": [],
   "source": [
    "yp = model.predict(test_features)\n",
    "yt = test_w2v_data['openness']"
   ]
  },
  {
   "cell_type": "code",
   "execution_count": 136,
   "metadata": {
    "collapsed": false
   },
   "outputs": [
    {
     "data": {
      "text/plain": [
       "0.81781220322886983"
      ]
     },
     "execution_count": 136,
     "metadata": {},
     "output_type": "execute_result"
    }
   ],
   "source": [
    "skmetrics.mean_squared_error(yt, yp)"
   ]
  },
  {
   "cell_type": "code",
   "execution_count": 137,
   "metadata": {
    "collapsed": false
   },
   "outputs": [
    {
     "data": {
      "text/plain": [
       "-1.2437970371489429"
      ]
     },
     "execution_count": 137,
     "metadata": {},
     "output_type": "execute_result"
    }
   ],
   "source": [
    "skmetrics.r2_score(yt, yp)"
   ]
  },
  {
   "cell_type": "code",
   "execution_count": 138,
   "metadata": {
    "collapsed": false
   },
   "outputs": [
    {
     "data": {
      "text/plain": [
       "0.90432969830082977"
      ]
     },
     "execution_count": 138,
     "metadata": {},
     "output_type": "execute_result"
    }
   ],
   "source": [
    "skmetrics.mean_squared_error(yt, yp)**0.5"
   ]
  },
  {
   "cell_type": "code",
   "execution_count": 139,
   "metadata": {
    "collapsed": false
   },
   "outputs": [
    {
     "name": "stdout",
     "output_type": "stream",
     "text": [
      "Features sorted by their score:\n",
      "[(0.066, 'aoa'), (0.0505, 'X34insight'), (0.044, 'X25friend'), (0.0387, 'X27affect'), (0.0385, 'X3ppron'), (0.0379, 'X8they'), (0.0375, 'X12auxverb'), (0.0374, 'X4i'), (0.0372, 'imagery'), (0.0368, 'X26humans'), (0.0365, 'X28posemo'), (0.0362, 'X37tentat'), (0.0349, 'X15future'), (0.0344, 'X42percept'), (0.0324, 'X62assent'), (0.0291, 'X21number'), (0.0261, 'X20quant'), (0.0255, 'X51relativ'), (0.0255, 'X13past'), (0.0239, 'X39inhib'), (0.0231, 'X56achieve'), (0.0221, 'X31anger'), (0.0215, 'X24family'), (0.0211, 'concreteness'), (0.0211, 'X47body'), (0.0206, 'X9ipron'), (0.0188, 'X19negate'), (0.0185, 'X43see'), (0.0182, 'X41excl'), (0.015, 'X22swear'), (0.0145, 'X50ingest'), (0.0139, 'X57leisure'), (0.0137, 'X5we'), (0.0125, 'X29negemo'), (0.0096, 'X64filler'), (0.0068, 'X60relig')]\n"
     ]
    }
   ],
   "source": [
    "names = test_features.keys()\n",
    "print \"Features sorted by their score:\"\n",
    "print sorted(zip(map(lambda x: round(x, 4), model.feature_importances_), names), \n",
    "             reverse=True)"
   ]
  },
  {
   "cell_type": "code",
   "execution_count": 140,
   "metadata": {
    "collapsed": false
   },
   "outputs": [
    {
     "data": {
      "image/png": "[encoded data removed]",
      "text/plain": [
       "<matplotlib.figure.Figure at 0x7fcf51d99b50>"
      ]
     },
     "metadata": {},
     "output_type": "display_data"
    }
   ],
   "source": [
    "features = test_features.keys()\n",
    "importances = model.feature_importances_\n",
    "\n",
    "indices = np.argsort(importances)[-10:]\n",
    "\n",
    "plt.title('Importancia dos atributos')\n",
    "plt.barh(range(len(indices)), importances[indices], color='b', align='center')\n",
    "plt.yticks(range(len(indices)), features[indices])\n",
    "plt.xlabel('Importancia relativa')\n",
    "plt.show()"
   ]
  }
 ],
 "metadata": {
  "kernelspec": {
   "display_name": "Python 2",
   "language": "python",
   "name": "python2"
  },
  "language_info": {
   "codemirror_mode": {
    "name": "ipython",
    "version": 2
   },
   "file_extension": ".py",
   "mimetype": "text/x-python",
   "name": "python",
   "nbconvert_exporter": "python",
   "pygments_lexer": "ipython2",
   "version": "2.7.13"
  }
 },
 "nbformat": 4,
 "nbformat_minor": 0
}
