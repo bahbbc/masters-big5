{
 "cells": [
  {
   "cell_type": "code",
   "execution_count": 3,
   "metadata": {
    "collapsed": false
   },
   "outputs": [
    {
     "name": "stderr",
     "output_type": "stream",
     "text": [
      "2017-06-11 22:35:35,950 : INFO : 'pattern' package found; tag filters are available for English\n",
      "/usr/lib64/python2.7/site-packages/sklearn/cross_validation.py:44: DeprecationWarning: This module was deprecated in version 0.18 in favor of the model_selection module into which all the refactored classes and functions are moved. Also note that the interface of the new CV iterators are different from that of this module. This module will be removed in 0.20.\n",
      "  \"This module will be removed in 0.20.\", DeprecationWarning)\n"
     ]
    }
   ],
   "source": [
    "import logging\n",
    "logging.root.handlers = []  # Jupyter messes up logging so needs a reset\n",
    "logging.basicConfig(format='%(asctime)s : %(levelname)s : %(message)s', level=logging.INFO)\n",
    "from smart_open import smart_open\n",
    "import pandas as pd\n",
    "import numpy as np\n",
    "from numpy import random\n",
    "import gensim\n",
    "import nltk\n",
    "from sklearn.cross_validation import train_test_split\n",
    "from sklearn import linear_model\n",
    "from sklearn.feature_extraction.text import CountVectorizer, TfidfVectorizer\n",
    "from sklearn.metrics import accuracy_score, confusion_matrix\n",
    "import matplotlib.pyplot as plt\n",
    "from gensim.models import Word2Vec\n",
    "from sklearn.neighbors import KNeighborsClassifier\n",
    "from sklearn import linear_model\n",
    "from nltk.corpus import stopwords\n",
    "import os, codecs\n",
    "%matplotlib inline\n",
    "from bs4 import BeautifulSoup\n",
    "import re\n",
    "from nltk.corpus import stopwords\n",
    "from sklearn import metrics as skmetrics"
   ]
  },
  {
   "cell_type": "markdown",
   "metadata": {},
   "source": [
    "## Model 1 evaluation"
   ]
  },
  {
   "cell_type": "code",
   "execution_count": 4,
   "metadata": {
    "collapsed": false
   },
   "outputs": [
    {
     "data": {
      "text/plain": [
       "(1039, 186)"
      ]
     },
     "execution_count": 4,
     "metadata": {},
     "output_type": "execute_result"
    }
   ],
   "source": [
    "df = pd.read_csv('~/personality-normalized-word2vec-norm.csv', encoding='utf-8')\n",
    "df.shape"
   ]
  },
  {
   "cell_type": "code",
   "execution_count": 5,
   "metadata": {
    "collapsed": true
   },
   "outputs": [],
   "source": [
    "psico = pd.read_csv('/home/bahbbc/Downloads/psycholinguistic_properties/BP.csv', encoding='utf-8')"
   ]
  },
  {
   "cell_type": "code",
   "execution_count": 6,
   "metadata": {
    "collapsed": false
   },
   "outputs": [
    {
     "data": {
      "text/html": [
       "<div>\n",
       "<table border=\"1\" class=\"dataframe\">\n",
       "  <thead>\n",
       "    <tr style=\"text-align: right;\">\n",
       "      <th></th>\n",
       "      <th>Word</th>\n",
       "      <th>Simplified grammatical category</th>\n",
       "      <th>Concretenes</th>\n",
       "      <th>Subjective Frequency</th>\n",
       "      <th>Imagery</th>\n",
       "      <th>AoA</th>\n",
       "      <th>Log frequency</th>\n",
       "      <th>Frequency</th>\n",
       "    </tr>\n",
       "  </thead>\n",
       "  <tbody>\n",
       "    <tr>\n",
       "      <th>0</th>\n",
       "      <td>abafado</td>\n",
       "      <td>a</td>\n",
       "      <td>3.47</td>\n",
       "      <td>3.92</td>\n",
       "      <td>3.96</td>\n",
       "      <td>5.28</td>\n",
       "      <td>7.11</td>\n",
       "      <td>1220.0</td>\n",
       "    </tr>\n",
       "    <tr>\n",
       "      <th>1</th>\n",
       "      <td>abafador</td>\n",
       "      <td>a</td>\n",
       "      <td>5.73</td>\n",
       "      <td>2.84</td>\n",
       "      <td>5.10</td>\n",
       "      <td>7.25</td>\n",
       "      <td>4.41</td>\n",
       "      <td>82.0</td>\n",
       "    </tr>\n",
       "    <tr>\n",
       "      <th>2</th>\n",
       "      <td>abalado</td>\n",
       "      <td>a</td>\n",
       "      <td>2.61</td>\n",
       "      <td>4.12</td>\n",
       "      <td>3.59</td>\n",
       "      <td>7.62</td>\n",
       "      <td>8.15</td>\n",
       "      <td>3450.0</td>\n",
       "    </tr>\n",
       "    <tr>\n",
       "      <th>3</th>\n",
       "      <td>abalizado</td>\n",
       "      <td>a</td>\n",
       "      <td>3.88</td>\n",
       "      <td>2.58</td>\n",
       "      <td>3.56</td>\n",
       "      <td>7.59</td>\n",
       "      <td>4.36</td>\n",
       "      <td>78.0</td>\n",
       "    </tr>\n",
       "    <tr>\n",
       "      <th>4</th>\n",
       "      <td>abandonado</td>\n",
       "      <td>a</td>\n",
       "      <td>3.68</td>\n",
       "      <td>4.16</td>\n",
       "      <td>3.97</td>\n",
       "      <td>5.24</td>\n",
       "      <td>9.75</td>\n",
       "      <td>17183.0</td>\n",
       "    </tr>\n",
       "  </tbody>\n",
       "</table>\n",
       "</div>"
      ],
      "text/plain": [
       "         Word Simplified grammatical category  Concretenes  \\\n",
       "0     abafado                               a         3.47   \n",
       "1    abafador                               a         5.73   \n",
       "2     abalado                               a         2.61   \n",
       "3   abalizado                               a         3.88   \n",
       "4  abandonado                               a         3.68   \n",
       "\n",
       "   Subjective Frequency  Imagery   AoA  Log frequency  Frequency  \n",
       "0                  3.92     3.96  5.28           7.11     1220.0  \n",
       "1                  2.84     5.10  7.25           4.41       82.0  \n",
       "2                  4.12     3.59  7.62           8.15     3450.0  \n",
       "3                  2.58     3.56  7.59           4.36       78.0  \n",
       "4                  4.16     3.97  5.24           9.75    17183.0  "
      ]
     },
     "execution_count": 6,
     "metadata": {},
     "output_type": "execute_result"
    }
   ],
   "source": [
    "psico.head()"
   ]
  },
  {
   "cell_type": "code",
   "execution_count": 7,
   "metadata": {
    "collapsed": false
   },
   "outputs": [],
   "source": [
    "concreteness = dict(zip(psico.Word, psico.Concretenes))\n",
    "subjective_freq = dict(zip(psico.Word, psico['Subjective Frequency']))\n",
    "imagery = dict(zip(psico.Word, psico.Imagery))\n",
    "aoa =  dict(zip(psico.Word, psico.AoA))\n",
    "log_freq = dict(zip(psico.Word, psico['Log frequency']))\n",
    "freq = dict(zip(psico.Word, psico.Frequency))"
   ]
  },
  {
   "cell_type": "code",
   "execution_count": 8,
   "metadata": {
    "collapsed": false
   },
   "outputs": [
    {
     "data": {
      "text/plain": [
       "1    542\n",
       "0    497\n",
       "Name: agreeabeness_m, dtype: int64"
      ]
     },
     "execution_count": 8,
     "metadata": {},
     "output_type": "execute_result"
    }
   ],
   "source": [
    "df.agreeabeness_m.value_counts()"
   ]
  },
  {
   "cell_type": "code",
   "execution_count": 9,
   "metadata": {
    "collapsed": true
   },
   "outputs": [],
   "source": [
    "train_w2v_data, test_w2v_data = train_test_split(df, test_size=0.3, random_state=42)"
   ]
  },
  {
   "cell_type": "code",
   "execution_count": 10,
   "metadata": {
    "collapsed": true
   },
   "outputs": [],
   "source": [
    "def predict(vectorizer, classifier, data):\n",
    "    data_features = vectorizer.transform(data['formatted_text'])\n",
    "    predictions = classifier.predict(data_features)\n",
    "    target = data['agreeabeness_m']\n",
    "    evaluate_prediction(predictions, target)"
   ]
  },
  {
   "cell_type": "code",
   "execution_count": 11,
   "metadata": {
    "collapsed": false
   },
   "outputs": [],
   "source": [
    "def makeFeatureVec(words, psico_dict):\n",
    "    # Function to average all of the word vectors in a given\n",
    "    # paragraph\n",
    "    #\n",
    "    # Pre-initialize an empty numpy array (for speed)\n",
    "    featureVec = 0.\n",
    "    #\n",
    "    nwords = 0.\n",
    "    \n",
    "    #\n",
    "    # Loop over each word in the review and, if it is in the model's\n",
    "    # vocaublary, add its feature vector to the total\n",
    "    for word in words:\n",
    "        if (word in psico_dict):\n",
    "            nwords = nwords + 1.\n",
    "            featureVec = featureVec + psico_dict[word]\n",
    "    # \n",
    "    # Divide the result by the number of words to get the average\n",
    "    if nwords > 0:\n",
    "        featureVec = featureVec / nwords\n",
    "    else:\n",
    "        print 'sorry, empty...'\n",
    "    return featureVec\n",
    "\n",
    "\n",
    "def getAvgFeatureVecs(reviews, psico_dict):\n",
    "    # Given a set of reviews (each one a list of words), calculate \n",
    "    # the average feature vector for each one and return a 2D numpy array \n",
    "    # \n",
    "    # Initialize a counter\n",
    "    counter = 0\n",
    "    # \n",
    "    # Preallocate a 2D numpy array, for speed\n",
    "    reviewFeatureVecs = np.zeros((len(reviews)),dtype=\"float32\")\n",
    "    # \n",
    "    # Loop through the reviews\n",
    "    for review in reviews:\n",
    "        #Print a status message every 1000th review\n",
    "        if counter%100. == 0.:\n",
    "            print \"Review %d of %d\" % (counter, len(reviews))\n",
    "        #Call the function (defined above) that makes average feature vectors\n",
    "        reviewFeatureVecs[counter] = makeFeatureVec(review, psico_dict)\n",
    "        #Increment the counter\n",
    "        counter = counter + 1\n",
    "    return reviewFeatureVecs"
   ]
  },
  {
   "cell_type": "code",
   "execution_count": 12,
   "metadata": {
    "collapsed": false
   },
   "outputs": [],
   "source": [
    "def w2v_tokenize_text(text):\n",
    "    tokens = []\n",
    "    if text is np.nan:\n",
    "        return []\n",
    "    for sent in nltk.sent_tokenize(text, language='portuguese'):\n",
    "        for word in nltk.word_tokenize(sent, language='portuguese'):\n",
    "            word = word.lower()\n",
    "            if len(word) < 2:\n",
    "                continue\n",
    "            tokens.append(word)\n",
    "    return tokens"
   ]
  },
  {
   "cell_type": "code",
   "execution_count": 13,
   "metadata": {
    "collapsed": false
   },
   "outputs": [],
   "source": [
    "test_tokenized = test_w2v_data.apply(lambda r: w2v_tokenize_text(r['formatted_text']), axis=1).values\n",
    "train_tokenized = train_w2v_data.apply(lambda r: w2v_tokenize_text(r['formatted_text']), axis=1).values"
   ]
  },
  {
   "cell_type": "code",
   "execution_count": 14,
   "metadata": {
    "collapsed": false
   },
   "outputs": [
    {
     "name": "stderr",
     "output_type": "stream",
     "text": [
      "/usr/lib64/python2.7/site-packages/pandas/core/indexing.py:477: SettingWithCopyWarning: \n",
      "A value is trying to be set on a copy of a slice from a DataFrame.\n",
      "Try using .loc[row_indexer,col_indexer] = value instead\n",
      "\n",
      "See the caveats in the documentation: http://pandas.pydata.org/pandas-docs/stable/indexing.html#indexing-view-versus-copy\n",
      "  self.obj[item] = s\n"
     ]
    }
   ],
   "source": [
    "index = pd.isnull(train_w2v_data.formatted_text)\n",
    "train_w2v_data.loc[index, 'formatted_text'] = ''"
   ]
  },
  {
   "cell_type": "code",
   "execution_count": 15,
   "metadata": {
    "collapsed": true
   },
   "outputs": [],
   "source": [
    "concreteness = dict(zip(psico.Word, psico.Concretenes))\n",
    "subjective_freq = dict(zip(psico.Word, psico['Subjective Frequency']))\n",
    "imagery = dict(zip(psico.Word, psico.Imagery))\n",
    "aoa =  dict(zip(psico.Word, psico.AoA))\n",
    "log_freq = dict(zip(psico.Word, psico['Log frequency']))\n",
    "freq = dict(zip(psico.Word, psico.Frequency))"
   ]
  },
  {
   "cell_type": "code",
   "execution_count": 16,
   "metadata": {
    "collapsed": false
   },
   "outputs": [
    {
     "name": "stdout",
     "output_type": "stream",
     "text": [
      "Review 0 of 727\n",
      "sorry, empty...\n",
      "Review 100 of 727\n",
      "sorry, empty...\n",
      "Review 200 of 727\n",
      "sorry, empty...\n",
      "sorry, empty...\n",
      "Review 300 of 727\n",
      "sorry, empty...\n",
      "Review 400 of 727\n",
      "sorry, empty...\n",
      "sorry, empty...\n",
      "Review 500 of 727\n",
      "Review 600 of 727\n",
      "sorry, empty...\n",
      "sorry, empty...\n",
      "Review 700 of 727\n",
      "Review 0 of 312\n",
      "sorry, empty...\n",
      "Review 100 of 312\n",
      "sorry, empty...\n",
      "sorry, empty...\n",
      "sorry, empty...\n",
      "Review 200 of 312\n",
      "sorry, empty...\n",
      "sorry, empty...\n",
      "Review 300 of 312\n",
      "Review 0 of 727\n",
      "sorry, empty...\n",
      "Review 100 of 727\n",
      "sorry, empty...\n",
      "Review 200 of 727\n",
      "sorry, empty...\n",
      "sorry, empty...\n",
      "Review 300 of 727\n",
      "sorry, empty...\n",
      "Review 400 of 727\n",
      "sorry, empty...\n",
      "sorry, empty...\n",
      "Review 500 of 727\n",
      "Review 600 of 727\n",
      "sorry, empty...\n",
      "sorry, empty...\n",
      "Review 700 of 727\n",
      "Review 0 of 312\n",
      "sorry, empty...\n",
      "Review 100 of 312\n",
      "sorry, empty...\n",
      "sorry, empty...\n",
      "sorry, empty...\n",
      "Review 200 of 312\n",
      "sorry, empty...\n",
      "sorry, empty...\n",
      "Review 300 of 312\n",
      "Review 0 of 727\n",
      "sorry, empty...\n",
      "Review 100 of 727\n",
      "sorry, empty...\n",
      "Review 200 of 727\n",
      "sorry, empty...\n",
      "sorry, empty...\n",
      "Review 300 of 727\n",
      "sorry, empty...\n",
      "Review 400 of 727\n",
      "sorry, empty...\n",
      "sorry, empty...\n",
      "Review 500 of 727\n",
      "Review 600 of 727\n",
      "sorry, empty...\n",
      "sorry, empty...\n",
      "Review 700 of 727\n",
      "Review 0 of 312\n",
      "sorry, empty...\n",
      "Review 100 of 312\n",
      "sorry, empty...\n",
      "sorry, empty...\n",
      "sorry, empty...\n",
      "Review 200 of 312\n",
      "sorry, empty...\n",
      "sorry, empty...\n",
      "Review 300 of 312\n",
      "Review 0 of 727\n",
      "sorry, empty...\n",
      "Review 100 of 727\n",
      "sorry, empty...\n",
      "Review 200 of 727\n",
      "sorry, empty...\n",
      "sorry, empty...\n",
      "Review 300 of 727\n",
      "sorry, empty...\n",
      "Review 400 of 727\n",
      "sorry, empty...\n",
      "sorry, empty...\n",
      "Review 500 of 727\n",
      "Review 600 of 727\n",
      "sorry, empty...\n",
      "sorry, empty...\n",
      "Review 700 of 727\n",
      "Review 0 of 312\n",
      "sorry, empty...\n",
      "Review 100 of 312\n",
      "sorry, empty...\n",
      "sorry, empty...\n",
      "sorry, empty...\n",
      "Review 200 of 312\n",
      "sorry, empty...\n",
      "sorry, empty...\n",
      "Review 300 of 312\n"
     ]
    }
   ],
   "source": [
    "conc_trainDataVecs = getAvgFeatureVecs( train_tokenized, concreteness )\n",
    "conc_testDataVecs = getAvgFeatureVecs( test_tokenized, concreteness )\n",
    "sub_trainDataVecs = getAvgFeatureVecs( train_tokenized, subjective_freq )\n",
    "sub_testDataVecs = getAvgFeatureVecs( test_tokenized, subjective_freq )\n",
    "ima_trainDataVecs = getAvgFeatureVecs( train_tokenized, imagery )\n",
    "ima_testDataVecs = getAvgFeatureVecs( test_tokenized, imagery )\n",
    "aoa_trainDataVecs = getAvgFeatureVecs( train_tokenized, aoa )\n",
    "aoa_testDataVecs = getAvgFeatureVecs( test_tokenized, aoa )"
   ]
  },
  {
   "cell_type": "code",
   "execution_count": 17,
   "metadata": {
    "collapsed": false
   },
   "outputs": [],
   "source": [
    "train_data = np.vstack((conc_trainDataVecs,sub_trainDataVecs, ima_trainDataVecs, aoa_trainDataVecs))"
   ]
  },
  {
   "cell_type": "code",
   "execution_count": 18,
   "metadata": {
    "collapsed": true
   },
   "outputs": [],
   "source": [
    "train_data = train_data.T"
   ]
  },
  {
   "cell_type": "code",
   "execution_count": 19,
   "metadata": {
    "collapsed": false
   },
   "outputs": [],
   "source": [
    "test_data = np.vstack((conc_testDataVecs, sub_testDataVecs, ima_testDataVecs, aoa_testDataVecs))"
   ]
  },
  {
   "cell_type": "code",
   "execution_count": 20,
   "metadata": {
    "collapsed": true
   },
   "outputs": [],
   "source": [
    "test_data = test_data.T"
   ]
  },
  {
   "cell_type": "code",
   "execution_count": 21,
   "metadata": {
    "collapsed": false
   },
   "outputs": [],
   "source": [
    "from sklearn.model_selection import RandomizedSearchCV\n",
    "from sklearn.ensemble import RandomForestClassifier\n",
    "from sklearn.externals import joblib\n",
    "\n",
    "force = False\n",
    "model_trainer = RandomizedSearchCV(\n",
    "    n_iter=1, \n",
    "    estimator=RandomForestClassifier(),\n",
    "    param_distributions={\n",
    "        \"criterion\": [\"gini\"],\n",
    "        \"n_estimators\": [50],\n",
    "        \"max_features\": [\"log2\"],\n",
    "        \"max_depth\": [None],\n",
    "        \"bootstrap\": [True],\n",
    "        \"oob_score\": [True],\n",
    "        \"class_weight\": [\"balanced\"],\n",
    "        \"random_state\": [42]\n",
    "    },\n",
    "    scoring=\"f1\",\n",
    "    verbose=True,\n",
    "    refit=True,\n",
    "    cv=10,\n",
    "    n_jobs=-1\n",
    ")"
   ]
  },
  {
   "cell_type": "code",
   "execution_count": 22,
   "metadata": {
    "collapsed": false
   },
   "outputs": [
    {
     "name": "stdout",
     "output_type": "stream",
     "text": [
      "Fitting 10 folds for each of 1 candidates, totalling 10 fits\n"
     ]
    },
    {
     "name": "stderr",
     "output_type": "stream",
     "text": [
      "[Parallel(n_jobs=-1)]: Done  10 out of  10 | elapsed:    0.9s finished\n"
     ]
    },
    {
     "name": "stdout",
     "output_type": "stream",
     "text": [
      "CPU times: user 401 ms, sys: 39.2 ms, total: 441 ms\n",
      "Wall time: 1.41 s\n"
     ]
    }
   ],
   "source": [
    "%%time\n",
    "model_trainer.fit(train_data, train_w2v_data['agreeabeness_m'])\n",
    "model = model_trainer.best_estimator_"
   ]
  },
  {
   "cell_type": "code",
   "execution_count": 23,
   "metadata": {
    "collapsed": false
   },
   "outputs": [],
   "source": [
    "yp = model.predict(test_data)\n",
    "yt = test_w2v_data['agreeabeness_m']"
   ]
  },
  {
   "cell_type": "code",
   "execution_count": 24,
   "metadata": {
    "collapsed": false
   },
   "outputs": [
    {
     "data": {
      "text/html": [
       "<div>\n",
       "<table border=\"1\" class=\"dataframe\">\n",
       "  <thead>\n",
       "    <tr style=\"text-align: right;\">\n",
       "      <th>y_pred</th>\n",
       "      <th>0</th>\n",
       "      <th>1</th>\n",
       "    </tr>\n",
       "    <tr>\n",
       "      <th>y_true</th>\n",
       "      <th></th>\n",
       "      <th></th>\n",
       "    </tr>\n",
       "  </thead>\n",
       "  <tbody>\n",
       "    <tr>\n",
       "      <th>0</th>\n",
       "      <td>76</td>\n",
       "      <td>65</td>\n",
       "    </tr>\n",
       "    <tr>\n",
       "      <th>1</th>\n",
       "      <td>83</td>\n",
       "      <td>88</td>\n",
       "    </tr>\n",
       "  </tbody>\n",
       "</table>\n",
       "</div>"
      ],
      "text/plain": [
       "y_pred   0   1\n",
       "y_true        \n",
       "0       76  65\n",
       "1       83  88"
      ]
     },
     "execution_count": 24,
     "metadata": {},
     "output_type": "execute_result"
    }
   ],
   "source": [
    "pd.DataFrame(\n",
    "    index=pd.Index([0, 1], name=\"y_true\"),\n",
    "    columns=pd.Index([0, 1], name=\"y_pred\"),\n",
    "    data=skmetrics.confusion_matrix(y_true=yt, y_pred=yp)\n",
    ")"
   ]
  },
  {
   "cell_type": "code",
   "execution_count": 25,
   "metadata": {
    "collapsed": false
   },
   "outputs": [
    {
     "name": "stdout",
     "output_type": "stream",
     "text": [
      "             precision    recall  f1-score   support\n",
      "\n",
      "          0       0.48      0.54      0.51       141\n",
      "          1       0.58      0.51      0.54       171\n",
      "\n",
      "avg / total       0.53      0.53      0.53       312\n",
      "\n"
     ]
    }
   ],
   "source": [
    "print skmetrics.classification_report(y_true=yt, y_pred=yp)"
   ]
  },
  {
   "cell_type": "code",
   "execution_count": 26,
   "metadata": {
    "collapsed": false
   },
   "outputs": [
    {
     "data": {
      "text/plain": [
       "0.52564102564102566"
      ]
     },
     "execution_count": 26,
     "metadata": {},
     "output_type": "execute_result"
    }
   ],
   "source": [
    "accuracy_score(yt, yp)"
   ]
  },
  {
   "cell_type": "code",
   "execution_count": 27,
   "metadata": {
    "collapsed": false
   },
   "outputs": [
    {
     "name": "stdout",
     "output_type": "stream",
     "text": [
      "--------- TRAIN -----------------\n"
     ]
    }
   ],
   "source": [
    "print '--------- TRAIN -----------------'"
   ]
  },
  {
   "cell_type": "code",
   "execution_count": 28,
   "metadata": {
    "collapsed": false
   },
   "outputs": [],
   "source": [
    "ytp = model.predict(train_data)\n",
    "ytt = train_w2v_data['agreeabeness_m']"
   ]
  },
  {
   "cell_type": "code",
   "execution_count": 29,
   "metadata": {
    "collapsed": false
   },
   "outputs": [
    {
     "name": "stdout",
     "output_type": "stream",
     "text": [
      "             precision    recall  f1-score   support\n",
      "\n",
      "          0       1.00      1.00      1.00       356\n",
      "          1       1.00      1.00      1.00       371\n",
      "\n",
      "avg / total       1.00      1.00      1.00       727\n",
      "\n"
     ]
    }
   ],
   "source": [
    "print skmetrics.classification_report(y_true=ytt, y_pred=ytp)"
   ]
  },
  {
   "cell_type": "code",
   "execution_count": 30,
   "metadata": {
    "collapsed": false
   },
   "outputs": [
    {
     "name": "stdout",
     "output_type": "stream",
     "text": [
      "0.998624484182\n"
     ]
    }
   ],
   "source": [
    "print accuracy_score(ytt, ytp)"
   ]
  }
 ],
 "metadata": {
  "kernelspec": {
   "display_name": "Python 2",
   "language": "python",
   "name": "python2"
  },
  "language_info": {
   "codemirror_mode": {
    "name": "ipython",
    "version": 2
   },
   "file_extension": ".py",
   "mimetype": "text/x-python",
   "name": "python",
   "nbconvert_exporter": "python",
   "pygments_lexer": "ipython2",
   "version": "2.7.13"
  }
 },
 "nbformat": 4,
 "nbformat_minor": 0
}
