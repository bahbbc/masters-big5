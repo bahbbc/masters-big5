{
 "cells": [
  {
   "cell_type": "code",
   "execution_count": 29,
   "metadata": {
    "collapsed": false
   },
   "outputs": [],
   "source": [
    "import logging\n",
    "logging.root.handlers = []  # Jupyter messes up logging so needs a reset\n",
    "logging.basicConfig(format='%(asctime)s : %(levelname)s : %(message)s', level=logging.INFO)\n",
    "from smart_open import smart_open\n",
    "import pandas as pd\n",
    "import numpy as np\n",
    "from numpy import random\n",
    "import gensim\n",
    "import nltk\n",
    "from sklearn.cross_validation import train_test_split\n",
    "from sklearn import linear_model\n",
    "from sklearn.feature_extraction.text import CountVectorizer, TfidfVectorizer\n",
    "from sklearn.metrics import accuracy_score, confusion_matrix\n",
    "import matplotlib.pyplot as plt\n",
    "from gensim.models import Word2Vec\n",
    "from sklearn.neighbors import KNeighborsClassifier\n",
    "from sklearn import linear_model\n",
    "from nltk.corpus import stopwords\n",
    "import os, codecs\n",
    "%matplotlib inline\n",
    "from bs4 import BeautifulSoup\n",
    "import re\n",
    "from nltk.corpus import stopwords\n",
    "from sklearn import metrics as skmetrics\n",
    "import scipy.stats"
   ]
  },
  {
   "cell_type": "markdown",
   "metadata": {},
   "source": [
    "# Model evaluation"
   ]
  },
  {
   "cell_type": "code",
   "execution_count": 30,
   "metadata": {
    "collapsed": false
   },
   "outputs": [
    {
     "name": "stderr",
     "output_type": "stream",
     "text": [
      "2017-08-05 18:29:55,261 : INFO : loading Word2Vec object from /home/bahbbc/workspace/masters-big5/models/tweet50-600.model\n",
      "2017-08-05 18:30:01,950 : INFO : loading wv recursively from /home/bahbbc/workspace/masters-big5/models/tweet50-600.model.wv.* with mmap=None\n",
      "2017-08-05 18:30:01,951 : INFO : loading syn0 from /home/bahbbc/workspace/masters-big5/models/tweet50-600.model.wv.syn0.npy with mmap=None\n",
      "2017-08-05 18:30:14,720 : INFO : setting ignored attribute syn0norm to None\n",
      "2017-08-05 18:30:14,761 : INFO : loading syn1neg from /home/bahbbc/workspace/masters-big5/models/tweet50-600.model.syn1neg.npy with mmap=None\n",
      "2017-08-05 18:32:10,652 : INFO : setting ignored attribute cum_table to None\n",
      "2017-08-05 18:32:11,033 : INFO : loaded /home/bahbbc/workspace/masters-big5/models/tweet50-600.model\n",
      "2017-08-05 18:34:14,134 : INFO : precomputing L2-norms of word weight vectors\n"
     ]
    }
   ],
   "source": [
    "model = gensim.models.Word2Vec.load('/home/bahbbc/workspace/masters-big5/models/tweet50-600.model')\n",
    "model.init_sims(replace=True)"
   ]
  },
  {
   "cell_type": "code",
   "execution_count": 31,
   "metadata": {
    "collapsed": true
   },
   "outputs": [],
   "source": [
    "num_features= 600"
   ]
  },
  {
   "cell_type": "markdown",
   "metadata": {},
   "source": [
    "## Dictionary features"
   ]
  },
  {
   "cell_type": "code",
   "execution_count": 32,
   "metadata": {
    "collapsed": false
   },
   "outputs": [
    {
     "data": {
      "text/plain": [
       "(1039, 186)"
      ]
     },
     "execution_count": 32,
     "metadata": {},
     "output_type": "execute_result"
    }
   ],
   "source": [
    "personalities = pd.read_csv('~/personality-normalized-word2vec-norm.csv', encoding='utf-8')\n",
    "personalities.shape"
   ]
  },
  {
   "cell_type": "code",
   "execution_count": 33,
   "metadata": {
    "collapsed": false
   },
   "outputs": [
    {
     "data": {
      "text/plain": [
       "(1039, 186)"
      ]
     },
     "execution_count": 33,
     "metadata": {},
     "output_type": "execute_result"
    }
   ],
   "source": [
    "personalities.shape"
   ]
  },
  {
   "cell_type": "code",
   "execution_count": 34,
   "metadata": {
    "collapsed": false
   },
   "outputs": [
    {
     "name": "stderr",
     "output_type": "stream",
     "text": [
      "/usr/lib/python2.7/site-packages/ipykernel/__main__.py:1: FutureWarning: convert_objects is deprecated.  Use the data-type specific converters pd.to_datetime, pd.to_timedelta and pd.to_numeric.\n",
      "  if __name__ == '__main__':\n"
     ]
    }
   ],
   "source": [
    "personalities = personalities.convert_objects(convert_numeric=True)"
   ]
  },
  {
   "cell_type": "code",
   "execution_count": 36,
   "metadata": {
    "collapsed": false
   },
   "outputs": [
    {
     "data": {
      "text/plain": [
       "0    529\n",
       "1    510\n",
       "Name: extraversion_m, dtype: int64"
      ]
     },
     "execution_count": 36,
     "metadata": {},
     "output_type": "execute_result"
    }
   ],
   "source": [
    "personalities.extraversion_m.value_counts()"
   ]
  },
  {
   "cell_type": "code",
   "execution_count": 37,
   "metadata": {
    "collapsed": false
   },
   "outputs": [],
   "source": [
    "train_data, test_data = train_test_split(personalities, test_size=0.3, random_state=42)"
   ]
  },
  {
   "cell_type": "code",
   "execution_count": 38,
   "metadata": {
    "collapsed": true
   },
   "outputs": [],
   "source": [
    "def word_averaging(wv, words):\n",
    "    all_words, mean = set(), []\n",
    "    #print words.shape\n",
    "    for word in words:\n",
    "        if isinstance(word, np.ndarray):\n",
    "            mean.append(word)\n",
    "        elif word in wv.wv.vocab:\n",
    "            mean.append(wv.wv.syn0norm[wv.wv.vocab[word].index])\n",
    "            all_words.add(wv.wv.vocab[word].index)\n",
    "        #print mean\n",
    "\n",
    "    if not mean:\n",
    "        logging.warning(\"cannot compute similarity with no input %s\", words)\n",
    "        # FIXME: remove these examples in pre-processing\n",
    "        return np.zeros(num_features,)\n",
    "\n",
    "    mean = gensim.matutils.unitvec(np.array(mean).mean(axis=0)).astype(np.float32)\n",
    "    return mean\n",
    "\n",
    "def  word_averaging_list(wv, text_list):\n",
    "    return np.vstack([word_averaging(wv, review) for review in text_list ])"
   ]
  },
  {
   "cell_type": "code",
   "execution_count": 39,
   "metadata": {
    "collapsed": true
   },
   "outputs": [],
   "source": [
    "def w2v_tokenize_text(text):\n",
    "    tokens = []\n",
    "    if text is np.nan:\n",
    "        return []\n",
    "    for sent in nltk.sent_tokenize(text, language='portuguese'):\n",
    "        for word in nltk.word_tokenize(sent, language='portuguese'):\n",
    "            if len(word) < 2:\n",
    "                continue\n",
    "            tokens.append(word)\n",
    "    return tokens"
   ]
  },
  {
   "cell_type": "code",
   "execution_count": 40,
   "metadata": {
    "collapsed": false
   },
   "outputs": [],
   "source": [
    "test_tokenized = test_data.apply(lambda r: w2v_tokenize_text(r['formatted_text']), axis=1).values\n",
    "train_tokenized = train_data.apply(lambda r: w2v_tokenize_text(r['formatted_text']), axis=1).values"
   ]
  },
  {
   "cell_type": "code",
   "execution_count": 41,
   "metadata": {
    "collapsed": false
   },
   "outputs": [
    {
     "name": "stderr",
     "output_type": "stream",
     "text": [
      "2017-08-05 18:39:41,248 : WARNING : cannot compute similarity with no input []\n",
      "2017-08-05 18:39:43,348 : WARNING : cannot compute similarity with no input []\n",
      "2017-08-05 18:39:43,358 : WARNING : cannot compute similarity with no input []\n",
      "2017-08-05 18:39:44,469 : WARNING : cannot compute similarity with no input []\n",
      "2017-08-05 18:39:44,854 : WARNING : cannot compute similarity with no input []\n",
      "2017-08-05 18:39:45,435 : WARNING : cannot compute similarity with no input []\n",
      "2017-08-05 18:39:46,509 : WARNING : cannot compute similarity with no input []\n",
      "2017-08-05 18:39:46,627 : WARNING : cannot compute similarity with no input []\n",
      "2017-08-05 18:39:46,953 : WARNING : cannot compute similarity with no input []\n",
      "2017-08-05 18:39:47,195 : WARNING : cannot compute similarity with no input []\n",
      "2017-08-05 18:39:47,282 : WARNING : cannot compute similarity with no input []\n"
     ]
    },
    {
     "name": "stdout",
     "output_type": "stream",
     "text": [
      "CPU times: user 5.85 s, sys: 408 ms, total: 6.25 s\n",
      "Wall time: 11.2 s\n"
     ]
    }
   ],
   "source": [
    "%%time\n",
    "X_train_word_average = word_averaging_list(model,train_tokenized)\n",
    "X_test_word_average = word_averaging_list(model,test_tokenized)"
   ]
  },
  {
   "cell_type": "code",
   "execution_count": 42,
   "metadata": {
    "collapsed": false
   },
   "outputs": [],
   "source": [
    "del model"
   ]
  },
  {
   "cell_type": "code",
   "execution_count": 43,
   "metadata": {
    "collapsed": false
   },
   "outputs": [],
   "source": [
    "from sklearn.model_selection import RandomizedSearchCV\n",
    "from sklearn.linear_model import LinearRegression\n",
    "from sklearn.tree import DecisionTreeRegressor\n",
    "from sklearn.externals import joblib\n",
    "\n",
    "force = False\n",
    "model_trainer = RandomizedSearchCV(\n",
    "    n_iter=1, \n",
    "    estimator=DecisionTreeRegressor(),\n",
    "    param_distributions={\n",
    "        \"max_features\": [\"log2\"],\n",
    "        \"random_state\": [42],\n",
    "        \"criterion\":['mse']\n",
    "    },\n",
    "    verbose=True,\n",
    "    refit=True,\n",
    "    cv=10,\n",
    "    n_jobs=-1\n",
    ")"
   ]
  },
  {
   "cell_type": "markdown",
   "metadata": {},
   "source": [
    "Os resultados são ainda piores quando não se usa o ponto flutuante - ou seja, os inteiros"
   ]
  },
  {
   "cell_type": "markdown",
   "metadata": {},
   "source": [
    "## Extraversion evaluation"
   ]
  },
  {
   "cell_type": "code",
   "execution_count": 47,
   "metadata": {
    "collapsed": true
   },
   "outputs": [],
   "source": [
    "train, test = X_train_word_average, X_test_word_average"
   ]
  },
  {
   "cell_type": "code",
   "execution_count": 49,
   "metadata": {
    "collapsed": false
   },
   "outputs": [
    {
     "name": "stdout",
     "output_type": "stream",
     "text": [
      "Fitting 10 folds for each of 1 candidates, totalling 10 fits\n",
      "CPU times: user 201 ms, sys: 74.9 ms, total: 276 ms\n",
      "Wall time: 396 ms\n"
     ]
    },
    {
     "name": "stderr",
     "output_type": "stream",
     "text": [
      "[Parallel(n_jobs=-1)]: Done   3 out of  10 | elapsed:    0.1s remaining:    0.2s\n",
      "[Parallel(n_jobs=-1)]: Done  10 out of  10 | elapsed:    0.1s finished\n"
     ]
    }
   ],
   "source": [
    "%%time\n",
    "model_trainer.fit(train, train_data['extraversion'])\n",
    "model = model_trainer.best_estimator_"
   ]
  },
  {
   "cell_type": "code",
   "execution_count": 50,
   "metadata": {
    "collapsed": false
   },
   "outputs": [
    {
     "name": "stdout",
     "output_type": "stream",
     "text": [
      "(727, 600)\n",
      "(727,)\n"
     ]
    }
   ],
   "source": [
    "print train.shape\n",
    "print train_data['extraversion'].shape"
   ]
  },
  {
   "cell_type": "code",
   "execution_count": 51,
   "metadata": {
    "collapsed": false,
    "scrolled": true
   },
   "outputs": [],
   "source": [
    "yp = model.predict(test)\n",
    "yt =  test_data['extraversion']"
   ]
  },
  {
   "cell_type": "code",
   "execution_count": 52,
   "metadata": {
    "collapsed": false
   },
   "outputs": [
    {
     "data": {
      "text/plain": [
       "1.2838677795584046"
      ]
     },
     "execution_count": 52,
     "metadata": {},
     "output_type": "execute_result"
    }
   ],
   "source": [
    "skmetrics.mean_squared_error(yt, yp)"
   ]
  },
  {
   "cell_type": "code",
   "execution_count": 53,
   "metadata": {
    "collapsed": false
   },
   "outputs": [
    {
     "data": {
      "text/plain": [
       "1.1330788937926628"
      ]
     },
     "execution_count": 53,
     "metadata": {},
     "output_type": "execute_result"
    }
   ],
   "source": [
    "skmetrics.mean_squared_error(yt, yp)**0.5"
   ]
  },
  {
   "cell_type": "code",
   "execution_count": 54,
   "metadata": {
    "collapsed": false
   },
   "outputs": [
    {
     "data": {
      "text/plain": [
       "-0.78645709383080131"
      ]
     },
     "execution_count": 54,
     "metadata": {},
     "output_type": "execute_result"
    }
   ],
   "source": [
    "skmetrics.r2_score(yt, yp)"
   ]
  },
  {
   "cell_type": "code",
   "execution_count": 55,
   "metadata": {
    "collapsed": false
   },
   "outputs": [
    {
     "data": {
      "text/plain": [
       "(0.12730673074432702, 0.024524144537372863)"
      ]
     },
     "execution_count": 55,
     "metadata": {},
     "output_type": "execute_result"
    }
   ],
   "source": [
    "scipy.stats.pearsonr(yt,yp)"
   ]
  },
  {
   "cell_type": "markdown",
   "metadata": {},
   "source": [
    "## Agreableness evaluation"
   ]
  },
  {
   "cell_type": "code",
   "execution_count": 56,
   "metadata": {
    "collapsed": false
   },
   "outputs": [
    {
     "name": "stdout",
     "output_type": "stream",
     "text": [
      "Fitting 10 folds for each of 1 candidates, totalling 10 fits\n"
     ]
    },
    {
     "name": "stderr",
     "output_type": "stream",
     "text": [
      "[Parallel(n_jobs=-1)]: Done   3 out of  10 | elapsed:    0.1s remaining:    0.2s\n",
      "[Parallel(n_jobs=-1)]: Done  10 out of  10 | elapsed:    0.1s finished\n"
     ]
    },
    {
     "name": "stdout",
     "output_type": "stream",
     "text": [
      "CPU times: user 229 ms, sys: 89.8 ms, total: 319 ms\n",
      "Wall time: 513 ms\n"
     ]
    }
   ],
   "source": [
    "%%time\n",
    "model_trainer.fit(train, train_data['agreeableness'])\n",
    "model = model_trainer.best_estimator_"
   ]
  },
  {
   "cell_type": "code",
   "execution_count": 57,
   "metadata": {
    "collapsed": true
   },
   "outputs": [],
   "source": [
    "yp = model.predict(test)\n",
    "yt = test_data['agreeableness']"
   ]
  },
  {
   "cell_type": "code",
   "execution_count": 58,
   "metadata": {
    "collapsed": false
   },
   "outputs": [
    {
     "data": {
      "text/plain": [
       "-0.92788668583170786"
      ]
     },
     "execution_count": 58,
     "metadata": {},
     "output_type": "execute_result"
    }
   ],
   "source": [
    "skmetrics.r2_score(yt, yp)"
   ]
  },
  {
   "cell_type": "code",
   "execution_count": 59,
   "metadata": {
    "collapsed": false
   },
   "outputs": [
    {
     "data": {
      "text/plain": [
       "(-0.055005221108767287, 0.33283490452078279)"
      ]
     },
     "execution_count": 59,
     "metadata": {},
     "output_type": "execute_result"
    }
   ],
   "source": [
    "scipy.stats.pearsonr(yt,yp)"
   ]
  },
  {
   "cell_type": "markdown",
   "metadata": {},
   "source": [
    "## Conscientiousness evaluation"
   ]
  },
  {
   "cell_type": "code",
   "execution_count": 60,
   "metadata": {
    "collapsed": false
   },
   "outputs": [
    {
     "name": "stdout",
     "output_type": "stream",
     "text": [
      "Fitting 10 folds for each of 1 candidates, totalling 10 fits\n"
     ]
    },
    {
     "name": "stderr",
     "output_type": "stream",
     "text": [
      "[Parallel(n_jobs=-1)]: Done   3 out of  10 | elapsed:    0.1s remaining:    0.1s\n",
      "[Parallel(n_jobs=-1)]: Done  10 out of  10 | elapsed:    0.1s finished\n"
     ]
    },
    {
     "name": "stdout",
     "output_type": "stream",
     "text": [
      "CPU times: user 242 ms, sys: 87.9 ms, total: 330 ms\n",
      "Wall time: 514 ms\n"
     ]
    }
   ],
   "source": [
    "%%time\n",
    "model_trainer.fit(train, train_data['conscientiousness'])\n",
    "model = model_trainer.best_estimator_"
   ]
  },
  {
   "cell_type": "code",
   "execution_count": 61,
   "metadata": {
    "collapsed": true
   },
   "outputs": [],
   "source": [
    "yp = model.predict(test)\n",
    "yt = test_data['conscientiousness']"
   ]
  },
  {
   "cell_type": "code",
   "execution_count": 62,
   "metadata": {
    "collapsed": false
   },
   "outputs": [
    {
     "data": {
      "text/plain": [
       "0.87725200320512819"
      ]
     },
     "execution_count": 62,
     "metadata": {},
     "output_type": "execute_result"
    }
   ],
   "source": [
    "skmetrics.mean_squared_error(yt, yp)"
   ]
  },
  {
   "cell_type": "code",
   "execution_count": 63,
   "metadata": {
    "collapsed": false
   },
   "outputs": [
    {
     "data": {
      "text/plain": [
       "-1.2801062811163821"
      ]
     },
     "execution_count": 63,
     "metadata": {},
     "output_type": "execute_result"
    }
   ],
   "source": [
    "skmetrics.r2_score(yt, yp)"
   ]
  },
  {
   "cell_type": "code",
   "execution_count": 64,
   "metadata": {
    "collapsed": false
   },
   "outputs": [
    {
     "data": {
      "text/plain": [
       "array([ 2.67 ,  2.44 ,  3.22 ,  2.89 ,  1.89 ,  3.44 ,  4.   ,  3.78 ,\n",
       "        2.22 ,  3.11 ,  2.33 ,  3.   ,  4.   ,  4.22 ,  4.22 ,  4.22 ,\n",
       "        2.56 ,  2.22 ,  3.67 ,  3.11 ,  3.67 ,  3.33 ,  4.11 ,  2.   ,\n",
       "        4.   ,  4.56 ,  2.56 ,  2.   ,  3.11 ,  3.78 ,  3.89 ,  3.78 ,\n",
       "        3.11 ,  3.44 ,  3.78 ,  3.56 ,  2.78 ,  2.33 ,  2.67 ,  2.44 ,\n",
       "        3.33 ,  1.89 ,  3.22 ,  2.   ,  1.89 ,  3.67 ,  4.33 ,  3.67 ,\n",
       "        2.78 ,  2.89 ,  1.78 ,  2.22 ,  3.11 ,  4.   ,  4.56 ,  2.   ,\n",
       "        3.33 ,  3.56 ,  4.67 ,  2.78 ,  4.11 ,  2.67 ,  3.44 ,  3.44 ,\n",
       "        3.11 ,  3.56 ,  1.67 ,  2.33 ,  2.78 ,  3.67 ,  2.89 ,  3.33 ,\n",
       "        4.67 ,  3.   ,  3.56 ,  3.67 ,  2.67 ,  3.67 ,  4.22 ,  4.78 ,\n",
       "        2.67 ,  4.22 ,  3.78 ,  2.44 ,  4.11 ,  3.165,  2.56 ,  4.67 ,\n",
       "        3.11 ,  2.78 ,  2.56 ,  2.89 ,  3.56 ,  4.11 ,  2.89 ,  3.44 ,\n",
       "        4.11 ,  3.67 ,  3.56 ,  2.33 ,  3.56 ,  2.78 ,  2.44 ,  2.44 ,\n",
       "        2.33 ,  3.56 ,  3.33 ,  2.56 ,  2.89 ,  3.56 ,  2.   ,  4.89 ,\n",
       "        3.44 ,  3.165,  1.78 ,  2.67 ,  3.89 ,  2.56 ,  2.56 ,  3.33 ,\n",
       "        4.11 ,  4.22 ,  4.33 ,  3.11 ,  3.33 ,  3.33 ,  4.22 ,  3.22 ,\n",
       "        4.33 ,  2.89 ,  4.   ,  2.67 ,  4.   ,  2.11 ,  3.67 ,  3.33 ,\n",
       "        4.33 ,  4.33 ,  3.67 ,  3.44 ,  2.56 ,  2.56 ,  2.33 ,  3.89 ,\n",
       "        3.33 ,  3.   ,  3.   ,  3.89 ,  3.22 ,  2.89 ,  2.   ,  2.67 ,\n",
       "        3.33 ,  3.44 ,  2.89 ,  4.78 ,  3.33 ,  3.33 ,  2.78 ,  2.78 ,\n",
       "        3.22 ,  3.22 ,  3.165,  3.78 ,  3.56 ,  3.11 ,  4.11 ,  4.11 ,\n",
       "        2.22 ,  2.33 ,  1.56 ,  1.78 ,  3.89 ,  3.56 ,  3.89 ,  3.44 ,\n",
       "        2.56 ,  4.67 ,  1.67 ,  2.89 ,  2.56 ,  3.11 ,  3.33 ,  3.22 ,\n",
       "        2.78 ,  3.44 ,  2.56 ,  2.56 ,  3.78 ,  3.78 ,  3.89 ,  2.67 ,\n",
       "        3.67 ,  3.11 ,  1.67 ,  2.78 ,  2.78 ,  3.56 ,  3.67 ,  2.33 ,\n",
       "        2.78 ,  3.78 ,  2.11 ,  3.22 ,  3.44 ,  2.   ,  3.89 ,  3.165,\n",
       "        3.33 ,  3.   ,  3.67 ,  4.11 ,  3.78 ,  2.11 ,  3.33 ,  2.56 ,\n",
       "        2.89 ,  3.78 ,  2.22 ,  4.44 ,  2.44 ,  3.22 ,  3.11 ,  3.165,\n",
       "        3.33 ,  1.67 ,  3.   ,  2.33 ,  3.22 ,  3.11 ,  3.78 ,  3.78 ,\n",
       "        3.78 ,  4.56 ,  2.78 ,  3.89 ,  2.56 ,  5.   ,  3.89 ,  2.33 ,\n",
       "        2.44 ,  3.89 ,  3.33 ,  2.33 ,  3.11 ,  3.78 ,  3.78 ,  4.22 ,\n",
       "        3.   ,  2.67 ,  2.67 ,  2.44 ,  3.33 ,  2.89 ,  3.89 ,  2.44 ,\n",
       "        3.67 ,  2.11 ,  2.33 ,  4.22 ,  3.78 ,  2.78 ,  4.11 ,  4.56 ,\n",
       "        3.44 ,  3.33 ,  2.89 ,  4.67 ,  2.67 ,  2.44 ,  3.78 ,  2.   ,\n",
       "        3.56 ,  2.   ,  2.56 ,  4.11 ,  2.44 ,  3.89 ,  1.89 ,  4.11 ,\n",
       "        2.89 ,  3.33 ,  2.56 ,  2.67 ,  2.78 ,  2.44 ,  3.67 ,  2.78 ,\n",
       "        3.56 ,  3.33 ,  2.44 ,  2.44 ,  2.89 ,  2.33 ,  3.33 ,  3.56 ,\n",
       "        2.78 ,  4.33 ,  2.56 ,  3.67 ,  3.33 ,  3.56 ,  2.   ,  3.   ,\n",
       "        3.33 ,  2.56 ,  2.67 ,  2.44 ,  4.22 ,  3.11 ,  3.33 ,  2.22 ])"
      ]
     },
     "execution_count": 64,
     "metadata": {},
     "output_type": "execute_result"
    }
   ],
   "source": [
    "yp"
   ]
  },
  {
   "cell_type": "code",
   "execution_count": 65,
   "metadata": {
    "collapsed": false
   },
   "outputs": [
    {
     "data": {
      "text/plain": [
       "310     3.33\n",
       "809     3.33\n",
       "309     3.33\n",
       "31      2.89\n",
       "544     3.11\n",
       "96      4.56\n",
       "883     3.33\n",
       "109     4.11\n",
       "833     3.67\n",
       "1034    2.67\n",
       "917     3.56\n",
       "286     3.44\n",
       "868     3.67\n",
       "277     3.67\n",
       "981     3.33\n",
       "817     3.11\n",
       "136     4.33\n",
       "923     3.56\n",
       "996     3.89\n",
       "210     2.89\n",
       "244     3.11\n",
       "289     3.11\n",
       "101     3.11\n",
       "911     4.11\n",
       "59      1.89\n",
       "1036    3.56\n",
       "667     3.00\n",
       "290     2.89\n",
       "825     3.44\n",
       "760     3.89\n",
       "        ... \n",
       "370     2.67\n",
       "611     3.78\n",
       "352     4.11\n",
       "77      2.67\n",
       "84      3.67\n",
       "436     3.56\n",
       "82      2.89\n",
       "1015    2.33\n",
       "535     2.78\n",
       "615     3.78\n",
       "552     3.78\n",
       "350     3.00\n",
       "547     4.56\n",
       "518     2.67\n",
       "5       3.11\n",
       "688     3.22\n",
       "104     2.56\n",
       "97      3.00\n",
       "306     3.00\n",
       "711     3.44\n",
       "408     2.22\n",
       "920     3.33\n",
       "281     3.22\n",
       "266     3.67\n",
       "478     4.00\n",
       "605     3.89\n",
       "346     3.56\n",
       "513     2.78\n",
       "928     2.33\n",
       "841     3.44\n",
       "Name: conscientiousness, dtype: float64"
      ]
     },
     "execution_count": 65,
     "metadata": {},
     "output_type": "execute_result"
    }
   ],
   "source": [
    "yt"
   ]
  },
  {
   "cell_type": "code",
   "execution_count": 66,
   "metadata": {
    "collapsed": false
   },
   "outputs": [
    {
     "data": {
      "text/plain": [
       "(0.046552149818424413, 0.41254751834291314)"
      ]
     },
     "execution_count": 66,
     "metadata": {},
     "output_type": "execute_result"
    }
   ],
   "source": [
    "scipy.stats.pearsonr(yt,yp)"
   ]
  },
  {
   "cell_type": "markdown",
   "metadata": {},
   "source": [
    "## Neuroticism evaluation\n"
   ]
  },
  {
   "cell_type": "code",
   "execution_count": 81,
   "metadata": {
    "collapsed": false
   },
   "outputs": [
    {
     "name": "stdout",
     "output_type": "stream",
     "text": [
      "Fitting 10 folds for each of 1 candidates, totalling 10 fits\n",
      "CPU times: user 228 ms, sys: 87.3 ms, total: 315 ms\n",
      "Wall time: 442 ms\n"
     ]
    },
    {
     "name": "stderr",
     "output_type": "stream",
     "text": [
      "[Parallel(n_jobs=-1)]: Done   3 out of  10 | elapsed:    0.1s remaining:    0.2s\n",
      "[Parallel(n_jobs=-1)]: Done  10 out of  10 | elapsed:    0.1s finished\n"
     ]
    }
   ],
   "source": [
    "%%time\n",
    "model_trainer.fit(train, train_data['neuroticism'])\n",
    "model = model_trainer.best_estimator_"
   ]
  },
  {
   "cell_type": "code",
   "execution_count": 82,
   "metadata": {
    "collapsed": true
   },
   "outputs": [],
   "source": [
    "yp = model.predict(test)\n",
    "yt = test_data['neuroticism']"
   ]
  },
  {
   "cell_type": "code",
   "execution_count": 83,
   "metadata": {
    "collapsed": false
   },
   "outputs": [
    {
     "data": {
      "text/plain": [
       "1.3451790776353276"
      ]
     },
     "execution_count": 83,
     "metadata": {},
     "output_type": "execute_result"
    }
   ],
   "source": [
    "skmetrics.mean_squared_error(yt, yp)"
   ]
  },
  {
   "cell_type": "code",
   "execution_count": 84,
   "metadata": {
    "collapsed": false
   },
   "outputs": [
    {
     "data": {
      "text/plain": [
       "-0.82336221470254678"
      ]
     },
     "execution_count": 84,
     "metadata": {},
     "output_type": "execute_result"
    }
   ],
   "source": [
    "skmetrics.r2_score(yp, yt)"
   ]
  },
  {
   "cell_type": "code",
   "execution_count": 85,
   "metadata": {
    "collapsed": false
   },
   "outputs": [
    {
     "data": {
      "text/plain": [
       "(0.062948675910721591, 0.26763209406463695)"
      ]
     },
     "execution_count": 85,
     "metadata": {},
     "output_type": "execute_result"
    }
   ],
   "source": [
    "scipy.stats.pearsonr(yt,yp)"
   ]
  },
  {
   "cell_type": "markdown",
   "metadata": {},
   "source": [
    "## Openess evaluation"
   ]
  },
  {
   "cell_type": "code",
   "execution_count": 72,
   "metadata": {
    "collapsed": false
   },
   "outputs": [
    {
     "name": "stdout",
     "output_type": "stream",
     "text": [
      "Fitting 10 folds for each of 1 candidates, totalling 10 fits\n"
     ]
    },
    {
     "name": "stderr",
     "output_type": "stream",
     "text": [
      "[Parallel(n_jobs=-1)]: Done   3 out of  10 | elapsed:    0.1s remaining:    0.2s\n",
      "[Parallel(n_jobs=-1)]: Done  10 out of  10 | elapsed:    0.1s finished\n"
     ]
    },
    {
     "name": "stdout",
     "output_type": "stream",
     "text": [
      "CPU times: user 224 ms, sys: 79.7 ms, total: 303 ms\n",
      "Wall time: 521 ms\n"
     ]
    }
   ],
   "source": [
    "%%time\n",
    "model_trainer.fit(train, train_data['openness'])\n",
    "model = model_trainer.best_estimator_"
   ]
  },
  {
   "cell_type": "code",
   "execution_count": 73,
   "metadata": {
    "collapsed": true
   },
   "outputs": [],
   "source": [
    "yp = model.predict(test)\n",
    "yt = test_data['openness']"
   ]
  },
  {
   "cell_type": "code",
   "execution_count": 74,
   "metadata": {
    "collapsed": false
   },
   "outputs": [
    {
     "data": {
      "text/plain": [
       "0.73719551282051277"
      ]
     },
     "execution_count": 74,
     "metadata": {},
     "output_type": "execute_result"
    }
   ],
   "source": [
    "skmetrics.mean_squared_error(yt, yp)"
   ]
  },
  {
   "cell_type": "code",
   "execution_count": 78,
   "metadata": {
    "collapsed": false
   },
   "outputs": [
    {
     "data": {
      "text/plain": [
       "-0.77222162265885208"
      ]
     },
     "execution_count": 78,
     "metadata": {},
     "output_type": "execute_result"
    }
   ],
   "source": [
    "skmetrics.r2_score(yp, yt)"
   ]
  },
  {
   "cell_type": "code",
   "execution_count": 79,
   "metadata": {
    "collapsed": false
   },
   "outputs": [
    {
     "data": {
      "text/plain": [
       "(0.079369961650818416, 0.16195305249470729)"
      ]
     },
     "execution_count": 79,
     "metadata": {},
     "output_type": "execute_result"
    }
   ],
   "source": [
    "scipy.stats.pearsonr(yp, yt)"
   ]
  }
 ],
 "metadata": {
  "kernelspec": {
   "display_name": "Python 2",
   "language": "python",
   "name": "python2"
  },
  "language_info": {
   "codemirror_mode": {
    "name": "ipython",
    "version": 2
   },
   "file_extension": ".py",
   "mimetype": "text/x-python",
   "name": "python",
   "nbconvert_exporter": "python",
   "pygments_lexer": "ipython2",
   "version": "2.7.13"
  }
 },
 "nbformat": 4,
 "nbformat_minor": 2
}
