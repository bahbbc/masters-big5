{
 "cells": [
  {
   "cell_type": "code",
   "execution_count": 2,
   "metadata": {
    "collapsed": false
   },
   "outputs": [
    {
     "name": "stderr",
     "output_type": "stream",
     "text": [
      "2017-02-12 23:55:47,632 : INFO : 'pattern' package found; tag filters are available for English\n",
      "/usr/lib64/python2.7/site-packages/sklearn/cross_validation.py:44: DeprecationWarning: This module was deprecated in version 0.18 in favor of the model_selection module into which all the refactored classes and functions are moved. Also note that the interface of the new CV iterators are different from that of this module. This module will be removed in 0.20.\n",
      "  \"This module will be removed in 0.20.\", DeprecationWarning)\n"
     ]
    }
   ],
   "source": [
    "import logging\n",
    "logging.root.handlers = []  # Jupyter messes up logging so needs a reset\n",
    "logging.basicConfig(format='%(asctime)s : %(levelname)s : %(message)s', level=logging.INFO)\n",
    "from smart_open import smart_open\n",
    "import pandas as pd\n",
    "import numpy as np\n",
    "from numpy import random\n",
    "import gensim\n",
    "import nltk\n",
    "from sklearn.cross_validation import train_test_split\n",
    "from sklearn import linear_model\n",
    "from sklearn.feature_extraction.text import CountVectorizer, TfidfVectorizer\n",
    "from sklearn.metrics import accuracy_score, confusion_matrix\n",
    "import matplotlib.pyplot as plt\n",
    "from gensim.models import Word2Vec\n",
    "from sklearn.neighbors import KNeighborsClassifier\n",
    "from sklearn import linear_model\n",
    "from nltk.corpus import stopwords\n",
    "import os, codecs\n",
    "%matplotlib inline\n",
    "from bs4 import BeautifulSoup\n",
    "import re\n",
    "from nltk.corpus import stopwords"
   ]
  },
  {
   "cell_type": "code",
   "execution_count": 3,
   "metadata": {
    "collapsed": true
   },
   "outputs": [],
   "source": [
    "class MySentences(object):\n",
    "    def __init__(self, dirname):\n",
    "        self.dirname = dirname\n",
    " \n",
    "    def __iter__(self):\n",
    "        for fname in os.listdir(self.dirname):\n",
    "            for line in codecs.open(os.path.join(self.dirname, fname)) :\n",
    "                yield line.split()"
   ]
  },
  {
   "cell_type": "code",
   "execution_count": 4,
   "metadata": {
    "collapsed": false
   },
   "outputs": [],
   "source": [
    "sentences = MySentences('/home/bahbbc/Documents/b5-post(confidencial)/lemmatised') # a memory-friendly iterator"
   ]
  },
  {
   "cell_type": "code",
   "execution_count": 5,
   "metadata": {
    "collapsed": false,
    "scrolled": true
   },
   "outputs": [
    {
     "name": "stderr",
     "output_type": "stream",
     "text": [
      "2017-02-12 23:55:51,864 : INFO : collecting all words and their counts\n",
      "2017-02-12 23:55:51,870 : INFO : PROGRESS: at sentence #0, processed 0 words, keeping 0 word types\n",
      "2017-02-12 23:55:51,951 : INFO : PROGRESS: at sentence #10000, processed 140779 words, keeping 6006 word types\n",
      "2017-02-12 23:55:52,013 : INFO : PROGRESS: at sentence #20000, processed 280423 words, keeping 8776 word types\n",
      "2017-02-12 23:55:52,071 : INFO : PROGRESS: at sentence #30000, processed 417581 words, keeping 10562 word types\n",
      "2017-02-12 23:55:52,128 : INFO : PROGRESS: at sentence #40000, processed 561528 words, keeping 12004 word types\n",
      "2017-02-12 23:55:52,186 : INFO : PROGRESS: at sentence #50000, processed 713051 words, keeping 13185 word types\n",
      "2017-02-12 23:55:52,240 : INFO : PROGRESS: at sentence #60000, processed 853336 words, keeping 14259 word types\n",
      "2017-02-12 23:55:52,297 : INFO : PROGRESS: at sentence #70000, processed 993522 words, keeping 15132 word types\n",
      "2017-02-12 23:55:52,355 : INFO : PROGRESS: at sentence #80000, processed 1140027 words, keeping 15950 word types\n",
      "2017-02-12 23:55:52,428 : INFO : PROGRESS: at sentence #90000, processed 1280868 words, keeping 16875 word types\n",
      "2017-02-12 23:55:52,502 : INFO : PROGRESS: at sentence #100000, processed 1449775 words, keeping 17647 word types\n",
      "2017-02-12 23:55:52,569 : INFO : PROGRESS: at sentence #110000, processed 1636554 words, keeping 18615 word types\n",
      "2017-02-12 23:55:52,628 : INFO : PROGRESS: at sentence #120000, processed 1788732 words, keeping 19322 word types\n",
      "2017-02-12 23:55:52,684 : INFO : PROGRESS: at sentence #130000, processed 1952530 words, keeping 20130 word types\n",
      "2017-02-12 23:55:52,740 : INFO : PROGRESS: at sentence #140000, processed 2096755 words, keeping 20788 word types\n",
      "2017-02-12 23:55:52,795 : INFO : PROGRESS: at sentence #150000, processed 2238181 words, keeping 21447 word types\n",
      "2017-02-12 23:55:52,858 : INFO : PROGRESS: at sentence #160000, processed 2393686 words, keeping 21904 word types\n",
      "2017-02-12 23:55:52,920 : INFO : PROGRESS: at sentence #170000, processed 2540253 words, keeping 22419 word types\n",
      "2017-02-12 23:55:52,974 : INFO : PROGRESS: at sentence #180000, processed 2680621 words, keeping 22877 word types\n",
      "2017-02-12 23:55:53,027 : INFO : PROGRESS: at sentence #190000, processed 2821334 words, keeping 23408 word types\n",
      "2017-02-12 23:55:53,053 : INFO : collected 23572 word types from a corpus of 2884808 raw words and 194400 sentences\n",
      "2017-02-12 23:55:53,054 : INFO : Loading a fresh vocabulary\n",
      "2017-02-12 23:55:53,169 : INFO : min_count=1 retains 23572 unique words (100% of original 23572, drops 0)\n",
      "2017-02-12 23:55:53,170 : INFO : min_count=1 leaves 2884808 word corpus (100% of original 2884808, drops 0)\n",
      "2017-02-12 23:55:53,241 : INFO : deleting the raw counts dictionary of 23572 items\n",
      "2017-02-12 23:55:53,243 : INFO : sample=0.001 downsamples 49 most-common words\n",
      "2017-02-12 23:55:53,244 : INFO : downsampling leaves estimated 1669315 word corpus (57.9% of prior 2884808)\n",
      "2017-02-12 23:55:53,245 : INFO : estimated required memory for 23572 words and 300 dimensions: 68358800 bytes\n",
      "2017-02-12 23:55:53,317 : INFO : resetting layer weights\n",
      "2017-02-12 23:55:53,613 : INFO : training model with 40 workers on 23572 vocabulary and 300 features, using sg=0 hs=0 sample=0.001 negative=5 window=10\n",
      "2017-02-12 23:55:53,614 : INFO : expecting 194400 sentences, matching count from corpus used for vocabulary survey\n",
      "2017-02-12 23:55:54,647 : INFO : PROGRESS: at 8.06% examples, 636392 words/s, in_qsize 0, out_qsize 0\n",
      "2017-02-12 23:55:55,644 : INFO : PROGRESS: at 14.96% examples, 625352 words/s, in_qsize 0, out_qsize 1\n",
      "2017-02-12 23:55:56,652 : INFO : PROGRESS: at 22.18% examples, 608660 words/s, in_qsize 0, out_qsize 0\n",
      "2017-02-12 23:55:57,657 : INFO : PROGRESS: at 29.79% examples, 611782 words/s, in_qsize 0, out_qsize 0\n",
      "2017-02-12 23:55:58,666 : INFO : PROGRESS: at 37.11% examples, 617547 words/s, in_qsize 0, out_qsize 0\n",
      "2017-02-12 23:55:59,674 : INFO : PROGRESS: at 44.54% examples, 612821 words/s, in_qsize 0, out_qsize 0\n",
      "2017-02-12 23:56:00,697 : INFO : PROGRESS: at 50.27% examples, 590621 words/s, in_qsize 0, out_qsize 0\n",
      "2017-02-12 23:56:01,711 : INFO : PROGRESS: at 56.06% examples, 580681 words/s, in_qsize 0, out_qsize 0\n",
      "2017-02-12 23:56:02,719 : INFO : PROGRESS: at 64.13% examples, 586953 words/s, in_qsize 0, out_qsize 0\n",
      "2017-02-12 23:56:03,715 : INFO : PROGRESS: at 71.05% examples, 587869 words/s, in_qsize 0, out_qsize 0\n",
      "2017-02-12 23:56:04,721 : INFO : PROGRESS: at 78.81% examples, 593542 words/s, in_qsize 0, out_qsize 0\n",
      "2017-02-12 23:56:05,726 : INFO : PROGRESS: at 87.10% examples, 598491 words/s, in_qsize 0, out_qsize 0\n",
      "2017-02-12 23:56:06,737 : INFO : PROGRESS: at 94.29% examples, 601448 words/s, in_qsize 0, out_qsize 1\n",
      "2017-02-12 23:56:07,474 : INFO : worker thread finished; awaiting finish of 39 more threads\n",
      "2017-02-12 23:56:07,479 : INFO : worker thread finished; awaiting finish of 38 more threads\n",
      "2017-02-12 23:56:07,482 : INFO : worker thread finished; awaiting finish of 37 more threads\n",
      "2017-02-12 23:56:07,488 : INFO : worker thread finished; awaiting finish of 36 more threads\n",
      "2017-02-12 23:56:07,496 : INFO : worker thread finished; awaiting finish of 35 more threads\n",
      "2017-02-12 23:56:07,498 : INFO : worker thread finished; awaiting finish of 34 more threads\n",
      "2017-02-12 23:56:07,499 : INFO : worker thread finished; awaiting finish of 33 more threads\n",
      "2017-02-12 23:56:07,500 : INFO : worker thread finished; awaiting finish of 32 more threads\n",
      "2017-02-12 23:56:07,501 : INFO : worker thread finished; awaiting finish of 31 more threads\n",
      "2017-02-12 23:56:07,503 : INFO : worker thread finished; awaiting finish of 30 more threads\n",
      "2017-02-12 23:56:07,504 : INFO : worker thread finished; awaiting finish of 29 more threads\n",
      "2017-02-12 23:56:07,505 : INFO : worker thread finished; awaiting finish of 28 more threads\n",
      "2017-02-12 23:56:07,506 : INFO : worker thread finished; awaiting finish of 27 more threads\n",
      "2017-02-12 23:56:07,507 : INFO : worker thread finished; awaiting finish of 26 more threads\n",
      "2017-02-12 23:56:07,508 : INFO : worker thread finished; awaiting finish of 25 more threads\n",
      "2017-02-12 23:56:07,509 : INFO : worker thread finished; awaiting finish of 24 more threads\n",
      "2017-02-12 23:56:07,510 : INFO : worker thread finished; awaiting finish of 23 more threads\n",
      "2017-02-12 23:56:07,512 : INFO : worker thread finished; awaiting finish of 22 more threads\n",
      "2017-02-12 23:56:07,513 : INFO : worker thread finished; awaiting finish of 21 more threads\n",
      "2017-02-12 23:56:07,514 : INFO : worker thread finished; awaiting finish of 20 more threads\n",
      "2017-02-12 23:56:07,515 : INFO : worker thread finished; awaiting finish of 19 more threads\n",
      "2017-02-12 23:56:07,516 : INFO : worker thread finished; awaiting finish of 18 more threads\n",
      "2017-02-12 23:56:07,517 : INFO : worker thread finished; awaiting finish of 17 more threads\n",
      "2017-02-12 23:56:07,517 : INFO : worker thread finished; awaiting finish of 16 more threads\n",
      "2017-02-12 23:56:07,518 : INFO : worker thread finished; awaiting finish of 15 more threads\n",
      "2017-02-12 23:56:07,519 : INFO : worker thread finished; awaiting finish of 14 more threads\n",
      "2017-02-12 23:56:07,521 : INFO : worker thread finished; awaiting finish of 13 more threads\n",
      "2017-02-12 23:56:07,522 : INFO : worker thread finished; awaiting finish of 12 more threads\n",
      "2017-02-12 23:56:07,523 : INFO : worker thread finished; awaiting finish of 11 more threads\n",
      "2017-02-12 23:56:07,524 : INFO : worker thread finished; awaiting finish of 10 more threads\n",
      "2017-02-12 23:56:07,525 : INFO : worker thread finished; awaiting finish of 9 more threads\n",
      "2017-02-12 23:56:07,526 : INFO : worker thread finished; awaiting finish of 8 more threads\n",
      "2017-02-12 23:56:07,527 : INFO : worker thread finished; awaiting finish of 7 more threads\n",
      "2017-02-12 23:56:07,528 : INFO : worker thread finished; awaiting finish of 6 more threads\n",
      "2017-02-12 23:56:07,529 : INFO : worker thread finished; awaiting finish of 5 more threads\n",
      "2017-02-12 23:56:07,530 : INFO : worker thread finished; awaiting finish of 4 more threads\n",
      "2017-02-12 23:56:07,531 : INFO : worker thread finished; awaiting finish of 3 more threads\n",
      "2017-02-12 23:56:07,531 : INFO : worker thread finished; awaiting finish of 2 more threads\n",
      "2017-02-12 23:56:07,532 : INFO : worker thread finished; awaiting finish of 1 more threads\n",
      "2017-02-12 23:56:07,533 : INFO : worker thread finished; awaiting finish of 0 more threads\n",
      "2017-02-12 23:56:07,534 : INFO : training on 14424040 raw words (8346231 effective words) took 13.9s, 600111 effective words/s\n"
     ]
    }
   ],
   "source": [
    "logging.basicConfig(format='%(asctime)s : %(levelname)s : %(message)s', level=logging.INFO)\n",
    "num_features = 300\n",
    "min_word_count = 1   # Minimum word count                        \n",
    "num_workers = 40       # Number of threads to run in parallel\n",
    "context = 10          # Context window size             \n",
    "\n",
    "\n",
    "\n",
    "model = gensim.models.Word2Vec(sentences, workers=num_workers, \\\n",
    "            size=num_features, min_count = min_word_count, window = context)"
   ]
  },
  {
   "cell_type": "code",
   "execution_count": 6,
   "metadata": {
    "collapsed": false
   },
   "outputs": [
    {
     "name": "stderr",
     "output_type": "stream",
     "text": [
      "2017-02-12 23:56:07,541 : INFO : saving Word2Vec object under /home/bahbbc/Documents/personality_lema, separately None\n",
      "2017-02-12 23:56:07,542 : INFO : not storing attribute syn0norm\n",
      "2017-02-12 23:56:07,543 : INFO : not storing attribute cum_table\n",
      "2017-02-12 23:56:07,809 : INFO : saved /home/bahbbc/Documents/personality_lema\n"
     ]
    }
   ],
   "source": [
    "model.save('/home/bahbbc/Documents/personality_lema')"
   ]
  },
  {
   "cell_type": "code",
   "execution_count": 66,
   "metadata": {
    "collapsed": false
   },
   "outputs": [
    {
     "name": "stderr",
     "output_type": "stream",
     "text": [
      "2017-02-13 08:29:50,580 : INFO : loading Word2Vec object from /home/bahbbc/Documents/personality_lema\n",
      "2017-02-13 08:29:50,857 : INFO : loading wv recursively from /home/bahbbc/Documents/personality_lema.wv.* with mmap=None\n",
      "2017-02-13 08:29:50,858 : INFO : setting ignored attribute syn0norm to None\n",
      "2017-02-13 08:29:50,859 : INFO : setting ignored attribute cum_table to None\n",
      "2017-02-13 08:29:50,860 : INFO : loaded /home/bahbbc/Documents/personality_lema\n",
      "2017-02-13 08:29:50,930 : INFO : precomputing L2-norms of word weight vectors\n"
     ]
    }
   ],
   "source": [
    "model = gensim.models.Word2Vec.load('/home/bahbbc/Documents/personality_lema')\n",
    "#model = Word2Vec.load_word2vec_format('/home/bahbbc/Documents/teste-personalidade/personality_1',binary=True)\n",
    "model.init_sims(replace=True)"
   ]
  },
  {
   "cell_type": "code",
   "execution_count": 67,
   "metadata": {
    "collapsed": false
   },
   "outputs": [
    {
     "name": "stdout",
     "output_type": "stream",
     "text": [
      "[('gatar', 0.8446024060249329), ('urso', 0.7607353925704956), ('filhote', 0.7597928643226624), ('cabelo', 0.7519885301589966), ('morder', 0.7453254461288452), ('beb\\xea', 0.7379262447357178), ('sorvete', 0.7368520498275757), ('fofo', 0.7362188100814819), ('batom', 0.7316741347312927), ('loirar', 0.7311310768127441)]\n"
     ]
    }
   ],
   "source": [
    "print(model.most_similar(positive=['gato', 'cachorro']))"
   ]
  },
  {
   "cell_type": "markdown",
   "metadata": {},
   "source": [
    "### Verify model with personality"
   ]
  },
  {
   "cell_type": "code",
   "execution_count": 68,
   "metadata": {
    "collapsed": false
   },
   "outputs": [],
   "source": [
    "df = pd.read_csv('~/personality-normalized-word2vec-lema.csv', encoding='utf_8')\n",
    "df = df.dropna()"
   ]
  },
  {
   "cell_type": "code",
   "execution_count": 69,
   "metadata": {
    "collapsed": false
   },
   "outputs": [
    {
     "data": {
      "text/plain": [
       "0    242\n",
       "1    214\n",
       "Name: extraversion_m, dtype: int64"
      ]
     },
     "execution_count": 69,
     "metadata": {},
     "output_type": "execute_result"
    }
   ],
   "source": [
    "df.extraversion_m.value_counts()"
   ]
  },
  {
   "cell_type": "code",
   "execution_count": 70,
   "metadata": {
    "collapsed": true
   },
   "outputs": [],
   "source": [
    "train_data, test_data = train_test_split(df, test_size=0.3, random_state=42)"
   ]
  },
  {
   "cell_type": "markdown",
   "metadata": {},
   "source": [
    "### Evaluation code"
   ]
  },
  {
   "cell_type": "code",
   "execution_count": 71,
   "metadata": {
    "collapsed": false
   },
   "outputs": [],
   "source": [
    "def plot_confusion_matrix(cm, title='Confusion matrix', cmap=plt.cm.Blues):\n",
    "    plt.imshow(cm, interpolation='nearest', cmap=cmap)\n",
    "    plt.title(title)\n",
    "    plt.colorbar()\n",
    "    tick_marks = np.arange(2)\n",
    "    target_names = ['no', 'yes']\n",
    "    plt.xticks(tick_marks, target_names, rotation=45)\n",
    "    plt.yticks(tick_marks, target_names)\n",
    "    plt.tight_layout()\n",
    "    plt.ylabel('True label')\n",
    "    plt.xlabel('Predicted label')"
   ]
  },
  {
   "cell_type": "code",
   "execution_count": 72,
   "metadata": {
    "collapsed": true
   },
   "outputs": [],
   "source": [
    "def evaluate_prediction(predictions, target, title=\"Confusion matrix\"):\n",
    "    print('accuracy %s' % accuracy_score(target, predictions))\n",
    "    cm = confusion_matrix(target, predictions)\n",
    "    print('confusion matrix\\n %s' % cm)\n",
    "    print('(row=expected, col=predicted)')\n",
    "    \n",
    "    cm_normalized = cm.astype('float') / cm.sum(axis=1)[:, np.newaxis]\n",
    "    plot_confusion_matrix(cm_normalized, title + ' Normalized')"
   ]
  },
  {
   "cell_type": "code",
   "execution_count": 73,
   "metadata": {
    "collapsed": true
   },
   "outputs": [],
   "source": [
    "def predict(vectorizer, classifier, data):\n",
    "    data_features = vectorizer.transform(data['formatted_text'])\n",
    "    predictions = classifier.predict(data_features)\n",
    "    target = data['extraversion_m']\n",
    "    evaluate_prediction(predictions, target)"
   ]
  },
  {
   "cell_type": "code",
   "execution_count": 74,
   "metadata": {
    "collapsed": false
   },
   "outputs": [
    {
     "data": {
      "text/plain": [
       "819    ser um grande ano ! obrigar por fazer partir d...\n",
       "75           $FOREIGN$ $FOREIGN$ ' sim $FOREIGN$ mora...\n",
       "778    tranquilos . . . .  o ano só estar começar . ....\n",
       "434      oi gente ! ! !  então , saber aquelar promoç...\n",
       "303      existir crise em muito quintar . . . existir...\n",
       "399    igual suar mãe $NAME$ pinheiro  sensacional ! ...\n",
       "350          $FOREIGN$ $FOREIGN$ $FOREIGN$ $FOREIGN$ ...\n",
       "148    ruim de chutar    $NAME$ o resultar do análise...\n",
       "862      quem dar que a pessoa que amar ser eternar ....\n",
       "63     programar ! concentração ! ! $LAUGH$  $NAME$ $...\n",
       "111    $EMOTION*$ ! ir safar  despedir  e que ninguém...\n",
       "340    idéia o dançar livrar . . . . $NAME$ $NAME$ $N...\n",
       "257    fazer gordices  $NAME$ $NAME$ '  olhar que leg...\n",
       "794    cunhãs amar casamentar $NAME$ $NAME$  amor meu...\n",
       "826    $NAME$ $NAME$ eu pedir parir ter delicadeza co...\n",
       "91       show estranhar , com gente esquisito !    ge...\n",
       "695    $NAME$ $NAME$ $NAME$ e $NAME$ $NAME$        $F...\n",
       "659    um dia ele exército  chupar caralho ! ! ! aqui...\n",
       "935      morangar  brigadeiro  coca-cola  livro do $N...\n",
       "124      nadar comer um dia atrás do outro . . . esse...\n",
       "116    $NAME$ ?    a melhorar mãe do mundo ele mesmo ...\n",
       "234      o $FOREIGN$ weekend que participar e ganhar ...\n",
       "457    sempre um bom motivar parir ficar com a perna ...\n",
       "176          abelhar ele meu refrigerante  só me faze...\n",
       "442    até ele garotar nacional ter sucupira . . . . ...\n",
       "907    dia bonito ele cidade bonito  $FOREIGN$ $FOREI...\n",
       "121    família dinossauro $LAUGH$ a criança de hoje n...\n",
       "943    rei do meu $NAME$ $NAME$  $NAME$ $NAME$ achar ...\n",
       "25       chegar o dia de alguém mais do que especial ...\n",
       "626      valer $NAME$ $NAME$ $NAME$ $NAME$ $NAME$ ,  ...\n",
       "                             ...                        \n",
       "505    desenhista ele empresar vasp    $NAME$ o resul...\n",
       "153    partir $NAME$  $LAUGH$    desculpar aí , fazer...\n",
       "823      picles caseiro do mãe do $NAME$ $NAME$ . mau...\n",
       "16     quando a alma transbordar .  dia $NUMBER$ $NUM...\n",
       "81     festar ele bebê ! ! !  passear com o meu amor ...\n",
       "359      $FOREIGN$ $FOREIGN$ : $FOREIGN$ arar in a $F...\n",
       "233    porque o senhor cuidar de eu . . . pro que me ...\n",
       "844    mais de um ano e mear após o início do crise ....\n",
       "662    olá mundo    nostalgia  já me inscrever parir ...\n",
       "46     $NAME$ ! ! ! !  eu adorar o texto dessar mulhe...\n",
       "891      olhar , não ser louco do signo e $FOREIGN$ ....\n",
       "900      $FOREIGN$ um perguntar , isso querer dizer $...\n",
       "792    ter um vidar inteirar pelo frente $NUMBER$ ano...\n",
       "8      botar mais um ele contar e mais $NUMBER$ ele h...\n",
       "48     olhar só ! $LAUGH$    ah , a $NAME$ ! $LAUGH$ ...\n",
       "911      $NAME$ , eu , e nosso amigar alossauro    pe...\n",
       "96     ele $FOREIGN$ $FOREIGN$ do vidar real o $NAME$...\n",
       "894    $FOREIGN$ $FOREIGN$ i $FOREIGN$ .  $NAME$ $NAM...\n",
       "606    $LAUGH$ eu $NAME$ $FOREIGN$ ! que lembrança bo...\n",
       "354      $NAME$ , gentil ! comer ser um pessoa super ...\n",
       "102    :    tchau pai !  tchau mãe !  $NAME$ go    en...\n",
       "159      miner $NAME$ $FOREIGN$ $FOREIGN$ i $FOREIGN$...\n",
       "682    o cão mais lindar do mundo !  opar !  < $NUMBE...\n",
       "454    e ter mais ! ! $FOREIGN$ $FOREIGN$ i morar ! !...\n",
       "62     verdadeiro espírito do futebol .  bárbaro $NAM...\n",
       "387    amar eu família que crer que a vidar pleno só ...\n",
       "386    pro eu mesmo . . .    $LAUGH$ olhar esse memór...\n",
       "59     $NAME$ canal . . . i $FOREIGN$ $FOREIGN$ $FORE...\n",
       "20       https : $NAME$ . com . br geral universidade...\n",
       "881    $NUMBER$ rosar  $NAME$ '  !  $NAME$ ele ? ? ? ...\n",
       "Name: formatted_text, dtype: object"
      ]
     },
     "execution_count": 74,
     "metadata": {},
     "output_type": "execute_result"
    }
   ],
   "source": [
    "test_data['formatted_text']"
   ]
  },
  {
   "cell_type": "markdown",
   "metadata": {},
   "source": [
    "### Word2Vec model training"
   ]
  },
  {
   "cell_type": "code",
   "execution_count": 75,
   "metadata": {
    "collapsed": true
   },
   "outputs": [],
   "source": [
    "def word_averaging(wv, words):\n",
    "    all_words, mean = set(), []\n",
    "    \n",
    "    for word in words:\n",
    "        if isinstance(word, np.ndarray):\n",
    "            mean.append(word)\n",
    "        elif word in wv.wv.vocab:\n",
    "            mean.append(wv.wv.syn0norm[wv.wv.vocab[word].index])\n",
    "            all_words.add(wv.wv.vocab[word].index)\n",
    "\n",
    "    if not mean:\n",
    "        logging.warning(\"cannot compute similarity with no input %s\", words)\n",
    "        # FIXME: remove these examples in pre-processing\n",
    "        return np.zeros(num_features,)\n",
    "\n",
    "    mean = gensim.matutils.unitvec(np.array(mean).mean(axis=0)).astype(np.float32)\n",
    "    return mean\n",
    "\n",
    "def  word_averaging_list(wv, text_list):\n",
    "    return np.vstack([word_averaging(wv, review) for review in text_list ])"
   ]
  },
  {
   "cell_type": "code",
   "execution_count": 76,
   "metadata": {
    "collapsed": true
   },
   "outputs": [],
   "source": [
    "\n",
    "def w2v_tokenize_text(text):\n",
    "    tokens = []\n",
    "    for sent in nltk.sent_tokenize(text, language='english'):\n",
    "        for word in nltk.word_tokenize(sent, language='english'):\n",
    "            if len(word) < 2:\n",
    "                continue\n",
    "            tokens.append(word)\n",
    "    return tokens"
   ]
  },
  {
   "cell_type": "code",
   "execution_count": 77,
   "metadata": {
    "collapsed": false
   },
   "outputs": [],
   "source": [
    "test_tokenized = test_data.apply(lambda r: w2v_tokenize_text(r['formatted_text']), axis=1).values\n",
    "train_tokenized = train_data.apply(lambda r: w2v_tokenize_text(r['formatted_text']), axis=1).values"
   ]
  },
  {
   "cell_type": "code",
   "execution_count": 78,
   "metadata": {
    "collapsed": false
   },
   "outputs": [
    {
     "name": "stderr",
     "output_type": "stream",
     "text": [
      "/usr/lib/python2.7/site-packages/ipykernel/__main__.py:7: UnicodeWarning: Unicode equal comparison failed to convert both arguments to Unicode - interpreting them as being unequal\n"
     ]
    },
    {
     "name": "stdout",
     "output_type": "stream",
     "text": [
      "CPU times: user 1.81 s, sys: 2.12 ms, total: 1.81 s\n",
      "Wall time: 1.81 s\n"
     ]
    }
   ],
   "source": [
    "%%time\n",
    "X_train_word_average = word_averaging_list(model,train_tokenized)\n",
    "X_test_word_average = word_averaging_list(model,test_tokenized)"
   ]
  },
  {
   "cell_type": "code",
   "execution_count": 79,
   "metadata": {
    "collapsed": false
   },
   "outputs": [
    {
     "name": "stdout",
     "output_type": "stream",
     "text": [
      "CPU times: user 306 ms, sys: 987 µs, total: 307 ms\n",
      "Wall time: 307 ms\n"
     ]
    }
   ],
   "source": [
    "%%time\n",
    "logreg = linear_model.LogisticRegression(n_jobs=1, C=1e5)\n",
    "\n",
    "logreg = logreg.fit(X_train_word_average, train_data['extraversion_m'])\n",
    "predicted = logreg.predict(X_test_word_average)"
   ]
  },
  {
   "cell_type": "code",
   "execution_count": 80,
   "metadata": {
    "collapsed": false
   },
   "outputs": [
    {
     "name": "stdout",
     "output_type": "stream",
     "text": [
      "accuracy 0.540145985401\n",
      "confusion matrix\n",
      " [[34 35]\n",
      " [28 40]]\n",
      "(row=expected, col=predicted)\n"
     ]
    },
    {
     "data": {
      "image/png": "[encoded data removed]",
      "text/plain": [
       "<matplotlib.figure.Figure at 0x7fc5510611d0>"
      ]
     },
     "metadata": {},
     "output_type": "display_data"
    }
   ],
   "source": [
    "evaluate_prediction(predicted, test_data.extraversion_m)"
   ]
  },
  {
   "cell_type": "markdown",
   "metadata": {},
   "source": [
    "## Remove stop words"
   ]
  },
  {
   "cell_type": "code",
   "execution_count": 81,
   "metadata": {
    "collapsed": true
   },
   "outputs": [],
   "source": [
    "\n",
    "def w2v_tokenize_text(text):\n",
    "    tokens = []\n",
    "    for sent in nltk.sent_tokenize(text, language='portuguese'):\n",
    "        for word in nltk.word_tokenize(sent, language='portuguese'):\n",
    "            if len(word) < 2:\n",
    "                continue\n",
    "            if word in stopwords.words('portuguese'):\n",
    "                continue\n",
    "            tokens.append(word)\n",
    "    return tokens"
   ]
  },
  {
   "cell_type": "code",
   "execution_count": 82,
   "metadata": {
    "collapsed": false
   },
   "outputs": [],
   "source": [
    "test_tokenized = test_data.apply(lambda r: w2v_tokenize_text(r['formatted_text']), axis=1).values\n",
    "train_tokenized = train_data.apply(lambda r: w2v_tokenize_text(r['formatted_text']), axis=1).values"
   ]
  },
  {
   "cell_type": "code",
   "execution_count": 83,
   "metadata": {
    "collapsed": false
   },
   "outputs": [
    {
     "name": "stderr",
     "output_type": "stream",
     "text": [
      "/usr/lib/python2.7/site-packages/ipykernel/__main__.py:7: UnicodeWarning: Unicode equal comparison failed to convert both arguments to Unicode - interpreting them as being unequal\n",
      "2017-02-13 08:33:03,269 : WARNING : cannot compute similarity with no input [u'FOREIGN', u'NAME', u'NAME', u'NAME', u'NAME', u'NAME']\n"
     ]
    },
    {
     "name": "stdout",
     "output_type": "stream",
     "text": [
      "CPU times: user 1.67 s, sys: 4.76 ms, total: 1.68 s\n",
      "Wall time: 1.68 s\n"
     ]
    }
   ],
   "source": [
    "%%time\n",
    "X_train_word_average = word_averaging_list(model,train_tokenized)\n",
    "X_test_word_average = word_averaging_list(model,test_tokenized)"
   ]
  },
  {
   "cell_type": "code",
   "execution_count": 84,
   "metadata": {
    "collapsed": false
   },
   "outputs": [
    {
     "name": "stdout",
     "output_type": "stream",
     "text": [
      "CPU times: user 460 ms, sys: 1.01 ms, total: 461 ms\n",
      "Wall time: 465 ms\n"
     ]
    }
   ],
   "source": [
    "%%time\n",
    "logreg = linear_model.LogisticRegression(n_jobs=1, C=1e5)\n",
    "\n",
    "logreg = logreg.fit(X_train_word_average, train_data['extraversion_m'])\n",
    "predicted = logreg.predict(X_test_word_average)"
   ]
  },
  {
   "cell_type": "code",
   "execution_count": 85,
   "metadata": {
    "collapsed": false
   },
   "outputs": [
    {
     "name": "stdout",
     "output_type": "stream",
     "text": [
      "accuracy 0.503649635036\n",
      "confusion matrix\n",
      " [[28 41]\n",
      " [27 41]]\n",
      "(row=expected, col=predicted)\n"
     ]
    },
    {
     "data": {
      "image/png": "[encoded data removed]",
      "text/plain": [
       "<matplotlib.figure.Figure at 0x7fc5309055d0>"
      ]
     },
     "metadata": {},
     "output_type": "display_data"
    }
   ],
   "source": [
    "evaluate_prediction(predicted, test_data.extraversion_m)"
   ]
  },
  {
   "cell_type": "markdown",
   "metadata": {},
   "source": [
    "## Doc2Vec"
   ]
  },
  {
   "cell_type": "code",
   "execution_count": 86,
   "metadata": {
    "collapsed": true
   },
   "outputs": [],
   "source": [
    "from gensim.models import Doc2Vec\n",
    "from gensim.models.doc2vec import TaggedDocument"
   ]
  },
  {
   "cell_type": "code",
   "execution_count": 87,
   "metadata": {
    "collapsed": true
   },
   "outputs": [],
   "source": [
    "\n",
    "def tokenize_text(text):\n",
    "    tokens = []\n",
    "    for sent in nltk.sent_tokenize(text):\n",
    "        for word in nltk.word_tokenize(sent):\n",
    "            if len(word) < 2:\n",
    "                continue\n",
    "            tokens.append(word.lower())\n",
    "    return tokens"
   ]
  },
  {
   "cell_type": "code",
   "execution_count": 88,
   "metadata": {
    "collapsed": false
   },
   "outputs": [],
   "source": [
    "train_tagged = train_data.apply(\n",
    "    lambda r: TaggedDocument(words=tokenize_text(r['formatted_text']), tags=[r.extraversion_m]), axis=1)"
   ]
  },
  {
   "cell_type": "code",
   "execution_count": 89,
   "metadata": {
    "collapsed": false
   },
   "outputs": [],
   "source": [
    "test_tagged = test_data.apply(\n",
    "    lambda r: TaggedDocument(words=tokenize_text(r['formatted_text']), tags=[r.extraversion_m]), axis=1)"
   ]
  },
  {
   "cell_type": "code",
   "execution_count": 90,
   "metadata": {
    "collapsed": false
   },
   "outputs": [
    {
     "data": {
      "text/plain": [
       "TaggedDocument(words=[u'quando', u'bandido', u'n\\xe3o', u'tocar', u'meu', u'cora\\xe7\\xe3o', u'ser', u'vermelhar', u'amarelar', u'ir', u'bandido', u'ir', u'torcer', u'partir', u'eu', u'voc\\xea', u'dois', u'intruso', u'muito', u'amor', u'name', u'baby', u'panda', u'lindar', u'balatucada', u'acabar', u'amar', u'balatucada', u'partir', u'meu', u'amorar', u'eu', u'fam\\xedlia', u'number', u'estar', u'chegar', u'ser', u's\\xe1bado', u'a\\xed', u'meu', u'cora\\xe7\\xe3o', u'amigo', u'foreign', u'name', u'saudade', u'partir', u'cantar', u'combinar', u'amar', u'emotion*', u'name', u'number', u'foreign', u'foreign', u'name', u'foreign', u'foreign', u'foreign', u'ser', u'lindar', u'maravilhoso', u'um', u'verdadeiro', u'diva', u'panda', u'do', u'panda', u'number', u'm\\xeas', u'parir', u'melhor', u'rol\\xea', u'do', u'ano', u'estar', u'chegar', u'bandido', u'dessar', u'vez', u'ir', u'dj', u'bruxar', u'mais', u'um', u'rol\\xea', u'mais', u'panar', u'pro', u'mangar', u'number', u'acumular', u'carimbo', u'number', u'saudade', u'viajar', u'number', u'finalmente', u'vir', u'name', u'pensar', u'num', u'pessoa', u'carinhoso', u'migar', u'fofar', u'adorar', u'festar', u'julina', u'bandido', u'sem', u'amigo', u'vidar', u'poder', u'ser', u'muito', u'sem', u'gra\\xe7a', u'sem', u'amizade', u'amor', u'poder', u'ser', u'muito', u'previs\\xedvel', u'humanar', u'number', u'foreign', u'foreign', u'name', u'com', u'foreign', u'foreign', u'foreign', u'name', u'com', u'foreign', u'name', u'name', u'name', u'name', u'ser', u't\\xe3o', u'bom', u'brincar', u'de', u'ser', u'crian\\xe7a', u'fim', u'de', u'um', u'viagem', u'ser', u'apenar', u'comedir', u'de', u'outro', u'usp', u'pagar', u'agente', u'ir', u'name', u'number', u'lazer', u'at\\xe9', u'logo', u'partir', u'usp', u'usp', u'pagar', u'gente', u'ir', u'name', u'amar', u'lazer', u'foreign', u'pererecar', u'suicidar', u'\\xfaltimo', u'dia', u'beijar', u'ele', u'name', u'amar', u'm\\xe3e', u'name', u'est\\xe1dio', u'arena', u'number', u'lazer', u'experi\\xeancia', u'viajar', u'amar', u'natureza', u'name', u'usp', u'pagar', u'gente', u'ir', u'amar', u'trem', u'dia', u'do', u'namorar', u'name', u'amor', u'lindar', u'brincadeira', u'frio', u'espelhar', u'espelhar', u'meu', u'agora', u'ir', u'vir', u'name', u'number', u'lazer', u'usp', u'pagar', u'agente', u'ir', u'finalmente', u'feliz', u'esse', u'clipe', u'esse', u'm\\xfasico', u'number', u'safar', u'do', u'name', u'querer', u'lazer', u'ser', u'mais', u'legal', u'number', u'number', u'bandido', u'amar', u'integrar', u'somar', u'ser', u'hoje', u'dia', u'do', u'somar', u'sim', u'primeiro', u'vez', u'do', u'name', u'incr\\xedvel', u'biblioteca', u'aplicar', u's\\xf3', u'que', u'n\\xe3o', u'amar', u'jogar', u'sincero', u'saud\\xe1vel', u'number', u'ir', u'ser', u'sempre', u'assim', u'eu', u'por', u'voc\\xea', u'voc\\xea', u'por', u'eu', u'number', u'dia', u'number', u'number', u's\\xe1bado', u'ao', u'tardar', u'acad\\xeamico', u'do', u'name', u'integrar', u'somar', u'bandido', u's\\xf3', u'ir', u'dia', u'do', u'm\\xe3e', u'ser', u'privilegiar', u'porque', u'ter', u'n\\xe3o', u's\\xf3', u'um', u'eu', u'dois', u'm\\xe3e', u'dentro', u'de', u'todo', u'dificuldade', u'dessar', u'fam\\xedlia', u'louco', u'voc\\xea', u'me', u'ensinar', u'que', u'ser', u'poss\\xedvel', u'amar', u'perdoar', u'ser', u'feliz', u'sempre', u'acreditar', u'que', u'coisar', u'poder', u'melhorar', u'levar', u'comigo', u'todo', u'name', u'vontade', u'de', u'viver', u'jeito', u'guerreiro', u'dur\\xe3o', u'que', u'vov\\xf4', u'pernambucano', u'ter', u'jeito', u'ing\\xeanuo', u'sonhador', u't\\xe3o', u'preocupar', u'com', u'pr\\xf3ximo', u'que', u'aprender', u'com', u'm\\xe3e', u'viver', u'parir', u'honrar', u'todo', u'trabalhar', u'que', u'voc\\xea', u'ter', u'ter', u'comigo', u'viver', u'por', u'voc\\xea', u'pro', u'ver', u'rosto', u'falir', u'de', u'orgulhar', u'do', u'suar', u'neto', u'filhar', u'viver', u'parir', u'tentar', u'construir', u'sonho', u'que', u'ser', u'de', u'voc\\xea', u'agora', u'tamb\\xe9m', u'ser', u'meu', u'verdade', u'ser', u'que', u'n\\xe3o', u'viver', u'sem', u'voc\\xea', u'obrigar', u'por', u'tudo', u'amar', u'voc\\xea', u'number', u'sem', u'desculpar', u'emotion-', u's\\xf3', u'ir', u'correr', u'aproveitar', u'esse', u'super', u'promo\\xe7\\xe3o', u'estar', u'f\\xe1cil', u'que', u'come\\xe7ar', u'jogo', u'name', u'name', u'bandido', u'ir', u'ganhar', u'sambar', u's\\xf3', u'observar', u'esse', u'zueira', u'sambar', u'swingueira', u'sim', u'bandido', u'foreign', u'sa', u'vir', u'conhecer', u'name', u'crescer', u'name', u'sorrir', u's\\xf3', u'rir', u'acalmar', u'alma', u'embalar', u'de', u's\\xe1bado', u'noite', u'comiss\\xe3o', u'rotina', u'name', u'amar', u'foreign', u'aprender', u'que', u'nem', u'todo', u'amor', u'arrebatador', u'ser', u'amor', u'pro', u'vidar', u'inteirar', u'que', u'amigo', u'aquelar', u'de', u'verdade', u'poder', u'at\\xe9', u'estar', u'longe', u'eu', u'nunca', u'distante', u'ent\\xe3o', u'ir', u'embora', u'ir', u'embora', u'do', u'trabalhar', u'que', u'tu', u'atormentar', u'daquele', u'rela\\xe7\\xe3o', u'que', u'voc\\xea', u'saber', u'n\\xe3o', u'ir', u'dar', u'certar', u'ir', u'embora', u'do', u'galera', u'que', u'estar', u'presentar', u'quando', u'convir', u'eu', u'saber', u'que', u'amor', u'nascer', u'dentro', u'de', u'eu', u'oov', u'name', u'name', u'foreign', u'capital', u'teve', u'name', u'lindo', u'um', u'outro', u'dia', u'um', u'outro', u'lugar', u'number', u'comiss\\xe3o', u'foreign', u'formatura', u'name', u'name', u'name', u'name', u'amar', u'amigo', u'eu', u'n\\xe3o', u'nascer', u'ele', u'sambar', u'eu', u'sambar', u'nascer', u'em', u'eu', u'number', u'quando', u'eu', u'pisar', u'ele', u'terreiro', u'ouvir', u'som', u'do', u'pandeiro', u'me', u'encantar', u'com', u'tamborim', u'noite', u'que', u'ter', u'name', u'cheio', u'meu', u'cora\\xe7\\xe3o', u'incendeia', u'bater', u'mais', u'forte', u'ele', u'marca\\xe7\\xe3o', u'povo', u'sacudir', u'pagode', u'bater', u'ele', u'palmar', u'do', u'm\\xe3o', u'ser', u'corpo', u'ser', u'alma', u'ser', u'religi\\xe3o', u'tanto', u'fazer', u'se', u'ser', u'vila', u'name', u'se', u'ser', u'padrar', u'name', u'imp\\xe9rio', u'formigar', u'tanto', u'fazer', u'se', u'ser', u'vila', u'name', u'mocidade', u'alegrar', u'name', u'ele', u'name', u'assim', u'eu', u'ficar', u'vontade', u'esse', u'liberdade', u'me', u'fazer', u'delirar', u'querer', u'me', u'fazer', u'feliz', u'me', u'fazer', u'sambar', u'faltar', u'muito', u'parir', u'melhor', u'rol\\xea', u'do', u'ano', u'number', u'saudade', u'name', u'name', u'name', u'name', u'name', u'name', u'name', u'name', u'name', u'name', u'name', u'name', u'vir', u'bixarada', u'veterano', u'professorar', u'funcion\\xe1rio', u'vir', u'todo', u'mundo', u'number', u'ser', u'hoje', u'dia', u'de', u'agradecer', u'escola', u'que', u'abrir', u'portar', u'me', u'deixar', u'fazer', u'partir', u'de', u'todo', u'esse', u'hist\\xf3ria', u'que', u'me', u'ensinar', u'muito', u'possar', u'n\\xe3o', u'ser', u'do', u'escola', u'desde', u'de', u'pequeno', u'eu', u'com', u'certeza', u'hoje', u'possar', u'dizer', u'que', u'ter', u'um', u'escola', u'ele', u'qual', u'meu', u'cora\\xe7\\xe3o', u'bater', u'mais', u'forte', u'eu', u'ter', u'orgulhar', u'de', u'fazer', u'partir', u'n\\xe3o', u'ser', u'qualquer', u'um', u'ser', u'camisa', u'obrigar', u'branquir', u'por', u'ter', u'me', u'apresentar', u'esse', u'mundo', u'maravilhoso', u'que', u'cada', u'dia', u'me', u'apaixonar', u'mais', u'por', u'ter', u'me', u'aceitar', u'de', u'voltar', u'ele', u'lugar', u'aonde', u'eu', u'nunca', u'dever', u'ter', u'sair', u'por', u'ter', u'confiar', u'em', u'eu', u'pro', u'fazer', u'partir', u'dessar', u'seu', u'lindar', u'trabalhar', u'prometer', u'n\\xe3o', u'decepcionar', u'ir', u'com', u'tudo', u'eu', u'acreditar', u'meu', u'camisa', u'campe\\xe3o', u'explodir', u'alegria', u'number', u'\\xe1guia', u'de', u'ourar', u'name', u'foreign', u'name', u'foreign', u'pm', u'sexto', u'carnaval', u'name', u'name', u'lindo', u'adorar', u'algu\\xe9m', u'virar', u'doutor', u'primar', u'orgulhar', u'm\\xe9dico', u'veterin\\xe1rio', u'fmu', u'amar', u'lindar', u'fam\\xedlia', u'chorar', u'foreign', u'bixos', u'que', u'come\\xe7ar', u'jogo', u'number', u'ter', u'gente', u'que', u'ainda', u'perguntar', u'porque', u'eu', u'escolher', u'pegar', u'name', u'todo', u'name', u'ir', u'pro', u'zona', u'ler', u'pro', u'usp', u'foreign', u'pro', u'name', u'maravilhoso', u's\\xf3', u'lamentar', u'por', u'quem', u'n\\xe3o', u'saber', u'que', u'ser', u'ser', u'eachonado', u'vir', u'bixarada', u'number', u'meu', u'lugar', u'ser', u'sorriso', u'ser', u'paz', u'ser', u'prazer', u'seu', u'nome', u'ser', u'do\\xe7ar', u'dizer', u'number', u'name', u'paix\\xe3o', u'oov', u'furioso', u'carnaval', u'dedica\\xe7\\xe3o', u'encontrar', u'que', u'me', u'fazer', u'feliz', u'tocar', u'evoluir', u'muito', u'fofura', u'pro', u'esse', u'tamanho', u'de', u'gente', u'name', u'passista', u'mirim', u'lindica', u'apaixonar', u'filhar', u'p\\xe9rola', u'negro', u'\\xe1guia', u'ontem', u'ah', u'carnaval', u'name', u'\\xe1guia', u'nen\\xea', u'name', u'amar', u'al\\xf4', u'camisa', u'aluno', u'ter', u'cotar', u'de', u'number', u'passagem', u'por', u'm\\xeas', u'parir', u'todo', u'meio', u'passar', u'livrar', u'que', u'come\\xe7ar', u'jogo', u'name', u'lindar', u'invadir', u'celular', u'do', u'panda', u'lindar', u'name', u'name', u'number', u'ano', u'intermin\\xe1vel', u'acabar', u's\\xf3', u'vir', u'number', u'ir', u'ganz\\xe1', u'oov', u'number', u'ser', u'hoje', u'name', u'amar', u'bruxo', u'festar', u'name', u'name', u'foreign', u'name', u'pegar', u'bandido', u'fim', u'de', u'semana', u'eu', u'diferen\\xe7ar', u'eu', u'completar', u'pessoal', u'foreign', u'name', u'foreign', u'amar', u'jantar', u'japon\\xeas', u'amigar', u'secretar', u'ser', u'hoje', u'passarinhar', u'que', u'som', u'ser', u'esse', u'irm\\xe3o', u'foreign', u'castelo', u'name', u'amar', u's\\xe1bado', u'lindar', u'pensar', u'num', u'crian\\xe7a', u'feliz', u'castelo', u'cultura', u'mi', u'porteiro', u'saudade', u'inf\\xe2ncia', u'incr\\xedvel', u'number', u'ontem', u'foreign', u'foreign', u'name', u'name', u'foreign', u'incr\\xedvel', u'name', u'name', u'baby', u'panda', u'dama', u'me', u'levar', u'pro', u'castelo', u'querer', u'muito', u'saudade', u'inf\\xe2ncia', u'name', u'name', u'name', u'name', u'name', u'name', u'name', u'ser', u'bom', u'enquanto', u'durar', u'ser', u'nosso', u'porra', u'cravar', u'number', u'depois', u'do', u'mear', u'noite', u'n\\xf3', u'ascender', u'luzir', u'do', u'cidade', u'eu', u'abra\\xe7ar', u'ficar', u'juntar', u'at\\xe9', u'nascer', u'sol', u'eu', u'ontem', u'anivers\\xe1rio', u'do', u'fofar', u'foreign', u'foreign', u'sem', u'resolu\\xe7\\xe3o', u'karaok\\xea', u'foreign', u'segundar', u'partir', u'anivers\\xe1rio', u'do', u'fofar', u'de', u'voltar', u'pro', u'casar', u'tava', u'com', u'saudade', u'gordice', u'do', u'dia', u'a\\xe7a\\xed', u'name', u'gordo', u'amar', u'meu', u'casal', u'preferir', u'madrinhar', u'amorar', u'foreign', u'rol\\xea', u'fondue', u'anglo', u'parir', u'sempre', u'name', u'oov', u'name', u'name', u'name', u'name', u'name', u'achar', u'que', u'name', u'me', u'conquistar', u'\\xe1guia', u'rosar', u'fim', u'de', u'semana', u'amar', u'chocalhar', u'de', u'ourar', u'finalmente', u'chorar', u'de', u'alegria', u'ir', u'beber', u'name', u'puto', u'que', u'parir', u'estar', u'chegar', u'melhor', u'inter', u'do', u'ano', u'vir', u'todo', u'mundo', u'saudade', u'ilhar', u'solteiro', u'integra\\xe7\\xe3o', u'open', u'bater', u'festar', u'estranhar', u'gente', u'estranhar', u'open', u'name', u'name', u'si', u'n\\xe3o', u'chorar', u'foreign', u'mc', u'melhorar', u'chinelada', u'ir', u'ter', u'bandido', u'ele', u'vila', u'name', u'sim', u'vir', u'gringo', u'vir', u'todo', u'mundo', u'emotion+', u'saudar', u'bom', u'profundar', u'oov', u'que', u'honrar', u'fazer', u'partir', u'disso', u'name', u'number', u'foreign', u'foreign', u'foreign', u'vel\\xf3dromo', u'foreign', u'dar', u'problema', u'foreign', u'lady', u'name', u'pereira', u'eu', u'vidar', u'sem', u'voc\\xea', u'n\\xe3o', u'fazer', u'sentir', u'beijo', u'turistando', u'foreign', u'name', u'ler', u'name', u'name', u'm\\xe3o', u'praia', u'frio', u'incr\\xedvel', u'bom', u'dia', u'vestir', u'do', u'portar', u'name', u'name', u'foreign', u'partir', u'foreign', u'tudo', u'ter', u'suar', u'hora', u'finalmente', u'coisar', u'estar', u'melhorar', u'tava', u'com', u'saudade', u'disso', u'number', u'anivers\\xe1rio', u'c\\xe1', u'churrasco', u'amigar', u'amar', u'name', u'foreign', u'eu', u'tanto', u'fazer', u'j\\xe1', u'me', u'esquecer', u'de', u'tu', u'esquecer', u'porque', u'teu', u'desejar', u'ser', u'meu', u'melhor', u'prazer', u'meu', u'destinar', u'ser', u'querer', u'sempre', u'mais', u'eu', u'estrar', u'correr', u'pro', u'seu', u'mar', u'eu', u'ir', u'ele', u'melhor', u'name', u'de', u'todo', u'tempo', u'bom', u'dia', u'saudade', u'saudar', u'eu', u'ter', u'melhor', u'av\\xf4', u'do', u'mundo', u'number', u'cada', u'dia', u'mais', u'apaixonar', u'por', u'elar', u'por', u'voc\\xea', u'at\\xe9', u'agulhar', u'eu', u'levar', u'foreign', u'enfermeiro', u'lindar', u'cobaia', u'nem', u'doer', u'tu', u'amar', u'orgulhar', u'ser', u'que', u'ter', u'pro', u'hoje', u'melhor', u'diretor', u'domingar', u'churrasco', u'oov', u'furioso', u'name', u'oov', u'achar', u'que', u'estar', u'apaixonar', u'que', u'dever', u'fazer', u'number', u'emotion+', u'bixarada', u'burro', u'ficar', u'atentar', u'que', u'j\\xe1', u'j\\xe1', u'vir', u'escola', u'n\\xe3o', u'conseguir', u'olhar', u'ele', u'fundir', u'do', u'seu', u'olho', u'num', u'segundar', u'de', u'carnaval', u'ser', u'hoje', u'ir', u'name', u'j\\xe1', u'estar', u'com', u'saudade', u'\\xfaltimo', u'ensaiar', u'furioso', u'camisa', u'carnaval', u'chegar', u'oov', u'amigar'], tags=[1])"
      ]
     },
     "execution_count": 90,
     "metadata": {},
     "output_type": "execute_result"
    }
   ],
   "source": [
    "test_tagged.values[50]"
   ]
  },
  {
   "cell_type": "code",
   "execution_count": 91,
   "metadata": {
    "collapsed": false
   },
   "outputs": [
    {
     "name": "stderr",
     "output_type": "stream",
     "text": [
      "2017-02-13 08:33:31,401 : WARNING : consider setting layer size to a multiple of 4 for greater performance\n",
      "2017-02-13 08:33:31,404 : INFO : collecting all words and their counts\n",
      "2017-02-13 08:33:31,405 : INFO : PROGRESS: at example #0, processed 0 words (0/s), 0 word types, 0 tags\n",
      "2017-02-13 08:33:31,696 : INFO : collected 14548 word types and 2 unique tags from a corpus of 319 examples and 621774 words\n",
      "2017-02-13 08:33:31,697 : INFO : Loading a fresh vocabulary\n",
      "2017-02-13 08:33:31,748 : INFO : min_count=5 retains 5164 unique words (35% of original 14548, drops 9384)\n",
      "2017-02-13 08:33:31,750 : INFO : min_count=5 leaves 606014 word corpus (97% of original 621774, drops 15760)\n",
      "2017-02-13 08:33:31,777 : INFO : deleting the raw counts dictionary of 14548 items\n",
      "2017-02-13 08:33:31,778 : INFO : sample=0.001 downsamples 55 most-common words\n",
      "2017-02-13 08:33:31,779 : INFO : downsampling leaves estimated 399608 word corpus (65.9% of prior 606014)\n",
      "2017-02-13 08:33:31,780 : INFO : estimated required memory for 5164 words and 5 dimensions: 2788600 bytes\n",
      "2017-02-13 08:33:31,812 : INFO : resetting layer weights\n",
      "2017-02-13 08:33:31,922 : INFO : training model with 1 workers on 5164 vocabulary and 5 features, using sg=0 hs=0 sample=0.001 negative=5 window=5\n",
      "2017-02-13 08:33:31,923 : INFO : expecting 319 sentences, matching count from corpus used for vocabulary survey\n",
      "2017-02-13 08:33:32,929 : INFO : PROGRESS: at 5.28% examples, 419102 words/s, in_qsize 2, out_qsize 0\n",
      "2017-02-13 08:33:33,930 : INFO : PROGRESS: at 9.81% examples, 386563 words/s, in_qsize 2, out_qsize 0\n",
      "2017-02-13 08:33:34,941 : INFO : PROGRESS: at 14.73% examples, 386131 words/s, in_qsize 1, out_qsize 0\n",
      "2017-02-13 08:33:35,945 : INFO : PROGRESS: at 22.32% examples, 444125 words/s, in_qsize 2, out_qsize 0\n",
      "2017-02-13 08:33:36,945 : INFO : PROGRESS: at 31.88% examples, 509131 words/s, in_qsize 2, out_qsize 0\n",
      "2017-02-13 08:33:37,947 : INFO : PROGRESS: at 41.60% examples, 552900 words/s, in_qsize 2, out_qsize 0\n",
      "2017-02-13 08:33:38,954 : INFO : PROGRESS: at 51.11% examples, 581470 words/s, in_qsize 1, out_qsize 0\n",
      "2017-02-13 08:33:39,961 : INFO : PROGRESS: at 59.58% examples, 590825 words/s, in_qsize 1, out_qsize 0\n",
      "2017-02-13 08:33:40,968 : INFO : PROGRESS: at 65.91% examples, 582344 words/s, in_qsize 1, out_qsize 0\n",
      "2017-02-13 08:33:41,972 : INFO : PROGRESS: at 73.76% examples, 586380 words/s, in_qsize 1, out_qsize 0\n",
      "2017-02-13 08:33:42,975 : INFO : PROGRESS: at 82.12% examples, 594171 words/s, in_qsize 2, out_qsize 0\n",
      "2017-02-13 08:33:43,979 : INFO : PROGRESS: at 90.86% examples, 602208 words/s, in_qsize 1, out_qsize 0\n",
      "2017-02-13 08:33:44,982 : INFO : PROGRESS: at 98.81% examples, 604780 words/s, in_qsize 1, out_qsize 0\n",
      "2017-02-13 08:33:45,173 : INFO : worker thread finished; awaiting finish of 0 more threads\n",
      "2017-02-13 08:33:45,174 : INFO : training on 12435480 raw words (7997326 effective words) took 13.3s, 603561 effective words/s\n"
     ]
    },
    {
     "name": "stdout",
     "output_type": "stream",
     "text": [
      "CPU times: user 23.1 s, sys: 106 ms, total: 23.2 s\n",
      "Wall time: 23.3 s\n"
     ]
    }
   ],
   "source": [
    "%%time\n",
    "trainsent = train_tagged.values\n",
    "testsent = test_tagged.values\n",
    "\n",
    "# simple gensim doc2vec api\n",
    "doc2vec_model = Doc2Vec(trainsent, workers=1, size=5, iter=20, dm=1)\n",
    "\n",
    "train_targets, train_regressors = zip(\n",
    "    *[(doc.tags[0], doc2vec_model.infer_vector(doc.words, steps=20)) for doc in trainsent])"
   ]
  },
  {
   "cell_type": "code",
   "execution_count": 92,
   "metadata": {
    "collapsed": false
   },
   "outputs": [
    {
     "name": "stdout",
     "output_type": "stream",
     "text": [
      "CPU times: user 5.68 s, sys: 0 ns, total: 5.68 s\n",
      "Wall time: 5.75 s\n"
     ]
    }
   ],
   "source": [
    "%%time\n",
    "test_targets, test_regressors = zip(\n",
    "    *[(doc.tags[0], doc2vec_model.infer_vector(doc.words, steps=20)) for doc in testsent])"
   ]
  },
  {
   "cell_type": "code",
   "execution_count": 93,
   "metadata": {
    "collapsed": false
   },
   "outputs": [
    {
     "name": "stdout",
     "output_type": "stream",
     "text": [
      "accuracy 0.518248175182\n",
      "confusion matrix\n",
      " [[46 23]\n",
      " [43 25]]\n",
      "(row=expected, col=predicted)\n"
     ]
    },
    {
     "data": {
      "image/png": "[encoded data removed]",
      "text/plain": [
       "<matplotlib.figure.Figure at 0x7fc5322f8c90>"
      ]
     },
     "metadata": {},
     "output_type": "display_data"
    }
   ],
   "source": [
    "logreg = linear_model.LogisticRegression(n_jobs=1, C=1e5)\n",
    "logreg = logreg.fit(train_regressors, train_targets)\n",
    "evaluate_prediction(logreg.predict(test_regressors), test_targets, title=str(doc2vec_model))"
   ]
  },
  {
   "cell_type": "code",
   "execution_count": 94,
   "metadata": {
    "collapsed": false
   },
   "outputs": [
    {
     "name": "stderr",
     "output_type": "stream",
     "text": [
      "2017-02-13 08:34:00,702 : INFO : precomputing L2-norms of doc weight vectors\n"
     ]
    },
    {
     "name": "stdout",
     "output_type": "stream",
     "text": [
      "accuracy 0.583941605839\n",
      "confusion matrix\n",
      " [[37 32]\n",
      " [25 43]]\n",
      "(row=expected, col=predicted)\n",
      "CPU times: user 207 ms, sys: 90.7 ms, total: 298 ms\n",
      "Wall time: 204 ms\n"
     ]
    },
    {
     "data": {
      "image/png": "[encoded data removed]",
      "text/plain": [
       "<matplotlib.figure.Figure at 0x7fc513863f50>"
      ]
     },
     "metadata": {},
     "output_type": "display_data"
    }
   ],
   "source": [
    "%%time \n",
    "knn_test_predictions = [\n",
    "    doc2vec_model.docvecs.most_similar([pred_vec], topn=1)[0][0]\n",
    "    for pred_vec in test_regressors\n",
    "]\n",
    "evaluate_prediction(knn_test_predictions, test_targets, str(doc2vec_model))"
   ]
  },
  {
   "cell_type": "code",
   "execution_count": 95,
   "metadata": {
    "collapsed": false
   },
   "outputs": [
    {
     "name": "stdout",
     "output_type": "stream",
     "text": [
      "Fitting a random forest to labeled training data...\n",
      "accuracy 0.583941605839\n",
      "confusion matrix\n",
      " [[46 23]\n",
      " [34 34]]\n",
      "(row=expected, col=predicted)\n"
     ]
    },
    {
     "data": {
      "image/png": "[encoded data removed]",
      "text/plain": [
       "<matplotlib.figure.Figure at 0x7fc550171d50>"
      ]
     },
     "metadata": {},
     "output_type": "display_data"
    }
   ],
   "source": [
    "from sklearn.ensemble import RandomForestClassifier\n",
    "forest = RandomForestClassifier( n_estimators = 100 )\n",
    "\n",
    "print \"Fitting a random forest to labeled training data...\"\n",
    "forest = forest.fit( train_regressors, train_data[\"extraversion_m\"] )\n",
    "\n",
    "# Test & extract results \n",
    "result = forest.predict( test_regressors )\n",
    "\n",
    "evaluate_prediction(result, test_targets, str(doc2vec_model))"
   ]
  }
 ],
 "metadata": {
  "kernelspec": {
   "display_name": "Python 2",
   "language": "python",
   "name": "python2"
  },
  "language_info": {
   "codemirror_mode": {
    "name": "ipython",
    "version": 2
   },
   "file_extension": ".py",
   "mimetype": "text/x-python",
   "name": "python",
   "nbconvert_exporter": "python",
   "pygments_lexer": "ipython2",
   "version": "2.7.12"
  }
 },
 "nbformat": 4,
 "nbformat_minor": 2
}
